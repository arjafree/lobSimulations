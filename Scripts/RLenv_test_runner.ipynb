{
 "cells": [
  {
   "cell_type": "code",
   "execution_count": 19,
   "metadata": {},
   "outputs": [
    {
     "name": "stdout",
     "output_type": "stream",
     "text": [
      "['/Users/alex/Desktop/lobSimulationsHawkes/Scripts', '/Library/Frameworks/Python.framework/Versions/3.10/lib/python310.zip', '/Library/Frameworks/Python.framework/Versions/3.10/lib/python3.10', '/Library/Frameworks/Python.framework/Versions/3.10/lib/python3.10/lib-dynload', '', '/Library/Frameworks/Python.framework/Versions/3.10/lib/python3.10/site-packages', '/Users/alex/Desktop/lobSimulationsHawkes/Scripts', '/Users/alex/Desktop/lobSimulationsHawkes/Scripts']\n"
     ]
    }
   ],
   "source": [
    "import datetime as dt\n",
    "import pickle\n",
    "import pandas as pd\n",
    "import sys\n",
    "import numpy as np\n",
    "import os\n",
    "import time\n",
    "from ..HawkesRLTrading.src.Envs.HawkesRLTradingEnv import tradingEnv\n",
    "\n",
    "\n"
   ]
  },
  {
   "cell_type": "code",
   "execution_count": null,
   "metadata": {},
   "outputs": [],
   "source": [
    "kwargs={\n",
    "                \"TradingAgent\": [],\n",
    "                \"GymTradingAgent\": [{\"cash\": 10000, \n",
    "                                    \"strategy\": \"Random\",\n",
    "                                    \"action_freq\": 2,\n",
    "                                    \"rewardpenalty\": 0.4,\n",
    "                                    \"Inventory\": {\"XYZ\": 1000},\n",
    "                                    \"log_to_file\": True,\n",
    "                                    \"cashlimit\": 1000000}],\n",
    "                \"Exchange\": {\"symbol\": \"XYZ\",\n",
    "                \"ticksize\":0.01,\n",
    "                \"LOBlevels\": 2,\n",
    "                \"numOrdersPerLevel\": 10,\n",
    "                \"PriceMid0\": 45,\n",
    "                \"spread0\": 0.05},\n",
    "                \"Arrival_model\": {\"name\": \"Hawkes\",\n",
    "                                  \"parameters\": {\"kernelparams\": None, \n",
    "                                            \"tod\": None, \n",
    "                                            \"Pis\": None, \n",
    "                                            \"beta\": None, \n",
    "                                            \"avgSpread\": None, \n",
    "                                            \"Pi_Q0\": None}}\n",
    "\n",
    "            }"
   ]
  },
  {
   "cell_type": "markdown",
   "metadata": {},
   "source": [
    "#Run the code!"
   ]
  },
  {
   "cell_type": "code",
   "execution_count": null,
   "metadata": {},
   "outputs": [],
   "source": [
    "env=gym.tradingEnv(stop_time=300, seed=11, **kwargs)\n",
    "    print(\"Initial Observations\"+ str(env.getobservations()))\n",
    "    Simstate, observations, termination=env.step(action=None)\n",
    "    logger.debug(f\"\\nSimstate: {Simstate}\\nObservations: {observations}\\nTermination: {termination}\")\n",
    "    i=0\n",
    "    while Simstate[\"Done\"]==False and termination!=True and i<10:\n",
    "        logger.debug(f\"ENV TERMINATION: {termination}\")\n",
    "        AgentsIDs=[k for k,v in Simstate[\"Infos\"].items() if v==True]\n",
    "        print(f\"Agents with IDs {AgentsIDs} have an action available\")\n",
    "        if len(AgentsIDs)>1:\n",
    "            raise Exception(\"Code should be unreachable: Multiple gym agents are not yet implemented\")\n",
    "        agent: GymTradingAgent=env.getAgent(ID=AgentsIDs[0])\n",
    "        assert isinstance(agent, GymTradingAgent), \"Agent with action should be a GymTradingAgent\"\n",
    "        action=(agent.id, agent.get_action(data=observations))   \n",
    "        print(f\"Limit Order Book: {observations['LOB0']}\")\n",
    "        print(f\"Action: {action}\")\n",
    "        Simstate, observations, termination=env.step(action=action) \n",
    "        logger.debug(f\"\\nSimstate: {Simstate}\\nObservations: {observations}\\nTermination: {termination}\")\n",
    "        i+=1\n",
    "        print(f\"ACTION DONE{i}\")"
   ]
  }
 ],
 "metadata": {
  "kernelspec": {
   "display_name": "Python 3",
   "language": "python",
   "name": "python3"
  },
  "language_info": {
   "codemirror_mode": {
    "name": "ipython",
    "version": 3
   },
   "file_extension": ".py",
   "mimetype": "text/x-python",
   "name": "python",
   "nbconvert_exporter": "python",
   "pygments_lexer": "ipython3",
   "version": "3.10.11"
  }
 },
 "nbformat": 4,
 "nbformat_minor": 2
}
