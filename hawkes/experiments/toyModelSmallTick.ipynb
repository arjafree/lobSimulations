{
 "cells": [
  {
   "cell_type": "code",
   "execution_count": 18,
   "id": "df9276f7-85eb-4d2a-aceb-fab7b48126ea",
   "metadata": {
    "jupyter": {
     "is_executing": true
    }
   },
   "outputs": [],
   "source": [
    "%matplotlib inline\n",
    "import datetime as dt\n",
    "import pandas as pd\n",
    "from matplotlib import pyplot as plt\n",
    "import os\n",
    "import sys\n",
    "sys.path.append(\"C:\\\\Users\\\\konar\\\\IdeaProjects\\\\lobSimulations\")\n",
    "from hawkes import simulate_smalltick # dataLoader #, fit, inference, simulate\n",
    "import numpy as np\n",
    "import time"
   ]
  },
  {
   "cell_type": "code",
   "execution_count": null,
   "id": "cc28a074-27fe-42ab-934c-412b5ec31852",
   "metadata": {
    "scrolled": true
   },
   "outputs": [
    {
     "name": "stderr",
     "output_type": "stream",
     "text": [
      "<>:1: SyntaxWarning: invalid escape sequence '\\P'\n",
      "<>:1: SyntaxWarning: invalid escape sequence '\\P'\n",
      "<>:1: SyntaxWarning: invalid escape sequence '\\P'\n",
      "<>:1: SyntaxWarning: invalid escape sequence '\\P'\n",
      "C:\\Users\\konar\\AppData\\Local\\Temp\\ipykernel_42880\\2510137896.py:1: SyntaxWarning: invalid escape sequence '\\P'\n",
      "  T, lob , _ = simulate_smalltick.simulate_smallTick(23400, \"D:\\PhD\\\\results - small tick\\AMZN.OQ_ParamsInferredWCutoffEyeMu_Symm_2019-01-02_2019-12-31_CLSLogLin_10\",\"D:\\PhD\\\\results - small tick\\\\AMZN.OQ_Params_2019-01-02_2019-12-30_dictTOD_symmetric\" , beta = 0.6, avgSpread = .95, spread0 = 110, price0 = 1700, M_med = 100, verbose= False)\n",
      "C:\\Users\\konar\\AppData\\Local\\Temp\\ipykernel_42880\\2510137896.py:1: SyntaxWarning: invalid escape sequence '\\P'\n",
      "  T, lob , _ = simulate_smalltick.simulate_smallTick(23400, \"D:\\PhD\\\\results - small tick\\AMZN.OQ_ParamsInferredWCutoffEyeMu_Symm_2019-01-02_2019-12-31_CLSLogLin_10\",\"D:\\PhD\\\\results - small tick\\\\AMZN.OQ_Params_2019-01-02_2019-12-30_dictTOD_symmetric\" , beta = 0.6, avgSpread = .95, spread0 = 110, price0 = 1700, M_med = 100, verbose= False)\n"
     ]
    },
    {
     "name": "stdout",
     "output_type": "stream",
     "text": [
      "initial spread:  1.099999999999909 \n",
      "\n"
     ]
    }
   ],
   "source": [
    "T, lob , _ = simulate_smalltick.simulate_smallTick(23400, \"D:\\PhD\\\\results - small tick\\AMZN.OQ_ParamsInferredWCutoffEyeMu_Symm_2019-01-02_2019-12-31_CLSLogLin_10\",\"D:\\PhD\\\\results - small tick\\\\AMZN.OQ_Params_2019-01-02_2019-12-30_dictTOD_symmetric\" , beta = 0.6, avgSpread = .95, spread0 = 110, price0 = 1700, M_med = 100, verbose= False)"
   ]
  },
  {
   "cell_type": "code",
   "execution_count": null,
   "id": "f0444a01-0246-4ff4-8aba-3a601b503f0a",
   "metadata": {},
   "outputs": [],
   "source": [
    "lob[0]"
   ]
  },
  {
   "cell_type": "code",
   "execution_count": null,
   "id": "a928d6bd-6fd6-449c-87d6-57ca65400bd6",
   "metadata": {},
   "outputs": [],
   "source": [
    "ask_t = []\n",
    "bid_t = []\n",
    "ask_d = []\n",
    "bid_d= []\n",
    "ask_m_D = []\n",
    "bid_m_D = []\n",
    "spread = []\n",
    "for r in lob:\n",
    "    ask_t.append(r['Ask_touch'][0])\n",
    "    bid_t.append(r['Bid_touch'][0])\n",
    "    ask_d.append(r['Ask_deep'][0])\n",
    "    bid_d.append(r['Bid_deep'][0])\n",
    "    bid_m_D.append(r['Bid_deep'][0] - 0.01*r['Bid_m_D'])\n",
    "    ask_m_D.append(r['Ask_deep'][0] + 0.01*r['Ask_m_D'])\n",
    "    spread.append(100*(r['Ask_touch'][0] - r['Bid_touch'][0]))\n",
    "t = np.append([0], np.array(T[1:])[:,1])\n",
    "t = t.astype(float) + 9.5*3600\n",
    "\n",
    "fig, ax = plt.subplots()\n",
    "ax.plot(t, ask_t, color = \"r\", alpha =0.5)\n",
    "ax.plot(t, ask_d, color=\"r\", alpha = 0.2)\n",
    "ax.plot(t, ask_m_D, color=\"r\", alpha = 0.2)\n",
    "ax.plot(t, bid_t, color=\"g\", alpha =0.5)\n",
    "ax.plot(t, bid_d, color=\"g\", alpha = 0.2)\n",
    "ax.plot(t, bid_m_D, color=\"g\", alpha = 0.2)\n",
    "ax.fill_between(t, bid_d, bid_m_D, color=\"g\", alpha = 0.05)\n",
    "ax.fill_between(t, ask_d, ask_m_D, color=\"r\", alpha = 0.05)\n",
    "count = int((max(t) - min(t))/10)\n",
    "ax.ticklabel_format(useOffset=False)\n",
    "ax.set_xticks(ticks = np.arange(min(t), max(t), count), labels = [time.strftime('%H:%M:%S', time.gmtime(x)) for x in np.arange(min(t), max(t), count)], rotation = 20)\n",
    "plt.show()"
   ]
  },
  {
   "cell_type": "code",
   "execution_count": null,
   "id": "8c1bf100-c155-49ea-a1b4-5e4ff1efc738",
   "metadata": {},
   "outputs": [],
   "source": [
    "plt.plot(t, spread)"
   ]
  },
  {
   "cell_type": "code",
   "execution_count": null,
   "id": "c21eb653-4db6-4ba2-8b30-345bff7095e5",
   "metadata": {},
   "outputs": [],
   "source": [
    "plt.hist(spread, density=True,bins=100)\n",
    "plt.yscale('log')\n",
    "plt.xscale('log')"
   ]
  },
  {
   "cell_type": "code",
   "execution_count": null,
   "id": "fc6c6e2c-f73e-4ea5-8c5b-0f4713e113f3",
   "metadata": {},
   "outputs": [],
   "source": [
    "len(spread)"
   ]
  },
  {
   "cell_type": "code",
   "execution_count": null,
   "id": "8e66762b-9fcf-4da7-9a67-5b23d8055041",
   "metadata": {},
   "outputs": [],
   "source": [
    "mid = (np.array(ask_t) + np.array(bid_t))/2\n",
    "tau = 1\n",
    "max_t = np.round(max(np.array(t) - 34200), decimals=0)\n",
    "sample_x = np.linspace(0, max_t, int(max_t/tau))\n",
    "idxs = np.searchsorted(np.array(t) - 34200, sample_x)[1:-1] - 1\n",
    "sample_y = mid[idxs]\n",
    "rets = np.exp(np.diff(np.log(sample_y))) - 1\n",
    "plt.hist(rets, bins = 100, alpha = 0.5, density = True)\n",
    "plt.yscale('log')\n",
    "plt.show()"
   ]
  },
  {
   "cell_type": "code",
   "execution_count": null,
   "id": "b8085ffc-5b51-4100-81d7-392ffe6e57c4",
   "metadata": {},
   "outputs": [],
   "source": []
  }
 ],
 "metadata": {
  "kernelspec": {
   "display_name": "Python 3 (ipykernel)",
   "language": "python",
   "name": "python3"
  },
  "language_info": {
   "codemirror_mode": {
    "name": "ipython",
    "version": 3
   },
   "file_extension": ".py",
   "mimetype": "text/x-python",
   "name": "python",
   "nbconvert_exporter": "python",
   "pygments_lexer": "ipython3",
   "version": "3.12.4"
  }
 },
 "nbformat": 4,
 "nbformat_minor": 5
}
