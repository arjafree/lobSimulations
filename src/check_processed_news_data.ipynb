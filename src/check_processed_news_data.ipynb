{
 "cells": [
  {
   "cell_type": "code",
   "execution_count": 3,
   "metadata": {},
   "outputs": [],
   "source": [
    "import os\n",
    "import pandas as pd\n",
    "\n",
    "INPUTS_PATH = os.path.join(os.getcwd(), 'data', 'inputs')\n",
    "\n",
    "DS_NAME = 'news'\n",
    "NEWS_VENUE = 'yahoo-finance'"
   ]
  },
  {
   "cell_type": "code",
   "execution_count": 8,
   "metadata": {},
   "outputs": [],
   "source": [
    "df = pd.read_csv(os.path.join(INPUTS_PATH, DS_NAME, NEWS_VENUE, 'processed', f'{NEWS_VENUE}_sentiment.csv'))"
   ]
  },
  {
   "cell_type": "code",
   "execution_count": 9,
   "metadata": {},
   "outputs": [
    {
     "data": {
      "text/html": [
       "<div>\n",
       "<style scoped>\n",
       "    .dataframe tbody tr th:only-of-type {\n",
       "        vertical-align: middle;\n",
       "    }\n",
       "\n",
       "    .dataframe tbody tr th {\n",
       "        vertical-align: top;\n",
       "    }\n",
       "\n",
       "    .dataframe thead th {\n",
       "        text-align: right;\n",
       "    }\n",
       "</style>\n",
       "<table border=\"1\" class=\"dataframe\">\n",
       "  <thead>\n",
       "    <tr style=\"text-align: right;\">\n",
       "      <th></th>\n",
       "      <th>date_publish</th>\n",
       "      <th>venue</th>\n",
       "      <th>company</th>\n",
       "      <th>dummy</th>\n",
       "      <th>negative_sentiment</th>\n",
       "      <th>neutral_sentiment</th>\n",
       "      <th>positive_sentiment</th>\n",
       "      <th>neutral_emotion</th>\n",
       "      <th>surprise_emotion</th>\n",
       "      <th>sadness_emotion</th>\n",
       "      <th>joy_emotion</th>\n",
       "      <th>anger_emotion</th>\n",
       "      <th>disgust_emotion</th>\n",
       "      <th>fear_emotion</th>\n",
       "    </tr>\n",
       "  </thead>\n",
       "  <tbody>\n",
       "    <tr>\n",
       "      <th>0</th>\n",
       "      <td>2022-06-13 12:41:37</td>\n",
       "      <td>yahoo-finance</td>\n",
       "      <td>AMZN</td>\n",
       "      <td>1</td>\n",
       "      <td>0.000315</td>\n",
       "      <td>0.000738</td>\n",
       "      <td>0.998947</td>\n",
       "      <td>0.931345</td>\n",
       "      <td>0.038961</td>\n",
       "      <td>0.010387</td>\n",
       "      <td>0.010367</td>\n",
       "      <td>0.004748</td>\n",
       "      <td>0.003197</td>\n",
       "      <td>0.000995</td>\n",
       "    </tr>\n",
       "    <tr>\n",
       "      <th>1</th>\n",
       "      <td>2022-06-13 12:41:37</td>\n",
       "      <td>yahoo-finance</td>\n",
       "      <td>AAPL</td>\n",
       "      <td>1</td>\n",
       "      <td>0.000315</td>\n",
       "      <td>0.000738</td>\n",
       "      <td>0.998947</td>\n",
       "      <td>0.931345</td>\n",
       "      <td>0.038961</td>\n",
       "      <td>0.010387</td>\n",
       "      <td>0.010367</td>\n",
       "      <td>0.004748</td>\n",
       "      <td>0.003197</td>\n",
       "      <td>0.000995</td>\n",
       "    </tr>\n",
       "    <tr>\n",
       "      <th>2</th>\n",
       "      <td>2022-06-01 07:33:29</td>\n",
       "      <td>yahoo-finance</td>\n",
       "      <td>AMZN</td>\n",
       "      <td>1</td>\n",
       "      <td>0.000186</td>\n",
       "      <td>0.000452</td>\n",
       "      <td>0.999363</td>\n",
       "      <td>0.517492</td>\n",
       "      <td>0.372164</td>\n",
       "      <td>0.084493</td>\n",
       "      <td>0.009561</td>\n",
       "      <td>0.006741</td>\n",
       "      <td>0.006039</td>\n",
       "      <td>0.003511</td>\n",
       "    </tr>\n",
       "    <tr>\n",
       "      <th>3</th>\n",
       "      <td>2022-06-14 13:40:00</td>\n",
       "      <td>yahoo-finance</td>\n",
       "      <td>AMZN</td>\n",
       "      <td>1</td>\n",
       "      <td>0.000176</td>\n",
       "      <td>0.000393</td>\n",
       "      <td>0.999431</td>\n",
       "      <td>0.805267</td>\n",
       "      <td>0.122374</td>\n",
       "      <td>0.048255</td>\n",
       "      <td>0.011149</td>\n",
       "      <td>0.004825</td>\n",
       "      <td>0.004440</td>\n",
       "      <td>0.003690</td>\n",
       "    </tr>\n",
       "    <tr>\n",
       "      <th>4</th>\n",
       "      <td>2022-06-07 12:39:08</td>\n",
       "      <td>yahoo-finance</td>\n",
       "      <td>AMZN</td>\n",
       "      <td>1</td>\n",
       "      <td>0.000548</td>\n",
       "      <td>0.000263</td>\n",
       "      <td>0.999189</td>\n",
       "      <td>0.880739</td>\n",
       "      <td>0.059622</td>\n",
       "      <td>0.043610</td>\n",
       "      <td>0.007575</td>\n",
       "      <td>0.004841</td>\n",
       "      <td>0.002626</td>\n",
       "      <td>0.000987</td>\n",
       "    </tr>\n",
       "  </tbody>\n",
       "</table>\n",
       "</div>"
      ],
      "text/plain": [
       "          date_publish          venue company  dummy  negative_sentiment  \\\n",
       "0  2022-06-13 12:41:37  yahoo-finance    AMZN      1            0.000315   \n",
       "1  2022-06-13 12:41:37  yahoo-finance    AAPL      1            0.000315   \n",
       "2  2022-06-01 07:33:29  yahoo-finance    AMZN      1            0.000186   \n",
       "3  2022-06-14 13:40:00  yahoo-finance    AMZN      1            0.000176   \n",
       "4  2022-06-07 12:39:08  yahoo-finance    AMZN      1            0.000548   \n",
       "\n",
       "   neutral_sentiment  positive_sentiment  neutral_emotion  surprise_emotion  \\\n",
       "0           0.000738            0.998947         0.931345          0.038961   \n",
       "1           0.000738            0.998947         0.931345          0.038961   \n",
       "2           0.000452            0.999363         0.517492          0.372164   \n",
       "3           0.000393            0.999431         0.805267          0.122374   \n",
       "4           0.000263            0.999189         0.880739          0.059622   \n",
       "\n",
       "   sadness_emotion  joy_emotion  anger_emotion  disgust_emotion  fear_emotion  \n",
       "0         0.010387     0.010367       0.004748         0.003197      0.000995  \n",
       "1         0.010387     0.010367       0.004748         0.003197      0.000995  \n",
       "2         0.084493     0.009561       0.006741         0.006039      0.003511  \n",
       "3         0.048255     0.011149       0.004825         0.004440      0.003690  \n",
       "4         0.043610     0.007575       0.004841         0.002626      0.000987  "
      ]
     },
     "execution_count": 9,
     "metadata": {},
     "output_type": "execute_result"
    }
   ],
   "source": [
    "df.head()"
   ]
  },
  {
   "cell_type": "code",
   "execution_count": 11,
   "metadata": {},
   "outputs": [
    {
     "data": {
      "text/plain": [
       "(23584, 14)"
      ]
     },
     "execution_count": 11,
     "metadata": {},
     "output_type": "execute_result"
    }
   ],
   "source": [
    "df.shape"
   ]
  },
  {
   "cell_type": "code",
   "execution_count": 14,
   "metadata": {},
   "outputs": [
    {
     "data": {
      "text/plain": [
       "company\n",
       "AAPL     4742\n",
       "AMZN     3584\n",
       "FB       2393\n",
       "GOOGL    3388\n",
       "IBM       579\n",
       "INTC      864\n",
       "KO        384\n",
       "MSFT     3042\n",
       "NFLX      813\n",
       "NKE       251\n",
       "ORCL      430\n",
       "P&G        98\n",
       "PEP        91\n",
       "TSLA     2925\n",
       "dtype: int64"
      ]
     },
     "execution_count": 14,
     "metadata": {},
     "output_type": "execute_result"
    }
   ],
   "source": [
    "df.groupby('company').size()"
   ]
  },
  {
   "cell_type": "code",
   "execution_count": null,
   "metadata": {},
   "outputs": [],
   "source": []
  }
 ],
 "metadata": {
  "kernelspec": {
   "display_name": "hwe",
   "language": "python",
   "name": "python3"
  },
  "language_info": {
   "codemirror_mode": {
    "name": "ipython",
    "version": 3
   },
   "file_extension": ".py",
   "mimetype": "text/x-python",
   "name": "python",
   "nbconvert_exporter": "python",
   "pygments_lexer": "ipython3",
   "version": "3.9.0"
  }
 },
 "nbformat": 4,
 "nbformat_minor": 2
}
