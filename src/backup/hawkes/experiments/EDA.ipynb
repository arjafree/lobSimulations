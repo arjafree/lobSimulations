{
 "cells": [
  {
   "cell_type": "code",
   "execution_count": 1,
   "id": "d7e633b8-d4ef-45cc-b42b-42075812ac9a",
   "metadata": {},
   "outputs": [],
   "source": [
    "import pandas as pd"
   ]
  },
  {
   "cell_type": "code",
   "execution_count": 2,
   "id": "73a45dbd-af20-4963-a5eb-5c01d4ffefe0",
   "metadata": {},
   "outputs": [
    {
     "ename": "ModuleNotFoundError",
     "evalue": "No module named 'hawkes'",
     "output_type": "error",
     "traceback": [
      "\u001b[0;31m---------------------------------------------------------------------------\u001b[0m",
      "\u001b[0;31mModuleNotFoundError\u001b[0m                       Traceback (most recent call last)",
      "Cell \u001b[0;32mIn[2], line 10\u001b[0m\n\u001b[1;32m      8\u001b[0m \u001b[38;5;28;01mimport\u001b[39;00m \u001b[38;5;21;01msys\u001b[39;00m\n\u001b[1;32m      9\u001b[0m sys\u001b[38;5;241m.\u001b[39mpath\u001b[38;5;241m.\u001b[39mappend(\u001b[38;5;124m\"\u001b[39m\u001b[38;5;124m/home/konajain/code/lobSimulations\u001b[39m\u001b[38;5;124m\"\u001b[39m)\n\u001b[0;32m---> 10\u001b[0m \u001b[38;5;28;01mfrom\u001b[39;00m \u001b[38;5;21;01mhawkes\u001b[39;00m \u001b[38;5;28;01mimport\u001b[39;00m dataLoader\n",
      "\u001b[0;31mModuleNotFoundError\u001b[0m: No module named 'hawkes'"
     ]
    }
   ],
   "source": [
    "import datetime as dt\n",
    "import numpy as np\n",
    "import pandas as pd\n",
    "import matplotlib.pyplot as plt\n",
    "from statsmodels.graphics.tsaplots import plot_acf\n",
    "from statsmodels.tsa.stattools import acf\n",
    "from sklearn.metrics import confusion_matrix , ConfusionMatrixDisplay\n",
    "import sys\n",
    "sys.path.append(\"/home/konajain/code/lobSimulations\")\n",
    "from hawkes import dataLoader"
   ]
  },
  {
   "cell_type": "code",
   "execution_count": null,
   "id": "17b32f7b-6128-424f-a4cc-0f0994941a6c",
   "metadata": {},
   "outputs": [],
   "source": [
    "l = dataLoader.Loader(\"TSLA.OQ\", dt.date(2019,1,2), dt.date(2019,2,1), nlevels = 2, dataPath = \"/SAN/fca/Konark_PhD_Experiments/extracted/\")\n",
    "data = l.load()"
   ]
  },
  {
   "cell_type": "code",
   "execution_count": 6,
   "id": "e2089f37-3f96-41b2-84ef-a5ca7e4a6ece",
   "metadata": {},
   "outputs": [],
   "source": [
    "# ask price new < ask price prev or bid price new > bid price prev and event type = LO\n",
    "for i in range(len(data)):\n",
    "    df = data[i]\n",
    "    df['BidDiff'] = df['Bid Price 1'].diff()\n",
    "    df['AskDiff'] = df['Ask Price 1'].diff()\n",
    "    data[i] = df\n",
    "df_inspread = pd.concat([df.loc[(df.Type == 1)&((df['BidDiff'] > 0)|(df['AskDiff'] < 0))] for df in data])\n",
    "df_inspread['prev spread'] = df_inspread.BidDiff - df_inspread.AskDiff + df_inspread['Ask Price 1'] - df_inspread['Bid Price 1']"
   ]
  },
  {
   "cell_type": "code",
   "execution_count": 34,
   "id": "8ce58b11-3fde-4366-b001-be0c461d7704",
   "metadata": {},
   "outputs": [
    {
     "data": {
      "text/plain": [
       "<Axes: >"
      ]
     },
     "execution_count": 34,
     "metadata": {},
     "output_type": "execute_result"
    },
    {
     "data": {
      "image/png": "[encoded data removed]",
      "text/plain": [
       "<Figure size 640x480 with 1 Axes>"
      ]
     },
     "metadata": {},
     "output_type": "display_data"
    }
   ],
   "source": [
    "(df_inspread.BidDiff - df_inspread.AskDiff).apply(np.log).hist(bins=20, density = True)"
   ]
  },
  {
   "cell_type": "code",
   "execution_count": 30,
   "id": "ae15fd6a-90f8-41dc-bcee-7c1f42ca113b",
   "metadata": {},
   "outputs": [
    {
     "data": {
      "text/plain": [
       "0.36522106824243894"
      ]
     },
     "execution_count": 30,
     "metadata": {},
     "output_type": "execute_result"
    }
   ],
   "source": [
    "sum((df_inspread.BidDiff - df_inspread.AskDiff) < 0.015)/len(df_inspread)"
   ]
  },
  {
   "cell_type": "code",
   "execution_count": 35,
   "id": "a7560a28-51de-41a4-adcd-ec5a2b934698",
   "metadata": {},
   "outputs": [
    {
     "data": {
      "text/plain": [
       "0.45881293117844335"
      ]
     },
     "execution_count": 35,
     "metadata": {},
     "output_type": "execute_result"
    }
   ],
   "source": [
    "sum((df_inspread.BidDiff - df_inspread.AskDiff) < 0.025)/len(df_inspread)"
   ]
  },
  {
   "cell_type": "code",
   "execution_count": 36,
   "id": "69e31f2f-f734-4877-b9e4-19c4e040275b",
   "metadata": {},
   "outputs": [
    {
     "data": {
      "text/plain": [
       "0.029999999999972715"
      ]
     },
     "execution_count": 36,
     "metadata": {},
     "output_type": "execute_result"
    }
   ],
   "source": [
    "np.median((df_inspread.BidDiff - df_inspread.AskDiff).values)"
   ]
  },
  {
   "cell_type": "code",
   "execution_count": 37,
   "id": "00df6108-3f7c-446e-abfa-920a66d8eaac",
   "metadata": {},
   "outputs": [
    {
     "name": "stdout",
     "output_type": "stream",
     "text": [
      "0.029999999999972715\n"
     ]
    }
   ],
   "source": [
    "a = []\n",
    "for i in range(len(data)):\n",
    "    df = data[i]\n",
    "    a = np.append(a,df['Ask Price 2'] - df['Ask Price 1'].values)\n",
    "    a = np.append(a, df['Bid Price 1'] - df['Bid Price 2'].values)\n",
    "print(np.median(a))"
   ]
  },
  {
   "cell_type": "code",
   "execution_count": 18,
   "id": "1692d3c4-60b2-4083-9593-e3ad2b6eff03",
   "metadata": {},
   "outputs": [],
   "source": [
    "df_inspread['seqNo'] = np.arange(len(df_inspread))"
   ]
  },
  {
   "cell_type": "code",
   "execution_count": 60,
   "id": "e54aec54-a254-40d8-8930-9b4d9d8f582b",
   "metadata": {},
   "outputs": [],
   "source": [
    "df_inspread_bid = df_inspread.loc[df_inspread.TradeDirection == 1]\n",
    "df_inspread_ask = df_inspread.loc[df_inspread.TradeDirection == -1]"
   ]
  },
  {
   "cell_type": "code",
   "execution_count": 61,
   "id": "ea18a11f-f0af-4a3e-8ca0-bec2d63d5afc",
   "metadata": {},
   "outputs": [
    {
     "data": {
      "text/html": [
       "<div>\n",
       "<style scoped>\n",
       "    .dataframe tbody tr th:only-of-type {\n",
       "        vertical-align: middle;\n",
       "    }\n",
       "\n",
       "    .dataframe tbody tr th {\n",
       "        vertical-align: top;\n",
       "    }\n",
       "\n",
       "    .dataframe thead th {\n",
       "        text-align: right;\n",
       "    }\n",
       "</style>\n",
       "<table border=\"1\" class=\"dataframe\">\n",
       "  <thead>\n",
       "    <tr style=\"text-align: right;\">\n",
       "      <th></th>\n",
       "      <th></th>\n",
       "      <th>Time</th>\n",
       "      <th>Type</th>\n",
       "      <th>OrderID</th>\n",
       "      <th>Size</th>\n",
       "      <th>Price</th>\n",
       "      <th>TradeDirection</th>\n",
       "      <th>tmp</th>\n",
       "      <th>Ask Price 1</th>\n",
       "      <th>Ask Size 1</th>\n",
       "      <th>Bid Price 1</th>\n",
       "      <th>Bid Size 1</th>\n",
       "      <th>Ask Price 2</th>\n",
       "      <th>Ask Size 2</th>\n",
       "      <th>Bid Price 2</th>\n",
       "      <th>Bid Size 2</th>\n",
       "      <th>Date</th>\n",
       "      <th>BidDiff</th>\n",
       "      <th>AskDiff</th>\n",
       "      <th>prev spread</th>\n",
       "    </tr>\n",
       "    <tr>\n",
       "      <th></th>\n",
       "      <th>seqNo</th>\n",
       "      <th></th>\n",
       "      <th></th>\n",
       "      <th></th>\n",
       "      <th></th>\n",
       "      <th></th>\n",
       "      <th></th>\n",
       "      <th></th>\n",
       "      <th></th>\n",
       "      <th></th>\n",
       "      <th></th>\n",
       "      <th></th>\n",
       "      <th></th>\n",
       "      <th></th>\n",
       "      <th></th>\n",
       "      <th></th>\n",
       "      <th></th>\n",
       "      <th></th>\n",
       "      <th></th>\n",
       "      <th></th>\n",
       "    </tr>\n",
       "  </thead>\n",
       "  <tbody>\n",
       "    <tr>\n",
       "      <th>2019-01-02 09:30:00.803732</th>\n",
       "      <th>1</th>\n",
       "      <td>34200.803732</td>\n",
       "      <td>1</td>\n",
       "      <td>11723272</td>\n",
       "      <td>100</td>\n",
       "      <td>3061900</td>\n",
       "      <td>1</td>\n",
       "      <td>NaN</td>\n",
       "      <td>307.00</td>\n",
       "      <td>2365</td>\n",
       "      <td>306.19</td>\n",
       "      <td>100</td>\n",
       "      <td>307.18</td>\n",
       "      <td>158</td>\n",
       "      <td>306.06</td>\n",
       "      <td>3</td>\n",
       "      <td>2019-01-02</td>\n",
       "      <td>0.13</td>\n",
       "      <td>0.0</td>\n",
       "      <td>0.94</td>\n",
       "    </tr>\n",
       "    <tr>\n",
       "      <th>2019-01-02 09:30:00.803736</th>\n",
       "      <th>2</th>\n",
       "      <td>34200.803736</td>\n",
       "      <td>1</td>\n",
       "      <td>11723284</td>\n",
       "      <td>50</td>\n",
       "      <td>3063600</td>\n",
       "      <td>1</td>\n",
       "      <td>NaN</td>\n",
       "      <td>307.00</td>\n",
       "      <td>2365</td>\n",
       "      <td>306.36</td>\n",
       "      <td>50</td>\n",
       "      <td>307.18</td>\n",
       "      <td>158</td>\n",
       "      <td>306.19</td>\n",
       "      <td>200</td>\n",
       "      <td>2019-01-02</td>\n",
       "      <td>0.17</td>\n",
       "      <td>0.0</td>\n",
       "      <td>0.81</td>\n",
       "    </tr>\n",
       "    <tr>\n",
       "      <th>2019-01-02 09:30:00.832312</th>\n",
       "      <th>4</th>\n",
       "      <td>34200.832312</td>\n",
       "      <td>1</td>\n",
       "      <td>11733916</td>\n",
       "      <td>100</td>\n",
       "      <td>3061900</td>\n",
       "      <td>1</td>\n",
       "      <td>NaN</td>\n",
       "      <td>307.00</td>\n",
       "      <td>2365</td>\n",
       "      <td>306.19</td>\n",
       "      <td>100</td>\n",
       "      <td>307.18</td>\n",
       "      <td>158</td>\n",
       "      <td>306.06</td>\n",
       "      <td>3</td>\n",
       "      <td>2019-01-02</td>\n",
       "      <td>0.13</td>\n",
       "      <td>0.0</td>\n",
       "      <td>0.94</td>\n",
       "    </tr>\n",
       "    <tr>\n",
       "      <th>2019-01-02 09:30:01.240672</th>\n",
       "      <th>9</th>\n",
       "      <td>34201.240672</td>\n",
       "      <td>1</td>\n",
       "      <td>11817460</td>\n",
       "      <td>5</td>\n",
       "      <td>3060100</td>\n",
       "      <td>1</td>\n",
       "      <td>NaN</td>\n",
       "      <td>307.00</td>\n",
       "      <td>1637</td>\n",
       "      <td>306.01</td>\n",
       "      <td>5</td>\n",
       "      <td>307.18</td>\n",
       "      <td>158</td>\n",
       "      <td>306.00</td>\n",
       "      <td>1206</td>\n",
       "      <td>2019-01-02</td>\n",
       "      <td>0.01</td>\n",
       "      <td>0.0</td>\n",
       "      <td>1.00</td>\n",
       "    </tr>\n",
       "    <tr>\n",
       "      <th>2019-01-02 09:30:01.411242</th>\n",
       "      <th>14</th>\n",
       "      <td>34201.411242</td>\n",
       "      <td>1</td>\n",
       "      <td>11835112</td>\n",
       "      <td>15</td>\n",
       "      <td>3060000</td>\n",
       "      <td>1</td>\n",
       "      <td>NaN</td>\n",
       "      <td>306.17</td>\n",
       "      <td>15</td>\n",
       "      <td>306.00</td>\n",
       "      <td>15</td>\n",
       "      <td>306.34</td>\n",
       "      <td>50</td>\n",
       "      <td>305.80</td>\n",
       "      <td>33</td>\n",
       "      <td>2019-01-02</td>\n",
       "      <td>0.20</td>\n",
       "      <td>0.0</td>\n",
       "      <td>0.37</td>\n",
       "    </tr>\n",
       "  </tbody>\n",
       "</table>\n",
       "</div>"
      ],
      "text/plain": [
       "                                          Time  Type   OrderID  Size    Price  \\\n",
       "                           seqNo                                                \n",
       "2019-01-02 09:30:00.803732 1      34200.803732     1  11723272   100  3061900   \n",
       "2019-01-02 09:30:00.803736 2      34200.803736     1  11723284    50  3063600   \n",
       "2019-01-02 09:30:00.832312 4      34200.832312     1  11733916   100  3061900   \n",
       "2019-01-02 09:30:01.240672 9      34201.240672     1  11817460     5  3060100   \n",
       "2019-01-02 09:30:01.411242 14     34201.411242     1  11835112    15  3060000   \n",
       "\n",
       "                                  TradeDirection  tmp  Ask Price 1  \\\n",
       "                           seqNo                                     \n",
       "2019-01-02 09:30:00.803732 1                   1  NaN       307.00   \n",
       "2019-01-02 09:30:00.803736 2                   1  NaN       307.00   \n",
       "2019-01-02 09:30:00.832312 4                   1  NaN       307.00   \n",
       "2019-01-02 09:30:01.240672 9                   1  NaN       307.00   \n",
       "2019-01-02 09:30:01.411242 14                  1  NaN       306.17   \n",
       "\n",
       "                                  Ask Size 1  Bid Price 1  Bid Size 1  \\\n",
       "                           seqNo                                        \n",
       "2019-01-02 09:30:00.803732 1            2365       306.19         100   \n",
       "2019-01-02 09:30:00.803736 2            2365       306.36          50   \n",
       "2019-01-02 09:30:00.832312 4            2365       306.19         100   \n",
       "2019-01-02 09:30:01.240672 9            1637       306.01           5   \n",
       "2019-01-02 09:30:01.411242 14             15       306.00          15   \n",
       "\n",
       "                                  Ask Price 2  Ask Size 2  Bid Price 2  \\\n",
       "                           seqNo                                         \n",
       "2019-01-02 09:30:00.803732 1           307.18         158       306.06   \n",
       "2019-01-02 09:30:00.803736 2           307.18         158       306.19   \n",
       "2019-01-02 09:30:00.832312 4           307.18         158       306.06   \n",
       "2019-01-02 09:30:01.240672 9           307.18         158       306.00   \n",
       "2019-01-02 09:30:01.411242 14          306.34          50       305.80   \n",
       "\n",
       "                                  Bid Size 2        Date  BidDiff  AskDiff  \\\n",
       "                           seqNo                                             \n",
       "2019-01-02 09:30:00.803732 1               3  2019-01-02     0.13      0.0   \n",
       "2019-01-02 09:30:00.803736 2             200  2019-01-02     0.17      0.0   \n",
       "2019-01-02 09:30:00.832312 4               3  2019-01-02     0.13      0.0   \n",
       "2019-01-02 09:30:01.240672 9            1206  2019-01-02     0.01      0.0   \n",
       "2019-01-02 09:30:01.411242 14             33  2019-01-02     0.20      0.0   \n",
       "\n",
       "                                  prev spread  \n",
       "                           seqNo               \n",
       "2019-01-02 09:30:00.803732 1             0.94  \n",
       "2019-01-02 09:30:00.803736 2             0.81  \n",
       "2019-01-02 09:30:00.832312 4             0.94  \n",
       "2019-01-02 09:30:01.240672 9             1.00  \n",
       "2019-01-02 09:30:01.411242 14            0.37  "
      ]
     },
     "execution_count": 61,
     "metadata": {},
     "output_type": "execute_result"
    }
   ],
   "source": [
    "df_inspread_bid = df_inspread_bid.set_index([df_inspread_bid.apply(lambda x : dt.datetime.strptime(x['Date'], \"%Y-%m-%d\")+dt.timedelta(seconds=x['Time']), axis = 1 ), 'seqNo'])\n",
    "df_inspread_bid.head()"
   ]
  },
  {
   "cell_type": "code",
   "execution_count": 62,
   "id": "d61e9a7d-fdaa-4879-aae5-e01ca182c091",
   "metadata": {},
   "outputs": [
    {
     "data": {
      "image/png": "[encoded data removed]",
      "text/plain": [
       "<Figure size 640x480 with 1 Axes>"
      ]
     },
     "metadata": {},
     "output_type": "display_data"
    }
   ],
   "source": [
    "plt.hist(df_inspread_bid.BidDiff, bins = 40, density=True)\n",
    "plt.show()"
   ]
  },
  {
   "cell_type": "code",
   "execution_count": 63,
   "id": "14f026e9-6dc3-46f8-9b6c-9708751efc04",
   "metadata": {},
   "outputs": [
    {
     "data": {
      "text/html": [
       "<div>\n",
       "<style scoped>\n",
       "    .dataframe tbody tr th:only-of-type {\n",
       "        vertical-align: middle;\n",
       "    }\n",
       "\n",
       "    .dataframe tbody tr th {\n",
       "        vertical-align: top;\n",
       "    }\n",
       "\n",
       "    .dataframe thead th {\n",
       "        text-align: right;\n",
       "    }\n",
       "</style>\n",
       "<table border=\"1\" class=\"dataframe\">\n",
       "  <thead>\n",
       "    <tr style=\"text-align: right;\">\n",
       "      <th></th>\n",
       "      <th></th>\n",
       "      <th>Time</th>\n",
       "      <th>Type</th>\n",
       "      <th>OrderID</th>\n",
       "      <th>Size</th>\n",
       "      <th>Price</th>\n",
       "      <th>TradeDirection</th>\n",
       "      <th>tmp</th>\n",
       "      <th>Ask Price 1</th>\n",
       "      <th>Ask Size 1</th>\n",
       "      <th>Bid Price 1</th>\n",
       "      <th>Bid Size 1</th>\n",
       "      <th>Ask Price 2</th>\n",
       "      <th>Ask Size 2</th>\n",
       "      <th>Bid Price 2</th>\n",
       "      <th>Bid Size 2</th>\n",
       "      <th>Date</th>\n",
       "      <th>BidDiff</th>\n",
       "      <th>AskDiff</th>\n",
       "      <th>prev spread</th>\n",
       "    </tr>\n",
       "    <tr>\n",
       "      <th></th>\n",
       "      <th>seqNo</th>\n",
       "      <th></th>\n",
       "      <th></th>\n",
       "      <th></th>\n",
       "      <th></th>\n",
       "      <th></th>\n",
       "      <th></th>\n",
       "      <th></th>\n",
       "      <th></th>\n",
       "      <th></th>\n",
       "      <th></th>\n",
       "      <th></th>\n",
       "      <th></th>\n",
       "      <th></th>\n",
       "      <th></th>\n",
       "      <th></th>\n",
       "      <th></th>\n",
       "      <th></th>\n",
       "      <th></th>\n",
       "      <th></th>\n",
       "    </tr>\n",
       "  </thead>\n",
       "  <tbody>\n",
       "    <tr>\n",
       "      <th>2019-01-02 09:30:00.781848</th>\n",
       "      <th>0</th>\n",
       "      <td>34200.781848</td>\n",
       "      <td>1</td>\n",
       "      <td>9905484</td>\n",
       "      <td>500</td>\n",
       "      <td>3066700</td>\n",
       "      <td>-1</td>\n",
       "      <td>NaN</td>\n",
       "      <td>306.67</td>\n",
       "      <td>500</td>\n",
       "      <td>306.06</td>\n",
       "      <td>3</td>\n",
       "      <td>307.00</td>\n",
       "      <td>200</td>\n",
       "      <td>306.00</td>\n",
       "      <td>300</td>\n",
       "      <td>2019-01-02</td>\n",
       "      <td>0.0</td>\n",
       "      <td>-0.33</td>\n",
       "      <td>0.94</td>\n",
       "    </tr>\n",
       "    <tr>\n",
       "      <th>2019-01-02 09:30:00.819050</th>\n",
       "      <th>3</th>\n",
       "      <td>34200.819050</td>\n",
       "      <td>1</td>\n",
       "      <td>11730308</td>\n",
       "      <td>4</td>\n",
       "      <td>3066700</td>\n",
       "      <td>-1</td>\n",
       "      <td>NaN</td>\n",
       "      <td>306.67</td>\n",
       "      <td>4</td>\n",
       "      <td>306.19</td>\n",
       "      <td>100</td>\n",
       "      <td>307.00</td>\n",
       "      <td>2365</td>\n",
       "      <td>306.06</td>\n",
       "      <td>3</td>\n",
       "      <td>2019-01-02</td>\n",
       "      <td>0.0</td>\n",
       "      <td>-0.33</td>\n",
       "      <td>0.81</td>\n",
       "    </tr>\n",
       "    <tr>\n",
       "      <th>2019-01-02 09:30:01.108206</th>\n",
       "      <th>5</th>\n",
       "      <td>34201.108206</td>\n",
       "      <td>1</td>\n",
       "      <td>11798748</td>\n",
       "      <td>100</td>\n",
       "      <td>3068100</td>\n",
       "      <td>-1</td>\n",
       "      <td>NaN</td>\n",
       "      <td>306.81</td>\n",
       "      <td>100</td>\n",
       "      <td>306.00</td>\n",
       "      <td>1231</td>\n",
       "      <td>307.00</td>\n",
       "      <td>1737</td>\n",
       "      <td>305.80</td>\n",
       "      <td>33</td>\n",
       "      <td>2019-01-02</td>\n",
       "      <td>0.0</td>\n",
       "      <td>-0.19</td>\n",
       "      <td>1.00</td>\n",
       "    </tr>\n",
       "    <tr>\n",
       "      <th>2019-01-02 09:30:01.108210</th>\n",
       "      <th>6</th>\n",
       "      <td>34201.108210</td>\n",
       "      <td>1</td>\n",
       "      <td>11798756</td>\n",
       "      <td>50</td>\n",
       "      <td>3065300</td>\n",
       "      <td>-1</td>\n",
       "      <td>NaN</td>\n",
       "      <td>306.53</td>\n",
       "      <td>50</td>\n",
       "      <td>306.00</td>\n",
       "      <td>1231</td>\n",
       "      <td>306.81</td>\n",
       "      <td>200</td>\n",
       "      <td>305.80</td>\n",
       "      <td>33</td>\n",
       "      <td>2019-01-02</td>\n",
       "      <td>0.0</td>\n",
       "      <td>-0.28</td>\n",
       "      <td>0.81</td>\n",
       "    </tr>\n",
       "    <tr>\n",
       "      <th>2019-01-02 09:30:01.202193</th>\n",
       "      <th>7</th>\n",
       "      <td>34201.202193</td>\n",
       "      <td>1</td>\n",
       "      <td>11813032</td>\n",
       "      <td>30</td>\n",
       "      <td>3067500</td>\n",
       "      <td>-1</td>\n",
       "      <td>NaN</td>\n",
       "      <td>306.75</td>\n",
       "      <td>30</td>\n",
       "      <td>306.00</td>\n",
       "      <td>1206</td>\n",
       "      <td>307.00</td>\n",
       "      <td>1737</td>\n",
       "      <td>305.80</td>\n",
       "      <td>33</td>\n",
       "      <td>2019-01-02</td>\n",
       "      <td>0.0</td>\n",
       "      <td>-0.25</td>\n",
       "      <td>1.00</td>\n",
       "    </tr>\n",
       "  </tbody>\n",
       "</table>\n",
       "</div>"
      ],
      "text/plain": [
       "                                          Time  Type   OrderID  Size    Price  \\\n",
       "                           seqNo                                                \n",
       "2019-01-02 09:30:00.781848 0      34200.781848     1   9905484   500  3066700   \n",
       "2019-01-02 09:30:00.819050 3      34200.819050     1  11730308     4  3066700   \n",
       "2019-01-02 09:30:01.108206 5      34201.108206     1  11798748   100  3068100   \n",
       "2019-01-02 09:30:01.108210 6      34201.108210     1  11798756    50  3065300   \n",
       "2019-01-02 09:30:01.202193 7      34201.202193     1  11813032    30  3067500   \n",
       "\n",
       "                                  TradeDirection  tmp  Ask Price 1  \\\n",
       "                           seqNo                                     \n",
       "2019-01-02 09:30:00.781848 0                  -1  NaN       306.67   \n",
       "2019-01-02 09:30:00.819050 3                  -1  NaN       306.67   \n",
       "2019-01-02 09:30:01.108206 5                  -1  NaN       306.81   \n",
       "2019-01-02 09:30:01.108210 6                  -1  NaN       306.53   \n",
       "2019-01-02 09:30:01.202193 7                  -1  NaN       306.75   \n",
       "\n",
       "                                  Ask Size 1  Bid Price 1  Bid Size 1  \\\n",
       "                           seqNo                                        \n",
       "2019-01-02 09:30:00.781848 0             500       306.06           3   \n",
       "2019-01-02 09:30:00.819050 3               4       306.19         100   \n",
       "2019-01-02 09:30:01.108206 5             100       306.00        1231   \n",
       "2019-01-02 09:30:01.108210 6              50       306.00        1231   \n",
       "2019-01-02 09:30:01.202193 7              30       306.00        1206   \n",
       "\n",
       "                                  Ask Price 2  Ask Size 2  Bid Price 2  \\\n",
       "                           seqNo                                         \n",
       "2019-01-02 09:30:00.781848 0           307.00         200       306.00   \n",
       "2019-01-02 09:30:00.819050 3           307.00        2365       306.06   \n",
       "2019-01-02 09:30:01.108206 5           307.00        1737       305.80   \n",
       "2019-01-02 09:30:01.108210 6           306.81         200       305.80   \n",
       "2019-01-02 09:30:01.202193 7           307.00        1737       305.80   \n",
       "\n",
       "                                  Bid Size 2        Date  BidDiff  AskDiff  \\\n",
       "                           seqNo                                             \n",
       "2019-01-02 09:30:00.781848 0             300  2019-01-02      0.0    -0.33   \n",
       "2019-01-02 09:30:00.819050 3               3  2019-01-02      0.0    -0.33   \n",
       "2019-01-02 09:30:01.108206 5              33  2019-01-02      0.0    -0.19   \n",
       "2019-01-02 09:30:01.108210 6              33  2019-01-02      0.0    -0.28   \n",
       "2019-01-02 09:30:01.202193 7              33  2019-01-02      0.0    -0.25   \n",
       "\n",
       "                                  prev spread  \n",
       "                           seqNo               \n",
       "2019-01-02 09:30:00.781848 0             0.94  \n",
       "2019-01-02 09:30:00.819050 3             0.81  \n",
       "2019-01-02 09:30:01.108206 5             1.00  \n",
       "2019-01-02 09:30:01.108210 6             0.81  \n",
       "2019-01-02 09:30:01.202193 7             1.00  "
      ]
     },
     "execution_count": 63,
     "metadata": {},
     "output_type": "execute_result"
    }
   ],
   "source": [
    "df_inspread_ask = df_inspread_ask.set_index([df_inspread_ask.apply(lambda x : dt.datetime.strptime(x['Date'], \"%Y-%m-%d\")+dt.timedelta(seconds=x['Time']), axis = 1 ), 'seqNo'])\n",
    "df_inspread_ask.head()"
   ]
  },
  {
   "cell_type": "code",
   "execution_count": 67,
   "id": "ab20bcc5-7764-4a08-a8d9-c6fdc0d6c4a8",
   "metadata": {},
   "outputs": [],
   "source": [
    "tau = 1e-6\n",
    "s = df_inspread_bid.sort_index(ascending=False).reset_index().set_index('level_0').rolling(window = dt.timedelta(seconds=tau))['TradeDirection'].count()\n",
    "s=s.to_frame()\n",
    "s['seqNo'] = df_inspread_bid.sort_index(ascending=False).reset_index().set_index('level_0')['seqNo']\n",
    "s = s.reset_index().set_index(['level_0','seqNo'])\n",
    "df_inspread_bid['Count0.01sec'] = s"
   ]
  },
  {
   "cell_type": "code",
   "execution_count": 68,
   "id": "a433abe2-cca1-4db0-acb1-abff6973b0a2",
   "metadata": {},
   "outputs": [],
   "source": [
    "df_inspread_bid['prev spread ticks'] = (df_inspread_bid['prev spread']*100).apply(np.round).astype(int)"
   ]
  },
  {
   "cell_type": "code",
   "execution_count": 69,
   "id": "3a4f8eae-48b2-453d-87b3-a6707d2dfd7e",
   "metadata": {},
   "outputs": [
    {
     "data": {
      "image/png": "[encoded data removed]",
      "text/plain": [
       "<Figure size 640x480 with 1 Axes>"
      ]
     },
     "metadata": {},
     "output_type": "display_data"
    }
   ],
   "source": [
    "plt.figure()\n",
    "df_inspread_bid  = df_inspread_bid.loc[df_inspread_bid['prev spread ticks'] < 60]\n",
    "df_inspread_bid  = df_inspread_bid.loc[df_inspread_bid['prev spread ticks'] > 14]\n",
    "plt.violinplot(df_inspread_bid.groupby(\"prev spread ticks\")['Count0.01sec'].apply(np.array).values , showmeans=True,  showmedians=False, showextrema = False)\n",
    "plt.ylim([0,2])\n",
    "plt.title('Spread-in-Ticks v/s Future Order Arrival Rate')\n",
    "plt.bar(df_inspread_bid[\"prev spread ticks\"].sort_values().unique() - 14  , 20*df_inspread_bid.groupby(\"prev spread ticks\")['Count0.01sec'].count().values/len(df_inspread_bid), alpha=0.2, color='pink')\n",
    "# plt.plot(df_inspread_bid[\"prev spread ticks\"].sort_values().unique() -1,  np.exp(-0.0523)*(df_inspread_bid_f[\"prev spread ticks\"].sort_values().unique()**0.3889), color = 'r')\n",
    "plt.xticks(ticks = np.arange(1, len(df_inspread_bid[\"prev spread ticks\"].unique())+1), labels = df_inspread_bid[\"prev spread ticks\"].sort_values().unique() , rotation = 90)\n",
    "plt.xlabel(\"Spread in ticks\")\n",
    "plt.ylabel(\"Future in-spread order arrival intensity (0.01 sec)\")\n",
    "plt.savefig(\"spreadInTicks.jpg\")\n",
    "plt.show()"
   ]
  },
  {
   "cell_type": "code",
   "execution_count": 47,
   "id": "2b6c3440-5af7-40f3-8565-fa6888994b4e",
   "metadata": {},
   "outputs": [
    {
     "data": {
      "text/plain": [
       "22.0"
      ]
     },
     "execution_count": 47,
     "metadata": {},
     "output_type": "execute_result"
    }
   ],
   "source": [
    "df_inspread_bid['prev spread ticks'].median()"
   ]
  },
  {
   "cell_type": "markdown",
   "id": "963dfa71-404e-4805-9cb1-55fb109541fb",
   "metadata": {},
   "source": [
    "# new way"
   ]
  },
  {
   "cell_type": "code",
   "execution_count": 15,
   "id": "34864040-aeec-41f5-8e63-72c1529394be",
   "metadata": {},
   "outputs": [],
   "source": [
    "inspreadInt = []\n",
    "\n",
    "counts = []"
   ]
  },
  {
   "cell_type": "code",
   "execution_count": 16,
   "id": "14538d6a-bb3e-4d93-b5c5-37d032f48739",
   "metadata": {
    "scrolled": true
   },
   "outputs": [
    {
     "name": "stdout",
     "output_type": "stream",
     "text": [
      "/SAN/fca/Konark_PhD_Experiments/extracted/AAPL_2019-01-02_34200000_57600000_message_10.csv\n"
     ]
    },
    {
     "name": "stderr",
     "output_type": "stream",
     "text": [
      "/tmp/ipykernel_62553/2695096141.py:3: DtypeWarning: Columns (6) have mixed types.Specify dtype option on import or set low_memory=False.\n",
      "  data = l.load()\n",
      "/home/konajain/code/lobSimulations/hawkes/dataLoader.py:109: SettingWithCopyWarning: \n",
      "A value is trying to be set on a copy of a slice from a DataFrame.\n",
      "Try using .loc[row_indexer,col_indexer] = value instead\n",
      "\n",
      "See the caveats in the documentation: https://pandas.pydata.org/pandas-docs/stable/user_guide/indexing.html#returning-a-view-versus-a-copy\n",
      "  theOrderBookFiltered[theOrderBookFiltered.columns[i]]  = theOrderBookFiltered[theOrderBookFiltered.columns[i]]/10000\n",
      "/tmp/ipykernel_62553/2695096141.py:11: SettingWithCopyWarning: \n",
      "A value is trying to be set on a copy of a slice from a DataFrame.\n",
      "Try using .loc[row_indexer,col_indexer] = value instead\n",
      "\n",
      "See the caveats in the documentation: https://pandas.pydata.org/pandas-docs/stable/user_guide/indexing.html#returning-a-view-versus-a-copy\n",
      "  df['inspread'] = ((df.Type == 1)&((df['BidDiff'] > 0)|(df['AskDiff'] < 0))).astype(int)\n",
      "/tmp/ipykernel_62553/2695096141.py:12: SettingWithCopyWarning: \n",
      "A value is trying to be set on a copy of a slice from a DataFrame.\n",
      "Try using .loc[row_indexer,col_indexer] = value instead\n",
      "\n",
      "See the caveats in the documentation: https://pandas.pydata.org/pandas-docs/stable/user_guide/indexing.html#returning-a-view-versus-a-copy\n",
      "  df['prev spread'] = df.BidDiff - df.AskDiff + df['Ask Price 1'] - df['Bid Price 1']\n",
      "/tmp/ipykernel_62553/2695096141.py:13: SettingWithCopyWarning: \n",
      "A value is trying to be set on a copy of a slice from a DataFrame.\n",
      "Try using .loc[row_indexer,col_indexer] = value instead\n",
      "\n",
      "See the caveats in the documentation: https://pandas.pydata.org/pandas-docs/stable/user_guide/indexing.html#returning-a-view-versus-a-copy\n",
      "  df['seqNo'] = np.arange(len(df))\n"
     ]
    },
    {
     "name": "stdout",
     "output_type": "stream",
     "text": [
      "/SAN/fca/Konark_PhD_Experiments/extracted/AAPL_2019-01-03_34200000_57600000_message_10.csv\n"
     ]
    },
    {
     "name": "stderr",
     "output_type": "stream",
     "text": [
      "/home/konajain/code/lobSimulations/hawkes/dataLoader.py:109: SettingWithCopyWarning: \n",
      "A value is trying to be set on a copy of a slice from a DataFrame.\n",
      "Try using .loc[row_indexer,col_indexer] = value instead\n",
      "\n",
      "See the caveats in the documentation: https://pandas.pydata.org/pandas-docs/stable/user_guide/indexing.html#returning-a-view-versus-a-copy\n",
      "  theOrderBookFiltered[theOrderBookFiltered.columns[i]]  = theOrderBookFiltered[theOrderBookFiltered.columns[i]]/10000\n",
      "/tmp/ipykernel_62553/2695096141.py:11: SettingWithCopyWarning: \n",
      "A value is trying to be set on a copy of a slice from a DataFrame.\n",
      "Try using .loc[row_indexer,col_indexer] = value instead\n",
      "\n",
      "See the caveats in the documentation: https://pandas.pydata.org/pandas-docs/stable/user_guide/indexing.html#returning-a-view-versus-a-copy\n",
      "  df['inspread'] = ((df.Type == 1)&((df['BidDiff'] > 0)|(df['AskDiff'] < 0))).astype(int)\n",
      "/tmp/ipykernel_62553/2695096141.py:12: SettingWithCopyWarning: \n",
      "A value is trying to be set on a copy of a slice from a DataFrame.\n",
      "Try using .loc[row_indexer,col_indexer] = value instead\n",
      "\n",
      "See the caveats in the documentation: https://pandas.pydata.org/pandas-docs/stable/user_guide/indexing.html#returning-a-view-versus-a-copy\n",
      "  df['prev spread'] = df.BidDiff - df.AskDiff + df['Ask Price 1'] - df['Bid Price 1']\n",
      "/tmp/ipykernel_62553/2695096141.py:13: SettingWithCopyWarning: \n",
      "A value is trying to be set on a copy of a slice from a DataFrame.\n",
      "Try using .loc[row_indexer,col_indexer] = value instead\n",
      "\n",
      "See the caveats in the documentation: https://pandas.pydata.org/pandas-docs/stable/user_guide/indexing.html#returning-a-view-versus-a-copy\n",
      "  df['seqNo'] = np.arange(len(df))\n"
     ]
    },
    {
     "name": "stdout",
     "output_type": "stream",
     "text": [
      "/SAN/fca/Konark_PhD_Experiments/extracted/AAPL_2019-01-04_34200000_57600000_message_10.csv\n"
     ]
    },
    {
     "name": "stderr",
     "output_type": "stream",
     "text": [
      "/home/konajain/code/lobSimulations/hawkes/dataLoader.py:109: SettingWithCopyWarning: \n",
      "A value is trying to be set on a copy of a slice from a DataFrame.\n",
      "Try using .loc[row_indexer,col_indexer] = value instead\n",
      "\n",
      "See the caveats in the documentation: https://pandas.pydata.org/pandas-docs/stable/user_guide/indexing.html#returning-a-view-versus-a-copy\n",
      "  theOrderBookFiltered[theOrderBookFiltered.columns[i]]  = theOrderBookFiltered[theOrderBookFiltered.columns[i]]/10000\n",
      "/tmp/ipykernel_62553/2695096141.py:11: SettingWithCopyWarning: \n",
      "A value is trying to be set on a copy of a slice from a DataFrame.\n",
      "Try using .loc[row_indexer,col_indexer] = value instead\n",
      "\n",
      "See the caveats in the documentation: https://pandas.pydata.org/pandas-docs/stable/user_guide/indexing.html#returning-a-view-versus-a-copy\n",
      "  df['inspread'] = ((df.Type == 1)&((df['BidDiff'] > 0)|(df['AskDiff'] < 0))).astype(int)\n",
      "/tmp/ipykernel_62553/2695096141.py:12: SettingWithCopyWarning: \n",
      "A value is trying to be set on a copy of a slice from a DataFrame.\n",
      "Try using .loc[row_indexer,col_indexer] = value instead\n",
      "\n",
      "See the caveats in the documentation: https://pandas.pydata.org/pandas-docs/stable/user_guide/indexing.html#returning-a-view-versus-a-copy\n",
      "  df['prev spread'] = df.BidDiff - df.AskDiff + df['Ask Price 1'] - df['Bid Price 1']\n",
      "/tmp/ipykernel_62553/2695096141.py:13: SettingWithCopyWarning: \n",
      "A value is trying to be set on a copy of a slice from a DataFrame.\n",
      "Try using .loc[row_indexer,col_indexer] = value instead\n",
      "\n",
      "See the caveats in the documentation: https://pandas.pydata.org/pandas-docs/stable/user_guide/indexing.html#returning-a-view-versus-a-copy\n",
      "  df['seqNo'] = np.arange(len(df))\n"
     ]
    },
    {
     "name": "stdout",
     "output_type": "stream",
     "text": [
      "/SAN/fca/Konark_PhD_Experiments/extracted/AAPL_2019-01-07_34200000_57600000_message_10.csv\n"
     ]
    },
    {
     "name": "stderr",
     "output_type": "stream",
     "text": [
      "/tmp/ipykernel_62553/2695096141.py:3: DtypeWarning: Columns (6) have mixed types.Specify dtype option on import or set low_memory=False.\n",
      "  data = l.load()\n",
      "/home/konajain/code/lobSimulations/hawkes/dataLoader.py:109: SettingWithCopyWarning: \n",
      "A value is trying to be set on a copy of a slice from a DataFrame.\n",
      "Try using .loc[row_indexer,col_indexer] = value instead\n",
      "\n",
      "See the caveats in the documentation: https://pandas.pydata.org/pandas-docs/stable/user_guide/indexing.html#returning-a-view-versus-a-copy\n",
      "  theOrderBookFiltered[theOrderBookFiltered.columns[i]]  = theOrderBookFiltered[theOrderBookFiltered.columns[i]]/10000\n",
      "/tmp/ipykernel_62553/2695096141.py:11: SettingWithCopyWarning: \n",
      "A value is trying to be set on a copy of a slice from a DataFrame.\n",
      "Try using .loc[row_indexer,col_indexer] = value instead\n",
      "\n",
      "See the caveats in the documentation: https://pandas.pydata.org/pandas-docs/stable/user_guide/indexing.html#returning-a-view-versus-a-copy\n",
      "  df['inspread'] = ((df.Type == 1)&((df['BidDiff'] > 0)|(df['AskDiff'] < 0))).astype(int)\n",
      "/tmp/ipykernel_62553/2695096141.py:12: SettingWithCopyWarning: \n",
      "A value is trying to be set on a copy of a slice from a DataFrame.\n",
      "Try using .loc[row_indexer,col_indexer] = value instead\n",
      "\n",
      "See the caveats in the documentation: https://pandas.pydata.org/pandas-docs/stable/user_guide/indexing.html#returning-a-view-versus-a-copy\n",
      "  df['prev spread'] = df.BidDiff - df.AskDiff + df['Ask Price 1'] - df['Bid Price 1']\n",
      "/tmp/ipykernel_62553/2695096141.py:13: SettingWithCopyWarning: \n",
      "A value is trying to be set on a copy of a slice from a DataFrame.\n",
      "Try using .loc[row_indexer,col_indexer] = value instead\n",
      "\n",
      "See the caveats in the documentation: https://pandas.pydata.org/pandas-docs/stable/user_guide/indexing.html#returning-a-view-versus-a-copy\n",
      "  df['seqNo'] = np.arange(len(df))\n"
     ]
    },
    {
     "name": "stdout",
     "output_type": "stream",
     "text": [
      "/SAN/fca/Konark_PhD_Experiments/extracted/AAPL_2019-01-08_34200000_57600000_message_10.csv\n"
     ]
    },
    {
     "name": "stderr",
     "output_type": "stream",
     "text": [
      "/tmp/ipykernel_62553/2695096141.py:3: DtypeWarning: Columns (6) have mixed types.Specify dtype option on import or set low_memory=False.\n",
      "  data = l.load()\n",
      "/home/konajain/code/lobSimulations/hawkes/dataLoader.py:109: SettingWithCopyWarning: \n",
      "A value is trying to be set on a copy of a slice from a DataFrame.\n",
      "Try using .loc[row_indexer,col_indexer] = value instead\n",
      "\n",
      "See the caveats in the documentation: https://pandas.pydata.org/pandas-docs/stable/user_guide/indexing.html#returning-a-view-versus-a-copy\n",
      "  theOrderBookFiltered[theOrderBookFiltered.columns[i]]  = theOrderBookFiltered[theOrderBookFiltered.columns[i]]/10000\n",
      "/tmp/ipykernel_62553/2695096141.py:11: SettingWithCopyWarning: \n",
      "A value is trying to be set on a copy of a slice from a DataFrame.\n",
      "Try using .loc[row_indexer,col_indexer] = value instead\n",
      "\n",
      "See the caveats in the documentation: https://pandas.pydata.org/pandas-docs/stable/user_guide/indexing.html#returning-a-view-versus-a-copy\n",
      "  df['inspread'] = ((df.Type == 1)&((df['BidDiff'] > 0)|(df['AskDiff'] < 0))).astype(int)\n",
      "/tmp/ipykernel_62553/2695096141.py:12: SettingWithCopyWarning: \n",
      "A value is trying to be set on a copy of a slice from a DataFrame.\n",
      "Try using .loc[row_indexer,col_indexer] = value instead\n",
      "\n",
      "See the caveats in the documentation: https://pandas.pydata.org/pandas-docs/stable/user_guide/indexing.html#returning-a-view-versus-a-copy\n",
      "  df['prev spread'] = df.BidDiff - df.AskDiff + df['Ask Price 1'] - df['Bid Price 1']\n",
      "/tmp/ipykernel_62553/2695096141.py:13: SettingWithCopyWarning: \n",
      "A value is trying to be set on a copy of a slice from a DataFrame.\n",
      "Try using .loc[row_indexer,col_indexer] = value instead\n",
      "\n",
      "See the caveats in the documentation: https://pandas.pydata.org/pandas-docs/stable/user_guide/indexing.html#returning-a-view-versus-a-copy\n",
      "  df['seqNo'] = np.arange(len(df))\n"
     ]
    },
    {
     "name": "stdout",
     "output_type": "stream",
     "text": [
      "/SAN/fca/Konark_PhD_Experiments/extracted/AAPL_2019-01-09_34200000_57600000_message_10.csv\n"
     ]
    },
    {
     "name": "stderr",
     "output_type": "stream",
     "text": [
      "/home/konajain/code/lobSimulations/hawkes/dataLoader.py:109: SettingWithCopyWarning: \n",
      "A value is trying to be set on a copy of a slice from a DataFrame.\n",
      "Try using .loc[row_indexer,col_indexer] = value instead\n",
      "\n",
      "See the caveats in the documentation: https://pandas.pydata.org/pandas-docs/stable/user_guide/indexing.html#returning-a-view-versus-a-copy\n",
      "  theOrderBookFiltered[theOrderBookFiltered.columns[i]]  = theOrderBookFiltered[theOrderBookFiltered.columns[i]]/10000\n",
      "/tmp/ipykernel_62553/2695096141.py:11: SettingWithCopyWarning: \n",
      "A value is trying to be set on a copy of a slice from a DataFrame.\n",
      "Try using .loc[row_indexer,col_indexer] = value instead\n",
      "\n",
      "See the caveats in the documentation: https://pandas.pydata.org/pandas-docs/stable/user_guide/indexing.html#returning-a-view-versus-a-copy\n",
      "  df['inspread'] = ((df.Type == 1)&((df['BidDiff'] > 0)|(df['AskDiff'] < 0))).astype(int)\n",
      "/tmp/ipykernel_62553/2695096141.py:12: SettingWithCopyWarning: \n",
      "A value is trying to be set on a copy of a slice from a DataFrame.\n",
      "Try using .loc[row_indexer,col_indexer] = value instead\n",
      "\n",
      "See the caveats in the documentation: https://pandas.pydata.org/pandas-docs/stable/user_guide/indexing.html#returning-a-view-versus-a-copy\n",
      "  df['prev spread'] = df.BidDiff - df.AskDiff + df['Ask Price 1'] - df['Bid Price 1']\n",
      "/tmp/ipykernel_62553/2695096141.py:13: SettingWithCopyWarning: \n",
      "A value is trying to be set on a copy of a slice from a DataFrame.\n",
      "Try using .loc[row_indexer,col_indexer] = value instead\n",
      "\n",
      "See the caveats in the documentation: https://pandas.pydata.org/pandas-docs/stable/user_guide/indexing.html#returning-a-view-versus-a-copy\n",
      "  df['seqNo'] = np.arange(len(df))\n"
     ]
    },
    {
     "name": "stdout",
     "output_type": "stream",
     "text": [
      "/SAN/fca/Konark_PhD_Experiments/extracted/AAPL_2019-01-10_34200000_57600000_message_10.csv\n"
     ]
    },
    {
     "name": "stderr",
     "output_type": "stream",
     "text": [
      "/tmp/ipykernel_62553/2695096141.py:3: DtypeWarning: Columns (6) have mixed types.Specify dtype option on import or set low_memory=False.\n",
      "  data = l.load()\n",
      "/home/konajain/code/lobSimulations/hawkes/dataLoader.py:109: SettingWithCopyWarning: \n",
      "A value is trying to be set on a copy of a slice from a DataFrame.\n",
      "Try using .loc[row_indexer,col_indexer] = value instead\n",
      "\n",
      "See the caveats in the documentation: https://pandas.pydata.org/pandas-docs/stable/user_guide/indexing.html#returning-a-view-versus-a-copy\n",
      "  theOrderBookFiltered[theOrderBookFiltered.columns[i]]  = theOrderBookFiltered[theOrderBookFiltered.columns[i]]/10000\n",
      "/tmp/ipykernel_62553/2695096141.py:11: SettingWithCopyWarning: \n",
      "A value is trying to be set on a copy of a slice from a DataFrame.\n",
      "Try using .loc[row_indexer,col_indexer] = value instead\n",
      "\n",
      "See the caveats in the documentation: https://pandas.pydata.org/pandas-docs/stable/user_guide/indexing.html#returning-a-view-versus-a-copy\n",
      "  df['inspread'] = ((df.Type == 1)&((df['BidDiff'] > 0)|(df['AskDiff'] < 0))).astype(int)\n",
      "/tmp/ipykernel_62553/2695096141.py:12: SettingWithCopyWarning: \n",
      "A value is trying to be set on a copy of a slice from a DataFrame.\n",
      "Try using .loc[row_indexer,col_indexer] = value instead\n",
      "\n",
      "See the caveats in the documentation: https://pandas.pydata.org/pandas-docs/stable/user_guide/indexing.html#returning-a-view-versus-a-copy\n",
      "  df['prev spread'] = df.BidDiff - df.AskDiff + df['Ask Price 1'] - df['Bid Price 1']\n",
      "/tmp/ipykernel_62553/2695096141.py:13: SettingWithCopyWarning: \n",
      "A value is trying to be set on a copy of a slice from a DataFrame.\n",
      "Try using .loc[row_indexer,col_indexer] = value instead\n",
      "\n",
      "See the caveats in the documentation: https://pandas.pydata.org/pandas-docs/stable/user_guide/indexing.html#returning-a-view-versus-a-copy\n",
      "  df['seqNo'] = np.arange(len(df))\n"
     ]
    },
    {
     "name": "stdout",
     "output_type": "stream",
     "text": [
      "/SAN/fca/Konark_PhD_Experiments/extracted/AAPL_2019-01-11_34200000_57600000_message_10.csv\n"
     ]
    },
    {
     "name": "stderr",
     "output_type": "stream",
     "text": [
      "/tmp/ipykernel_62553/2695096141.py:3: DtypeWarning: Columns (6) have mixed types.Specify dtype option on import or set low_memory=False.\n",
      "  data = l.load()\n",
      "/home/konajain/code/lobSimulations/hawkes/dataLoader.py:109: SettingWithCopyWarning: \n",
      "A value is trying to be set on a copy of a slice from a DataFrame.\n",
      "Try using .loc[row_indexer,col_indexer] = value instead\n",
      "\n",
      "See the caveats in the documentation: https://pandas.pydata.org/pandas-docs/stable/user_guide/indexing.html#returning-a-view-versus-a-copy\n",
      "  theOrderBookFiltered[theOrderBookFiltered.columns[i]]  = theOrderBookFiltered[theOrderBookFiltered.columns[i]]/10000\n",
      "/tmp/ipykernel_62553/2695096141.py:11: SettingWithCopyWarning: \n",
      "A value is trying to be set on a copy of a slice from a DataFrame.\n",
      "Try using .loc[row_indexer,col_indexer] = value instead\n",
      "\n",
      "See the caveats in the documentation: https://pandas.pydata.org/pandas-docs/stable/user_guide/indexing.html#returning-a-view-versus-a-copy\n",
      "  df['inspread'] = ((df.Type == 1)&((df['BidDiff'] > 0)|(df['AskDiff'] < 0))).astype(int)\n",
      "/tmp/ipykernel_62553/2695096141.py:12: SettingWithCopyWarning: \n",
      "A value is trying to be set on a copy of a slice from a DataFrame.\n",
      "Try using .loc[row_indexer,col_indexer] = value instead\n",
      "\n",
      "See the caveats in the documentation: https://pandas.pydata.org/pandas-docs/stable/user_guide/indexing.html#returning-a-view-versus-a-copy\n",
      "  df['prev spread'] = df.BidDiff - df.AskDiff + df['Ask Price 1'] - df['Bid Price 1']\n",
      "/tmp/ipykernel_62553/2695096141.py:13: SettingWithCopyWarning: \n",
      "A value is trying to be set on a copy of a slice from a DataFrame.\n",
      "Try using .loc[row_indexer,col_indexer] = value instead\n",
      "\n",
      "See the caveats in the documentation: https://pandas.pydata.org/pandas-docs/stable/user_guide/indexing.html#returning-a-view-versus-a-copy\n",
      "  df['seqNo'] = np.arange(len(df))\n"
     ]
    },
    {
     "name": "stdout",
     "output_type": "stream",
     "text": [
      "/SAN/fca/Konark_PhD_Experiments/extracted/AAPL_2019-01-14_34200000_57600000_message_10.csv\n"
     ]
    },
    {
     "name": "stderr",
     "output_type": "stream",
     "text": [
      "/tmp/ipykernel_62553/2695096141.py:3: DtypeWarning: Columns (6) have mixed types.Specify dtype option on import or set low_memory=False.\n",
      "  data = l.load()\n",
      "/home/konajain/code/lobSimulations/hawkes/dataLoader.py:109: SettingWithCopyWarning: \n",
      "A value is trying to be set on a copy of a slice from a DataFrame.\n",
      "Try using .loc[row_indexer,col_indexer] = value instead\n",
      "\n",
      "See the caveats in the documentation: https://pandas.pydata.org/pandas-docs/stable/user_guide/indexing.html#returning-a-view-versus-a-copy\n",
      "  theOrderBookFiltered[theOrderBookFiltered.columns[i]]  = theOrderBookFiltered[theOrderBookFiltered.columns[i]]/10000\n",
      "/tmp/ipykernel_62553/2695096141.py:11: SettingWithCopyWarning: \n",
      "A value is trying to be set on a copy of a slice from a DataFrame.\n",
      "Try using .loc[row_indexer,col_indexer] = value instead\n",
      "\n",
      "See the caveats in the documentation: https://pandas.pydata.org/pandas-docs/stable/user_guide/indexing.html#returning-a-view-versus-a-copy\n",
      "  df['inspread'] = ((df.Type == 1)&((df['BidDiff'] > 0)|(df['AskDiff'] < 0))).astype(int)\n",
      "/tmp/ipykernel_62553/2695096141.py:12: SettingWithCopyWarning: \n",
      "A value is trying to be set on a copy of a slice from a DataFrame.\n",
      "Try using .loc[row_indexer,col_indexer] = value instead\n",
      "\n",
      "See the caveats in the documentation: https://pandas.pydata.org/pandas-docs/stable/user_guide/indexing.html#returning-a-view-versus-a-copy\n",
      "  df['prev spread'] = df.BidDiff - df.AskDiff + df['Ask Price 1'] - df['Bid Price 1']\n",
      "/tmp/ipykernel_62553/2695096141.py:13: SettingWithCopyWarning: \n",
      "A value is trying to be set on a copy of a slice from a DataFrame.\n",
      "Try using .loc[row_indexer,col_indexer] = value instead\n",
      "\n",
      "See the caveats in the documentation: https://pandas.pydata.org/pandas-docs/stable/user_guide/indexing.html#returning-a-view-versus-a-copy\n",
      "  df['seqNo'] = np.arange(len(df))\n"
     ]
    },
    {
     "name": "stdout",
     "output_type": "stream",
     "text": [
      "/SAN/fca/Konark_PhD_Experiments/extracted/AAPL_2019-01-15_34200000_57600000_message_10.csv\n"
     ]
    },
    {
     "name": "stderr",
     "output_type": "stream",
     "text": [
      "/tmp/ipykernel_62553/2695096141.py:3: DtypeWarning: Columns (6) have mixed types.Specify dtype option on import or set low_memory=False.\n",
      "  data = l.load()\n",
      "/home/konajain/code/lobSimulations/hawkes/dataLoader.py:109: SettingWithCopyWarning: \n",
      "A value is trying to be set on a copy of a slice from a DataFrame.\n",
      "Try using .loc[row_indexer,col_indexer] = value instead\n",
      "\n",
      "See the caveats in the documentation: https://pandas.pydata.org/pandas-docs/stable/user_guide/indexing.html#returning-a-view-versus-a-copy\n",
      "  theOrderBookFiltered[theOrderBookFiltered.columns[i]]  = theOrderBookFiltered[theOrderBookFiltered.columns[i]]/10000\n",
      "/tmp/ipykernel_62553/2695096141.py:11: SettingWithCopyWarning: \n",
      "A value is trying to be set on a copy of a slice from a DataFrame.\n",
      "Try using .loc[row_indexer,col_indexer] = value instead\n",
      "\n",
      "See the caveats in the documentation: https://pandas.pydata.org/pandas-docs/stable/user_guide/indexing.html#returning-a-view-versus-a-copy\n",
      "  df['inspread'] = ((df.Type == 1)&((df['BidDiff'] > 0)|(df['AskDiff'] < 0))).astype(int)\n",
      "/tmp/ipykernel_62553/2695096141.py:12: SettingWithCopyWarning: \n",
      "A value is trying to be set on a copy of a slice from a DataFrame.\n",
      "Try using .loc[row_indexer,col_indexer] = value instead\n",
      "\n",
      "See the caveats in the documentation: https://pandas.pydata.org/pandas-docs/stable/user_guide/indexing.html#returning-a-view-versus-a-copy\n",
      "  df['prev spread'] = df.BidDiff - df.AskDiff + df['Ask Price 1'] - df['Bid Price 1']\n",
      "/tmp/ipykernel_62553/2695096141.py:13: SettingWithCopyWarning: \n",
      "A value is trying to be set on a copy of a slice from a DataFrame.\n",
      "Try using .loc[row_indexer,col_indexer] = value instead\n",
      "\n",
      "See the caveats in the documentation: https://pandas.pydata.org/pandas-docs/stable/user_guide/indexing.html#returning-a-view-versus-a-copy\n",
      "  df['seqNo'] = np.arange(len(df))\n"
     ]
    },
    {
     "name": "stdout",
     "output_type": "stream",
     "text": [
      "/SAN/fca/Konark_PhD_Experiments/extracted/AAPL_2019-01-16_34200000_57600000_message_10.csv\n"
     ]
    },
    {
     "name": "stderr",
     "output_type": "stream",
     "text": [
      "/home/konajain/code/lobSimulations/hawkes/dataLoader.py:109: SettingWithCopyWarning: \n",
      "A value is trying to be set on a copy of a slice from a DataFrame.\n",
      "Try using .loc[row_indexer,col_indexer] = value instead\n",
      "\n",
      "See the caveats in the documentation: https://pandas.pydata.org/pandas-docs/stable/user_guide/indexing.html#returning-a-view-versus-a-copy\n",
      "  theOrderBookFiltered[theOrderBookFiltered.columns[i]]  = theOrderBookFiltered[theOrderBookFiltered.columns[i]]/10000\n",
      "/tmp/ipykernel_62553/2695096141.py:11: SettingWithCopyWarning: \n",
      "A value is trying to be set on a copy of a slice from a DataFrame.\n",
      "Try using .loc[row_indexer,col_indexer] = value instead\n",
      "\n",
      "See the caveats in the documentation: https://pandas.pydata.org/pandas-docs/stable/user_guide/indexing.html#returning-a-view-versus-a-copy\n",
      "  df['inspread'] = ((df.Type == 1)&((df['BidDiff'] > 0)|(df['AskDiff'] < 0))).astype(int)\n",
      "/tmp/ipykernel_62553/2695096141.py:12: SettingWithCopyWarning: \n",
      "A value is trying to be set on a copy of a slice from a DataFrame.\n",
      "Try using .loc[row_indexer,col_indexer] = value instead\n",
      "\n",
      "See the caveats in the documentation: https://pandas.pydata.org/pandas-docs/stable/user_guide/indexing.html#returning-a-view-versus-a-copy\n",
      "  df['prev spread'] = df.BidDiff - df.AskDiff + df['Ask Price 1'] - df['Bid Price 1']\n",
      "/tmp/ipykernel_62553/2695096141.py:13: SettingWithCopyWarning: \n",
      "A value is trying to be set on a copy of a slice from a DataFrame.\n",
      "Try using .loc[row_indexer,col_indexer] = value instead\n",
      "\n",
      "See the caveats in the documentation: https://pandas.pydata.org/pandas-docs/stable/user_guide/indexing.html#returning-a-view-versus-a-copy\n",
      "  df['seqNo'] = np.arange(len(df))\n"
     ]
    },
    {
     "name": "stdout",
     "output_type": "stream",
     "text": [
      "/SAN/fca/Konark_PhD_Experiments/extracted/AAPL_2019-01-17_34200000_57600000_message_10.csv\n"
     ]
    },
    {
     "name": "stderr",
     "output_type": "stream",
     "text": [
      "/tmp/ipykernel_62553/2695096141.py:3: DtypeWarning: Columns (6) have mixed types.Specify dtype option on import or set low_memory=False.\n",
      "  data = l.load()\n",
      "/home/konajain/code/lobSimulations/hawkes/dataLoader.py:109: SettingWithCopyWarning: \n",
      "A value is trying to be set on a copy of a slice from a DataFrame.\n",
      "Try using .loc[row_indexer,col_indexer] = value instead\n",
      "\n",
      "See the caveats in the documentation: https://pandas.pydata.org/pandas-docs/stable/user_guide/indexing.html#returning-a-view-versus-a-copy\n",
      "  theOrderBookFiltered[theOrderBookFiltered.columns[i]]  = theOrderBookFiltered[theOrderBookFiltered.columns[i]]/10000\n",
      "/tmp/ipykernel_62553/2695096141.py:11: SettingWithCopyWarning: \n",
      "A value is trying to be set on a copy of a slice from a DataFrame.\n",
      "Try using .loc[row_indexer,col_indexer] = value instead\n",
      "\n",
      "See the caveats in the documentation: https://pandas.pydata.org/pandas-docs/stable/user_guide/indexing.html#returning-a-view-versus-a-copy\n",
      "  df['inspread'] = ((df.Type == 1)&((df['BidDiff'] > 0)|(df['AskDiff'] < 0))).astype(int)\n",
      "/tmp/ipykernel_62553/2695096141.py:12: SettingWithCopyWarning: \n",
      "A value is trying to be set on a copy of a slice from a DataFrame.\n",
      "Try using .loc[row_indexer,col_indexer] = value instead\n",
      "\n",
      "See the caveats in the documentation: https://pandas.pydata.org/pandas-docs/stable/user_guide/indexing.html#returning-a-view-versus-a-copy\n",
      "  df['prev spread'] = df.BidDiff - df.AskDiff + df['Ask Price 1'] - df['Bid Price 1']\n",
      "/tmp/ipykernel_62553/2695096141.py:13: SettingWithCopyWarning: \n",
      "A value is trying to be set on a copy of a slice from a DataFrame.\n",
      "Try using .loc[row_indexer,col_indexer] = value instead\n",
      "\n",
      "See the caveats in the documentation: https://pandas.pydata.org/pandas-docs/stable/user_guide/indexing.html#returning-a-view-versus-a-copy\n",
      "  df['seqNo'] = np.arange(len(df))\n"
     ]
    },
    {
     "name": "stdout",
     "output_type": "stream",
     "text": [
      "/SAN/fca/Konark_PhD_Experiments/extracted/AAPL_2019-01-18_34200000_57600000_message_10.csv\n"
     ]
    },
    {
     "name": "stderr",
     "output_type": "stream",
     "text": [
      "/tmp/ipykernel_62553/2695096141.py:3: DtypeWarning: Columns (6) have mixed types.Specify dtype option on import or set low_memory=False.\n",
      "  data = l.load()\n",
      "/home/konajain/code/lobSimulations/hawkes/dataLoader.py:109: SettingWithCopyWarning: \n",
      "A value is trying to be set on a copy of a slice from a DataFrame.\n",
      "Try using .loc[row_indexer,col_indexer] = value instead\n",
      "\n",
      "See the caveats in the documentation: https://pandas.pydata.org/pandas-docs/stable/user_guide/indexing.html#returning-a-view-versus-a-copy\n",
      "  theOrderBookFiltered[theOrderBookFiltered.columns[i]]  = theOrderBookFiltered[theOrderBookFiltered.columns[i]]/10000\n",
      "/tmp/ipykernel_62553/2695096141.py:11: SettingWithCopyWarning: \n",
      "A value is trying to be set on a copy of a slice from a DataFrame.\n",
      "Try using .loc[row_indexer,col_indexer] = value instead\n",
      "\n",
      "See the caveats in the documentation: https://pandas.pydata.org/pandas-docs/stable/user_guide/indexing.html#returning-a-view-versus-a-copy\n",
      "  df['inspread'] = ((df.Type == 1)&((df['BidDiff'] > 0)|(df['AskDiff'] < 0))).astype(int)\n",
      "/tmp/ipykernel_62553/2695096141.py:12: SettingWithCopyWarning: \n",
      "A value is trying to be set on a copy of a slice from a DataFrame.\n",
      "Try using .loc[row_indexer,col_indexer] = value instead\n",
      "\n",
      "See the caveats in the documentation: https://pandas.pydata.org/pandas-docs/stable/user_guide/indexing.html#returning-a-view-versus-a-copy\n",
      "  df['prev spread'] = df.BidDiff - df.AskDiff + df['Ask Price 1'] - df['Bid Price 1']\n",
      "/tmp/ipykernel_62553/2695096141.py:13: SettingWithCopyWarning: \n",
      "A value is trying to be set on a copy of a slice from a DataFrame.\n",
      "Try using .loc[row_indexer,col_indexer] = value instead\n",
      "\n",
      "See the caveats in the documentation: https://pandas.pydata.org/pandas-docs/stable/user_guide/indexing.html#returning-a-view-versus-a-copy\n",
      "  df['seqNo'] = np.arange(len(df))\n"
     ]
    },
    {
     "name": "stdout",
     "output_type": "stream",
     "text": [
      "/SAN/fca/Konark_PhD_Experiments/extracted/AAPL_2019-01-22_34200000_57600000_message_10.csv\n"
     ]
    },
    {
     "name": "stderr",
     "output_type": "stream",
     "text": [
      "/tmp/ipykernel_62553/2695096141.py:3: DtypeWarning: Columns (6) have mixed types.Specify dtype option on import or set low_memory=False.\n",
      "  data = l.load()\n",
      "/home/konajain/code/lobSimulations/hawkes/dataLoader.py:109: SettingWithCopyWarning: \n",
      "A value is trying to be set on a copy of a slice from a DataFrame.\n",
      "Try using .loc[row_indexer,col_indexer] = value instead\n",
      "\n",
      "See the caveats in the documentation: https://pandas.pydata.org/pandas-docs/stable/user_guide/indexing.html#returning-a-view-versus-a-copy\n",
      "  theOrderBookFiltered[theOrderBookFiltered.columns[i]]  = theOrderBookFiltered[theOrderBookFiltered.columns[i]]/10000\n",
      "/tmp/ipykernel_62553/2695096141.py:11: SettingWithCopyWarning: \n",
      "A value is trying to be set on a copy of a slice from a DataFrame.\n",
      "Try using .loc[row_indexer,col_indexer] = value instead\n",
      "\n",
      "See the caveats in the documentation: https://pandas.pydata.org/pandas-docs/stable/user_guide/indexing.html#returning-a-view-versus-a-copy\n",
      "  df['inspread'] = ((df.Type == 1)&((df['BidDiff'] > 0)|(df['AskDiff'] < 0))).astype(int)\n",
      "/tmp/ipykernel_62553/2695096141.py:12: SettingWithCopyWarning: \n",
      "A value is trying to be set on a copy of a slice from a DataFrame.\n",
      "Try using .loc[row_indexer,col_indexer] = value instead\n",
      "\n",
      "See the caveats in the documentation: https://pandas.pydata.org/pandas-docs/stable/user_guide/indexing.html#returning-a-view-versus-a-copy\n",
      "  df['prev spread'] = df.BidDiff - df.AskDiff + df['Ask Price 1'] - df['Bid Price 1']\n",
      "/tmp/ipykernel_62553/2695096141.py:13: SettingWithCopyWarning: \n",
      "A value is trying to be set on a copy of a slice from a DataFrame.\n",
      "Try using .loc[row_indexer,col_indexer] = value instead\n",
      "\n",
      "See the caveats in the documentation: https://pandas.pydata.org/pandas-docs/stable/user_guide/indexing.html#returning-a-view-versus-a-copy\n",
      "  df['seqNo'] = np.arange(len(df))\n"
     ]
    },
    {
     "name": "stdout",
     "output_type": "stream",
     "text": [
      "/SAN/fca/Konark_PhD_Experiments/extracted/AAPL_2019-01-23_34200000_57600000_message_10.csv\n"
     ]
    },
    {
     "name": "stderr",
     "output_type": "stream",
     "text": [
      "/tmp/ipykernel_62553/2695096141.py:3: DtypeWarning: Columns (6) have mixed types.Specify dtype option on import or set low_memory=False.\n",
      "  data = l.load()\n",
      "/home/konajain/code/lobSimulations/hawkes/dataLoader.py:109: SettingWithCopyWarning: \n",
      "A value is trying to be set on a copy of a slice from a DataFrame.\n",
      "Try using .loc[row_indexer,col_indexer] = value instead\n",
      "\n",
      "See the caveats in the documentation: https://pandas.pydata.org/pandas-docs/stable/user_guide/indexing.html#returning-a-view-versus-a-copy\n",
      "  theOrderBookFiltered[theOrderBookFiltered.columns[i]]  = theOrderBookFiltered[theOrderBookFiltered.columns[i]]/10000\n",
      "/tmp/ipykernel_62553/2695096141.py:11: SettingWithCopyWarning: \n",
      "A value is trying to be set on a copy of a slice from a DataFrame.\n",
      "Try using .loc[row_indexer,col_indexer] = value instead\n",
      "\n",
      "See the caveats in the documentation: https://pandas.pydata.org/pandas-docs/stable/user_guide/indexing.html#returning-a-view-versus-a-copy\n",
      "  df['inspread'] = ((df.Type == 1)&((df['BidDiff'] > 0)|(df['AskDiff'] < 0))).astype(int)\n",
      "/tmp/ipykernel_62553/2695096141.py:12: SettingWithCopyWarning: \n",
      "A value is trying to be set on a copy of a slice from a DataFrame.\n",
      "Try using .loc[row_indexer,col_indexer] = value instead\n",
      "\n",
      "See the caveats in the documentation: https://pandas.pydata.org/pandas-docs/stable/user_guide/indexing.html#returning-a-view-versus-a-copy\n",
      "  df['prev spread'] = df.BidDiff - df.AskDiff + df['Ask Price 1'] - df['Bid Price 1']\n",
      "/tmp/ipykernel_62553/2695096141.py:13: SettingWithCopyWarning: \n",
      "A value is trying to be set on a copy of a slice from a DataFrame.\n",
      "Try using .loc[row_indexer,col_indexer] = value instead\n",
      "\n",
      "See the caveats in the documentation: https://pandas.pydata.org/pandas-docs/stable/user_guide/indexing.html#returning-a-view-versus-a-copy\n",
      "  df['seqNo'] = np.arange(len(df))\n"
     ]
    },
    {
     "name": "stdout",
     "output_type": "stream",
     "text": [
      "/SAN/fca/Konark_PhD_Experiments/extracted/AAPL_2019-01-24_34200000_57600000_message_10.csv\n"
     ]
    },
    {
     "name": "stderr",
     "output_type": "stream",
     "text": [
      "/tmp/ipykernel_62553/2695096141.py:3: DtypeWarning: Columns (6) have mixed types.Specify dtype option on import or set low_memory=False.\n",
      "  data = l.load()\n",
      "/home/konajain/code/lobSimulations/hawkes/dataLoader.py:109: SettingWithCopyWarning: \n",
      "A value is trying to be set on a copy of a slice from a DataFrame.\n",
      "Try using .loc[row_indexer,col_indexer] = value instead\n",
      "\n",
      "See the caveats in the documentation: https://pandas.pydata.org/pandas-docs/stable/user_guide/indexing.html#returning-a-view-versus-a-copy\n",
      "  theOrderBookFiltered[theOrderBookFiltered.columns[i]]  = theOrderBookFiltered[theOrderBookFiltered.columns[i]]/10000\n",
      "/tmp/ipykernel_62553/2695096141.py:11: SettingWithCopyWarning: \n",
      "A value is trying to be set on a copy of a slice from a DataFrame.\n",
      "Try using .loc[row_indexer,col_indexer] = value instead\n",
      "\n",
      "See the caveats in the documentation: https://pandas.pydata.org/pandas-docs/stable/user_guide/indexing.html#returning-a-view-versus-a-copy\n",
      "  df['inspread'] = ((df.Type == 1)&((df['BidDiff'] > 0)|(df['AskDiff'] < 0))).astype(int)\n",
      "/tmp/ipykernel_62553/2695096141.py:12: SettingWithCopyWarning: \n",
      "A value is trying to be set on a copy of a slice from a DataFrame.\n",
      "Try using .loc[row_indexer,col_indexer] = value instead\n",
      "\n",
      "See the caveats in the documentation: https://pandas.pydata.org/pandas-docs/stable/user_guide/indexing.html#returning-a-view-versus-a-copy\n",
      "  df['prev spread'] = df.BidDiff - df.AskDiff + df['Ask Price 1'] - df['Bid Price 1']\n",
      "/tmp/ipykernel_62553/2695096141.py:13: SettingWithCopyWarning: \n",
      "A value is trying to be set on a copy of a slice from a DataFrame.\n",
      "Try using .loc[row_indexer,col_indexer] = value instead\n",
      "\n",
      "See the caveats in the documentation: https://pandas.pydata.org/pandas-docs/stable/user_guide/indexing.html#returning-a-view-versus-a-copy\n",
      "  df['seqNo'] = np.arange(len(df))\n"
     ]
    },
    {
     "name": "stdout",
     "output_type": "stream",
     "text": [
      "/SAN/fca/Konark_PhD_Experiments/extracted/AAPL_2019-01-25_34200000_57600000_message_10.csv\n"
     ]
    },
    {
     "name": "stderr",
     "output_type": "stream",
     "text": [
      "/tmp/ipykernel_62553/2695096141.py:3: DtypeWarning: Columns (6) have mixed types.Specify dtype option on import or set low_memory=False.\n",
      "  data = l.load()\n",
      "/home/konajain/code/lobSimulations/hawkes/dataLoader.py:109: SettingWithCopyWarning: \n",
      "A value is trying to be set on a copy of a slice from a DataFrame.\n",
      "Try using .loc[row_indexer,col_indexer] = value instead\n",
      "\n",
      "See the caveats in the documentation: https://pandas.pydata.org/pandas-docs/stable/user_guide/indexing.html#returning-a-view-versus-a-copy\n",
      "  theOrderBookFiltered[theOrderBookFiltered.columns[i]]  = theOrderBookFiltered[theOrderBookFiltered.columns[i]]/10000\n",
      "/tmp/ipykernel_62553/2695096141.py:11: SettingWithCopyWarning: \n",
      "A value is trying to be set on a copy of a slice from a DataFrame.\n",
      "Try using .loc[row_indexer,col_indexer] = value instead\n",
      "\n",
      "See the caveats in the documentation: https://pandas.pydata.org/pandas-docs/stable/user_guide/indexing.html#returning-a-view-versus-a-copy\n",
      "  df['inspread'] = ((df.Type == 1)&((df['BidDiff'] > 0)|(df['AskDiff'] < 0))).astype(int)\n",
      "/tmp/ipykernel_62553/2695096141.py:12: SettingWithCopyWarning: \n",
      "A value is trying to be set on a copy of a slice from a DataFrame.\n",
      "Try using .loc[row_indexer,col_indexer] = value instead\n",
      "\n",
      "See the caveats in the documentation: https://pandas.pydata.org/pandas-docs/stable/user_guide/indexing.html#returning-a-view-versus-a-copy\n",
      "  df['prev spread'] = df.BidDiff - df.AskDiff + df['Ask Price 1'] - df['Bid Price 1']\n",
      "/tmp/ipykernel_62553/2695096141.py:13: SettingWithCopyWarning: \n",
      "A value is trying to be set on a copy of a slice from a DataFrame.\n",
      "Try using .loc[row_indexer,col_indexer] = value instead\n",
      "\n",
      "See the caveats in the documentation: https://pandas.pydata.org/pandas-docs/stable/user_guide/indexing.html#returning-a-view-versus-a-copy\n",
      "  df['seqNo'] = np.arange(len(df))\n"
     ]
    },
    {
     "name": "stdout",
     "output_type": "stream",
     "text": [
      "/SAN/fca/Konark_PhD_Experiments/extracted/AAPL_2019-01-28_34200000_57600000_message_10.csv\n"
     ]
    },
    {
     "name": "stderr",
     "output_type": "stream",
     "text": [
      "/tmp/ipykernel_62553/2695096141.py:3: DtypeWarning: Columns (6) have mixed types.Specify dtype option on import or set low_memory=False.\n",
      "  data = l.load()\n",
      "/home/konajain/code/lobSimulations/hawkes/dataLoader.py:109: SettingWithCopyWarning: \n",
      "A value is trying to be set on a copy of a slice from a DataFrame.\n",
      "Try using .loc[row_indexer,col_indexer] = value instead\n",
      "\n",
      "See the caveats in the documentation: https://pandas.pydata.org/pandas-docs/stable/user_guide/indexing.html#returning-a-view-versus-a-copy\n",
      "  theOrderBookFiltered[theOrderBookFiltered.columns[i]]  = theOrderBookFiltered[theOrderBookFiltered.columns[i]]/10000\n",
      "/tmp/ipykernel_62553/2695096141.py:11: SettingWithCopyWarning: \n",
      "A value is trying to be set on a copy of a slice from a DataFrame.\n",
      "Try using .loc[row_indexer,col_indexer] = value instead\n",
      "\n",
      "See the caveats in the documentation: https://pandas.pydata.org/pandas-docs/stable/user_guide/indexing.html#returning-a-view-versus-a-copy\n",
      "  df['inspread'] = ((df.Type == 1)&((df['BidDiff'] > 0)|(df['AskDiff'] < 0))).astype(int)\n",
      "/tmp/ipykernel_62553/2695096141.py:12: SettingWithCopyWarning: \n",
      "A value is trying to be set on a copy of a slice from a DataFrame.\n",
      "Try using .loc[row_indexer,col_indexer] = value instead\n",
      "\n",
      "See the caveats in the documentation: https://pandas.pydata.org/pandas-docs/stable/user_guide/indexing.html#returning-a-view-versus-a-copy\n",
      "  df['prev spread'] = df.BidDiff - df.AskDiff + df['Ask Price 1'] - df['Bid Price 1']\n",
      "/tmp/ipykernel_62553/2695096141.py:13: SettingWithCopyWarning: \n",
      "A value is trying to be set on a copy of a slice from a DataFrame.\n",
      "Try using .loc[row_indexer,col_indexer] = value instead\n",
      "\n",
      "See the caveats in the documentation: https://pandas.pydata.org/pandas-docs/stable/user_guide/indexing.html#returning-a-view-versus-a-copy\n",
      "  df['seqNo'] = np.arange(len(df))\n"
     ]
    },
    {
     "name": "stdout",
     "output_type": "stream",
     "text": [
      "/SAN/fca/Konark_PhD_Experiments/extracted/AAPL_2019-01-29_34200000_57600000_message_10.csv\n"
     ]
    },
    {
     "name": "stderr",
     "output_type": "stream",
     "text": [
      "/tmp/ipykernel_62553/2695096141.py:3: DtypeWarning: Columns (6) have mixed types.Specify dtype option on import or set low_memory=False.\n",
      "  data = l.load()\n",
      "/home/konajain/code/lobSimulations/hawkes/dataLoader.py:109: SettingWithCopyWarning: \n",
      "A value is trying to be set on a copy of a slice from a DataFrame.\n",
      "Try using .loc[row_indexer,col_indexer] = value instead\n",
      "\n",
      "See the caveats in the documentation: https://pandas.pydata.org/pandas-docs/stable/user_guide/indexing.html#returning-a-view-versus-a-copy\n",
      "  theOrderBookFiltered[theOrderBookFiltered.columns[i]]  = theOrderBookFiltered[theOrderBookFiltered.columns[i]]/10000\n",
      "/tmp/ipykernel_62553/2695096141.py:11: SettingWithCopyWarning: \n",
      "A value is trying to be set on a copy of a slice from a DataFrame.\n",
      "Try using .loc[row_indexer,col_indexer] = value instead\n",
      "\n",
      "See the caveats in the documentation: https://pandas.pydata.org/pandas-docs/stable/user_guide/indexing.html#returning-a-view-versus-a-copy\n",
      "  df['inspread'] = ((df.Type == 1)&((df['BidDiff'] > 0)|(df['AskDiff'] < 0))).astype(int)\n",
      "/tmp/ipykernel_62553/2695096141.py:12: SettingWithCopyWarning: \n",
      "A value is trying to be set on a copy of a slice from a DataFrame.\n",
      "Try using .loc[row_indexer,col_indexer] = value instead\n",
      "\n",
      "See the caveats in the documentation: https://pandas.pydata.org/pandas-docs/stable/user_guide/indexing.html#returning-a-view-versus-a-copy\n",
      "  df['prev spread'] = df.BidDiff - df.AskDiff + df['Ask Price 1'] - df['Bid Price 1']\n",
      "/tmp/ipykernel_62553/2695096141.py:13: SettingWithCopyWarning: \n",
      "A value is trying to be set on a copy of a slice from a DataFrame.\n",
      "Try using .loc[row_indexer,col_indexer] = value instead\n",
      "\n",
      "See the caveats in the documentation: https://pandas.pydata.org/pandas-docs/stable/user_guide/indexing.html#returning-a-view-versus-a-copy\n",
      "  df['seqNo'] = np.arange(len(df))\n"
     ]
    },
    {
     "name": "stdout",
     "output_type": "stream",
     "text": [
      "/SAN/fca/Konark_PhD_Experiments/extracted/AAPL_2019-01-30_34200000_57600000_message_10.csv\n"
     ]
    },
    {
     "name": "stderr",
     "output_type": "stream",
     "text": [
      "/tmp/ipykernel_62553/2695096141.py:3: DtypeWarning: Columns (6) have mixed types.Specify dtype option on import or set low_memory=False.\n",
      "  data = l.load()\n",
      "/home/konajain/code/lobSimulations/hawkes/dataLoader.py:109: SettingWithCopyWarning: \n",
      "A value is trying to be set on a copy of a slice from a DataFrame.\n",
      "Try using .loc[row_indexer,col_indexer] = value instead\n",
      "\n",
      "See the caveats in the documentation: https://pandas.pydata.org/pandas-docs/stable/user_guide/indexing.html#returning-a-view-versus-a-copy\n",
      "  theOrderBookFiltered[theOrderBookFiltered.columns[i]]  = theOrderBookFiltered[theOrderBookFiltered.columns[i]]/10000\n",
      "/tmp/ipykernel_62553/2695096141.py:11: SettingWithCopyWarning: \n",
      "A value is trying to be set on a copy of a slice from a DataFrame.\n",
      "Try using .loc[row_indexer,col_indexer] = value instead\n",
      "\n",
      "See the caveats in the documentation: https://pandas.pydata.org/pandas-docs/stable/user_guide/indexing.html#returning-a-view-versus-a-copy\n",
      "  df['inspread'] = ((df.Type == 1)&((df['BidDiff'] > 0)|(df['AskDiff'] < 0))).astype(int)\n",
      "/tmp/ipykernel_62553/2695096141.py:12: SettingWithCopyWarning: \n",
      "A value is trying to be set on a copy of a slice from a DataFrame.\n",
      "Try using .loc[row_indexer,col_indexer] = value instead\n",
      "\n",
      "See the caveats in the documentation: https://pandas.pydata.org/pandas-docs/stable/user_guide/indexing.html#returning-a-view-versus-a-copy\n",
      "  df['prev spread'] = df.BidDiff - df.AskDiff + df['Ask Price 1'] - df['Bid Price 1']\n",
      "/tmp/ipykernel_62553/2695096141.py:13: SettingWithCopyWarning: \n",
      "A value is trying to be set on a copy of a slice from a DataFrame.\n",
      "Try using .loc[row_indexer,col_indexer] = value instead\n",
      "\n",
      "See the caveats in the documentation: https://pandas.pydata.org/pandas-docs/stable/user_guide/indexing.html#returning-a-view-versus-a-copy\n",
      "  df['seqNo'] = np.arange(len(df))\n"
     ]
    },
    {
     "name": "stdout",
     "output_type": "stream",
     "text": [
      "/SAN/fca/Konark_PhD_Experiments/extracted/AAPL_2019-01-31_34200000_57600000_message_10.csv\n"
     ]
    },
    {
     "name": "stderr",
     "output_type": "stream",
     "text": [
      "/tmp/ipykernel_62553/2695096141.py:3: DtypeWarning: Columns (6) have mixed types.Specify dtype option on import or set low_memory=False.\n",
      "  data = l.load()\n",
      "/home/konajain/code/lobSimulations/hawkes/dataLoader.py:109: SettingWithCopyWarning: \n",
      "A value is trying to be set on a copy of a slice from a DataFrame.\n",
      "Try using .loc[row_indexer,col_indexer] = value instead\n",
      "\n",
      "See the caveats in the documentation: https://pandas.pydata.org/pandas-docs/stable/user_guide/indexing.html#returning-a-view-versus-a-copy\n",
      "  theOrderBookFiltered[theOrderBookFiltered.columns[i]]  = theOrderBookFiltered[theOrderBookFiltered.columns[i]]/10000\n",
      "/tmp/ipykernel_62553/2695096141.py:11: SettingWithCopyWarning: \n",
      "A value is trying to be set on a copy of a slice from a DataFrame.\n",
      "Try using .loc[row_indexer,col_indexer] = value instead\n",
      "\n",
      "See the caveats in the documentation: https://pandas.pydata.org/pandas-docs/stable/user_guide/indexing.html#returning-a-view-versus-a-copy\n",
      "  df['inspread'] = ((df.Type == 1)&((df['BidDiff'] > 0)|(df['AskDiff'] < 0))).astype(int)\n",
      "/tmp/ipykernel_62553/2695096141.py:12: SettingWithCopyWarning: \n",
      "A value is trying to be set on a copy of a slice from a DataFrame.\n",
      "Try using .loc[row_indexer,col_indexer] = value instead\n",
      "\n",
      "See the caveats in the documentation: https://pandas.pydata.org/pandas-docs/stable/user_guide/indexing.html#returning-a-view-versus-a-copy\n",
      "  df['prev spread'] = df.BidDiff - df.AskDiff + df['Ask Price 1'] - df['Bid Price 1']\n",
      "/tmp/ipykernel_62553/2695096141.py:13: SettingWithCopyWarning: \n",
      "A value is trying to be set on a copy of a slice from a DataFrame.\n",
      "Try using .loc[row_indexer,col_indexer] = value instead\n",
      "\n",
      "See the caveats in the documentation: https://pandas.pydata.org/pandas-docs/stable/user_guide/indexing.html#returning-a-view-versus-a-copy\n",
      "  df['seqNo'] = np.arange(len(df))\n"
     ]
    },
    {
     "name": "stdout",
     "output_type": "stream",
     "text": [
      "/SAN/fca/Konark_PhD_Experiments/extracted/AAPL_2019-02-01_34200000_57600000_message_10.csv\n"
     ]
    },
    {
     "name": "stderr",
     "output_type": "stream",
     "text": [
      "/tmp/ipykernel_62553/2695096141.py:3: DtypeWarning: Columns (6) have mixed types.Specify dtype option on import or set low_memory=False.\n",
      "  data = l.load()\n",
      "/home/konajain/code/lobSimulations/hawkes/dataLoader.py:109: SettingWithCopyWarning: \n",
      "A value is trying to be set on a copy of a slice from a DataFrame.\n",
      "Try using .loc[row_indexer,col_indexer] = value instead\n",
      "\n",
      "See the caveats in the documentation: https://pandas.pydata.org/pandas-docs/stable/user_guide/indexing.html#returning-a-view-versus-a-copy\n",
      "  theOrderBookFiltered[theOrderBookFiltered.columns[i]]  = theOrderBookFiltered[theOrderBookFiltered.columns[i]]/10000\n",
      "/tmp/ipykernel_62553/2695096141.py:11: SettingWithCopyWarning: \n",
      "A value is trying to be set on a copy of a slice from a DataFrame.\n",
      "Try using .loc[row_indexer,col_indexer] = value instead\n",
      "\n",
      "See the caveats in the documentation: https://pandas.pydata.org/pandas-docs/stable/user_guide/indexing.html#returning-a-view-versus-a-copy\n",
      "  df['inspread'] = ((df.Type == 1)&((df['BidDiff'] > 0)|(df['AskDiff'] < 0))).astype(int)\n",
      "/tmp/ipykernel_62553/2695096141.py:12: SettingWithCopyWarning: \n",
      "A value is trying to be set on a copy of a slice from a DataFrame.\n",
      "Try using .loc[row_indexer,col_indexer] = value instead\n",
      "\n",
      "See the caveats in the documentation: https://pandas.pydata.org/pandas-docs/stable/user_guide/indexing.html#returning-a-view-versus-a-copy\n",
      "  df['prev spread'] = df.BidDiff - df.AskDiff + df['Ask Price 1'] - df['Bid Price 1']\n",
      "/tmp/ipykernel_62553/2695096141.py:13: SettingWithCopyWarning: \n",
      "A value is trying to be set on a copy of a slice from a DataFrame.\n",
      "Try using .loc[row_indexer,col_indexer] = value instead\n",
      "\n",
      "See the caveats in the documentation: https://pandas.pydata.org/pandas-docs/stable/user_guide/indexing.html#returning-a-view-versus-a-copy\n",
      "  df['seqNo'] = np.arange(len(df))\n"
     ]
    },
    {
     "name": "stdout",
     "output_type": "stream",
     "text": [
      "/SAN/fca/Konark_PhD_Experiments/extracted/AAPL_2019-02-04_34200000_57600000_message_10.csv\n"
     ]
    },
    {
     "name": "stderr",
     "output_type": "stream",
     "text": [
      "/tmp/ipykernel_62553/2695096141.py:3: DtypeWarning: Columns (6) have mixed types.Specify dtype option on import or set low_memory=False.\n",
      "  data = l.load()\n",
      "/home/konajain/code/lobSimulations/hawkes/dataLoader.py:109: SettingWithCopyWarning: \n",
      "A value is trying to be set on a copy of a slice from a DataFrame.\n",
      "Try using .loc[row_indexer,col_indexer] = value instead\n",
      "\n",
      "See the caveats in the documentation: https://pandas.pydata.org/pandas-docs/stable/user_guide/indexing.html#returning-a-view-versus-a-copy\n",
      "  theOrderBookFiltered[theOrderBookFiltered.columns[i]]  = theOrderBookFiltered[theOrderBookFiltered.columns[i]]/10000\n",
      "/tmp/ipykernel_62553/2695096141.py:11: SettingWithCopyWarning: \n",
      "A value is trying to be set on a copy of a slice from a DataFrame.\n",
      "Try using .loc[row_indexer,col_indexer] = value instead\n",
      "\n",
      "See the caveats in the documentation: https://pandas.pydata.org/pandas-docs/stable/user_guide/indexing.html#returning-a-view-versus-a-copy\n",
      "  df['inspread'] = ((df.Type == 1)&((df['BidDiff'] > 0)|(df['AskDiff'] < 0))).astype(int)\n",
      "/tmp/ipykernel_62553/2695096141.py:12: SettingWithCopyWarning: \n",
      "A value is trying to be set on a copy of a slice from a DataFrame.\n",
      "Try using .loc[row_indexer,col_indexer] = value instead\n",
      "\n",
      "See the caveats in the documentation: https://pandas.pydata.org/pandas-docs/stable/user_guide/indexing.html#returning-a-view-versus-a-copy\n",
      "  df['prev spread'] = df.BidDiff - df.AskDiff + df['Ask Price 1'] - df['Bid Price 1']\n",
      "/tmp/ipykernel_62553/2695096141.py:13: SettingWithCopyWarning: \n",
      "A value is trying to be set on a copy of a slice from a DataFrame.\n",
      "Try using .loc[row_indexer,col_indexer] = value instead\n",
      "\n",
      "See the caveats in the documentation: https://pandas.pydata.org/pandas-docs/stable/user_guide/indexing.html#returning-a-view-versus-a-copy\n",
      "  df['seqNo'] = np.arange(len(df))\n"
     ]
    },
    {
     "name": "stdout",
     "output_type": "stream",
     "text": [
      "/SAN/fca/Konark_PhD_Experiments/extracted/AAPL_2019-02-05_34200000_57600000_message_10.csv\n"
     ]
    },
    {
     "name": "stderr",
     "output_type": "stream",
     "text": [
      "/tmp/ipykernel_62553/2695096141.py:3: DtypeWarning: Columns (6) have mixed types.Specify dtype option on import or set low_memory=False.\n",
      "  data = l.load()\n",
      "/home/konajain/code/lobSimulations/hawkes/dataLoader.py:109: SettingWithCopyWarning: \n",
      "A value is trying to be set on a copy of a slice from a DataFrame.\n",
      "Try using .loc[row_indexer,col_indexer] = value instead\n",
      "\n",
      "See the caveats in the documentation: https://pandas.pydata.org/pandas-docs/stable/user_guide/indexing.html#returning-a-view-versus-a-copy\n",
      "  theOrderBookFiltered[theOrderBookFiltered.columns[i]]  = theOrderBookFiltered[theOrderBookFiltered.columns[i]]/10000\n",
      "/tmp/ipykernel_62553/2695096141.py:11: SettingWithCopyWarning: \n",
      "A value is trying to be set on a copy of a slice from a DataFrame.\n",
      "Try using .loc[row_indexer,col_indexer] = value instead\n",
      "\n",
      "See the caveats in the documentation: https://pandas.pydata.org/pandas-docs/stable/user_guide/indexing.html#returning-a-view-versus-a-copy\n",
      "  df['inspread'] = ((df.Type == 1)&((df['BidDiff'] > 0)|(df['AskDiff'] < 0))).astype(int)\n",
      "/tmp/ipykernel_62553/2695096141.py:12: SettingWithCopyWarning: \n",
      "A value is trying to be set on a copy of a slice from a DataFrame.\n",
      "Try using .loc[row_indexer,col_indexer] = value instead\n",
      "\n",
      "See the caveats in the documentation: https://pandas.pydata.org/pandas-docs/stable/user_guide/indexing.html#returning-a-view-versus-a-copy\n",
      "  df['prev spread'] = df.BidDiff - df.AskDiff + df['Ask Price 1'] - df['Bid Price 1']\n",
      "/tmp/ipykernel_62553/2695096141.py:13: SettingWithCopyWarning: \n",
      "A value is trying to be set on a copy of a slice from a DataFrame.\n",
      "Try using .loc[row_indexer,col_indexer] = value instead\n",
      "\n",
      "See the caveats in the documentation: https://pandas.pydata.org/pandas-docs/stable/user_guide/indexing.html#returning-a-view-versus-a-copy\n",
      "  df['seqNo'] = np.arange(len(df))\n"
     ]
    },
    {
     "name": "stdout",
     "output_type": "stream",
     "text": [
      "/SAN/fca/Konark_PhD_Experiments/extracted/AAPL_2019-02-06_34200000_57600000_message_10.csv\n"
     ]
    },
    {
     "name": "stderr",
     "output_type": "stream",
     "text": [
      "/tmp/ipykernel_62553/2695096141.py:3: DtypeWarning: Columns (6) have mixed types.Specify dtype option on import or set low_memory=False.\n",
      "  data = l.load()\n",
      "/home/konajain/code/lobSimulations/hawkes/dataLoader.py:109: SettingWithCopyWarning: \n",
      "A value is trying to be set on a copy of a slice from a DataFrame.\n",
      "Try using .loc[row_indexer,col_indexer] = value instead\n",
      "\n",
      "See the caveats in the documentation: https://pandas.pydata.org/pandas-docs/stable/user_guide/indexing.html#returning-a-view-versus-a-copy\n",
      "  theOrderBookFiltered[theOrderBookFiltered.columns[i]]  = theOrderBookFiltered[theOrderBookFiltered.columns[i]]/10000\n",
      "/tmp/ipykernel_62553/2695096141.py:11: SettingWithCopyWarning: \n",
      "A value is trying to be set on a copy of a slice from a DataFrame.\n",
      "Try using .loc[row_indexer,col_indexer] = value instead\n",
      "\n",
      "See the caveats in the documentation: https://pandas.pydata.org/pandas-docs/stable/user_guide/indexing.html#returning-a-view-versus-a-copy\n",
      "  df['inspread'] = ((df.Type == 1)&((df['BidDiff'] > 0)|(df['AskDiff'] < 0))).astype(int)\n",
      "/tmp/ipykernel_62553/2695096141.py:12: SettingWithCopyWarning: \n",
      "A value is trying to be set on a copy of a slice from a DataFrame.\n",
      "Try using .loc[row_indexer,col_indexer] = value instead\n",
      "\n",
      "See the caveats in the documentation: https://pandas.pydata.org/pandas-docs/stable/user_guide/indexing.html#returning-a-view-versus-a-copy\n",
      "  df['prev spread'] = df.BidDiff - df.AskDiff + df['Ask Price 1'] - df['Bid Price 1']\n",
      "/tmp/ipykernel_62553/2695096141.py:13: SettingWithCopyWarning: \n",
      "A value is trying to be set on a copy of a slice from a DataFrame.\n",
      "Try using .loc[row_indexer,col_indexer] = value instead\n",
      "\n",
      "See the caveats in the documentation: https://pandas.pydata.org/pandas-docs/stable/user_guide/indexing.html#returning-a-view-versus-a-copy\n",
      "  df['seqNo'] = np.arange(len(df))\n"
     ]
    },
    {
     "name": "stdout",
     "output_type": "stream",
     "text": [
      "/SAN/fca/Konark_PhD_Experiments/extracted/AAPL_2019-02-07_34200000_57600000_message_10.csv\n"
     ]
    },
    {
     "name": "stderr",
     "output_type": "stream",
     "text": [
      "/tmp/ipykernel_62553/2695096141.py:3: DtypeWarning: Columns (6) have mixed types.Specify dtype option on import or set low_memory=False.\n",
      "  data = l.load()\n",
      "/home/konajain/code/lobSimulations/hawkes/dataLoader.py:109: SettingWithCopyWarning: \n",
      "A value is trying to be set on a copy of a slice from a DataFrame.\n",
      "Try using .loc[row_indexer,col_indexer] = value instead\n",
      "\n",
      "See the caveats in the documentation: https://pandas.pydata.org/pandas-docs/stable/user_guide/indexing.html#returning-a-view-versus-a-copy\n",
      "  theOrderBookFiltered[theOrderBookFiltered.columns[i]]  = theOrderBookFiltered[theOrderBookFiltered.columns[i]]/10000\n",
      "/tmp/ipykernel_62553/2695096141.py:11: SettingWithCopyWarning: \n",
      "A value is trying to be set on a copy of a slice from a DataFrame.\n",
      "Try using .loc[row_indexer,col_indexer] = value instead\n",
      "\n",
      "See the caveats in the documentation: https://pandas.pydata.org/pandas-docs/stable/user_guide/indexing.html#returning-a-view-versus-a-copy\n",
      "  df['inspread'] = ((df.Type == 1)&((df['BidDiff'] > 0)|(df['AskDiff'] < 0))).astype(int)\n",
      "/tmp/ipykernel_62553/2695096141.py:12: SettingWithCopyWarning: \n",
      "A value is trying to be set on a copy of a slice from a DataFrame.\n",
      "Try using .loc[row_indexer,col_indexer] = value instead\n",
      "\n",
      "See the caveats in the documentation: https://pandas.pydata.org/pandas-docs/stable/user_guide/indexing.html#returning-a-view-versus-a-copy\n",
      "  df['prev spread'] = df.BidDiff - df.AskDiff + df['Ask Price 1'] - df['Bid Price 1']\n",
      "/tmp/ipykernel_62553/2695096141.py:13: SettingWithCopyWarning: \n",
      "A value is trying to be set on a copy of a slice from a DataFrame.\n",
      "Try using .loc[row_indexer,col_indexer] = value instead\n",
      "\n",
      "See the caveats in the documentation: https://pandas.pydata.org/pandas-docs/stable/user_guide/indexing.html#returning-a-view-versus-a-copy\n",
      "  df['seqNo'] = np.arange(len(df))\n"
     ]
    },
    {
     "name": "stdout",
     "output_type": "stream",
     "text": [
      "/SAN/fca/Konark_PhD_Experiments/extracted/AAPL_2019-02-08_34200000_57600000_message_10.csv\n"
     ]
    },
    {
     "name": "stderr",
     "output_type": "stream",
     "text": [
      "/tmp/ipykernel_62553/2695096141.py:3: DtypeWarning: Columns (6) have mixed types.Specify dtype option on import or set low_memory=False.\n",
      "  data = l.load()\n",
      "/home/konajain/code/lobSimulations/hawkes/dataLoader.py:109: SettingWithCopyWarning: \n",
      "A value is trying to be set on a copy of a slice from a DataFrame.\n",
      "Try using .loc[row_indexer,col_indexer] = value instead\n",
      "\n",
      "See the caveats in the documentation: https://pandas.pydata.org/pandas-docs/stable/user_guide/indexing.html#returning-a-view-versus-a-copy\n",
      "  theOrderBookFiltered[theOrderBookFiltered.columns[i]]  = theOrderBookFiltered[theOrderBookFiltered.columns[i]]/10000\n",
      "/tmp/ipykernel_62553/2695096141.py:11: SettingWithCopyWarning: \n",
      "A value is trying to be set on a copy of a slice from a DataFrame.\n",
      "Try using .loc[row_indexer,col_indexer] = value instead\n",
      "\n",
      "See the caveats in the documentation: https://pandas.pydata.org/pandas-docs/stable/user_guide/indexing.html#returning-a-view-versus-a-copy\n",
      "  df['inspread'] = ((df.Type == 1)&((df['BidDiff'] > 0)|(df['AskDiff'] < 0))).astype(int)\n",
      "/tmp/ipykernel_62553/2695096141.py:12: SettingWithCopyWarning: \n",
      "A value is trying to be set on a copy of a slice from a DataFrame.\n",
      "Try using .loc[row_indexer,col_indexer] = value instead\n",
      "\n",
      "See the caveats in the documentation: https://pandas.pydata.org/pandas-docs/stable/user_guide/indexing.html#returning-a-view-versus-a-copy\n",
      "  df['prev spread'] = df.BidDiff - df.AskDiff + df['Ask Price 1'] - df['Bid Price 1']\n",
      "/tmp/ipykernel_62553/2695096141.py:13: SettingWithCopyWarning: \n",
      "A value is trying to be set on a copy of a slice from a DataFrame.\n",
      "Try using .loc[row_indexer,col_indexer] = value instead\n",
      "\n",
      "See the caveats in the documentation: https://pandas.pydata.org/pandas-docs/stable/user_guide/indexing.html#returning-a-view-versus-a-copy\n",
      "  df['seqNo'] = np.arange(len(df))\n"
     ]
    },
    {
     "name": "stdout",
     "output_type": "stream",
     "text": [
      "/SAN/fca/Konark_PhD_Experiments/extracted/AAPL_2019-02-11_34200000_57600000_message_10.csv\n"
     ]
    },
    {
     "name": "stderr",
     "output_type": "stream",
     "text": [
      "/tmp/ipykernel_62553/2695096141.py:3: DtypeWarning: Columns (6) have mixed types.Specify dtype option on import or set low_memory=False.\n",
      "  data = l.load()\n",
      "/home/konajain/code/lobSimulations/hawkes/dataLoader.py:109: SettingWithCopyWarning: \n",
      "A value is trying to be set on a copy of a slice from a DataFrame.\n",
      "Try using .loc[row_indexer,col_indexer] = value instead\n",
      "\n",
      "See the caveats in the documentation: https://pandas.pydata.org/pandas-docs/stable/user_guide/indexing.html#returning-a-view-versus-a-copy\n",
      "  theOrderBookFiltered[theOrderBookFiltered.columns[i]]  = theOrderBookFiltered[theOrderBookFiltered.columns[i]]/10000\n",
      "/tmp/ipykernel_62553/2695096141.py:11: SettingWithCopyWarning: \n",
      "A value is trying to be set on a copy of a slice from a DataFrame.\n",
      "Try using .loc[row_indexer,col_indexer] = value instead\n",
      "\n",
      "See the caveats in the documentation: https://pandas.pydata.org/pandas-docs/stable/user_guide/indexing.html#returning-a-view-versus-a-copy\n",
      "  df['inspread'] = ((df.Type == 1)&((df['BidDiff'] > 0)|(df['AskDiff'] < 0))).astype(int)\n",
      "/tmp/ipykernel_62553/2695096141.py:12: SettingWithCopyWarning: \n",
      "A value is trying to be set on a copy of a slice from a DataFrame.\n",
      "Try using .loc[row_indexer,col_indexer] = value instead\n",
      "\n",
      "See the caveats in the documentation: https://pandas.pydata.org/pandas-docs/stable/user_guide/indexing.html#returning-a-view-versus-a-copy\n",
      "  df['prev spread'] = df.BidDiff - df.AskDiff + df['Ask Price 1'] - df['Bid Price 1']\n",
      "/tmp/ipykernel_62553/2695096141.py:13: SettingWithCopyWarning: \n",
      "A value is trying to be set on a copy of a slice from a DataFrame.\n",
      "Try using .loc[row_indexer,col_indexer] = value instead\n",
      "\n",
      "See the caveats in the documentation: https://pandas.pydata.org/pandas-docs/stable/user_guide/indexing.html#returning-a-view-versus-a-copy\n",
      "  df['seqNo'] = np.arange(len(df))\n"
     ]
    },
    {
     "name": "stdout",
     "output_type": "stream",
     "text": [
      "/SAN/fca/Konark_PhD_Experiments/extracted/AAPL_2019-02-12_34200000_57600000_message_10.csv\n"
     ]
    },
    {
     "name": "stderr",
     "output_type": "stream",
     "text": [
      "/home/konajain/code/lobSimulations/hawkes/dataLoader.py:109: SettingWithCopyWarning: \n",
      "A value is trying to be set on a copy of a slice from a DataFrame.\n",
      "Try using .loc[row_indexer,col_indexer] = value instead\n",
      "\n",
      "See the caveats in the documentation: https://pandas.pydata.org/pandas-docs/stable/user_guide/indexing.html#returning-a-view-versus-a-copy\n",
      "  theOrderBookFiltered[theOrderBookFiltered.columns[i]]  = theOrderBookFiltered[theOrderBookFiltered.columns[i]]/10000\n",
      "/tmp/ipykernel_62553/2695096141.py:11: SettingWithCopyWarning: \n",
      "A value is trying to be set on a copy of a slice from a DataFrame.\n",
      "Try using .loc[row_indexer,col_indexer] = value instead\n",
      "\n",
      "See the caveats in the documentation: https://pandas.pydata.org/pandas-docs/stable/user_guide/indexing.html#returning-a-view-versus-a-copy\n",
      "  df['inspread'] = ((df.Type == 1)&((df['BidDiff'] > 0)|(df['AskDiff'] < 0))).astype(int)\n",
      "/tmp/ipykernel_62553/2695096141.py:12: SettingWithCopyWarning: \n",
      "A value is trying to be set on a copy of a slice from a DataFrame.\n",
      "Try using .loc[row_indexer,col_indexer] = value instead\n",
      "\n",
      "See the caveats in the documentation: https://pandas.pydata.org/pandas-docs/stable/user_guide/indexing.html#returning-a-view-versus-a-copy\n",
      "  df['prev spread'] = df.BidDiff - df.AskDiff + df['Ask Price 1'] - df['Bid Price 1']\n",
      "/tmp/ipykernel_62553/2695096141.py:13: SettingWithCopyWarning: \n",
      "A value is trying to be set on a copy of a slice from a DataFrame.\n",
      "Try using .loc[row_indexer,col_indexer] = value instead\n",
      "\n",
      "See the caveats in the documentation: https://pandas.pydata.org/pandas-docs/stable/user_guide/indexing.html#returning-a-view-versus-a-copy\n",
      "  df['seqNo'] = np.arange(len(df))\n"
     ]
    },
    {
     "name": "stdout",
     "output_type": "stream",
     "text": [
      "/SAN/fca/Konark_PhD_Experiments/extracted/AAPL_2019-02-13_34200000_57600000_message_10.csv\n"
     ]
    },
    {
     "name": "stderr",
     "output_type": "stream",
     "text": [
      "/home/konajain/code/lobSimulations/hawkes/dataLoader.py:109: SettingWithCopyWarning: \n",
      "A value is trying to be set on a copy of a slice from a DataFrame.\n",
      "Try using .loc[row_indexer,col_indexer] = value instead\n",
      "\n",
      "See the caveats in the documentation: https://pandas.pydata.org/pandas-docs/stable/user_guide/indexing.html#returning-a-view-versus-a-copy\n",
      "  theOrderBookFiltered[theOrderBookFiltered.columns[i]]  = theOrderBookFiltered[theOrderBookFiltered.columns[i]]/10000\n",
      "/tmp/ipykernel_62553/2695096141.py:11: SettingWithCopyWarning: \n",
      "A value is trying to be set on a copy of a slice from a DataFrame.\n",
      "Try using .loc[row_indexer,col_indexer] = value instead\n",
      "\n",
      "See the caveats in the documentation: https://pandas.pydata.org/pandas-docs/stable/user_guide/indexing.html#returning-a-view-versus-a-copy\n",
      "  df['inspread'] = ((df.Type == 1)&((df['BidDiff'] > 0)|(df['AskDiff'] < 0))).astype(int)\n",
      "/tmp/ipykernel_62553/2695096141.py:12: SettingWithCopyWarning: \n",
      "A value is trying to be set on a copy of a slice from a DataFrame.\n",
      "Try using .loc[row_indexer,col_indexer] = value instead\n",
      "\n",
      "See the caveats in the documentation: https://pandas.pydata.org/pandas-docs/stable/user_guide/indexing.html#returning-a-view-versus-a-copy\n",
      "  df['prev spread'] = df.BidDiff - df.AskDiff + df['Ask Price 1'] - df['Bid Price 1']\n",
      "/tmp/ipykernel_62553/2695096141.py:13: SettingWithCopyWarning: \n",
      "A value is trying to be set on a copy of a slice from a DataFrame.\n",
      "Try using .loc[row_indexer,col_indexer] = value instead\n",
      "\n",
      "See the caveats in the documentation: https://pandas.pydata.org/pandas-docs/stable/user_guide/indexing.html#returning-a-view-versus-a-copy\n",
      "  df['seqNo'] = np.arange(len(df))\n"
     ]
    },
    {
     "name": "stdout",
     "output_type": "stream",
     "text": [
      "/SAN/fca/Konark_PhD_Experiments/extracted/AAPL_2019-02-14_34200000_57600000_message_10.csv\n"
     ]
    },
    {
     "name": "stderr",
     "output_type": "stream",
     "text": [
      "/tmp/ipykernel_62553/2695096141.py:3: DtypeWarning: Columns (6) have mixed types.Specify dtype option on import or set low_memory=False.\n",
      "  data = l.load()\n",
      "/home/konajain/code/lobSimulations/hawkes/dataLoader.py:109: SettingWithCopyWarning: \n",
      "A value is trying to be set on a copy of a slice from a DataFrame.\n",
      "Try using .loc[row_indexer,col_indexer] = value instead\n",
      "\n",
      "See the caveats in the documentation: https://pandas.pydata.org/pandas-docs/stable/user_guide/indexing.html#returning-a-view-versus-a-copy\n",
      "  theOrderBookFiltered[theOrderBookFiltered.columns[i]]  = theOrderBookFiltered[theOrderBookFiltered.columns[i]]/10000\n",
      "/tmp/ipykernel_62553/2695096141.py:11: SettingWithCopyWarning: \n",
      "A value is trying to be set on a copy of a slice from a DataFrame.\n",
      "Try using .loc[row_indexer,col_indexer] = value instead\n",
      "\n",
      "See the caveats in the documentation: https://pandas.pydata.org/pandas-docs/stable/user_guide/indexing.html#returning-a-view-versus-a-copy\n",
      "  df['inspread'] = ((df.Type == 1)&((df['BidDiff'] > 0)|(df['AskDiff'] < 0))).astype(int)\n",
      "/tmp/ipykernel_62553/2695096141.py:12: SettingWithCopyWarning: \n",
      "A value is trying to be set on a copy of a slice from a DataFrame.\n",
      "Try using .loc[row_indexer,col_indexer] = value instead\n",
      "\n",
      "See the caveats in the documentation: https://pandas.pydata.org/pandas-docs/stable/user_guide/indexing.html#returning-a-view-versus-a-copy\n",
      "  df['prev spread'] = df.BidDiff - df.AskDiff + df['Ask Price 1'] - df['Bid Price 1']\n",
      "/tmp/ipykernel_62553/2695096141.py:13: SettingWithCopyWarning: \n",
      "A value is trying to be set on a copy of a slice from a DataFrame.\n",
      "Try using .loc[row_indexer,col_indexer] = value instead\n",
      "\n",
      "See the caveats in the documentation: https://pandas.pydata.org/pandas-docs/stable/user_guide/indexing.html#returning-a-view-versus-a-copy\n",
      "  df['seqNo'] = np.arange(len(df))\n"
     ]
    },
    {
     "name": "stdout",
     "output_type": "stream",
     "text": [
      "/SAN/fca/Konark_PhD_Experiments/extracted/AAPL_2019-02-15_34200000_57600000_message_10.csv\n"
     ]
    },
    {
     "name": "stderr",
     "output_type": "stream",
     "text": [
      "/home/konajain/code/lobSimulations/hawkes/dataLoader.py:109: SettingWithCopyWarning: \n",
      "A value is trying to be set on a copy of a slice from a DataFrame.\n",
      "Try using .loc[row_indexer,col_indexer] = value instead\n",
      "\n",
      "See the caveats in the documentation: https://pandas.pydata.org/pandas-docs/stable/user_guide/indexing.html#returning-a-view-versus-a-copy\n",
      "  theOrderBookFiltered[theOrderBookFiltered.columns[i]]  = theOrderBookFiltered[theOrderBookFiltered.columns[i]]/10000\n",
      "/tmp/ipykernel_62553/2695096141.py:11: SettingWithCopyWarning: \n",
      "A value is trying to be set on a copy of a slice from a DataFrame.\n",
      "Try using .loc[row_indexer,col_indexer] = value instead\n",
      "\n",
      "See the caveats in the documentation: https://pandas.pydata.org/pandas-docs/stable/user_guide/indexing.html#returning-a-view-versus-a-copy\n",
      "  df['inspread'] = ((df.Type == 1)&((df['BidDiff'] > 0)|(df['AskDiff'] < 0))).astype(int)\n",
      "/tmp/ipykernel_62553/2695096141.py:12: SettingWithCopyWarning: \n",
      "A value is trying to be set on a copy of a slice from a DataFrame.\n",
      "Try using .loc[row_indexer,col_indexer] = value instead\n",
      "\n",
      "See the caveats in the documentation: https://pandas.pydata.org/pandas-docs/stable/user_guide/indexing.html#returning-a-view-versus-a-copy\n",
      "  df['prev spread'] = df.BidDiff - df.AskDiff + df['Ask Price 1'] - df['Bid Price 1']\n",
      "/tmp/ipykernel_62553/2695096141.py:13: SettingWithCopyWarning: \n",
      "A value is trying to be set on a copy of a slice from a DataFrame.\n",
      "Try using .loc[row_indexer,col_indexer] = value instead\n",
      "\n",
      "See the caveats in the documentation: https://pandas.pydata.org/pandas-docs/stable/user_guide/indexing.html#returning-a-view-versus-a-copy\n",
      "  df['seqNo'] = np.arange(len(df))\n"
     ]
    },
    {
     "name": "stdout",
     "output_type": "stream",
     "text": [
      "/SAN/fca/Konark_PhD_Experiments/extracted/AAPL_2019-02-19_34200000_57600000_message_10.csv\n"
     ]
    },
    {
     "name": "stderr",
     "output_type": "stream",
     "text": [
      "/tmp/ipykernel_62553/2695096141.py:3: DtypeWarning: Columns (6) have mixed types.Specify dtype option on import or set low_memory=False.\n",
      "  data = l.load()\n",
      "/home/konajain/code/lobSimulations/hawkes/dataLoader.py:109: SettingWithCopyWarning: \n",
      "A value is trying to be set on a copy of a slice from a DataFrame.\n",
      "Try using .loc[row_indexer,col_indexer] = value instead\n",
      "\n",
      "See the caveats in the documentation: https://pandas.pydata.org/pandas-docs/stable/user_guide/indexing.html#returning-a-view-versus-a-copy\n",
      "  theOrderBookFiltered[theOrderBookFiltered.columns[i]]  = theOrderBookFiltered[theOrderBookFiltered.columns[i]]/10000\n",
      "/tmp/ipykernel_62553/2695096141.py:11: SettingWithCopyWarning: \n",
      "A value is trying to be set on a copy of a slice from a DataFrame.\n",
      "Try using .loc[row_indexer,col_indexer] = value instead\n",
      "\n",
      "See the caveats in the documentation: https://pandas.pydata.org/pandas-docs/stable/user_guide/indexing.html#returning-a-view-versus-a-copy\n",
      "  df['inspread'] = ((df.Type == 1)&((df['BidDiff'] > 0)|(df['AskDiff'] < 0))).astype(int)\n",
      "/tmp/ipykernel_62553/2695096141.py:12: SettingWithCopyWarning: \n",
      "A value is trying to be set on a copy of a slice from a DataFrame.\n",
      "Try using .loc[row_indexer,col_indexer] = value instead\n",
      "\n",
      "See the caveats in the documentation: https://pandas.pydata.org/pandas-docs/stable/user_guide/indexing.html#returning-a-view-versus-a-copy\n",
      "  df['prev spread'] = df.BidDiff - df.AskDiff + df['Ask Price 1'] - df['Bid Price 1']\n",
      "/tmp/ipykernel_62553/2695096141.py:13: SettingWithCopyWarning: \n",
      "A value is trying to be set on a copy of a slice from a DataFrame.\n",
      "Try using .loc[row_indexer,col_indexer] = value instead\n",
      "\n",
      "See the caveats in the documentation: https://pandas.pydata.org/pandas-docs/stable/user_guide/indexing.html#returning-a-view-versus-a-copy\n",
      "  df['seqNo'] = np.arange(len(df))\n"
     ]
    },
    {
     "name": "stdout",
     "output_type": "stream",
     "text": [
      "/SAN/fca/Konark_PhD_Experiments/extracted/AAPL_2019-02-20_34200000_57600000_message_10.csv\n"
     ]
    },
    {
     "name": "stderr",
     "output_type": "stream",
     "text": [
      "/tmp/ipykernel_62553/2695096141.py:3: DtypeWarning: Columns (6) have mixed types.Specify dtype option on import or set low_memory=False.\n",
      "  data = l.load()\n",
      "/home/konajain/code/lobSimulations/hawkes/dataLoader.py:109: SettingWithCopyWarning: \n",
      "A value is trying to be set on a copy of a slice from a DataFrame.\n",
      "Try using .loc[row_indexer,col_indexer] = value instead\n",
      "\n",
      "See the caveats in the documentation: https://pandas.pydata.org/pandas-docs/stable/user_guide/indexing.html#returning-a-view-versus-a-copy\n",
      "  theOrderBookFiltered[theOrderBookFiltered.columns[i]]  = theOrderBookFiltered[theOrderBookFiltered.columns[i]]/10000\n",
      "/tmp/ipykernel_62553/2695096141.py:11: SettingWithCopyWarning: \n",
      "A value is trying to be set on a copy of a slice from a DataFrame.\n",
      "Try using .loc[row_indexer,col_indexer] = value instead\n",
      "\n",
      "See the caveats in the documentation: https://pandas.pydata.org/pandas-docs/stable/user_guide/indexing.html#returning-a-view-versus-a-copy\n",
      "  df['inspread'] = ((df.Type == 1)&((df['BidDiff'] > 0)|(df['AskDiff'] < 0))).astype(int)\n",
      "/tmp/ipykernel_62553/2695096141.py:12: SettingWithCopyWarning: \n",
      "A value is trying to be set on a copy of a slice from a DataFrame.\n",
      "Try using .loc[row_indexer,col_indexer] = value instead\n",
      "\n",
      "See the caveats in the documentation: https://pandas.pydata.org/pandas-docs/stable/user_guide/indexing.html#returning-a-view-versus-a-copy\n",
      "  df['prev spread'] = df.BidDiff - df.AskDiff + df['Ask Price 1'] - df['Bid Price 1']\n",
      "/tmp/ipykernel_62553/2695096141.py:13: SettingWithCopyWarning: \n",
      "A value is trying to be set on a copy of a slice from a DataFrame.\n",
      "Try using .loc[row_indexer,col_indexer] = value instead\n",
      "\n",
      "See the caveats in the documentation: https://pandas.pydata.org/pandas-docs/stable/user_guide/indexing.html#returning-a-view-versus-a-copy\n",
      "  df['seqNo'] = np.arange(len(df))\n"
     ]
    },
    {
     "name": "stdout",
     "output_type": "stream",
     "text": [
      "/SAN/fca/Konark_PhD_Experiments/extracted/AAPL_2019-02-21_34200000_57600000_message_10.csv\n"
     ]
    },
    {
     "name": "stderr",
     "output_type": "stream",
     "text": [
      "/tmp/ipykernel_62553/2695096141.py:3: DtypeWarning: Columns (6) have mixed types.Specify dtype option on import or set low_memory=False.\n",
      "  data = l.load()\n",
      "/home/konajain/code/lobSimulations/hawkes/dataLoader.py:109: SettingWithCopyWarning: \n",
      "A value is trying to be set on a copy of a slice from a DataFrame.\n",
      "Try using .loc[row_indexer,col_indexer] = value instead\n",
      "\n",
      "See the caveats in the documentation: https://pandas.pydata.org/pandas-docs/stable/user_guide/indexing.html#returning-a-view-versus-a-copy\n",
      "  theOrderBookFiltered[theOrderBookFiltered.columns[i]]  = theOrderBookFiltered[theOrderBookFiltered.columns[i]]/10000\n",
      "/tmp/ipykernel_62553/2695096141.py:11: SettingWithCopyWarning: \n",
      "A value is trying to be set on a copy of a slice from a DataFrame.\n",
      "Try using .loc[row_indexer,col_indexer] = value instead\n",
      "\n",
      "See the caveats in the documentation: https://pandas.pydata.org/pandas-docs/stable/user_guide/indexing.html#returning-a-view-versus-a-copy\n",
      "  df['inspread'] = ((df.Type == 1)&((df['BidDiff'] > 0)|(df['AskDiff'] < 0))).astype(int)\n",
      "/tmp/ipykernel_62553/2695096141.py:12: SettingWithCopyWarning: \n",
      "A value is trying to be set on a copy of a slice from a DataFrame.\n",
      "Try using .loc[row_indexer,col_indexer] = value instead\n",
      "\n",
      "See the caveats in the documentation: https://pandas.pydata.org/pandas-docs/stable/user_guide/indexing.html#returning-a-view-versus-a-copy\n",
      "  df['prev spread'] = df.BidDiff - df.AskDiff + df['Ask Price 1'] - df['Bid Price 1']\n",
      "/tmp/ipykernel_62553/2695096141.py:13: SettingWithCopyWarning: \n",
      "A value is trying to be set on a copy of a slice from a DataFrame.\n",
      "Try using .loc[row_indexer,col_indexer] = value instead\n",
      "\n",
      "See the caveats in the documentation: https://pandas.pydata.org/pandas-docs/stable/user_guide/indexing.html#returning-a-view-versus-a-copy\n",
      "  df['seqNo'] = np.arange(len(df))\n"
     ]
    },
    {
     "name": "stdout",
     "output_type": "stream",
     "text": [
      "/SAN/fca/Konark_PhD_Experiments/extracted/AAPL_2019-02-22_34200000_57600000_message_10.csv\n"
     ]
    },
    {
     "name": "stderr",
     "output_type": "stream",
     "text": [
      "/home/konajain/code/lobSimulations/hawkes/dataLoader.py:109: SettingWithCopyWarning: \n",
      "A value is trying to be set on a copy of a slice from a DataFrame.\n",
      "Try using .loc[row_indexer,col_indexer] = value instead\n",
      "\n",
      "See the caveats in the documentation: https://pandas.pydata.org/pandas-docs/stable/user_guide/indexing.html#returning-a-view-versus-a-copy\n",
      "  theOrderBookFiltered[theOrderBookFiltered.columns[i]]  = theOrderBookFiltered[theOrderBookFiltered.columns[i]]/10000\n",
      "/tmp/ipykernel_62553/2695096141.py:11: SettingWithCopyWarning: \n",
      "A value is trying to be set on a copy of a slice from a DataFrame.\n",
      "Try using .loc[row_indexer,col_indexer] = value instead\n",
      "\n",
      "See the caveats in the documentation: https://pandas.pydata.org/pandas-docs/stable/user_guide/indexing.html#returning-a-view-versus-a-copy\n",
      "  df['inspread'] = ((df.Type == 1)&((df['BidDiff'] > 0)|(df['AskDiff'] < 0))).astype(int)\n",
      "/tmp/ipykernel_62553/2695096141.py:12: SettingWithCopyWarning: \n",
      "A value is trying to be set on a copy of a slice from a DataFrame.\n",
      "Try using .loc[row_indexer,col_indexer] = value instead\n",
      "\n",
      "See the caveats in the documentation: https://pandas.pydata.org/pandas-docs/stable/user_guide/indexing.html#returning-a-view-versus-a-copy\n",
      "  df['prev spread'] = df.BidDiff - df.AskDiff + df['Ask Price 1'] - df['Bid Price 1']\n",
      "/tmp/ipykernel_62553/2695096141.py:13: SettingWithCopyWarning: \n",
      "A value is trying to be set on a copy of a slice from a DataFrame.\n",
      "Try using .loc[row_indexer,col_indexer] = value instead\n",
      "\n",
      "See the caveats in the documentation: https://pandas.pydata.org/pandas-docs/stable/user_guide/indexing.html#returning-a-view-versus-a-copy\n",
      "  df['seqNo'] = np.arange(len(df))\n"
     ]
    },
    {
     "name": "stdout",
     "output_type": "stream",
     "text": [
      "/SAN/fca/Konark_PhD_Experiments/extracted/AAPL_2019-02-25_34200000_57600000_message_10.csv\n"
     ]
    },
    {
     "name": "stderr",
     "output_type": "stream",
     "text": [
      "/home/konajain/code/lobSimulations/hawkes/dataLoader.py:109: SettingWithCopyWarning: \n",
      "A value is trying to be set on a copy of a slice from a DataFrame.\n",
      "Try using .loc[row_indexer,col_indexer] = value instead\n",
      "\n",
      "See the caveats in the documentation: https://pandas.pydata.org/pandas-docs/stable/user_guide/indexing.html#returning-a-view-versus-a-copy\n",
      "  theOrderBookFiltered[theOrderBookFiltered.columns[i]]  = theOrderBookFiltered[theOrderBookFiltered.columns[i]]/10000\n",
      "/tmp/ipykernel_62553/2695096141.py:11: SettingWithCopyWarning: \n",
      "A value is trying to be set on a copy of a slice from a DataFrame.\n",
      "Try using .loc[row_indexer,col_indexer] = value instead\n",
      "\n",
      "See the caveats in the documentation: https://pandas.pydata.org/pandas-docs/stable/user_guide/indexing.html#returning-a-view-versus-a-copy\n",
      "  df['inspread'] = ((df.Type == 1)&((df['BidDiff'] > 0)|(df['AskDiff'] < 0))).astype(int)\n",
      "/tmp/ipykernel_62553/2695096141.py:12: SettingWithCopyWarning: \n",
      "A value is trying to be set on a copy of a slice from a DataFrame.\n",
      "Try using .loc[row_indexer,col_indexer] = value instead\n",
      "\n",
      "See the caveats in the documentation: https://pandas.pydata.org/pandas-docs/stable/user_guide/indexing.html#returning-a-view-versus-a-copy\n",
      "  df['prev spread'] = df.BidDiff - df.AskDiff + df['Ask Price 1'] - df['Bid Price 1']\n",
      "/tmp/ipykernel_62553/2695096141.py:13: SettingWithCopyWarning: \n",
      "A value is trying to be set on a copy of a slice from a DataFrame.\n",
      "Try using .loc[row_indexer,col_indexer] = value instead\n",
      "\n",
      "See the caveats in the documentation: https://pandas.pydata.org/pandas-docs/stable/user_guide/indexing.html#returning-a-view-versus-a-copy\n",
      "  df['seqNo'] = np.arange(len(df))\n"
     ]
    },
    {
     "name": "stdout",
     "output_type": "stream",
     "text": [
      "/SAN/fca/Konark_PhD_Experiments/extracted/AAPL_2019-02-26_34200000_57600000_message_10.csv\n"
     ]
    },
    {
     "name": "stderr",
     "output_type": "stream",
     "text": [
      "/tmp/ipykernel_62553/2695096141.py:3: DtypeWarning: Columns (6) have mixed types.Specify dtype option on import or set low_memory=False.\n",
      "  data = l.load()\n",
      "/home/konajain/code/lobSimulations/hawkes/dataLoader.py:109: SettingWithCopyWarning: \n",
      "A value is trying to be set on a copy of a slice from a DataFrame.\n",
      "Try using .loc[row_indexer,col_indexer] = value instead\n",
      "\n",
      "See the caveats in the documentation: https://pandas.pydata.org/pandas-docs/stable/user_guide/indexing.html#returning-a-view-versus-a-copy\n",
      "  theOrderBookFiltered[theOrderBookFiltered.columns[i]]  = theOrderBookFiltered[theOrderBookFiltered.columns[i]]/10000\n",
      "/tmp/ipykernel_62553/2695096141.py:11: SettingWithCopyWarning: \n",
      "A value is trying to be set on a copy of a slice from a DataFrame.\n",
      "Try using .loc[row_indexer,col_indexer] = value instead\n",
      "\n",
      "See the caveats in the documentation: https://pandas.pydata.org/pandas-docs/stable/user_guide/indexing.html#returning-a-view-versus-a-copy\n",
      "  df['inspread'] = ((df.Type == 1)&((df['BidDiff'] > 0)|(df['AskDiff'] < 0))).astype(int)\n",
      "/tmp/ipykernel_62553/2695096141.py:12: SettingWithCopyWarning: \n",
      "A value is trying to be set on a copy of a slice from a DataFrame.\n",
      "Try using .loc[row_indexer,col_indexer] = value instead\n",
      "\n",
      "See the caveats in the documentation: https://pandas.pydata.org/pandas-docs/stable/user_guide/indexing.html#returning-a-view-versus-a-copy\n",
      "  df['prev spread'] = df.BidDiff - df.AskDiff + df['Ask Price 1'] - df['Bid Price 1']\n",
      "/tmp/ipykernel_62553/2695096141.py:13: SettingWithCopyWarning: \n",
      "A value is trying to be set on a copy of a slice from a DataFrame.\n",
      "Try using .loc[row_indexer,col_indexer] = value instead\n",
      "\n",
      "See the caveats in the documentation: https://pandas.pydata.org/pandas-docs/stable/user_guide/indexing.html#returning-a-view-versus-a-copy\n",
      "  df['seqNo'] = np.arange(len(df))\n"
     ]
    },
    {
     "name": "stdout",
     "output_type": "stream",
     "text": [
      "/SAN/fca/Konark_PhD_Experiments/extracted/AAPL_2019-02-27_34200000_57600000_message_10.csv\n"
     ]
    },
    {
     "name": "stderr",
     "output_type": "stream",
     "text": [
      "/tmp/ipykernel_62553/2695096141.py:3: DtypeWarning: Columns (6) have mixed types.Specify dtype option on import or set low_memory=False.\n",
      "  data = l.load()\n",
      "/home/konajain/code/lobSimulations/hawkes/dataLoader.py:109: SettingWithCopyWarning: \n",
      "A value is trying to be set on a copy of a slice from a DataFrame.\n",
      "Try using .loc[row_indexer,col_indexer] = value instead\n",
      "\n",
      "See the caveats in the documentation: https://pandas.pydata.org/pandas-docs/stable/user_guide/indexing.html#returning-a-view-versus-a-copy\n",
      "  theOrderBookFiltered[theOrderBookFiltered.columns[i]]  = theOrderBookFiltered[theOrderBookFiltered.columns[i]]/10000\n",
      "/tmp/ipykernel_62553/2695096141.py:11: SettingWithCopyWarning: \n",
      "A value is trying to be set on a copy of a slice from a DataFrame.\n",
      "Try using .loc[row_indexer,col_indexer] = value instead\n",
      "\n",
      "See the caveats in the documentation: https://pandas.pydata.org/pandas-docs/stable/user_guide/indexing.html#returning-a-view-versus-a-copy\n",
      "  df['inspread'] = ((df.Type == 1)&((df['BidDiff'] > 0)|(df['AskDiff'] < 0))).astype(int)\n",
      "/tmp/ipykernel_62553/2695096141.py:12: SettingWithCopyWarning: \n",
      "A value is trying to be set on a copy of a slice from a DataFrame.\n",
      "Try using .loc[row_indexer,col_indexer] = value instead\n",
      "\n",
      "See the caveats in the documentation: https://pandas.pydata.org/pandas-docs/stable/user_guide/indexing.html#returning-a-view-versus-a-copy\n",
      "  df['prev spread'] = df.BidDiff - df.AskDiff + df['Ask Price 1'] - df['Bid Price 1']\n",
      "/tmp/ipykernel_62553/2695096141.py:13: SettingWithCopyWarning: \n",
      "A value is trying to be set on a copy of a slice from a DataFrame.\n",
      "Try using .loc[row_indexer,col_indexer] = value instead\n",
      "\n",
      "See the caveats in the documentation: https://pandas.pydata.org/pandas-docs/stable/user_guide/indexing.html#returning-a-view-versus-a-copy\n",
      "  df['seqNo'] = np.arange(len(df))\n"
     ]
    },
    {
     "name": "stdout",
     "output_type": "stream",
     "text": [
      "/SAN/fca/Konark_PhD_Experiments/extracted/AAPL_2019-02-28_34200000_57600000_message_10.csv\n"
     ]
    },
    {
     "name": "stderr",
     "output_type": "stream",
     "text": [
      "/home/konajain/code/lobSimulations/hawkes/dataLoader.py:109: SettingWithCopyWarning: \n",
      "A value is trying to be set on a copy of a slice from a DataFrame.\n",
      "Try using .loc[row_indexer,col_indexer] = value instead\n",
      "\n",
      "See the caveats in the documentation: https://pandas.pydata.org/pandas-docs/stable/user_guide/indexing.html#returning-a-view-versus-a-copy\n",
      "  theOrderBookFiltered[theOrderBookFiltered.columns[i]]  = theOrderBookFiltered[theOrderBookFiltered.columns[i]]/10000\n",
      "/tmp/ipykernel_62553/2695096141.py:11: SettingWithCopyWarning: \n",
      "A value is trying to be set on a copy of a slice from a DataFrame.\n",
      "Try using .loc[row_indexer,col_indexer] = value instead\n",
      "\n",
      "See the caveats in the documentation: https://pandas.pydata.org/pandas-docs/stable/user_guide/indexing.html#returning-a-view-versus-a-copy\n",
      "  df['inspread'] = ((df.Type == 1)&((df['BidDiff'] > 0)|(df['AskDiff'] < 0))).astype(int)\n",
      "/tmp/ipykernel_62553/2695096141.py:12: SettingWithCopyWarning: \n",
      "A value is trying to be set on a copy of a slice from a DataFrame.\n",
      "Try using .loc[row_indexer,col_indexer] = value instead\n",
      "\n",
      "See the caveats in the documentation: https://pandas.pydata.org/pandas-docs/stable/user_guide/indexing.html#returning-a-view-versus-a-copy\n",
      "  df['prev spread'] = df.BidDiff - df.AskDiff + df['Ask Price 1'] - df['Bid Price 1']\n",
      "/tmp/ipykernel_62553/2695096141.py:13: SettingWithCopyWarning: \n",
      "A value is trying to be set on a copy of a slice from a DataFrame.\n",
      "Try using .loc[row_indexer,col_indexer] = value instead\n",
      "\n",
      "See the caveats in the documentation: https://pandas.pydata.org/pandas-docs/stable/user_guide/indexing.html#returning-a-view-versus-a-copy\n",
      "  df['seqNo'] = np.arange(len(df))\n"
     ]
    },
    {
     "name": "stdout",
     "output_type": "stream",
     "text": [
      "/SAN/fca/Konark_PhD_Experiments/extracted/AAPL_2019-03-01_34200000_57600000_message_10.csv\n"
     ]
    },
    {
     "name": "stderr",
     "output_type": "stream",
     "text": [
      "/tmp/ipykernel_62553/2695096141.py:3: DtypeWarning: Columns (6) have mixed types.Specify dtype option on import or set low_memory=False.\n",
      "  data = l.load()\n",
      "/home/konajain/code/lobSimulations/hawkes/dataLoader.py:109: SettingWithCopyWarning: \n",
      "A value is trying to be set on a copy of a slice from a DataFrame.\n",
      "Try using .loc[row_indexer,col_indexer] = value instead\n",
      "\n",
      "See the caveats in the documentation: https://pandas.pydata.org/pandas-docs/stable/user_guide/indexing.html#returning-a-view-versus-a-copy\n",
      "  theOrderBookFiltered[theOrderBookFiltered.columns[i]]  = theOrderBookFiltered[theOrderBookFiltered.columns[i]]/10000\n",
      "/tmp/ipykernel_62553/2695096141.py:11: SettingWithCopyWarning: \n",
      "A value is trying to be set on a copy of a slice from a DataFrame.\n",
      "Try using .loc[row_indexer,col_indexer] = value instead\n",
      "\n",
      "See the caveats in the documentation: https://pandas.pydata.org/pandas-docs/stable/user_guide/indexing.html#returning-a-view-versus-a-copy\n",
      "  df['inspread'] = ((df.Type == 1)&((df['BidDiff'] > 0)|(df['AskDiff'] < 0))).astype(int)\n",
      "/tmp/ipykernel_62553/2695096141.py:12: SettingWithCopyWarning: \n",
      "A value is trying to be set on a copy of a slice from a DataFrame.\n",
      "Try using .loc[row_indexer,col_indexer] = value instead\n",
      "\n",
      "See the caveats in the documentation: https://pandas.pydata.org/pandas-docs/stable/user_guide/indexing.html#returning-a-view-versus-a-copy\n",
      "  df['prev spread'] = df.BidDiff - df.AskDiff + df['Ask Price 1'] - df['Bid Price 1']\n",
      "/tmp/ipykernel_62553/2695096141.py:13: SettingWithCopyWarning: \n",
      "A value is trying to be set on a copy of a slice from a DataFrame.\n",
      "Try using .loc[row_indexer,col_indexer] = value instead\n",
      "\n",
      "See the caveats in the documentation: https://pandas.pydata.org/pandas-docs/stable/user_guide/indexing.html#returning-a-view-versus-a-copy\n",
      "  df['seqNo'] = np.arange(len(df))\n"
     ]
    },
    {
     "ename": "KeyboardInterrupt",
     "evalue": "",
     "output_type": "error",
     "traceback": [
      "\u001b[0;31m---------------------------------------------------------------------------\u001b[0m",
      "\u001b[0;31mKeyboardInterrupt\u001b[0m                         Traceback (most recent call last)",
      "Cell \u001b[0;32mIn[16], line 19\u001b[0m\n\u001b[1;32m     17\u001b[0m \u001b[38;5;28;01mfor\u001b[39;00m df_inspread \u001b[38;5;129;01min\u001b[39;00m data:\n\u001b[1;32m     18\u001b[0m     df_inspread_bid \u001b[38;5;241m=\u001b[39m df_inspread\u001b[38;5;241m.\u001b[39mloc[df_inspread\u001b[38;5;241m.\u001b[39mTradeDirection \u001b[38;5;241m==\u001b[39m \u001b[38;5;241m1\u001b[39m]\n\u001b[0;32m---> 19\u001b[0m     df_inspread_bid \u001b[38;5;241m=\u001b[39m df_inspread_bid\u001b[38;5;241m.\u001b[39mset_index([\u001b[43mdf_inspread_bid\u001b[49m\u001b[38;5;241;43m.\u001b[39;49m\u001b[43mapply\u001b[49m\u001b[43m(\u001b[49m\u001b[38;5;28;43;01mlambda\u001b[39;49;00m\u001b[43m \u001b[49m\u001b[43mx\u001b[49m\u001b[43m \u001b[49m\u001b[43m:\u001b[49m\u001b[43m \u001b[49m\u001b[43mdt\u001b[49m\u001b[38;5;241;43m.\u001b[39;49m\u001b[43mdatetime\u001b[49m\u001b[38;5;241;43m.\u001b[39;49m\u001b[43mstrptime\u001b[49m\u001b[43m(\u001b[49m\u001b[43mx\u001b[49m\u001b[43m[\u001b[49m\u001b[38;5;124;43m'\u001b[39;49m\u001b[38;5;124;43mDate\u001b[39;49m\u001b[38;5;124;43m'\u001b[39;49m\u001b[43m]\u001b[49m\u001b[43m,\u001b[49m\u001b[43m \u001b[49m\u001b[38;5;124;43m\"\u001b[39;49m\u001b[38;5;124;43m%\u001b[39;49m\u001b[38;5;124;43mY-\u001b[39;49m\u001b[38;5;124;43m%\u001b[39;49m\u001b[38;5;124;43mm-\u001b[39;49m\u001b[38;5;132;43;01m%d\u001b[39;49;00m\u001b[38;5;124;43m\"\u001b[39;49m\u001b[43m)\u001b[49m\u001b[38;5;241;43m+\u001b[39;49m\u001b[43mdt\u001b[49m\u001b[38;5;241;43m.\u001b[39;49m\u001b[43mtimedelta\u001b[49m\u001b[43m(\u001b[49m\u001b[43mseconds\u001b[49m\u001b[38;5;241;43m=\u001b[39;49m\u001b[43mx\u001b[49m\u001b[43m[\u001b[49m\u001b[38;5;124;43m'\u001b[39;49m\u001b[38;5;124;43mTime\u001b[39;49m\u001b[38;5;124;43m'\u001b[39;49m\u001b[43m]\u001b[49m\u001b[43m)\u001b[49m\u001b[43m,\u001b[49m\u001b[43m \u001b[49m\u001b[43maxis\u001b[49m\u001b[43m \u001b[49m\u001b[38;5;241;43m=\u001b[39;49m\u001b[43m \u001b[49m\u001b[38;5;241;43m1\u001b[39;49m\u001b[43m \u001b[49m\u001b[43m)\u001b[49m, \u001b[38;5;124m'\u001b[39m\u001b[38;5;124mseqNo\u001b[39m\u001b[38;5;124m'\u001b[39m])\n\u001b[1;32m     20\u001b[0m     tau \u001b[38;5;241m=\u001b[39m \u001b[38;5;241m1e-6\u001b[39m\n\u001b[1;32m     21\u001b[0m     s \u001b[38;5;241m=\u001b[39m df_inspread_bid\u001b[38;5;241m.\u001b[39msort_index(ascending\u001b[38;5;241m=\u001b[39m\u001b[38;5;28;01mFalse\u001b[39;00m)\u001b[38;5;241m.\u001b[39mreset_index()\u001b[38;5;241m.\u001b[39mset_index(\u001b[38;5;124m'\u001b[39m\u001b[38;5;124mlevel_0\u001b[39m\u001b[38;5;124m'\u001b[39m)\u001b[38;5;241m.\u001b[39mrolling(window \u001b[38;5;241m=\u001b[39m dt\u001b[38;5;241m.\u001b[39mtimedelta(seconds\u001b[38;5;241m=\u001b[39mtau))[\u001b[38;5;124m'\u001b[39m\u001b[38;5;124minspread\u001b[39m\u001b[38;5;124m'\u001b[39m]\u001b[38;5;241m.\u001b[39msum()\n",
      "File \u001b[0;32m/share/apps/python-3.8.5-shared/lib/python3.8/site-packages/pandas/core/frame.py:8736\u001b[0m, in \u001b[0;36mDataFrame.apply\u001b[0;34m(self, func, axis, raw, result_type, args, **kwargs)\u001b[0m\n\u001b[1;32m   8725\u001b[0m \u001b[38;5;28;01mfrom\u001b[39;00m \u001b[38;5;21;01mpandas\u001b[39;00m\u001b[38;5;21;01m.\u001b[39;00m\u001b[38;5;21;01mcore\u001b[39;00m\u001b[38;5;21;01m.\u001b[39;00m\u001b[38;5;21;01mapply\u001b[39;00m \u001b[38;5;28;01mimport\u001b[39;00m frame_apply\n\u001b[1;32m   8727\u001b[0m op \u001b[38;5;241m=\u001b[39m frame_apply(\n\u001b[1;32m   8728\u001b[0m     \u001b[38;5;28mself\u001b[39m,\n\u001b[1;32m   8729\u001b[0m     func\u001b[38;5;241m=\u001b[39mfunc,\n\u001b[0;32m   (...)\u001b[0m\n\u001b[1;32m   8734\u001b[0m     kwargs\u001b[38;5;241m=\u001b[39mkwargs,\n\u001b[1;32m   8735\u001b[0m )\n\u001b[0;32m-> 8736\u001b[0m \u001b[38;5;28;01mreturn\u001b[39;00m \u001b[43mop\u001b[49m\u001b[38;5;241;43m.\u001b[39;49m\u001b[43mapply\u001b[49m\u001b[43m(\u001b[49m\u001b[43m)\u001b[49m\n",
      "File \u001b[0;32m/share/apps/python-3.8.5-shared/lib/python3.8/site-packages/pandas/core/apply.py:688\u001b[0m, in \u001b[0;36mFrameApply.apply\u001b[0;34m(self)\u001b[0m\n\u001b[1;32m    685\u001b[0m \u001b[38;5;28;01melif\u001b[39;00m \u001b[38;5;28mself\u001b[39m\u001b[38;5;241m.\u001b[39mraw:\n\u001b[1;32m    686\u001b[0m     \u001b[38;5;28;01mreturn\u001b[39;00m \u001b[38;5;28mself\u001b[39m\u001b[38;5;241m.\u001b[39mapply_raw()\n\u001b[0;32m--> 688\u001b[0m \u001b[38;5;28;01mreturn\u001b[39;00m \u001b[38;5;28;43mself\u001b[39;49m\u001b[38;5;241;43m.\u001b[39;49m\u001b[43mapply_standard\u001b[49m\u001b[43m(\u001b[49m\u001b[43m)\u001b[49m\n",
      "File \u001b[0;32m/share/apps/python-3.8.5-shared/lib/python3.8/site-packages/pandas/core/apply.py:805\u001b[0m, in \u001b[0;36mFrameApply.apply_standard\u001b[0;34m(self)\u001b[0m\n\u001b[1;32m    804\u001b[0m \u001b[38;5;28;01mdef\u001b[39;00m \u001b[38;5;21mapply_standard\u001b[39m(\u001b[38;5;28mself\u001b[39m):\n\u001b[0;32m--> 805\u001b[0m     results, res_index \u001b[38;5;241m=\u001b[39m \u001b[38;5;28;43mself\u001b[39;49m\u001b[38;5;241;43m.\u001b[39;49m\u001b[43mapply_series_generator\u001b[49m\u001b[43m(\u001b[49m\u001b[43m)\u001b[49m\n\u001b[1;32m    807\u001b[0m     \u001b[38;5;66;03m# wrap results\u001b[39;00m\n\u001b[1;32m    808\u001b[0m     \u001b[38;5;28;01mreturn\u001b[39;00m \u001b[38;5;28mself\u001b[39m\u001b[38;5;241m.\u001b[39mwrap_results(results, res_index)\n",
      "File \u001b[0;32m/share/apps/python-3.8.5-shared/lib/python3.8/site-packages/pandas/core/apply.py:819\u001b[0m, in \u001b[0;36mFrameApply.apply_series_generator\u001b[0;34m(self)\u001b[0m\n\u001b[1;32m    816\u001b[0m results \u001b[38;5;241m=\u001b[39m {}\n\u001b[1;32m    818\u001b[0m \u001b[38;5;28;01mwith\u001b[39;00m option_context(\u001b[38;5;124m\"\u001b[39m\u001b[38;5;124mmode.chained_assignment\u001b[39m\u001b[38;5;124m\"\u001b[39m, \u001b[38;5;28;01mNone\u001b[39;00m):\n\u001b[0;32m--> 819\u001b[0m     \u001b[38;5;28;01mfor\u001b[39;00m i, v \u001b[38;5;129;01min\u001b[39;00m \u001b[38;5;28menumerate\u001b[39m(series_gen):\n\u001b[1;32m    820\u001b[0m         \u001b[38;5;66;03m# ignore SettingWithCopy here in case the user mutates\u001b[39;00m\n\u001b[1;32m    821\u001b[0m         results[i] \u001b[38;5;241m=\u001b[39m \u001b[38;5;28mself\u001b[39m\u001b[38;5;241m.\u001b[39mf(v)\n\u001b[1;32m    822\u001b[0m         \u001b[38;5;28;01mif\u001b[39;00m \u001b[38;5;28misinstance\u001b[39m(results[i], ABCSeries):\n\u001b[1;32m    823\u001b[0m             \u001b[38;5;66;03m# If we have a view on v, we need to make a copy because\u001b[39;00m\n\u001b[1;32m    824\u001b[0m             \u001b[38;5;66;03m#  series_generator will swap out the underlying data\u001b[39;00m\n",
      "File \u001b[0;32m/share/apps/python-3.8.5-shared/lib/python3.8/site-packages/pandas/core/apply.py:949\u001b[0m, in \u001b[0;36mFrameColumnApply.series_generator\u001b[0;34m(self)\u001b[0m\n\u001b[1;32m    946\u001b[0m         \u001b[38;5;28;01myield\u001b[39;00m obj\u001b[38;5;241m.\u001b[39m_ixs(i, axis\u001b[38;5;241m=\u001b[39m\u001b[38;5;241m0\u001b[39m)\n\u001b[1;32m    948\u001b[0m \u001b[38;5;28;01melse\u001b[39;00m:\n\u001b[0;32m--> 949\u001b[0m     \u001b[38;5;28;01mfor\u001b[39;00m (arr, name) \u001b[38;5;129;01min\u001b[39;00m \u001b[38;5;28mzip\u001b[39m(values, \u001b[38;5;28mself\u001b[39m\u001b[38;5;241m.\u001b[39mindex):\n\u001b[1;32m    950\u001b[0m         \u001b[38;5;66;03m# GH#35462 re-pin mgr in case setitem changed it\u001b[39;00m\n\u001b[1;32m    951\u001b[0m         ser\u001b[38;5;241m.\u001b[39m_mgr \u001b[38;5;241m=\u001b[39m mgr\n\u001b[1;32m    952\u001b[0m         mgr\u001b[38;5;241m.\u001b[39mset_values(arr)\n",
      "\u001b[0;31mKeyboardInterrupt\u001b[0m: "
     ]
    }
   ],
   "source": [
    "for d in pd.date_range(dt.date(2019,1,2), dt.date(2019,3,31)):\n",
    "            l = dataLoader.Loader(\"AAPL.OQ\", d, d, nlevels = 2, dataPath = \"/SAN/fca/Konark_PhD_Experiments/extracted/\")\n",
    "            data = l.load()\n",
    "            if len(data):\n",
    "                # ask price new < ask price prev or bid price new > bid price prev and event type = LO\n",
    "                for i in range(len(data)):\n",
    "                    df = data[i]\n",
    "                    df['BidDiff'] = df['Bid Price 1'].diff()\n",
    "                    df['AskDiff'] = df['Ask Price 1'].diff()\n",
    "                    df = df.iloc[1:]\n",
    "                    df['inspread'] = ((df.Type == 1)&((df['BidDiff'] > 0)|(df['AskDiff'] < 0))).astype(int)\n",
    "                    df['prev spread'] = df.BidDiff - df.AskDiff + df['Ask Price 1'] - df['Bid Price 1']\n",
    "                    df['seqNo'] = np.arange(len(df))\n",
    "                    data[i] = df\n",
    "                # df_inspread_bid = df_inspread.loc[df_inspread.TradeDirection == 1]\n",
    "        \n",
    "                for df_inspread in data:\n",
    "                    df_inspread_bid = df_inspread.loc[df_inspread.TradeDirection == 1]\n",
    "                    df_inspread_bid = df_inspread_bid.set_index([df_inspread_bid.apply(lambda x : dt.datetime.strptime(x['Date'], \"%Y-%m-%d\")+dt.timedelta(seconds=x['Time']), axis = 1 ), 'seqNo'])\n",
    "                    tau = 1e-6\n",
    "                    s = df_inspread_bid.sort_index(ascending=False).reset_index().set_index('level_0').rolling(window = dt.timedelta(seconds=tau))['inspread'].sum()\n",
    "                    s=s.to_frame()\n",
    "                    s['seqNo'] = df_inspread_bid.sort_index(ascending=False).reset_index().set_index('level_0')['seqNo']\n",
    "                    s = s.reset_index().set_index(['level_0','seqNo'])\n",
    "                    df_inspread_bid['Count0.01sec'] = s\n",
    "                    df_inspread_bid['prev spread ticks'] = (df_inspread_bid['prev spread']*100).apply(np.round).astype(int)\n",
    "                    inspreadInt.append(df_inspread_bid.groupby(\"prev spread ticks\")['Count0.01sec'].apply(np.average))\n",
    "                    counts.append(df_inspread_bid.groupby(\"prev spread ticks\")['Count0.01sec'].count())"
   ]
  },
  {
   "cell_type": "code",
   "execution_count": 90,
   "id": "ac547b03-017e-4e2d-9f08-abe1a0eceb4c",
   "metadata": {},
   "outputs": [
    {
     "data": {
      "image/png": "[encoded data removed]",
      "text/plain": [
       "<Figure size 640x480 with 1 Axes>"
      ]
     },
     "metadata": {},
     "output_type": "display_data"
    }
   ],
   "source": [
    "for inD in inspreadInt:\n",
    "    inD = inD.loc[inD.index < 60]\n",
    "    plt.plot(inD, 'b.')\n",
    "    plt.title(\"Tesla\")"
   ]
  },
  {
   "cell_type": "code",
   "execution_count": 95,
   "id": "1c700d17-6b8d-4051-87d2-1cd6c8fe58e3",
   "metadata": {},
   "outputs": [
    {
     "data": {
      "image/png": "[encoded data removed]",
      "text/plain": [
       "<Figure size 640x480 with 1 Axes>"
      ]
     },
     "metadata": {},
     "output_type": "display_data"
    }
   ],
   "source": [
    "for inD in inspreadInt:\n",
    "    inD = inD.loc[inD.index < 12]\n",
    "    plt.plot(inD, 'b.')\n",
    "    plt.title(\"INTC\")"
   ]
  },
  {
   "cell_type": "code",
   "execution_count": 1,
   "id": "36f332b4-e318-4a42-8e15-a79741fcea24",
   "metadata": {},
   "outputs": [],
   "source": [
    "import pickle\n",
    "with open(\"/SAN/fca/Konark_PhD_Experiments/spread_data_AAPL.OQ_2019-01-02_2019-03-31\", \"rb\") as f:\n",
    "    inspreadInt, counts = pickle.load(f)"
   ]
  },
  {
   "cell_type": "code",
   "execution_count": null,
   "id": "4b0abc0d-e37a-4c2e-93ee-6a707a682c53",
   "metadata": {},
   "outputs": [],
   "source": [
    "counts"
   ]
  },
  {
   "cell_type": "code",
   "execution_count": 183,
   "id": "0f7e70ce-ae0d-48a6-9f74-5760864aa4ee",
   "metadata": {},
   "outputs": [
    {
     "data": {
      "image/png": "[encoded data removed]",
      "text/plain": [
       "<Figure size 640x480 with 2 Axes>"
      ]
     },
     "metadata": {},
     "output_type": "display_data"
    }
   ],
   "source": [
    "fig, ax1 = plt.subplots()\n",
    "x = weights.index.unique()\n",
    "ax2 = ax1.twinx()\n",
    "\n",
    "ax2.bar(x+1, 100*weights.reset_index().groupby('prev spread ticks').mean().values.flatten(), color = 'pink', alpha = 0.5)\n",
    "\n",
    "ax1.plot(df, 'b.', alpha = 0.7)\n",
    "ax1.set_title(\"Intel\")\n",
    "y = [np.exp(-3.22)*i**0.9410 for i in (x+1)]\n",
    "ax1.plot(x+1, y, 'r')\n",
    "\n",
    "ax1.set_xlabel('Spread in Ticks')\n",
    "ax1.set_ylabel('Intensity (in-spread)')\n",
    "ax2.set_ylabel('%age datapoints')\n",
    "\n",
    "plt.show()"
   ]
  },
  {
   "cell_type": "code",
   "execution_count": 188,
   "id": "2ef31552-907a-47b6-827d-8c6cc57a83cd",
   "metadata": {},
   "outputs": [
    {
     "data": {
      "image/png": "[encoded data removed]",
      "text/plain": [
       "<Figure size 640x480 with 2 Axes>"
      ]
     },
     "metadata": {},
     "output_type": "display_data"
    }
   ],
   "source": [
    "fig, ax1 = plt.subplots()\n",
    "x = [2,3,4,5,6,7,8,9]\n",
    "ax2 = ax1.twinx()\n",
    "ax2.bar(x, 100*weights.reset_index().groupby('prev spread ticks').mean().values.flatten(), color = 'pink', alpha = 0.5)\n",
    "\n",
    "for inD in inspreadInt:\n",
    "    inD = inD.loc[inD.index < 10]\n",
    "    ax1.plot(inD, 'b.', alpha = 0.7)\n",
    "    ax1.set_title(\"Apple\")\n",
    "\n",
    "y = [np.exp(-3.04)*i**0.7479 for i in x]\n",
    "ax1.plot(x, y, 'r')\n",
    "\n",
    "ax1.set_xlabel('Spread in Ticks')\n",
    "ax1.set_ylabel('Intensity (in-spread)')\n",
    "ax2.set_ylabel('%age datapoints')\n",
    "\n",
    "plt.show()"
   ]
  },
  {
   "cell_type": "code",
   "execution_count": 186,
   "id": "fb41b085-c4c6-4755-b044-ff7f872d6110",
   "metadata": {},
   "outputs": [
    {
     "name": "stdout",
     "output_type": "stream",
     "text": [
      "                            OLS Regression Results                            \n",
      "==============================================================================\n",
      "Dep. Variable:           Count0.01sec   R-squared:                       0.634\n",
      "Model:                            OLS   Adj. R-squared:                  0.633\n",
      "Method:                 Least Squares   F-statistic:                     840.5\n",
      "Date:                Fri, 22 Dec 2023   Prob (F-statistic):          4.89e-108\n",
      "Time:                        13:54:28   Log-Likelihood:                -61.374\n",
      "No. Observations:                 488   AIC:                             126.7\n",
      "Df Residuals:                     486   BIC:                             135.1\n",
      "Df Model:                           1                                         \n",
      "Covariance Type:            nonrobust                                         \n",
      "==============================================================================\n",
      "                 coef    std err          t      P>|t|      [0.025      0.975]\n",
      "------------------------------------------------------------------------------\n",
      "const         -3.0458      0.043    -70.643      0.000      -3.131      -2.961\n",
      "x1             0.7479      0.026     28.992      0.000       0.697       0.799\n",
      "==============================================================================\n",
      "Omnibus:                       50.963   Durbin-Watson:                   1.420\n",
      "Prob(Omnibus):                  0.000   Jarque-Bera (JB):               86.853\n",
      "Skew:                          -0.664   Prob(JB):                     1.38e-19\n",
      "Kurtosis:                       4.584   Cond. No.                         7.73\n",
      "==============================================================================\n",
      "\n",
      "Notes:\n",
      "[1] Standard Errors assume that the covariance matrix of the errors is correctly specified.\n"
     ]
    }
   ],
   "source": [
    "import statsmodels.api as sm\n",
    "df = pd.concat(inspreadInt)\n",
    "c = pd.concat([c/c.sum() for c in counts])\n",
    "df = df.loc[df.index > 1]\n",
    "df = df.loc[df.index < 10]\n",
    "X = np.log(df.index.values)\n",
    "y = df.apply(lambda x: np.log(x) if x > 0 else -4)\n",
    "X = sm.add_constant(X)\n",
    "\n",
    "c = c.loc[c.index > 1]\n",
    "c = c.loc[c.index < 10]\n",
    "weights = c\n",
    "mod_wls = sm.OLS(y,X) #sm.WLS(y, X, weights=weights)\n",
    "res_wls = mod_wls.fit()\n",
    "print(res_wls.summary())"
   ]
  },
  {
   "cell_type": "code",
   "execution_count": 175,
   "id": "af0bc0ee-b72b-415d-9a6b-9d5ab6991a21",
   "metadata": {},
   "outputs": [
    {
     "data": {
      "text/plain": [
       "prev spread ticks\n",
       "2    0.076126\n",
       "3    0.001253\n",
       "4    0.000392\n",
       "2    0.089068\n",
       "3    0.000545\n",
       "       ...   \n",
       "3    0.001471\n",
       "4    0.000259\n",
       "2    0.063315\n",
       "3    0.001057\n",
       "4    0.000401\n",
       "Name: Count0.01sec, Length: 150, dtype: float64"
      ]
     },
     "execution_count": 175,
     "metadata": {},
     "output_type": "execute_result"
    }
   ],
   "source": [
    "c"
   ]
  },
  {
   "cell_type": "code",
   "execution_count": 123,
   "id": "49906571-295b-40b6-bd4b-79a9aa461e2d",
   "metadata": {},
   "outputs": [
    {
     "data": {
      "image/png": "[encoded data removed]",
      "text/plain": [
       "<Figure size 640x480 with 2 Axes>"
      ]
     },
     "metadata": {},
     "output_type": "display_data"
    }
   ],
   "source": [
    "fig, ax1 = plt.subplots()\n",
    "\n",
    "ax2 = ax1.twinx()\n",
    "x = weights.reset_index().groupby('prev spread ticks').mean().index\n",
    "ax2.bar(x, 100*weights.reset_index().groupby('prev spread ticks').mean().values.flatten(), color = 'pink', alpha = 0.5)\n",
    "\n",
    "for inD in inspreadInt:\n",
    "    inD = inD.loc[inD.index < 50]\n",
    "    ax1.plot(inD, 'b.', alpha = 0.7)\n",
    "    ax1.set_title(\"Tesla\")\n",
    "x = np.arange(2,50)\n",
    "y = [np.exp(-3.8257)*i**0.5283 for i in x]\n",
    "ax1.plot(x, y, 'r')\n",
    "\n",
    "ax1.set_xlabel('Spread in Ticks')\n",
    "ax1.set_ylabel('Intensity (in-spread)')\n",
    "ax2.set_ylabel('%age datapoints')\n",
    "\n",
    "plt.show()"
   ]
  },
  {
   "cell_type": "code",
   "execution_count": 134,
   "id": "32ff7c10-bdc1-4733-bdd2-800aff9c7957",
   "metadata": {},
   "outputs": [
    {
     "data": {
      "image/png": "[encoded data removed]",
      "text/plain": [
       "<Figure size 640x480 with 2 Axes>"
      ]
     },
     "metadata": {},
     "output_type": "display_data"
    }
   ],
   "source": [
    "fig, ax1 = plt.subplots()\n",
    "\n",
    "ax2 = ax1.twinx()\n",
    "x = weights.reset_index().groupby('prev spread ticks').mean().index\n",
    "ax2.bar(x, 100*weights.reset_index().groupby('prev spread ticks').mean().values.flatten(), color = 'pink', alpha = 0.5)\n",
    "\n",
    "for inD in inspreadInt:\n",
    "    inD = inD.loc[inD.index < 125]\n",
    "    ax1.plot(inD, 'b.', alpha = 0.7)\n",
    "    ax1.set_title(\"Amazon\")\n",
    "x = np.arange(2,125)\n",
    "y = [np.exp(-4.7631)*i**0.5966 for i in x]\n",
    "ax1.plot(x, y, 'r')\n",
    "\n",
    "ax1.set_xlabel('Spread in Ticks')\n",
    "ax1.set_ylabel('Intensity (in-spread)')\n",
    "ax2.set_ylabel('%age datapoints')\n",
    "\n",
    "plt.show()"
   ]
  },
  {
   "cell_type": "code",
   "execution_count": 88,
   "id": "84231ec2-e053-4df4-9947-7403abf3896c",
   "metadata": {},
   "outputs": [
    {
     "data": {
      "text/plain": [
       "array([0.38134231, 0.11026085, 0.03075089, 0.01040742, 0.00419026,\n",
       "       0.00180496, 0.00076489, 0.0004359 ])"
      ]
     },
     "execution_count": 88,
     "metadata": {},
     "output_type": "execute_result"
    }
   ],
   "source": [
    "# intc : 0.941\n",
    "# apple : 0.7479\n",
    "# tsla: 0.5283\n",
    "# amzn: 0.5966"
   ]
  },
  {
   "cell_type": "markdown",
   "id": "686fe267-edca-49fa-89a3-68c8d5fcff76",
   "metadata": {},
   "source": [
    "# TOD parameterization"
   ]
  },
  {
   "cell_type": "code",
   "execution_count": null,
   "id": "de202dd5-c14d-4792-b2ea-2cb61c834c2b",
   "metadata": {},
   "outputs": [
    {
     "name": "stderr",
     "output_type": "stream",
     "text": [
      "/home/konajain/.local/lib/python3.8/site-packages/IPython/core/interactiveshell.py:3508: DtypeWarning: Columns (7) have mixed types.Specify dtype option on import or set low_memory=False.\n",
      "  exec(code_obj, self.user_global_ns, self.user_ns)\n"
     ]
    }
   ],
   "source": [
    "dfs = []\n",
    "for d in pd.date_range(dt.date(2019,1,2), dt.date(2019,3,31)):\n",
    "    try:\n",
    "        df = pd.read_csv(\"/SAN/fca/Konark_PhD_Experiments/extracted/INTC.OQ_\"+d.strftime(\"%Y-%m-%d\")+\"_12D.csv\")\n",
    "        dfs.append(df)\n",
    "    except:\n",
    "        continue\n",
    "df = pd.concat(dfs)"
   ]
  },
  {
   "cell_type": "code",
   "execution_count": null,
   "id": "0b58a0de-e82b-40c4-8158-cd744f371014",
   "metadata": {},
   "outputs": [],
   "source": [
    "# Special Date:\n",
    "specDate = {\n",
    "            \"MEXP\" : [dt.date(2019,1,18), dt.date(2019,2,15), dt.date(2019,4,18), dt.date(2019,5,17), dt.date(2019,7,19), dt.date(2019,8,16), dt.date(2019,10,18), dt.date(2019,11,15), dt.date(2020,1,17), dt.date(2020,2,21), dt.date(2020,4,17), dt.date(2020,5,15)],\n",
    "            \"FOMC3\" : [dt.date(2019,1,30), dt.date(2019,3,20), dt.date(2019,5,1), dt.date(2019,6,19), dt.date(2019,7,31), dt.date(2019,9,18), dt.date(2019,10,30), dt.date(2019,12,11), dt.date(2020,1,29), dt.date(2020,3,18), dt.date(2020,4,29), dt.date(2020,6,10)],\n",
    "            \"MEND\" : [dt.date(2019,1,31), dt.date(2019,4,30), dt.date(2019,5,31), dt.date(2019,10,31), dt.date(2020,1,31), dt.date(2020,4, 30)],\n",
    "            \"MSCIQ\" : [dt.date(2019,2,28), dt.date(2019,8,27), dt.date(2020,2,28)],\n",
    "            \"QEXP\" : [dt.date(2019,3,15), dt.date(2019,6,21), dt.date(2019,9,20), dt.date(2019,12,20), dt.date(2020,3,20), dt.date(2020,6,19) ],\n",
    "            \"QEND\" : [dt.date(2019,3,29), dt.date(2019,6,28), dt.date(2019,9,30), dt.date(2019,12,31), dt.date(2020,3,31), dt.date(2020,6,30)],\n",
    "            \"MSCIS\" : [dt.date(2019,5,28), dt.date(2019,11,26), dt.date(2020,5,29)],\n",
    "            \"HALF\" : [dt.date(2019,7,3), dt.date(2019,11,29), dt.date(2019,12,24)],\n",
    "            \"DISRUPTION\" : [dt.date(2020,3,9), dt.date(2020,3,12), dt.date(2020,3,16)],\n",
    "            \"RSL\" : [dt.date(2020,6,26)]\n",
    "            }"
   ]
  },
  {
   "cell_type": "code",
   "execution_count": null,
   "id": "c5e08532-04fa-47c9-9f70-8644bdf95d4a",
   "metadata": {},
   "outputs": [],
   "source": [
    "df.head()"
   ]
  },
  {
   "cell_type": "code",
   "execution_count": null,
   "id": "d7dccc4f-5778-4da1-a289-c225b096cfba",
   "metadata": {},
   "outputs": [],
   "source": [
    "df.event.unique()"
   ]
  },
  {
   "cell_type": "code",
   "execution_count": null,
   "id": "64772dd9-55a9-4513-aa77-f905affc1671",
   "metadata": {},
   "outputs": [],
   "source": [
    "e = \"lo_deep_Bid\"\n",
    "df['halfHourId'] = df['Time'].apply(lambda x: int(np.floor(x/1800)))"
   ]
  },
  {
   "cell_type": "code",
   "execution_count": null,
   "id": "a2ff1e87-4831-40ea-9988-5472c24e9e1c",
   "metadata": {},
   "outputs": [],
   "source": [
    "df = df.loc[df.Date.apply(lambda x: x not in [\"2019-01-09\", \"2019-01-18\", \"2019-01-30\", \"2019-01-31\"])] "
   ]
  },
  {
   "cell_type": "code",
   "execution_count": null,
   "id": "7364185b-797e-4c94-bc0f-b9ad5fde2a96",
   "metadata": {},
   "outputs": [],
   "source": [
    "\n",
    "\n",
    "for e in df.event.unique():\n",
    "    fig = plt.figure()\n",
    "    df_e = df.loc[df.event == e].groupby([\"Date\",\"halfHourId\"])['Time'].count().reset_index().groupby(\"halfHourId\").mean()\n",
    "    plt.plot(df_e)\n",
    "    plt.title(e)\n",
    "    plt.show()"
   ]
  },
  {
   "cell_type": "code",
   "execution_count": null,
   "id": "106ba324-390b-42f2-bd62-f67fd4079c16",
   "metadata": {},
   "outputs": [],
   "source": [
    "for e in df.event.unique():\n",
    "    fig = plt.figure()\n",
    "    df_e = df.loc[df.event == e].groupby([\"Date\",\"halfHourId\"])['Time'].count().reset_index().groupby(\"halfHourId\").mean()\n",
    "    plt.plot(df_e)\n",
    "    plt.title(e)\n",
    "    plt.show()"
   ]
  },
  {
   "cell_type": "code",
   "execution_count": 11,
   "id": "888626b8-c644-431d-bf91-31fcb720da6e",
   "metadata": {},
   "outputs": [
    {
     "data": {
      "text/plain": [
       "{0: 2380.3536585365855,\n",
       " 1: 1696.4567901234568,\n",
       " 2: 1338.6296296296296,\n",
       " 3: 1170.9135802469136,\n",
       " 4: 1098.1358024691358,\n",
       " 5: 913.1851851851852,\n",
       " 6: 899.320987654321,\n",
       " 7: 821.8641975308642,\n",
       " 8: 784.6666666666666,\n",
       " 9: 874.2592592592592,\n",
       " 10: 905.7901234567901,\n",
       " 11: 1011.074074074074,\n",
       " 12: 1686.8395061728395}"
      ]
     },
     "execution_count": 11,
     "metadata": {},
     "output_type": "execute_result"
    }
   ],
   "source": [
    "df_e.to_dict()['Time']"
   ]
  },
  {
   "cell_type": "markdown",
   "id": "9e750538-a6ff-4f02-a99a-dadaf9a29815",
   "metadata": {},
   "source": [
    "# Average Spread"
   ]
  },
  {
   "cell_type": "code",
   "execution_count": 1,
   "id": "59b23e1f-7daa-4ebc-9931-41c99488f61a",
   "metadata": {},
   "outputs": [],
   "source": [
    "import numpy as np\n",
    "import pandas as pd\n",
    "import datetime as dt"
   ]
  },
  {
   "cell_type": "code",
   "execution_count": 13,
   "id": "8dcf7162-5bb6-431e-b28e-3aca4f21fef0",
   "metadata": {},
   "outputs": [],
   "source": [
    "\n",
    "ric = \"TSLA.OQ\""
   ]
  },
  {
   "cell_type": "code",
   "execution_count": null,
   "id": "c3070868-2e55-45cf-ad4c-e268305c3f55",
   "metadata": {},
   "outputs": [],
   "source": [
    "spreads = []\n",
    "for d in pd.date_range(dt.date(2019,1,2), dt.date(2019,3,31)):\n",
    "            l = dataLoader.Loader(ric, d, d, nlevels = 2, dataPath = \"/SAN/fca/Konark_PhD_Experiments/extracted/\")\n",
    "            data = l.load()\n",
    "            if len(data):\n",
    "                for df in data:\n",
    "                    df['spread'] = df['Ask Price 1'] - df['Bid Price 1']\n",
    "                    s = df[['Time','spread']]\n",
    "                    s['Time'] = s['Time'].diff()\n",
    "                    spr = s.iloc[1:]\n",
    "            spreads+=[sum(spr.Time*spr.spread)/(sum(spr.Time))]"
   ]
  },
  {
   "cell_type": "code",
   "execution_count": 25,
   "id": "e0d8dc5d-cfb4-4bd0-bdd2-a02fa9c64f48",
   "metadata": {},
   "outputs": [
    {
     "data": {
      "text/plain": [
       "0.01690555032073594"
      ]
     },
     "execution_count": 25,
     "metadata": {},
     "output_type": "execute_result"
    }
   ],
   "source": [
    "# aapl\n",
    "sum(spr.Time*spr.spread)/(sum(spr.Time))"
   ]
  },
  {
   "cell_type": "code",
   "execution_count": 8,
   "id": "45a5344a-9bc6-41d4-aa77-f598cdc9a660",
   "metadata": {},
   "outputs": [
    {
     "data": {
      "text/plain": [
       "0.010145469326510061"
      ]
     },
     "execution_count": 8,
     "metadata": {},
     "output_type": "execute_result"
    }
   ],
   "source": [
    "# intc\n",
    "np.average(spreads)"
   ]
  },
  {
   "cell_type": "code",
   "execution_count": 12,
   "id": "6296acd0-97a4-478e-bdc4-54ed67f57f67",
   "metadata": {},
   "outputs": [
    {
     "data": {
      "text/plain": [
       "0.1617587373900753"
      ]
     },
     "execution_count": 12,
     "metadata": {},
     "output_type": "execute_result"
    }
   ],
   "source": [
    "# tsla\n",
    "np.average(spreads)"
   ]
  },
  {
   "cell_type": "code",
   "execution_count": 15,
   "id": "5df1fc84-d83a-4d05-9828-e0ba6bec2578",
   "metadata": {},
   "outputs": [
    {
     "data": {
      "text/plain": [
       "0.5183059875370096"
      ]
     },
     "execution_count": 15,
     "metadata": {},
     "output_type": "execute_result"
    }
   ],
   "source": [
    "# Amz\n",
    "np.average(spreads)"
   ]
  },
  {
   "cell_type": "markdown",
   "id": "f098fe80-07c8-4d27-939c-e5ab86370103",
   "metadata": {},
   "source": [
    "# Order Size Distributions"
   ]
  },
  {
   "cell_type": "code",
   "execution_count": 7,
   "id": "93c5285d-96a0-4449-8f3f-fcd4494fa34c",
   "metadata": {},
   "outputs": [],
   "source": [
    "import numpy as np\n",
    "import pandas as pd\n",
    "import datetime as dt\n",
    "import matplotlib.pyplot as plt"
   ]
  },
  {
   "cell_type": "code",
   "execution_count": 8,
   "id": "0ffa702c-a5b4-45c5-b0ff-58c8852babab",
   "metadata": {},
   "outputs": [],
   "source": [
    "ric = \"INTC.OQ\""
   ]
  },
  {
   "cell_type": "code",
   "execution_count": 9,
   "id": "d8b27e12-4494-4c50-9a8c-7b2300dfaa21",
   "metadata": {},
   "outputs": [],
   "source": [
    "col = ['Ask Price ', 'Ask Size ', 'Bid Price ', 'Bid Size ']\n",
    "if True:\n",
    "            theNames = []\n",
    "            cols = []\n",
    "            for i in range(1, 11):\n",
    "                for j in col:\n",
    "                    cols.append(str(j)+str(i))\n",
    "                    theNames.append(str(j) + str(i))"
   ]
  },
  {
   "cell_type": "code",
   "execution_count": 10,
   "id": "4a710ea6-0364-4a9a-9c44-98c0cefde9d4",
   "metadata": {},
   "outputs": [
    {
     "name": "stderr",
     "output_type": "stream",
     "text": [
      "/home/konajain/.local/lib/python3.8/site-packages/IPython/core/interactiveshell.py:3508: DtypeWarning: Columns (6) have mixed types.Specify dtype option on import or set low_memory=False.\n",
      "  exec(code_obj, self.user_global_ns, self.user_ns)\n"
     ]
    }
   ],
   "source": [
    "data = pd.read_csv(\"/SAN/fca/Konark_PhD_Experiments/extracted/AMZN_2019-01-02_34200000_57600000_orderbook_10.csv\", names=theNames)\n",
    "theMessageBook = pd.read_csv(\"/SAN/fca/Konark_PhD_Experiments/extracted/AMZN_2019-01-02_34200000_57600000_message_10.csv\", names=['Time', 'Type', 'OrderID', 'Size', 'Price', 'TradeDirection', 'tmp'])\n",
    "data = pd.concat([theMessageBook , data], axis = 1)"
   ]
  },
  {
   "cell_type": "code",
   "execution_count": 5,
   "id": "7b050bbe-f320-405d-b95c-367fae4fdc49",
   "metadata": {},
   "outputs": [
    {
     "data": {
      "text/html": [
       "<div>\n",
       "<style scoped>\n",
       "    .dataframe tbody tr th:only-of-type {\n",
       "        vertical-align: middle;\n",
       "    }\n",
       "\n",
       "    .dataframe tbody tr th {\n",
       "        vertical-align: top;\n",
       "    }\n",
       "\n",
       "    .dataframe thead th {\n",
       "        text-align: right;\n",
       "    }\n",
       "</style>\n",
       "<table border=\"1\" class=\"dataframe\">\n",
       "  <thead>\n",
       "    <tr style=\"text-align: right;\">\n",
       "      <th></th>\n",
       "      <th>Time</th>\n",
       "      <th>Type</th>\n",
       "      <th>OrderID</th>\n",
       "      <th>Size</th>\n",
       "      <th>Price</th>\n",
       "      <th>TradeDirection</th>\n",
       "      <th>tmp</th>\n",
       "      <th>Ask Price 1</th>\n",
       "      <th>Ask Size 1</th>\n",
       "      <th>Bid Price 1</th>\n",
       "      <th>...</th>\n",
       "      <th>Bid Price 8</th>\n",
       "      <th>Bid Size 8</th>\n",
       "      <th>Ask Price 9</th>\n",
       "      <th>Ask Size 9</th>\n",
       "      <th>Bid Price 9</th>\n",
       "      <th>Bid Size 9</th>\n",
       "      <th>Ask Price 10</th>\n",
       "      <th>Ask Size 10</th>\n",
       "      <th>Bid Price 10</th>\n",
       "      <th>Bid Size 10</th>\n",
       "    </tr>\n",
       "  </thead>\n",
       "  <tbody>\n",
       "    <tr>\n",
       "      <th>60</th>\n",
       "      <td>34200.071059</td>\n",
       "      <td>4</td>\n",
       "      <td>5277865</td>\n",
       "      <td>2</td>\n",
       "      <td>14652200</td>\n",
       "      <td>-1</td>\n",
       "      <td>NaN</td>\n",
       "      <td>14657500</td>\n",
       "      <td>10</td>\n",
       "      <td>14651500</td>\n",
       "      <td>...</td>\n",
       "      <td>14635600</td>\n",
       "      <td>1</td>\n",
       "      <td>14695000</td>\n",
       "      <td>5</td>\n",
       "      <td>14635000</td>\n",
       "      <td>500</td>\n",
       "      <td>14700000</td>\n",
       "      <td>112</td>\n",
       "      <td>14620000</td>\n",
       "      <td>16</td>\n",
       "    </tr>\n",
       "    <tr>\n",
       "      <th>61</th>\n",
       "      <td>34200.071059</td>\n",
       "      <td>4</td>\n",
       "      <td>8494337</td>\n",
       "      <td>10</td>\n",
       "      <td>14657500</td>\n",
       "      <td>-1</td>\n",
       "      <td>NaN</td>\n",
       "      <td>14660000</td>\n",
       "      <td>527</td>\n",
       "      <td>14651500</td>\n",
       "      <td>...</td>\n",
       "      <td>14635600</td>\n",
       "      <td>1</td>\n",
       "      <td>14700000</td>\n",
       "      <td>112</td>\n",
       "      <td>14635000</td>\n",
       "      <td>500</td>\n",
       "      <td>14710000</td>\n",
       "      <td>6</td>\n",
       "      <td>14620000</td>\n",
       "      <td>16</td>\n",
       "    </tr>\n",
       "    <tr>\n",
       "      <th>62</th>\n",
       "      <td>34200.071707</td>\n",
       "      <td>4</td>\n",
       "      <td>3629729</td>\n",
       "      <td>3</td>\n",
       "      <td>14651500</td>\n",
       "      <td>1</td>\n",
       "      <td>NaN</td>\n",
       "      <td>14660000</td>\n",
       "      <td>527</td>\n",
       "      <td>14651500</td>\n",
       "      <td>...</td>\n",
       "      <td>14635600</td>\n",
       "      <td>1</td>\n",
       "      <td>14700000</td>\n",
       "      <td>112</td>\n",
       "      <td>14635000</td>\n",
       "      <td>500</td>\n",
       "      <td>14710000</td>\n",
       "      <td>6</td>\n",
       "      <td>14620000</td>\n",
       "      <td>16</td>\n",
       "    </tr>\n",
       "    <tr>\n",
       "      <th>63</th>\n",
       "      <td>34200.071707</td>\n",
       "      <td>4</td>\n",
       "      <td>7534141</td>\n",
       "      <td>1</td>\n",
       "      <td>14651500</td>\n",
       "      <td>1</td>\n",
       "      <td>NaN</td>\n",
       "      <td>14660000</td>\n",
       "      <td>527</td>\n",
       "      <td>14650900</td>\n",
       "      <td>...</td>\n",
       "      <td>14635000</td>\n",
       "      <td>500</td>\n",
       "      <td>14700000</td>\n",
       "      <td>112</td>\n",
       "      <td>14620000</td>\n",
       "      <td>16</td>\n",
       "      <td>14710000</td>\n",
       "      <td>6</td>\n",
       "      <td>14611600</td>\n",
       "      <td>1</td>\n",
       "    </tr>\n",
       "    <tr>\n",
       "      <th>64</th>\n",
       "      <td>34200.072077</td>\n",
       "      <td>1</td>\n",
       "      <td>8657297</td>\n",
       "      <td>10</td>\n",
       "      <td>14660000</td>\n",
       "      <td>-1</td>\n",
       "      <td>NaN</td>\n",
       "      <td>14660000</td>\n",
       "      <td>537</td>\n",
       "      <td>14650900</td>\n",
       "      <td>...</td>\n",
       "      <td>14635000</td>\n",
       "      <td>500</td>\n",
       "      <td>14700000</td>\n",
       "      <td>112</td>\n",
       "      <td>14620000</td>\n",
       "      <td>16</td>\n",
       "      <td>14710000</td>\n",
       "      <td>6</td>\n",
       "      <td>14611600</td>\n",
       "      <td>1</td>\n",
       "    </tr>\n",
       "    <tr>\n",
       "      <th>...</th>\n",
       "      <td>...</td>\n",
       "      <td>...</td>\n",
       "      <td>...</td>\n",
       "      <td>...</td>\n",
       "      <td>...</td>\n",
       "      <td>...</td>\n",
       "      <td>...</td>\n",
       "      <td>...</td>\n",
       "      <td>...</td>\n",
       "      <td>...</td>\n",
       "      <td>...</td>\n",
       "      <td>...</td>\n",
       "      <td>...</td>\n",
       "      <td>...</td>\n",
       "      <td>...</td>\n",
       "      <td>...</td>\n",
       "      <td>...</td>\n",
       "      <td>...</td>\n",
       "      <td>...</td>\n",
       "      <td>...</td>\n",
       "      <td>...</td>\n",
       "    </tr>\n",
       "    <tr>\n",
       "      <th>880432</th>\n",
       "      <td>57599.977380</td>\n",
       "      <td>1</td>\n",
       "      <td>400111773</td>\n",
       "      <td>602</td>\n",
       "      <td>15391300</td>\n",
       "      <td>-1</td>\n",
       "      <td>NaN</td>\n",
       "      <td>15391300</td>\n",
       "      <td>602</td>\n",
       "      <td>15390100</td>\n",
       "      <td>...</td>\n",
       "      <td>15387300</td>\n",
       "      <td>382</td>\n",
       "      <td>15400600</td>\n",
       "      <td>3</td>\n",
       "      <td>15387100</td>\n",
       "      <td>500</td>\n",
       "      <td>15401600</td>\n",
       "      <td>100</td>\n",
       "      <td>15386800</td>\n",
       "      <td>5</td>\n",
       "    </tr>\n",
       "    <tr>\n",
       "      <th>880433</th>\n",
       "      <td>57599.977422</td>\n",
       "      <td>4</td>\n",
       "      <td>400111773</td>\n",
       "      <td>1</td>\n",
       "      <td>15391300</td>\n",
       "      <td>-1</td>\n",
       "      <td>NaN</td>\n",
       "      <td>15391300</td>\n",
       "      <td>601</td>\n",
       "      <td>15390100</td>\n",
       "      <td>...</td>\n",
       "      <td>15387300</td>\n",
       "      <td>382</td>\n",
       "      <td>15400600</td>\n",
       "      <td>3</td>\n",
       "      <td>15387100</td>\n",
       "      <td>500</td>\n",
       "      <td>15401600</td>\n",
       "      <td>100</td>\n",
       "      <td>15386800</td>\n",
       "      <td>5</td>\n",
       "    </tr>\n",
       "    <tr>\n",
       "      <th>880434</th>\n",
       "      <td>57599.986050</td>\n",
       "      <td>4</td>\n",
       "      <td>400111773</td>\n",
       "      <td>1</td>\n",
       "      <td>15391300</td>\n",
       "      <td>-1</td>\n",
       "      <td>NaN</td>\n",
       "      <td>15391300</td>\n",
       "      <td>600</td>\n",
       "      <td>15390100</td>\n",
       "      <td>...</td>\n",
       "      <td>15387300</td>\n",
       "      <td>382</td>\n",
       "      <td>15400600</td>\n",
       "      <td>3</td>\n",
       "      <td>15387100</td>\n",
       "      <td>500</td>\n",
       "      <td>15401600</td>\n",
       "      <td>100</td>\n",
       "      <td>15386800</td>\n",
       "      <td>5</td>\n",
       "    </tr>\n",
       "    <tr>\n",
       "      <th>880435</th>\n",
       "      <td>57599.994558</td>\n",
       "      <td>4</td>\n",
       "      <td>400111773</td>\n",
       "      <td>1</td>\n",
       "      <td>15391300</td>\n",
       "      <td>-1</td>\n",
       "      <td>NaN</td>\n",
       "      <td>15391300</td>\n",
       "      <td>599</td>\n",
       "      <td>15390100</td>\n",
       "      <td>...</td>\n",
       "      <td>15387300</td>\n",
       "      <td>382</td>\n",
       "      <td>15400600</td>\n",
       "      <td>3</td>\n",
       "      <td>15387100</td>\n",
       "      <td>500</td>\n",
       "      <td>15401600</td>\n",
       "      <td>100</td>\n",
       "      <td>15386800</td>\n",
       "      <td>5</td>\n",
       "    </tr>\n",
       "    <tr>\n",
       "      <th>880436</th>\n",
       "      <td>57599.998975</td>\n",
       "      <td>1</td>\n",
       "      <td>400114305</td>\n",
       "      <td>100</td>\n",
       "      <td>15387300</td>\n",
       "      <td>1</td>\n",
       "      <td>NaN</td>\n",
       "      <td>15391300</td>\n",
       "      <td>599</td>\n",
       "      <td>15390100</td>\n",
       "      <td>...</td>\n",
       "      <td>15387300</td>\n",
       "      <td>482</td>\n",
       "      <td>15400600</td>\n",
       "      <td>3</td>\n",
       "      <td>15387100</td>\n",
       "      <td>500</td>\n",
       "      <td>15401600</td>\n",
       "      <td>100</td>\n",
       "      <td>15386800</td>\n",
       "      <td>5</td>\n",
       "    </tr>\n",
       "  </tbody>\n",
       "</table>\n",
       "<p>880377 rows × 47 columns</p>\n",
       "</div>"
      ],
      "text/plain": [
       "                Time  Type    OrderID  Size     Price  TradeDirection  tmp  \\\n",
       "60      34200.071059     4    5277865     2  14652200              -1  NaN   \n",
       "61      34200.071059     4    8494337    10  14657500              -1  NaN   \n",
       "62      34200.071707     4    3629729     3  14651500               1  NaN   \n",
       "63      34200.071707     4    7534141     1  14651500               1  NaN   \n",
       "64      34200.072077     1    8657297    10  14660000              -1  NaN   \n",
       "...              ...   ...        ...   ...       ...             ...  ...   \n",
       "880432  57599.977380     1  400111773   602  15391300              -1  NaN   \n",
       "880433  57599.977422     4  400111773     1  15391300              -1  NaN   \n",
       "880434  57599.986050     4  400111773     1  15391300              -1  NaN   \n",
       "880435  57599.994558     4  400111773     1  15391300              -1  NaN   \n",
       "880436  57599.998975     1  400114305   100  15387300               1  NaN   \n",
       "\n",
       "        Ask Price 1  Ask Size 1  Bid Price 1  ...  Bid Price 8  Bid Size 8  \\\n",
       "60         14657500          10     14651500  ...     14635600           1   \n",
       "61         14660000         527     14651500  ...     14635600           1   \n",
       "62         14660000         527     14651500  ...     14635600           1   \n",
       "63         14660000         527     14650900  ...     14635000         500   \n",
       "64         14660000         537     14650900  ...     14635000         500   \n",
       "...             ...         ...          ...  ...          ...         ...   \n",
       "880432     15391300         602     15390100  ...     15387300         382   \n",
       "880433     15391300         601     15390100  ...     15387300         382   \n",
       "880434     15391300         600     15390100  ...     15387300         382   \n",
       "880435     15391300         599     15390100  ...     15387300         382   \n",
       "880436     15391300         599     15390100  ...     15387300         482   \n",
       "\n",
       "        Ask Price 9  Ask Size 9  Bid Price 9  Bid Size 9  Ask Price 10  \\\n",
       "60         14695000           5     14635000         500      14700000   \n",
       "61         14700000         112     14635000         500      14710000   \n",
       "62         14700000         112     14635000         500      14710000   \n",
       "63         14700000         112     14620000          16      14710000   \n",
       "64         14700000         112     14620000          16      14710000   \n",
       "...             ...         ...          ...         ...           ...   \n",
       "880432     15400600           3     15387100         500      15401600   \n",
       "880433     15400600           3     15387100         500      15401600   \n",
       "880434     15400600           3     15387100         500      15401600   \n",
       "880435     15400600           3     15387100         500      15401600   \n",
       "880436     15400600           3     15387100         500      15401600   \n",
       "\n",
       "        Ask Size 10  Bid Price 10  Bid Size 10  \n",
       "60              112      14620000           16  \n",
       "61                6      14620000           16  \n",
       "62                6      14620000           16  \n",
       "63                6      14611600            1  \n",
       "64                6      14611600            1  \n",
       "...             ...           ...          ...  \n",
       "880432          100      15386800            5  \n",
       "880433          100      15386800            5  \n",
       "880434          100      15386800            5  \n",
       "880435          100      15386800            5  \n",
       "880436          100      15386800            5  \n",
       "\n",
       "[880377 rows x 47 columns]"
      ]
     },
     "execution_count": 5,
     "metadata": {},
     "output_type": "execute_result"
    }
   ],
   "source": [
    "auctTime = data.loc[data.Type == 6].iloc[0].Time\n",
    "data =data[data.Time > auctTime]\n",
    "data"
   ]
  },
  {
   "cell_type": "code",
   "execution_count": 6,
   "id": "acfaabd6-c398-42ce-83ed-f918fa054248",
   "metadata": {},
   "outputs": [
    {
     "data": {
      "text/plain": [
       "[<matplotlib.lines.Line2D at 0x7f4855bca640>]"
      ]
     },
     "execution_count": 6,
     "metadata": {},
     "output_type": "execute_result"
    },
    {
     "data": {
      "image/png": "[encoded data removed]",
      "text/plain": [
       "<Figure size 640x480 with 1 Axes>"
      ]
     },
     "metadata": {},
     "output_type": "display_data"
    }
   ],
   "source": [
    "data_s = data.loc[data.Time < 34200+150]\n",
    "plt.plot(data_s.Time, data_s[\"Ask Price 1\"].values, color = \"red\")\n",
    "plt.plot(data_s.Time, data_s[\"Bid Price 1\"].values, color = \"green\")\n"
   ]
  },
  {
   "cell_type": "code",
   "execution_count": 31,
   "id": "021510d6-cc76-489c-886b-e138b06fde63",
   "metadata": {},
   "outputs": [
    {
     "data": {
      "text/html": [
       "<div>\n",
       "<style scoped>\n",
       "    .dataframe tbody tr th:only-of-type {\n",
       "        vertical-align: middle;\n",
       "    }\n",
       "\n",
       "    .dataframe tbody tr th {\n",
       "        vertical-align: top;\n",
       "    }\n",
       "\n",
       "    .dataframe thead th {\n",
       "        text-align: right;\n",
       "    }\n",
       "</style>\n",
       "<table border=\"1\" class=\"dataframe\">\n",
       "  <thead>\n",
       "    <tr style=\"text-align: right;\">\n",
       "      <th></th>\n",
       "      <th>Time</th>\n",
       "      <th>Type</th>\n",
       "      <th>OrderID</th>\n",
       "      <th>Size</th>\n",
       "      <th>Price</th>\n",
       "      <th>TradeDirection</th>\n",
       "      <th>tmp</th>\n",
       "      <th>Ask Price 1</th>\n",
       "      <th>Ask Size 1</th>\n",
       "      <th>Bid Price 1</th>\n",
       "      <th>Bid Size 1</th>\n",
       "    </tr>\n",
       "  </thead>\n",
       "  <tbody>\n",
       "    <tr>\n",
       "      <th>220</th>\n",
       "      <td>34200.810947</td>\n",
       "      <td>1</td>\n",
       "      <td>14021998</td>\n",
       "      <td>20</td>\n",
       "      <td>510000</td>\n",
       "      <td>1</td>\n",
       "      <td>NaN</td>\n",
       "      <td>510600</td>\n",
       "      <td>100</td>\n",
       "      <td>510400</td>\n",
       "      <td>144</td>\n",
       "    </tr>\n",
       "    <tr>\n",
       "      <th>221</th>\n",
       "      <td>34200.812667</td>\n",
       "      <td>1</td>\n",
       "      <td>14022554</td>\n",
       "      <td>180</td>\n",
       "      <td>510000</td>\n",
       "      <td>1</td>\n",
       "      <td>NaN</td>\n",
       "      <td>510600</td>\n",
       "      <td>100</td>\n",
       "      <td>510400</td>\n",
       "      <td>144</td>\n",
       "    </tr>\n",
       "    <tr>\n",
       "      <th>222</th>\n",
       "      <td>34200.813754</td>\n",
       "      <td>4</td>\n",
       "      <td>7041790</td>\n",
       "      <td>83</td>\n",
       "      <td>510400</td>\n",
       "      <td>1</td>\n",
       "      <td>NaN</td>\n",
       "      <td>510600</td>\n",
       "      <td>100</td>\n",
       "      <td>510400</td>\n",
       "      <td>61</td>\n",
       "    </tr>\n",
       "    <tr>\n",
       "      <th>223</th>\n",
       "      <td>34200.813754</td>\n",
       "      <td>4</td>\n",
       "      <td>7574214</td>\n",
       "      <td>1</td>\n",
       "      <td>510400</td>\n",
       "      <td>1</td>\n",
       "      <td>NaN</td>\n",
       "      <td>510600</td>\n",
       "      <td>100</td>\n",
       "      <td>510400</td>\n",
       "      <td>60</td>\n",
       "    </tr>\n",
       "    <tr>\n",
       "      <th>224</th>\n",
       "      <td>34200.813754</td>\n",
       "      <td>4</td>\n",
       "      <td>8731914</td>\n",
       "      <td>10</td>\n",
       "      <td>510400</td>\n",
       "      <td>1</td>\n",
       "      <td>NaN</td>\n",
       "      <td>510600</td>\n",
       "      <td>100</td>\n",
       "      <td>510400</td>\n",
       "      <td>50</td>\n",
       "    </tr>\n",
       "    <tr>\n",
       "      <th>225</th>\n",
       "      <td>34200.813754</td>\n",
       "      <td>4</td>\n",
       "      <td>8815870</td>\n",
       "      <td>6</td>\n",
       "      <td>510400</td>\n",
       "      <td>1</td>\n",
       "      <td>NaN</td>\n",
       "      <td>510600</td>\n",
       "      <td>100</td>\n",
       "      <td>510400</td>\n",
       "      <td>44</td>\n",
       "    </tr>\n",
       "    <tr>\n",
       "      <th>226</th>\n",
       "      <td>34200.815820</td>\n",
       "      <td>1</td>\n",
       "      <td>14024154</td>\n",
       "      <td>100</td>\n",
       "      <td>510500</td>\n",
       "      <td>-1</td>\n",
       "      <td>NaN</td>\n",
       "      <td>510500</td>\n",
       "      <td>100</td>\n",
       "      <td>510400</td>\n",
       "      <td>44</td>\n",
       "    </tr>\n",
       "    <tr>\n",
       "      <th>227</th>\n",
       "      <td>34200.816042</td>\n",
       "      <td>3</td>\n",
       "      <td>14024154</td>\n",
       "      <td>100</td>\n",
       "      <td>510500</td>\n",
       "      <td>-1</td>\n",
       "      <td>NaN</td>\n",
       "      <td>510600</td>\n",
       "      <td>100</td>\n",
       "      <td>510400</td>\n",
       "      <td>44</td>\n",
       "    </tr>\n",
       "    <tr>\n",
       "      <th>228</th>\n",
       "      <td>34200.816735</td>\n",
       "      <td>1</td>\n",
       "      <td>14024546</td>\n",
       "      <td>100</td>\n",
       "      <td>510500</td>\n",
       "      <td>-1</td>\n",
       "      <td>NaN</td>\n",
       "      <td>510500</td>\n",
       "      <td>100</td>\n",
       "      <td>510400</td>\n",
       "      <td>44</td>\n",
       "    </tr>\n",
       "    <tr>\n",
       "      <th>229</th>\n",
       "      <td>34200.816801</td>\n",
       "      <td>1</td>\n",
       "      <td>14024594</td>\n",
       "      <td>100</td>\n",
       "      <td>509600</td>\n",
       "      <td>1</td>\n",
       "      <td>NaN</td>\n",
       "      <td>510500</td>\n",
       "      <td>100</td>\n",
       "      <td>510400</td>\n",
       "      <td>44</td>\n",
       "    </tr>\n",
       "  </tbody>\n",
       "</table>\n",
       "</div>"
      ],
      "text/plain": [
       "             Time  Type   OrderID  Size   Price  TradeDirection  tmp  \\\n",
       "220  34200.810947     1  14021998    20  510000               1  NaN   \n",
       "221  34200.812667     1  14022554   180  510000               1  NaN   \n",
       "222  34200.813754     4   7041790    83  510400               1  NaN   \n",
       "223  34200.813754     4   7574214     1  510400               1  NaN   \n",
       "224  34200.813754     4   8731914    10  510400               1  NaN   \n",
       "225  34200.813754     4   8815870     6  510400               1  NaN   \n",
       "226  34200.815820     1  14024154   100  510500              -1  NaN   \n",
       "227  34200.816042     3  14024154   100  510500              -1  NaN   \n",
       "228  34200.816735     1  14024546   100  510500              -1  NaN   \n",
       "229  34200.816801     1  14024594   100  509600               1  NaN   \n",
       "\n",
       "     Ask Price 1  Ask Size 1  Bid Price 1  Bid Size 1  \n",
       "220       510600         100       510400         144  \n",
       "221       510600         100       510400         144  \n",
       "222       510600         100       510400          61  \n",
       "223       510600         100       510400          60  \n",
       "224       510600         100       510400          50  \n",
       "225       510600         100       510400          44  \n",
       "226       510500         100       510400          44  \n",
       "227       510600         100       510400          44  \n",
       "228       510500         100       510400          44  \n",
       "229       510500         100       510400          44  "
      ]
     },
     "execution_count": 31,
     "metadata": {},
     "output_type": "execute_result"
    }
   ],
   "source": [
    "data_s.iloc[45:55][data_s.columns[:11]]"
   ]
  },
  {
   "cell_type": "code",
   "execution_count": 21,
   "id": "bad884e7-5d22-4fed-813d-5cee0fd30b61",
   "metadata": {},
   "outputs": [
    {
     "data": {
      "text/plain": [
       "34200.0"
      ]
     },
     "execution_count": 21,
     "metadata": {},
     "output_type": "execute_result"
    }
   ],
   "source": [
    "9.5*60*60"
   ]
  },
  {
   "cell_type": "code",
   "execution_count": 11,
   "id": "b4569b91-c9a4-4fcb-90b7-a11ea20674cf",
   "metadata": {},
   "outputs": [
    {
     "name": "stderr",
     "output_type": "stream",
     "text": [
      "/home/konajain/.local/lib/python3.8/site-packages/IPython/core/interactiveshell.py:3508: DtypeWarning: Columns (7) have mixed types.Specify dtype option on import or set low_memory=False.\n",
      "  exec(code_obj, self.user_global_ns, self.user_ns)\n"
     ]
    }
   ],
   "source": [
    "sizes = {}\n",
    "for d in pd.date_range(dt.date(2019,1,2), dt.date(2019,3,31)):\n",
    "    try:\n",
    "        data = pd.read_csv(\"/SAN/fca/Konark_PhD_Experiments/extracted/\"+ric+\"_\"+ d.strftime(\"%Y-%m-%d\") +\"_12D.csv\")\n",
    "    except: \n",
    "        continue\n",
    "    df = data.groupby(\"event\").Size.apply(list).to_dict()\n",
    "    for k, v in df.items():\n",
    "        sizes[k] = sizes.get(k, []) + v"
   ]
  },
  {
   "cell_type": "code",
   "execution_count": 12,
   "id": "9170b97e-d0b2-4edf-a4a3-78094cbd08d8",
   "metadata": {},
   "outputs": [
    {
     "data": {
      "image/png": "[encoded data removed]",
      "text/plain": [
       "<Figure size 640x480 with 1 Axes>"
      ]
     },
     "metadata": {},
     "output_type": "display_data"
    },
    {
     "data": {
      "image/png": "[encoded data removed]",
      "text/plain": [
       "<Figure size 640x480 with 1 Axes>"
      ]
     },
     "metadata": {},
     "output_type": "display_data"
    },
    {
     "data": {
      "image/png": "[encoded data removed]",
      "text/plain": [
       "<Figure size 640x480 with 1 Axes>"
      ]
     },
     "metadata": {},
     "output_type": "display_data"
    },
    {
     "data": {
      "image/png": "[encoded data removed]",
      "text/plain": [
       "<Figure size 640x480 with 1 Axes>"
      ]
     },
     "metadata": {},
     "output_type": "display_data"
    },
    {
     "data": {
      "image/png": "[encoded data removed]",
      "text/plain": [
       "<Figure size 640x480 with 1 Axes>"
      ]
     },
     "metadata": {},
     "output_type": "display_data"
    },
    {
     "data": {
      "image/png": "[encoded data removed]",
      "text/plain": [
       "<Figure size 640x480 with 1 Axes>"
      ]
     },
     "metadata": {},
     "output_type": "display_data"
    },
    {
     "data": {
      "image/png": "[encoded data removed]",
      "text/plain": [
       "<Figure size 640x480 with 1 Axes>"
      ]
     },
     "metadata": {},
     "output_type": "display_data"
    },
    {
     "data": {
      "image/png": "[encoded data removed]",
      "text/plain": [
       "<Figure size 640x480 with 1 Axes>"
      ]
     },
     "metadata": {},
     "output_type": "display_data"
    },
    {
     "data": {
      "image/png": "[encoded data removed]",
      "text/plain": [
       "<Figure size 640x480 with 1 Axes>"
      ]
     },
     "metadata": {},
     "output_type": "display_data"
    },
    {
     "data": {
      "image/png": "[encoded data removed]",
      "text/plain": [
       "<Figure size 640x480 with 1 Axes>"
      ]
     },
     "metadata": {},
     "output_type": "display_data"
    },
    {
     "data": {
      "image/png": "[encoded data removed]",
      "text/plain": [
       "<Figure size 640x480 with 1 Axes>"
      ]
     },
     "metadata": {},
     "output_type": "display_data"
    },
    {
     "data": {
      "image/png": "[encoded data removed]",
      "text/plain": [
       "<Figure size 640x480 with 1 Axes>"
      ]
     },
     "metadata": {},
     "output_type": "display_data"
    }
   ],
   "source": [
    "hists = {}\n",
    "for k, v in sizes.items():\n",
    "    fig = plt.figure()\n",
    "    n, bins, _ = plt.hist(v, bins = \"sqrt\", density = True)\n",
    "    hists[k] = (n, bins)\n",
    "    plt.title(k)    \n",
    "    plt.xscale(\"log\")\n",
    "    plt.yscale(\"log\")\n",
    "    plt.show()"
   ]
  },
  {
   "cell_type": "code",
   "execution_count": 66,
   "id": "bb7140b3-3c76-4359-8488-0959caef50be",
   "metadata": {},
   "outputs": [
    {
     "name": "stdout",
     "output_type": "stream",
     "text": [
      "co_deep_Ask\n",
      "co_deep_Bid\n",
      "co_top_Ask\n",
      "co_top_Bid\n",
      "lo_deep_Ask\n",
      "lo_deep_Bid\n",
      "lo_inspread_Ask\n",
      "lo_inspread_Bid\n",
      "lo_top_Ask\n",
      "lo_top_Bid\n",
      "mo_Ask\n",
      "mo_Bid\n"
     ]
    }
   ],
   "source": [
    "params = {}\n",
    "roundNums = [1,10,50,100,200,500]\n",
    "for k,v in hists.items():\n",
    "    print(k)\n",
    "    edges = v[1]\n",
    "    \n",
    "    params_rN = {}\n",
    "    for r in roundNums:\n",
    "        idx = np.searchsorted(edges, r)\n",
    "        params_rN[r] = v[0][idx]\n",
    "    params[k] = params_rN"
   ]
  },
  {
   "cell_type": "code",
   "execution_count": 67,
   "id": "384349d2-48db-4f8f-9f12-49bfefb1c2ca",
   "metadata": {},
   "outputs": [],
   "source": [
    "for k, v in sizes.items():\n",
    "    v = np.array(v)\n",
    "    d = params[k]\n",
    "    i = [x not in roundNums for x in v]\n",
    "    d[0] = 1./np.average(v[i])\n",
    "    params[k] = d"
   ]
  },
  {
   "cell_type": "code",
   "execution_count": 68,
   "id": "b88eb812-cb98-4a6b-9f0c-a1776048eb49",
   "metadata": {},
   "outputs": [],
   "source": [
    "paramsFinal = {}\n",
    "for c in [\"lo_top\", \"lo_deep\", \"lo_inspread\", \"mo\"]:\n",
    "    b = params[c+\"_Bid\"] \n",
    "    a = params[c+\"_Ask\"] \n",
    "    paramsFinal[c+\"_Bid\"] = [(a[0]+b[0])/2, [(i, (a[i]+b[i])/2) for i in roundNums]]"
   ]
  },
  {
   "cell_type": "code",
   "execution_count": 69,
   "id": "348fa524-2c4b-4ae0-8153-4ef9bd876a9a",
   "metadata": {},
   "outputs": [
    {
     "data": {
      "text/plain": [
       "{'lo_top_Bid': [0.0012032594626957276,\n",
       "  [(1, 0.0004058911201508531),\n",
       "   (10, 0.004937100775363866),\n",
       "   (50, 0.011839578897579354),\n",
       "   (100, 4.2540607105295814e-05),\n",
       "   (200, 1.3215923263800984e-05),\n",
       "   (500, 4.946493652744191e-06)]],\n",
       " 'lo_deep_Bid': [0.001446173610413779,\n",
       "  [(1, 0.0009504555025436379),\n",
       "   (10, 0.005970974450434397),\n",
       "   (50, 0.011838812712121737),\n",
       "   (100, 7.747866832159131e-05),\n",
       "   (200, 4.951687702705543e-06),\n",
       "   (500, 1.4416468076059402e-06)]],\n",
       " 'lo_inspread_Bid': [0.0005940490977412251,\n",
       "  [(1, 0.0028645165426634195),\n",
       "   (10, 0.0007559432806511614),\n",
       "   (50, 0.0007559432806511614),\n",
       "   (100, 0.0007559432806511614),\n",
       "   (200, 0.0006377821948293843),\n",
       "   (500, 0.00011229632687737945)]],\n",
       " 'mo_Bid': [0.0038746648120546903,\n",
       "  [(1, 0.005292089328158008),\n",
       "   (10, 0.0007267533052621235),\n",
       "   (50, 0.0007267533052621235),\n",
       "   (100, 0.0007267533052621235),\n",
       "   (200, 0.0003865080466058066),\n",
       "   (500, 6.402501409270695e-05)]]}"
      ]
     },
     "execution_count": 69,
     "metadata": {},
     "output_type": "execute_result"
    }
   ],
   "source": [
    "paramsFinal"
   ]
  },
  {
   "cell_type": "code",
   "execution_count": 70,
   "id": "b66a9e56-2e37-4e42-897d-16985fdc65b5",
   "metadata": {},
   "outputs": [
    {
     "name": "stderr",
     "output_type": "stream",
     "text": [
      "/home/konajain/.local/lib/python3.8/site-packages/IPython/core/interactiveshell.py:3508: DtypeWarning: Columns (7) have mixed types.Specify dtype option on import or set low_memory=False.\n",
      "  exec(code_obj, self.user_global_ns, self.user_ns)\n"
     ]
    }
   ],
   "source": [
    "queues = {}\n",
    "for d in pd.date_range(dt.date(2019,1,2), dt.date(2019,3,31)):\n",
    "    try:\n",
    "        data = pd.read_csv(\"/SAN/fca/Konark_PhD_Experiments/extracted/\"+ric+\"_\"+ d.strftime(\"%Y-%m-%d\") +\"_12D.csv\")\n",
    "    except: \n",
    "        continue\n",
    "    queues[\"Ask Size 1\"] = np.append(queues.get(\"Ask Size 1\", []) , data[\"Ask Size 1\"].values)\n",
    "    queues[\"Ask Size 2\"] = np.append(queues.get(\"Ask Size 2\", []) , data[\"Ask Size 2\"].values)\n",
    "    queues[\"Bid Size 1\"] = np.append(queues.get(\"Bid Size 1\", []) , data[\"Bid Size 1\"].values)\n",
    "    queues[\"Bid Size 2\"] = np.append(queues.get(\"Bid Size 2\", []) , data[\"Bid Size 2\"].values)"
   ]
  },
  {
   "cell_type": "code",
   "execution_count": 71,
   "id": "c3c5746c-22a6-47f5-bb3b-8795f8172025",
   "metadata": {},
   "outputs": [
    {
     "data": {
      "image/png": "[encoded data removed]",
      "text/plain": [
       "<Figure size 640x480 with 1 Axes>"
      ]
     },
     "metadata": {},
     "output_type": "display_data"
    },
    {
     "data": {
      "image/png": "[encoded data removed]",
      "text/plain": [
       "<Figure size 640x480 with 1 Axes>"
      ]
     },
     "metadata": {},
     "output_type": "display_data"
    },
    {
     "data": {
      "image/png": "[encoded data removed]",
      "text/plain": [
       "<Figure size 640x480 with 1 Axes>"
      ]
     },
     "metadata": {},
     "output_type": "display_data"
    },
    {
     "data": {
      "image/png": "[encoded data removed]",
      "text/plain": [
       "<Figure size 640x480 with 1 Axes>"
      ]
     },
     "metadata": {},
     "output_type": "display_data"
    }
   ],
   "source": [
    "hists = {}\n",
    "for k, v in queues.items():\n",
    "    fig = plt.figure()\n",
    "    n, bins, _ = plt.hist(v, bins = \"sqrt\", density = True)\n",
    "    hists[k] = (n, bins)\n",
    "    plt.title(k)    \n",
    "    plt.xscale(\"log\")\n",
    "    plt.yscale(\"log\")\n",
    "    plt.show()"
   ]
  },
  {
   "cell_type": "code",
   "execution_count": 72,
   "id": "e860fae3-f0eb-414b-a053-9e552d734256",
   "metadata": {},
   "outputs": [
    {
     "name": "stdout",
     "output_type": "stream",
     "text": [
      "Ask Size 1\n",
      "Ask Size 2\n",
      "Bid Size 1\n",
      "Bid Size 2\n"
     ]
    }
   ],
   "source": [
    "params = {}\n",
    "roundNums = [1,10,50,100,200,500,1000]\n",
    "for k,v in hists.items():\n",
    "    print(k)\n",
    "    edges = v[1]\n",
    "    \n",
    "    params_rN = {}\n",
    "    for r in roundNums:\n",
    "        idx = np.searchsorted(edges, r)\n",
    "        params_rN[r] = v[0][idx]\n",
    "    params[k] = params_rN"
   ]
  },
  {
   "cell_type": "code",
   "execution_count": 73,
   "id": "728b388e-c101-4784-a194-451cdbc91c3b",
   "metadata": {},
   "outputs": [],
   "source": [
    "for k, v in queues.items():\n",
    "    v = np.array(v)\n",
    "    d = params[k]\n",
    "    i = [x not in roundNums for x in v]\n",
    "    d[0] = 1./np.average(v[i])\n",
    "    params[k] = d"
   ]
  },
  {
   "cell_type": "code",
   "execution_count": 74,
   "id": "bea9a3e4-1bcc-4827-8ddf-3c2d0ca172ca",
   "metadata": {},
   "outputs": [
    {
     "data": {
      "text/plain": [
       "{'Ask Size 1': {1: 5.8388485914158164e-05,\n",
       "  10: 3.42684025700379e-05,\n",
       "  50: 0.0004150937775136234,\n",
       "  100: 4.0095534226161994e-05,\n",
       "  200: 5.359271705057228e-05,\n",
       "  500: 7.31055016142873e-05,\n",
       "  1000: 0.0001067058572147859,\n",
       "  0: 0.00032383827179001124},\n",
       " 'Ask Size 2': {1: 2.1164126820621204e-06,\n",
       "  10: 1.2752418187758843e-05,\n",
       "  50: 1.2752418187758843e-05,\n",
       "  100: 1.7428003167032238e-06,\n",
       "  200: 1.915125399950157e-06,\n",
       "  500: 3.313275550159514e-06,\n",
       "  1000: 1.0479609631825552e-05,\n",
       "  0: 0.0002268283869376001},\n",
       " 'Bid Size 1': {1: 5.268842536388492e-05,\n",
       "  10: 3.3966372458073674e-05,\n",
       "  50: 0.0004007992604232224,\n",
       "  100: 3.811604499005174e-05,\n",
       "  200: 4.754592662877553e-05,\n",
       "  500: 6.259001967243646e-05,\n",
       "  1000: 0.00010636224494259035,\n",
       "  0: 0.0003388929106096549},\n",
       " 'Bid Size 2': {1: 2.3349755663418974e-06,\n",
       "  10: 8.896186893502769e-07,\n",
       "  50: 1.6311572190959622e-05,\n",
       "  100: 1.1416700248474534e-06,\n",
       "  200: 2.0969270828167854e-06,\n",
       "  500: 3.764141645740823e-06,\n",
       "  1000: 1.033497993363247e-05,\n",
       "  0: 0.00023845294568866475}}"
      ]
     },
     "execution_count": 74,
     "metadata": {},
     "output_type": "execute_result"
    }
   ],
   "source": [
    "params"
   ]
  },
  {
   "cell_type": "code",
   "execution_count": 75,
   "id": "3b2de09e-bee0-4467-a14e-3d73d1310242",
   "metadata": {},
   "outputs": [
    {
     "data": {
      "text/plain": [
       "{'Ask_touch': [0.00033136559119983304,\n",
       "  [(1, 5.5538455639021544e-05),\n",
       "   (10, 3.411738751405578e-05),\n",
       "   (50, 0.0004079465189684229),\n",
       "   (100, 3.910578960810687e-05),\n",
       "   (200, 5.05693218396739e-05),\n",
       "   (500, 6.784776064336188e-05),\n",
       "   (1000, 0.00010653405107868813)]],\n",
       " 'Ask_deep': [0.00023264066631313243,\n",
       "  [(1, 2.225694124202009e-06),\n",
       "   (10, 6.82101843855456e-06),\n",
       "   (50, 1.4531995189359232e-05),\n",
       "   (100, 1.4422351707753386e-06),\n",
       "   (200, 2.006026241383471e-06),\n",
       "   (500, 3.5387085979501684e-06),\n",
       "   (1000, 1.0407294782729011e-05)]]}"
      ]
     },
     "execution_count": 75,
     "metadata": {},
     "output_type": "execute_result"
    }
   ],
   "source": [
    "paramsFinal = {}\n",
    "for c in [\" Size 1\", \" Size 2\"]:\n",
    "    b = params[\"Bid\"+c] \n",
    "    a = params[\"Ask\" + c] \n",
    "    id = \"deep\"\n",
    "    if c == \" Size 1\": id = \"touch\"\n",
    "    paramsFinal[\"Ask_\" + id] = [(a[0]+b[0])/2, [(i, (a[i]+b[i])/2) for i in roundNums]]\n",
    "paramsFinal"
   ]
  },
  {
   "cell_type": "code",
   "execution_count": 1,
   "id": "d8a59eb1-3a6f-4043-9578-47b7cb6d53bd",
   "metadata": {},
   "outputs": [
    {
     "name": "stderr",
     "output_type": "stream",
     "text": [
      "[*********************100%%**********************]  1 of 1 completed\n",
      "\n",
      "1 Failed download:\n",
      "['TSLA']: Exception('%ticker%: 1m data not available for startTime=1661745600 and endTime=1661832000. The requested range must be within the last 30 days.')\n"
     ]
    },
    {
     "data": {
      "text/html": [
       "<div>\n",
       "<style scoped>\n",
       "    .dataframe tbody tr th:only-of-type {\n",
       "        vertical-align: middle;\n",
       "    }\n",
       "\n",
       "    .dataframe tbody tr th {\n",
       "        vertical-align: top;\n",
       "    }\n",
       "\n",
       "    .dataframe thead th {\n",
       "        text-align: right;\n",
       "    }\n",
       "</style>\n",
       "<table border=\"1\" class=\"dataframe\">\n",
       "  <thead>\n",
       "    <tr style=\"text-align: right;\">\n",
       "      <th></th>\n",
       "      <th>Open</th>\n",
       "      <th>High</th>\n",
       "      <th>Low</th>\n",
       "      <th>Close</th>\n",
       "      <th>Adj Close</th>\n",
       "      <th>Volume</th>\n",
       "    </tr>\n",
       "    <tr>\n",
       "      <th>Date</th>\n",
       "      <th></th>\n",
       "      <th></th>\n",
       "      <th></th>\n",
       "      <th></th>\n",
       "      <th></th>\n",
       "      <th></th>\n",
       "    </tr>\n",
       "  </thead>\n",
       "  <tbody>\n",
       "  </tbody>\n",
       "</table>\n",
       "</div>"
      ],
      "text/plain": [
       "Empty DataFrame\n",
       "Columns: [Open, High, Low, Close, Adj Close, Volume]\n",
       "Index: []"
      ]
     },
     "execution_count": 1,
     "metadata": {},
     "output_type": "execute_result"
    }
   ],
   "source": [
    "import yfinance as yf\n",
    "yf.download(\"TSLA\", start='2024-08-29', end='2022-08-30', interval=\"1m\")"
   ]
  },
  {
   "cell_type": "code",
   "execution_count": null,
   "id": "8bdf8e39-13d0-4137-a754-2e73f0fda1c7",
   "metadata": {},
   "outputs": [],
   "source": []
  }
 ],
 "metadata": {
  "kernelspec": {
   "display_name": "Python 3 (ipykernel)",
   "language": "python",
   "name": "python3"
  },
  "language_info": {
   "codemirror_mode": {
    "name": "ipython",
    "version": 3
   },
   "file_extension": ".py",
   "mimetype": "text/x-python",
   "name": "python",
   "nbconvert_exporter": "python",
   "pygments_lexer": "ipython3",
   "version": "3.8.5"
  }
 },
 "nbformat": 4,
 "nbformat_minor": 5
}
