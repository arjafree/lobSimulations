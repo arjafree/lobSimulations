{
 "cells": [
  {
   "cell_type": "code",
   "execution_count": 1,
   "id": "c0ea8b51-0d84-4ede-a06a-b10382a0fe4b",
   "metadata": {},
   "outputs": [],
   "source": [
    "%matplotlib inline\n",
    "import datetime as dt\n",
    "import pandas as pd\n",
    "from matplotlib import pyplot as plt\n",
    "import os\n",
    "import sys\n",
    "sys.path.append(\"/home/konajain/code/lobSimulations\")\n",
    "from src.data import dataLoader #, fit, inference, simulate\n",
    "import numpy as np\n",
    "import time"
   ]
  },
  {
   "cell_type": "markdown",
   "id": "1712522d-a04c-4153-8fcd-f2c079c09f3f",
   "metadata": {},
   "source": [
    "# Spread profile"
   ]
  },
  {
   "cell_type": "code",
   "execution_count": 6,
   "id": "d6089d53-31b9-469c-a3ab-1ce1af283e81",
   "metadata": {},
   "outputs": [],
   "source": [
    "ric = \"GOOG.OQ\""
   ]
  },
  {
   "cell_type": "code",
   "execution_count": 7,
   "id": "deb52ecb-f346-4daa-9825-c06c532af610",
   "metadata": {},
   "outputs": [],
   "source": [
    "samplingTime = 60"
   ]
  },
  {
   "cell_type": "code",
   "execution_count": 11,
   "id": "27ecba80-b2ca-42c7-a1b1-bff020440764",
   "metadata": {
    "scrolled": true
   },
   "outputs": [
    {
     "name": "stdout",
     "output_type": "stream",
     "text": [
      "/SAN/fca/Konark_PhD_Experiments/extracted/GOOG/GOOG_2019-01-02_34200000_57600000_message_10.csv\n"
     ]
    },
    {
     "name": "stderr",
     "output_type": "stream",
     "text": [
      "/tmp/ipykernel_26413/854620275.py:4: DtypeWarning: Columns (6) have mixed types.Specify dtype option on import or set low_memory=False.\n",
      "  data = l.load()\n",
      "/home/konajain/code/lobSimulations/src/data/dataLoader.py:109: SettingWithCopyWarning: \n",
      "A value is trying to be set on a copy of a slice from a DataFrame.\n",
      "Try using .loc[row_indexer,col_indexer] = value instead\n",
      "\n",
      "See the caveats in the documentation: https://pandas.pydata.org/pandas-docs/stable/user_guide/indexing.html#returning-a-view-versus-a-copy\n",
      "  theOrderBookFiltered[theOrderBookFiltered.columns[i]]  = theOrderBookFiltered[theOrderBookFiltered.columns[i]]/10000\n"
     ]
    },
    {
     "name": "stdout",
     "output_type": "stream",
     "text": [
      "/SAN/fca/Konark_PhD_Experiments/extracted/GOOG/GOOG_2019-01-03_34200000_57600000_message_10.csv\n"
     ]
    },
    {
     "name": "stderr",
     "output_type": "stream",
     "text": [
      "/home/konajain/code/lobSimulations/src/data/dataLoader.py:109: SettingWithCopyWarning: \n",
      "A value is trying to be set on a copy of a slice from a DataFrame.\n",
      "Try using .loc[row_indexer,col_indexer] = value instead\n",
      "\n",
      "See the caveats in the documentation: https://pandas.pydata.org/pandas-docs/stable/user_guide/indexing.html#returning-a-view-versus-a-copy\n",
      "  theOrderBookFiltered[theOrderBookFiltered.columns[i]]  = theOrderBookFiltered[theOrderBookFiltered.columns[i]]/10000\n"
     ]
    },
    {
     "name": "stdout",
     "output_type": "stream",
     "text": [
      "/SAN/fca/Konark_PhD_Experiments/extracted/GOOG/GOOG_2019-01-04_34200000_57600000_message_10.csv\n"
     ]
    },
    {
     "name": "stderr",
     "output_type": "stream",
     "text": [
      "/home/konajain/code/lobSimulations/src/data/dataLoader.py:109: SettingWithCopyWarning: \n",
      "A value is trying to be set on a copy of a slice from a DataFrame.\n",
      "Try using .loc[row_indexer,col_indexer] = value instead\n",
      "\n",
      "See the caveats in the documentation: https://pandas.pydata.org/pandas-docs/stable/user_guide/indexing.html#returning-a-view-versus-a-copy\n",
      "  theOrderBookFiltered[theOrderBookFiltered.columns[i]]  = theOrderBookFiltered[theOrderBookFiltered.columns[i]]/10000\n"
     ]
    },
    {
     "name": "stdout",
     "output_type": "stream",
     "text": [
      "/SAN/fca/Konark_PhD_Experiments/extracted/GOOG/GOOG_2019-01-07_34200000_57600000_message_10.csv\n"
     ]
    },
    {
     "name": "stderr",
     "output_type": "stream",
     "text": [
      "/home/konajain/code/lobSimulations/src/data/dataLoader.py:109: SettingWithCopyWarning: \n",
      "A value is trying to be set on a copy of a slice from a DataFrame.\n",
      "Try using .loc[row_indexer,col_indexer] = value instead\n",
      "\n",
      "See the caveats in the documentation: https://pandas.pydata.org/pandas-docs/stable/user_guide/indexing.html#returning-a-view-versus-a-copy\n",
      "  theOrderBookFiltered[theOrderBookFiltered.columns[i]]  = theOrderBookFiltered[theOrderBookFiltered.columns[i]]/10000\n"
     ]
    },
    {
     "name": "stdout",
     "output_type": "stream",
     "text": [
      "/SAN/fca/Konark_PhD_Experiments/extracted/GOOG/GOOG_2019-01-08_34200000_57600000_message_10.csv\n"
     ]
    },
    {
     "name": "stderr",
     "output_type": "stream",
     "text": [
      "/home/konajain/code/lobSimulations/src/data/dataLoader.py:109: SettingWithCopyWarning: \n",
      "A value is trying to be set on a copy of a slice from a DataFrame.\n",
      "Try using .loc[row_indexer,col_indexer] = value instead\n",
      "\n",
      "See the caveats in the documentation: https://pandas.pydata.org/pandas-docs/stable/user_guide/indexing.html#returning-a-view-versus-a-copy\n",
      "  theOrderBookFiltered[theOrderBookFiltered.columns[i]]  = theOrderBookFiltered[theOrderBookFiltered.columns[i]]/10000\n"
     ]
    },
    {
     "name": "stdout",
     "output_type": "stream",
     "text": [
      "/SAN/fca/Konark_PhD_Experiments/extracted/GOOG/GOOG_2019-01-09_34200000_57600000_message_10.csv\n"
     ]
    },
    {
     "name": "stderr",
     "output_type": "stream",
     "text": [
      "/home/konajain/code/lobSimulations/src/data/dataLoader.py:109: SettingWithCopyWarning: \n",
      "A value is trying to be set on a copy of a slice from a DataFrame.\n",
      "Try using .loc[row_indexer,col_indexer] = value instead\n",
      "\n",
      "See the caveats in the documentation: https://pandas.pydata.org/pandas-docs/stable/user_guide/indexing.html#returning-a-view-versus-a-copy\n",
      "  theOrderBookFiltered[theOrderBookFiltered.columns[i]]  = theOrderBookFiltered[theOrderBookFiltered.columns[i]]/10000\n"
     ]
    },
    {
     "name": "stdout",
     "output_type": "stream",
     "text": [
      "/SAN/fca/Konark_PhD_Experiments/extracted/GOOG/GOOG_2019-01-10_34200000_57600000_message_10.csv\n"
     ]
    },
    {
     "name": "stderr",
     "output_type": "stream",
     "text": [
      "/tmp/ipykernel_26413/854620275.py:4: DtypeWarning: Columns (6) have mixed types.Specify dtype option on import or set low_memory=False.\n",
      "  data = l.load()\n",
      "/home/konajain/code/lobSimulations/src/data/dataLoader.py:109: SettingWithCopyWarning: \n",
      "A value is trying to be set on a copy of a slice from a DataFrame.\n",
      "Try using .loc[row_indexer,col_indexer] = value instead\n",
      "\n",
      "See the caveats in the documentation: https://pandas.pydata.org/pandas-docs/stable/user_guide/indexing.html#returning-a-view-versus-a-copy\n",
      "  theOrderBookFiltered[theOrderBookFiltered.columns[i]]  = theOrderBookFiltered[theOrderBookFiltered.columns[i]]/10000\n"
     ]
    },
    {
     "name": "stdout",
     "output_type": "stream",
     "text": [
      "/SAN/fca/Konark_PhD_Experiments/extracted/GOOG/GOOG_2019-01-11_34200000_57600000_message_10.csv\n"
     ]
    },
    {
     "name": "stderr",
     "output_type": "stream",
     "text": [
      "/tmp/ipykernel_26413/854620275.py:4: DtypeWarning: Columns (6) have mixed types.Specify dtype option on import or set low_memory=False.\n",
      "  data = l.load()\n",
      "/home/konajain/code/lobSimulations/src/data/dataLoader.py:109: SettingWithCopyWarning: \n",
      "A value is trying to be set on a copy of a slice from a DataFrame.\n",
      "Try using .loc[row_indexer,col_indexer] = value instead\n",
      "\n",
      "See the caveats in the documentation: https://pandas.pydata.org/pandas-docs/stable/user_guide/indexing.html#returning-a-view-versus-a-copy\n",
      "  theOrderBookFiltered[theOrderBookFiltered.columns[i]]  = theOrderBookFiltered[theOrderBookFiltered.columns[i]]/10000\n"
     ]
    },
    {
     "name": "stdout",
     "output_type": "stream",
     "text": [
      "/SAN/fca/Konark_PhD_Experiments/extracted/GOOG/GOOG_2019-01-14_34200000_57600000_message_10.csv\n"
     ]
    },
    {
     "name": "stderr",
     "output_type": "stream",
     "text": [
      "/home/konajain/code/lobSimulations/src/data/dataLoader.py:109: SettingWithCopyWarning: \n",
      "A value is trying to be set on a copy of a slice from a DataFrame.\n",
      "Try using .loc[row_indexer,col_indexer] = value instead\n",
      "\n",
      "See the caveats in the documentation: https://pandas.pydata.org/pandas-docs/stable/user_guide/indexing.html#returning-a-view-versus-a-copy\n",
      "  theOrderBookFiltered[theOrderBookFiltered.columns[i]]  = theOrderBookFiltered[theOrderBookFiltered.columns[i]]/10000\n"
     ]
    },
    {
     "name": "stdout",
     "output_type": "stream",
     "text": [
      "/SAN/fca/Konark_PhD_Experiments/extracted/GOOG/GOOG_2019-01-15_34200000_57600000_message_10.csv\n"
     ]
    },
    {
     "name": "stderr",
     "output_type": "stream",
     "text": [
      "/home/konajain/code/lobSimulations/src/data/dataLoader.py:109: SettingWithCopyWarning: \n",
      "A value is trying to be set on a copy of a slice from a DataFrame.\n",
      "Try using .loc[row_indexer,col_indexer] = value instead\n",
      "\n",
      "See the caveats in the documentation: https://pandas.pydata.org/pandas-docs/stable/user_guide/indexing.html#returning-a-view-versus-a-copy\n",
      "  theOrderBookFiltered[theOrderBookFiltered.columns[i]]  = theOrderBookFiltered[theOrderBookFiltered.columns[i]]/10000\n"
     ]
    },
    {
     "name": "stdout",
     "output_type": "stream",
     "text": [
      "/SAN/fca/Konark_PhD_Experiments/extracted/GOOG/GOOG_2019-01-16_34200000_57600000_message_10.csv\n"
     ]
    },
    {
     "name": "stderr",
     "output_type": "stream",
     "text": [
      "/home/konajain/code/lobSimulations/src/data/dataLoader.py:109: SettingWithCopyWarning: \n",
      "A value is trying to be set on a copy of a slice from a DataFrame.\n",
      "Try using .loc[row_indexer,col_indexer] = value instead\n",
      "\n",
      "See the caveats in the documentation: https://pandas.pydata.org/pandas-docs/stable/user_guide/indexing.html#returning-a-view-versus-a-copy\n",
      "  theOrderBookFiltered[theOrderBookFiltered.columns[i]]  = theOrderBookFiltered[theOrderBookFiltered.columns[i]]/10000\n"
     ]
    },
    {
     "name": "stdout",
     "output_type": "stream",
     "text": [
      "/SAN/fca/Konark_PhD_Experiments/extracted/GOOG/GOOG_2019-01-17_34200000_57600000_message_10.csv\n"
     ]
    },
    {
     "name": "stderr",
     "output_type": "stream",
     "text": [
      "/tmp/ipykernel_26413/854620275.py:4: DtypeWarning: Columns (6) have mixed types.Specify dtype option on import or set low_memory=False.\n",
      "  data = l.load()\n",
      "/home/konajain/code/lobSimulations/src/data/dataLoader.py:109: SettingWithCopyWarning: \n",
      "A value is trying to be set on a copy of a slice from a DataFrame.\n",
      "Try using .loc[row_indexer,col_indexer] = value instead\n",
      "\n",
      "See the caveats in the documentation: https://pandas.pydata.org/pandas-docs/stable/user_guide/indexing.html#returning-a-view-versus-a-copy\n",
      "  theOrderBookFiltered[theOrderBookFiltered.columns[i]]  = theOrderBookFiltered[theOrderBookFiltered.columns[i]]/10000\n"
     ]
    },
    {
     "name": "stdout",
     "output_type": "stream",
     "text": [
      "/SAN/fca/Konark_PhD_Experiments/extracted/GOOG/GOOG_2019-01-18_34200000_57600000_message_10.csv\n"
     ]
    },
    {
     "name": "stderr",
     "output_type": "stream",
     "text": [
      "/tmp/ipykernel_26413/854620275.py:4: DtypeWarning: Columns (6) have mixed types.Specify dtype option on import or set low_memory=False.\n",
      "  data = l.load()\n",
      "/home/konajain/code/lobSimulations/src/data/dataLoader.py:109: SettingWithCopyWarning: \n",
      "A value is trying to be set on a copy of a slice from a DataFrame.\n",
      "Try using .loc[row_indexer,col_indexer] = value instead\n",
      "\n",
      "See the caveats in the documentation: https://pandas.pydata.org/pandas-docs/stable/user_guide/indexing.html#returning-a-view-versus-a-copy\n",
      "  theOrderBookFiltered[theOrderBookFiltered.columns[i]]  = theOrderBookFiltered[theOrderBookFiltered.columns[i]]/10000\n"
     ]
    },
    {
     "name": "stdout",
     "output_type": "stream",
     "text": [
      "/SAN/fca/Konark_PhD_Experiments/extracted/GOOG/GOOG_2019-01-22_34200000_57600000_message_10.csv\n"
     ]
    },
    {
     "name": "stderr",
     "output_type": "stream",
     "text": [
      "/tmp/ipykernel_26413/854620275.py:4: DtypeWarning: Columns (6) have mixed types.Specify dtype option on import or set low_memory=False.\n",
      "  data = l.load()\n",
      "/home/konajain/code/lobSimulations/src/data/dataLoader.py:109: SettingWithCopyWarning: \n",
      "A value is trying to be set on a copy of a slice from a DataFrame.\n",
      "Try using .loc[row_indexer,col_indexer] = value instead\n",
      "\n",
      "See the caveats in the documentation: https://pandas.pydata.org/pandas-docs/stable/user_guide/indexing.html#returning-a-view-versus-a-copy\n",
      "  theOrderBookFiltered[theOrderBookFiltered.columns[i]]  = theOrderBookFiltered[theOrderBookFiltered.columns[i]]/10000\n"
     ]
    },
    {
     "name": "stdout",
     "output_type": "stream",
     "text": [
      "/SAN/fca/Konark_PhD_Experiments/extracted/GOOG/GOOG_2019-01-23_34200000_57600000_message_10.csv\n"
     ]
    },
    {
     "name": "stderr",
     "output_type": "stream",
     "text": [
      "/tmp/ipykernel_26413/854620275.py:4: DtypeWarning: Columns (6) have mixed types.Specify dtype option on import or set low_memory=False.\n",
      "  data = l.load()\n",
      "/home/konajain/code/lobSimulations/src/data/dataLoader.py:109: SettingWithCopyWarning: \n",
      "A value is trying to be set on a copy of a slice from a DataFrame.\n",
      "Try using .loc[row_indexer,col_indexer] = value instead\n",
      "\n",
      "See the caveats in the documentation: https://pandas.pydata.org/pandas-docs/stable/user_guide/indexing.html#returning-a-view-versus-a-copy\n",
      "  theOrderBookFiltered[theOrderBookFiltered.columns[i]]  = theOrderBookFiltered[theOrderBookFiltered.columns[i]]/10000\n"
     ]
    },
    {
     "name": "stdout",
     "output_type": "stream",
     "text": [
      "/SAN/fca/Konark_PhD_Experiments/extracted/GOOG/GOOG_2019-01-24_34200000_57600000_message_10.csv\n"
     ]
    },
    {
     "name": "stderr",
     "output_type": "stream",
     "text": [
      "/tmp/ipykernel_26413/854620275.py:4: DtypeWarning: Columns (6) have mixed types.Specify dtype option on import or set low_memory=False.\n",
      "  data = l.load()\n",
      "/home/konajain/code/lobSimulations/src/data/dataLoader.py:109: SettingWithCopyWarning: \n",
      "A value is trying to be set on a copy of a slice from a DataFrame.\n",
      "Try using .loc[row_indexer,col_indexer] = value instead\n",
      "\n",
      "See the caveats in the documentation: https://pandas.pydata.org/pandas-docs/stable/user_guide/indexing.html#returning-a-view-versus-a-copy\n",
      "  theOrderBookFiltered[theOrderBookFiltered.columns[i]]  = theOrderBookFiltered[theOrderBookFiltered.columns[i]]/10000\n"
     ]
    },
    {
     "name": "stdout",
     "output_type": "stream",
     "text": [
      "/SAN/fca/Konark_PhD_Experiments/extracted/GOOG/GOOG_2019-01-25_34200000_57600000_message_10.csv\n"
     ]
    },
    {
     "name": "stderr",
     "output_type": "stream",
     "text": [
      "/tmp/ipykernel_26413/854620275.py:4: DtypeWarning: Columns (6) have mixed types.Specify dtype option on import or set low_memory=False.\n",
      "  data = l.load()\n",
      "/home/konajain/code/lobSimulations/src/data/dataLoader.py:109: SettingWithCopyWarning: \n",
      "A value is trying to be set on a copy of a slice from a DataFrame.\n",
      "Try using .loc[row_indexer,col_indexer] = value instead\n",
      "\n",
      "See the caveats in the documentation: https://pandas.pydata.org/pandas-docs/stable/user_guide/indexing.html#returning-a-view-versus-a-copy\n",
      "  theOrderBookFiltered[theOrderBookFiltered.columns[i]]  = theOrderBookFiltered[theOrderBookFiltered.columns[i]]/10000\n"
     ]
    },
    {
     "name": "stdout",
     "output_type": "stream",
     "text": [
      "/SAN/fca/Konark_PhD_Experiments/extracted/GOOG/GOOG_2019-01-28_34200000_57600000_message_10.csv\n"
     ]
    },
    {
     "name": "stderr",
     "output_type": "stream",
     "text": [
      "/tmp/ipykernel_26413/854620275.py:4: DtypeWarning: Columns (6) have mixed types.Specify dtype option on import or set low_memory=False.\n",
      "  data = l.load()\n",
      "/home/konajain/code/lobSimulations/src/data/dataLoader.py:109: SettingWithCopyWarning: \n",
      "A value is trying to be set on a copy of a slice from a DataFrame.\n",
      "Try using .loc[row_indexer,col_indexer] = value instead\n",
      "\n",
      "See the caveats in the documentation: https://pandas.pydata.org/pandas-docs/stable/user_guide/indexing.html#returning-a-view-versus-a-copy\n",
      "  theOrderBookFiltered[theOrderBookFiltered.columns[i]]  = theOrderBookFiltered[theOrderBookFiltered.columns[i]]/10000\n"
     ]
    },
    {
     "name": "stdout",
     "output_type": "stream",
     "text": [
      "/SAN/fca/Konark_PhD_Experiments/extracted/GOOG/GOOG_2019-01-29_34200000_57600000_message_10.csv\n"
     ]
    },
    {
     "name": "stderr",
     "output_type": "stream",
     "text": [
      "/tmp/ipykernel_26413/854620275.py:4: DtypeWarning: Columns (6) have mixed types.Specify dtype option on import or set low_memory=False.\n",
      "  data = l.load()\n",
      "/home/konajain/code/lobSimulations/src/data/dataLoader.py:109: SettingWithCopyWarning: \n",
      "A value is trying to be set on a copy of a slice from a DataFrame.\n",
      "Try using .loc[row_indexer,col_indexer] = value instead\n",
      "\n",
      "See the caveats in the documentation: https://pandas.pydata.org/pandas-docs/stable/user_guide/indexing.html#returning-a-view-versus-a-copy\n",
      "  theOrderBookFiltered[theOrderBookFiltered.columns[i]]  = theOrderBookFiltered[theOrderBookFiltered.columns[i]]/10000\n"
     ]
    },
    {
     "name": "stdout",
     "output_type": "stream",
     "text": [
      "/SAN/fca/Konark_PhD_Experiments/extracted/GOOG/GOOG_2019-01-30_34200000_57600000_message_10.csv\n"
     ]
    },
    {
     "name": "stderr",
     "output_type": "stream",
     "text": [
      "/tmp/ipykernel_26413/854620275.py:4: DtypeWarning: Columns (6) have mixed types.Specify dtype option on import or set low_memory=False.\n",
      "  data = l.load()\n",
      "/home/konajain/code/lobSimulations/src/data/dataLoader.py:109: SettingWithCopyWarning: \n",
      "A value is trying to be set on a copy of a slice from a DataFrame.\n",
      "Try using .loc[row_indexer,col_indexer] = value instead\n",
      "\n",
      "See the caveats in the documentation: https://pandas.pydata.org/pandas-docs/stable/user_guide/indexing.html#returning-a-view-versus-a-copy\n",
      "  theOrderBookFiltered[theOrderBookFiltered.columns[i]]  = theOrderBookFiltered[theOrderBookFiltered.columns[i]]/10000\n"
     ]
    },
    {
     "name": "stdout",
     "output_type": "stream",
     "text": [
      "/SAN/fca/Konark_PhD_Experiments/extracted/GOOG/GOOG_2019-01-31_34200000_57600000_message_10.csv\n"
     ]
    },
    {
     "name": "stderr",
     "output_type": "stream",
     "text": [
      "/home/konajain/code/lobSimulations/src/data/dataLoader.py:109: SettingWithCopyWarning: \n",
      "A value is trying to be set on a copy of a slice from a DataFrame.\n",
      "Try using .loc[row_indexer,col_indexer] = value instead\n",
      "\n",
      "See the caveats in the documentation: https://pandas.pydata.org/pandas-docs/stable/user_guide/indexing.html#returning-a-view-versus-a-copy\n",
      "  theOrderBookFiltered[theOrderBookFiltered.columns[i]]  = theOrderBookFiltered[theOrderBookFiltered.columns[i]]/10000\n"
     ]
    },
    {
     "name": "stdout",
     "output_type": "stream",
     "text": [
      "/SAN/fca/Konark_PhD_Experiments/extracted/GOOG/GOOG_2019-02-01_34200000_57600000_message_10.csv\n"
     ]
    },
    {
     "name": "stderr",
     "output_type": "stream",
     "text": [
      "/tmp/ipykernel_26413/854620275.py:4: DtypeWarning: Columns (6) have mixed types.Specify dtype option on import or set low_memory=False.\n",
      "  data = l.load()\n",
      "/home/konajain/code/lobSimulations/src/data/dataLoader.py:109: SettingWithCopyWarning: \n",
      "A value is trying to be set on a copy of a slice from a DataFrame.\n",
      "Try using .loc[row_indexer,col_indexer] = value instead\n",
      "\n",
      "See the caveats in the documentation: https://pandas.pydata.org/pandas-docs/stable/user_guide/indexing.html#returning-a-view-versus-a-copy\n",
      "  theOrderBookFiltered[theOrderBookFiltered.columns[i]]  = theOrderBookFiltered[theOrderBookFiltered.columns[i]]/10000\n"
     ]
    },
    {
     "name": "stdout",
     "output_type": "stream",
     "text": [
      "/SAN/fca/Konark_PhD_Experiments/extracted/GOOG/GOOG_2019-02-04_34200000_57600000_message_10.csv\n"
     ]
    },
    {
     "name": "stderr",
     "output_type": "stream",
     "text": [
      "/tmp/ipykernel_26413/854620275.py:4: DtypeWarning: Columns (6) have mixed types.Specify dtype option on import or set low_memory=False.\n",
      "  data = l.load()\n",
      "/home/konajain/code/lobSimulations/src/data/dataLoader.py:109: SettingWithCopyWarning: \n",
      "A value is trying to be set on a copy of a slice from a DataFrame.\n",
      "Try using .loc[row_indexer,col_indexer] = value instead\n",
      "\n",
      "See the caveats in the documentation: https://pandas.pydata.org/pandas-docs/stable/user_guide/indexing.html#returning-a-view-versus-a-copy\n",
      "  theOrderBookFiltered[theOrderBookFiltered.columns[i]]  = theOrderBookFiltered[theOrderBookFiltered.columns[i]]/10000\n"
     ]
    }
   ],
   "source": [
    "spreads = []\n",
    "for j in pd.date_range(dt.date(2019,1,2), dt.date(2019,2,4)):\n",
    "    l = dataLoader.dataLoader(ric, j, j, nlevels = 1, dataPath = \"/SAN/fca/Konark_PhD_Experiments/extracted/GOOG/\")\n",
    "    data = l.load()\n",
    "    if len(data):\n",
    "        data = data[0]\n",
    "    else:\n",
    "        continue\n",
    "        \n",
    "    data['spread'] = data['Ask Price 1'] - data['Bid Price 1']\n",
    "    data['timeDiff'] = data['Time'].diff()\n",
    "    data['spreadTwa'] = data['spread']*data['timeDiff']\n",
    "    data['id'] = data['Time'].apply(lambda x: int((x - 34200)//samplingTime))\n",
    "    twaspread = (data[['spreadTwa', 'id']].groupby('id').sum().values)/samplingTime\n",
    "    spreads.append(twaspread)"
   ]
  },
  {
   "cell_type": "code",
   "execution_count": 15,
   "id": "e407ffc3-ee19-4f81-8150-bb525a7fa95e",
   "metadata": {},
   "outputs": [
    {
     "data": {
      "text/plain": [
       "0.6297205377323305"
      ]
     },
     "execution_count": 15,
     "metadata": {},
     "output_type": "execute_result"
    }
   ],
   "source": [
    "np.median(np.vstack(spreads))"
   ]
  },
  {
   "cell_type": "code",
   "execution_count": 54,
   "id": "a9fc6167-c2df-4623-bb1c-ce2e0a40612f",
   "metadata": {},
   "outputs": [
    {
     "data": {
      "image/png": "[encoded data removed]",
      "text/plain": [
       "<Figure size 640x480 with 1 Axes>"
      ]
     },
     "metadata": {},
     "output_type": "display_data"
    }
   ],
   "source": [
    "%matplotlib inline\n",
    "for s in spreads:\n",
    "    plt.plot(100*s, alpha = 0.1, color = \"b\")\n",
    "plt.plot(np.average(100*s, axis = 1), color=\"r\", label = \"average\")\n",
    "plt.xlabel(\"Time\")\n",
    "plt.ylabel(\"Spread in ticks\")\n",
    "plt.legend()\n",
    "plt.title(\"Spread by TOD - \" + ric)\n",
    "plt.xticks(ticks = np.arange(0, 23400//samplingTime, 1800//samplingTime), labels = [time.strftime('%H:%M:%S', time.gmtime(x)) for x in 9.5*3600 + samplingTime*np.arange(0, 23400//samplingTime, 1800//samplingTime)], rotation = 20)\n",
    "plt.show()"
   ]
  },
  {
   "cell_type": "markdown",
   "id": "dc7095ee-3da2-4911-98d6-ecf1a12d8ec2",
   "metadata": {},
   "source": [
    "# Book Shape"
   ]
  },
  {
   "cell_type": "code",
   "execution_count": 264,
   "id": "6a0cdd11-c4c9-4187-b187-258345b97e31",
   "metadata": {},
   "outputs": [],
   "source": [
    "ric = \"TSLA.OQ\""
   ]
  },
  {
   "cell_type": "code",
   "execution_count": 265,
   "id": "391ce34a-63e8-4f95-b378-91b65953dd8c",
   "metadata": {
    "scrolled": true
   },
   "outputs": [
    {
     "name": "stdout",
     "output_type": "stream",
     "text": [
      "/SAN/fca/Konark_PhD_Experiments/extracted/TSLA_2019-01-02_34200000_57600000_message_10.csv\n"
     ]
    },
    {
     "name": "stderr",
     "output_type": "stream",
     "text": [
      "/home/konajain/code/lobSimulations/hawkes/dataLoader.py:109: SettingWithCopyWarning: \n",
      "A value is trying to be set on a copy of a slice from a DataFrame.\n",
      "Try using .loc[row_indexer,col_indexer] = value instead\n",
      "\n",
      "See the caveats in the documentation: https://pandas.pydata.org/pandas-docs/stable/user_guide/indexing.html#returning-a-view-versus-a-copy\n",
      "  theOrderBookFiltered[theOrderBookFiltered.columns[i]]  = theOrderBookFiltered[theOrderBookFiltered.columns[i]]/10000\n"
     ]
    },
    {
     "name": "stdout",
     "output_type": "stream",
     "text": [
      "/SAN/fca/Konark_PhD_Experiments/extracted/TSLA_2019-01-03_34200000_57600000_message_10.csv\n"
     ]
    },
    {
     "name": "stderr",
     "output_type": "stream",
     "text": [
      "/tmp/ipykernel_61354/2175603279.py:5: DtypeWarning: Columns (6) have mixed types.Specify dtype option on import or set low_memory=False.\n",
      "  data = l.load()\n",
      "/home/konajain/code/lobSimulations/hawkes/dataLoader.py:109: SettingWithCopyWarning: \n",
      "A value is trying to be set on a copy of a slice from a DataFrame.\n",
      "Try using .loc[row_indexer,col_indexer] = value instead\n",
      "\n",
      "See the caveats in the documentation: https://pandas.pydata.org/pandas-docs/stable/user_guide/indexing.html#returning-a-view-versus-a-copy\n",
      "  theOrderBookFiltered[theOrderBookFiltered.columns[i]]  = theOrderBookFiltered[theOrderBookFiltered.columns[i]]/10000\n"
     ]
    },
    {
     "name": "stdout",
     "output_type": "stream",
     "text": [
      "/SAN/fca/Konark_PhD_Experiments/extracted/TSLA_2019-01-04_34200000_57600000_message_10.csv\n"
     ]
    },
    {
     "name": "stderr",
     "output_type": "stream",
     "text": [
      "/tmp/ipykernel_61354/2175603279.py:5: DtypeWarning: Columns (6) have mixed types.Specify dtype option on import or set low_memory=False.\n",
      "  data = l.load()\n"
     ]
    },
    {
     "name": "stdout",
     "output_type": "stream",
     "text": [
      "/SAN/fca/Konark_PhD_Experiments/extracted/TSLA_2019-01-07_34200000_57600000_message_10.csv\n"
     ]
    },
    {
     "name": "stderr",
     "output_type": "stream",
     "text": [
      "/tmp/ipykernel_61354/2175603279.py:5: DtypeWarning: Columns (6) have mixed types.Specify dtype option on import or set low_memory=False.\n",
      "  data = l.load()\n",
      "/home/konajain/code/lobSimulations/hawkes/dataLoader.py:109: SettingWithCopyWarning: \n",
      "A value is trying to be set on a copy of a slice from a DataFrame.\n",
      "Try using .loc[row_indexer,col_indexer] = value instead\n",
      "\n",
      "See the caveats in the documentation: https://pandas.pydata.org/pandas-docs/stable/user_guide/indexing.html#returning-a-view-versus-a-copy\n",
      "  theOrderBookFiltered[theOrderBookFiltered.columns[i]]  = theOrderBookFiltered[theOrderBookFiltered.columns[i]]/10000\n"
     ]
    },
    {
     "name": "stdout",
     "output_type": "stream",
     "text": [
      "/SAN/fca/Konark_PhD_Experiments/extracted/TSLA_2019-01-08_34200000_57600000_message_10.csv\n"
     ]
    },
    {
     "name": "stderr",
     "output_type": "stream",
     "text": [
      "/home/konajain/code/lobSimulations/hawkes/dataLoader.py:109: SettingWithCopyWarning: \n",
      "A value is trying to be set on a copy of a slice from a DataFrame.\n",
      "Try using .loc[row_indexer,col_indexer] = value instead\n",
      "\n",
      "See the caveats in the documentation: https://pandas.pydata.org/pandas-docs/stable/user_guide/indexing.html#returning-a-view-versus-a-copy\n",
      "  theOrderBookFiltered[theOrderBookFiltered.columns[i]]  = theOrderBookFiltered[theOrderBookFiltered.columns[i]]/10000\n"
     ]
    },
    {
     "name": "stdout",
     "output_type": "stream",
     "text": [
      "/SAN/fca/Konark_PhD_Experiments/extracted/TSLA_2019-01-09_34200000_57600000_message_10.csv\n",
      "/SAN/fca/Konark_PhD_Experiments/extracted/TSLA_2019-01-10_34200000_57600000_message_10.csv\n"
     ]
    },
    {
     "name": "stderr",
     "output_type": "stream",
     "text": [
      "/tmp/ipykernel_61354/2175603279.py:5: DtypeWarning: Columns (6) have mixed types.Specify dtype option on import or set low_memory=False.\n",
      "  data = l.load()\n"
     ]
    },
    {
     "name": "stdout",
     "output_type": "stream",
     "text": [
      "/SAN/fca/Konark_PhD_Experiments/extracted/TSLA_2019-01-11_34200000_57600000_message_10.csv\n"
     ]
    },
    {
     "name": "stderr",
     "output_type": "stream",
     "text": [
      "/home/konajain/code/lobSimulations/hawkes/dataLoader.py:109: SettingWithCopyWarning: \n",
      "A value is trying to be set on a copy of a slice from a DataFrame.\n",
      "Try using .loc[row_indexer,col_indexer] = value instead\n",
      "\n",
      "See the caveats in the documentation: https://pandas.pydata.org/pandas-docs/stable/user_guide/indexing.html#returning-a-view-versus-a-copy\n",
      "  theOrderBookFiltered[theOrderBookFiltered.columns[i]]  = theOrderBookFiltered[theOrderBookFiltered.columns[i]]/10000\n"
     ]
    },
    {
     "name": "stdout",
     "output_type": "stream",
     "text": [
      "/SAN/fca/Konark_PhD_Experiments/extracted/TSLA_2019-01-14_34200000_57600000_message_10.csv\n"
     ]
    },
    {
     "name": "stderr",
     "output_type": "stream",
     "text": [
      "/tmp/ipykernel_61354/2175603279.py:5: DtypeWarning: Columns (6) have mixed types.Specify dtype option on import or set low_memory=False.\n",
      "  data = l.load()\n",
      "/home/konajain/code/lobSimulations/hawkes/dataLoader.py:109: SettingWithCopyWarning: \n",
      "A value is trying to be set on a copy of a slice from a DataFrame.\n",
      "Try using .loc[row_indexer,col_indexer] = value instead\n",
      "\n",
      "See the caveats in the documentation: https://pandas.pydata.org/pandas-docs/stable/user_guide/indexing.html#returning-a-view-versus-a-copy\n",
      "  theOrderBookFiltered[theOrderBookFiltered.columns[i]]  = theOrderBookFiltered[theOrderBookFiltered.columns[i]]/10000\n"
     ]
    },
    {
     "name": "stdout",
     "output_type": "stream",
     "text": [
      "/SAN/fca/Konark_PhD_Experiments/extracted/TSLA_2019-01-15_34200000_57600000_message_10.csv\n"
     ]
    },
    {
     "name": "stderr",
     "output_type": "stream",
     "text": [
      "/tmp/ipykernel_61354/2175603279.py:5: DtypeWarning: Columns (6) have mixed types.Specify dtype option on import or set low_memory=False.\n",
      "  data = l.load()\n",
      "/home/konajain/code/lobSimulations/hawkes/dataLoader.py:109: SettingWithCopyWarning: \n",
      "A value is trying to be set on a copy of a slice from a DataFrame.\n",
      "Try using .loc[row_indexer,col_indexer] = value instead\n",
      "\n",
      "See the caveats in the documentation: https://pandas.pydata.org/pandas-docs/stable/user_guide/indexing.html#returning-a-view-versus-a-copy\n",
      "  theOrderBookFiltered[theOrderBookFiltered.columns[i]]  = theOrderBookFiltered[theOrderBookFiltered.columns[i]]/10000\n"
     ]
    },
    {
     "name": "stdout",
     "output_type": "stream",
     "text": [
      "/SAN/fca/Konark_PhD_Experiments/extracted/TSLA_2019-01-16_34200000_57600000_message_10.csv\n"
     ]
    },
    {
     "name": "stderr",
     "output_type": "stream",
     "text": [
      "/home/konajain/code/lobSimulations/hawkes/dataLoader.py:109: SettingWithCopyWarning: \n",
      "A value is trying to be set on a copy of a slice from a DataFrame.\n",
      "Try using .loc[row_indexer,col_indexer] = value instead\n",
      "\n",
      "See the caveats in the documentation: https://pandas.pydata.org/pandas-docs/stable/user_guide/indexing.html#returning-a-view-versus-a-copy\n",
      "  theOrderBookFiltered[theOrderBookFiltered.columns[i]]  = theOrderBookFiltered[theOrderBookFiltered.columns[i]]/10000\n"
     ]
    },
    {
     "name": "stdout",
     "output_type": "stream",
     "text": [
      "/SAN/fca/Konark_PhD_Experiments/extracted/TSLA_2019-01-17_34200000_57600000_message_10.csv\n"
     ]
    },
    {
     "name": "stderr",
     "output_type": "stream",
     "text": [
      "/home/konajain/code/lobSimulations/hawkes/dataLoader.py:109: SettingWithCopyWarning: \n",
      "A value is trying to be set on a copy of a slice from a DataFrame.\n",
      "Try using .loc[row_indexer,col_indexer] = value instead\n",
      "\n",
      "See the caveats in the documentation: https://pandas.pydata.org/pandas-docs/stable/user_guide/indexing.html#returning-a-view-versus-a-copy\n",
      "  theOrderBookFiltered[theOrderBookFiltered.columns[i]]  = theOrderBookFiltered[theOrderBookFiltered.columns[i]]/10000\n"
     ]
    },
    {
     "name": "stdout",
     "output_type": "stream",
     "text": [
      "/SAN/fca/Konark_PhD_Experiments/extracted/TSLA_2019-01-18_34200000_57600000_message_10.csv\n"
     ]
    },
    {
     "name": "stderr",
     "output_type": "stream",
     "text": [
      "/home/konajain/code/lobSimulations/hawkes/dataLoader.py:109: SettingWithCopyWarning: \n",
      "A value is trying to be set on a copy of a slice from a DataFrame.\n",
      "Try using .loc[row_indexer,col_indexer] = value instead\n",
      "\n",
      "See the caveats in the documentation: https://pandas.pydata.org/pandas-docs/stable/user_guide/indexing.html#returning-a-view-versus-a-copy\n",
      "  theOrderBookFiltered[theOrderBookFiltered.columns[i]]  = theOrderBookFiltered[theOrderBookFiltered.columns[i]]/10000\n"
     ]
    },
    {
     "name": "stdout",
     "output_type": "stream",
     "text": [
      "/SAN/fca/Konark_PhD_Experiments/extracted/TSLA_2019-01-22_34200000_57600000_message_10.csv\n"
     ]
    },
    {
     "name": "stderr",
     "output_type": "stream",
     "text": [
      "/home/konajain/code/lobSimulations/hawkes/dataLoader.py:109: SettingWithCopyWarning: \n",
      "A value is trying to be set on a copy of a slice from a DataFrame.\n",
      "Try using .loc[row_indexer,col_indexer] = value instead\n",
      "\n",
      "See the caveats in the documentation: https://pandas.pydata.org/pandas-docs/stable/user_guide/indexing.html#returning-a-view-versus-a-copy\n",
      "  theOrderBookFiltered[theOrderBookFiltered.columns[i]]  = theOrderBookFiltered[theOrderBookFiltered.columns[i]]/10000\n"
     ]
    },
    {
     "name": "stdout",
     "output_type": "stream",
     "text": [
      "/SAN/fca/Konark_PhD_Experiments/extracted/TSLA_2019-01-23_34200000_57600000_message_10.csv\n"
     ]
    },
    {
     "name": "stderr",
     "output_type": "stream",
     "text": [
      "/tmp/ipykernel_61354/2175603279.py:5: DtypeWarning: Columns (6) have mixed types.Specify dtype option on import or set low_memory=False.\n",
      "  data = l.load()\n",
      "/home/konajain/code/lobSimulations/hawkes/dataLoader.py:109: SettingWithCopyWarning: \n",
      "A value is trying to be set on a copy of a slice from a DataFrame.\n",
      "Try using .loc[row_indexer,col_indexer] = value instead\n",
      "\n",
      "See the caveats in the documentation: https://pandas.pydata.org/pandas-docs/stable/user_guide/indexing.html#returning-a-view-versus-a-copy\n",
      "  theOrderBookFiltered[theOrderBookFiltered.columns[i]]  = theOrderBookFiltered[theOrderBookFiltered.columns[i]]/10000\n"
     ]
    },
    {
     "name": "stdout",
     "output_type": "stream",
     "text": [
      "/SAN/fca/Konark_PhD_Experiments/extracted/TSLA_2019-01-24_34200000_57600000_message_10.csv\n"
     ]
    },
    {
     "name": "stderr",
     "output_type": "stream",
     "text": [
      "/home/konajain/code/lobSimulations/hawkes/dataLoader.py:109: SettingWithCopyWarning: \n",
      "A value is trying to be set on a copy of a slice from a DataFrame.\n",
      "Try using .loc[row_indexer,col_indexer] = value instead\n",
      "\n",
      "See the caveats in the documentation: https://pandas.pydata.org/pandas-docs/stable/user_guide/indexing.html#returning-a-view-versus-a-copy\n",
      "  theOrderBookFiltered[theOrderBookFiltered.columns[i]]  = theOrderBookFiltered[theOrderBookFiltered.columns[i]]/10000\n"
     ]
    },
    {
     "name": "stdout",
     "output_type": "stream",
     "text": [
      "/SAN/fca/Konark_PhD_Experiments/extracted/TSLA_2019-01-25_34200000_57600000_message_10.csv\n"
     ]
    },
    {
     "name": "stderr",
     "output_type": "stream",
     "text": [
      "/tmp/ipykernel_61354/2175603279.py:5: DtypeWarning: Columns (6) have mixed types.Specify dtype option on import or set low_memory=False.\n",
      "  data = l.load()\n",
      "/home/konajain/code/lobSimulations/hawkes/dataLoader.py:109: SettingWithCopyWarning: \n",
      "A value is trying to be set on a copy of a slice from a DataFrame.\n",
      "Try using .loc[row_indexer,col_indexer] = value instead\n",
      "\n",
      "See the caveats in the documentation: https://pandas.pydata.org/pandas-docs/stable/user_guide/indexing.html#returning-a-view-versus-a-copy\n",
      "  theOrderBookFiltered[theOrderBookFiltered.columns[i]]  = theOrderBookFiltered[theOrderBookFiltered.columns[i]]/10000\n"
     ]
    },
    {
     "name": "stdout",
     "output_type": "stream",
     "text": [
      "/SAN/fca/Konark_PhD_Experiments/extracted/TSLA_2019-01-28_34200000_57600000_message_10.csv\n"
     ]
    },
    {
     "name": "stderr",
     "output_type": "stream",
     "text": [
      "/home/konajain/code/lobSimulations/hawkes/dataLoader.py:109: SettingWithCopyWarning: \n",
      "A value is trying to be set on a copy of a slice from a DataFrame.\n",
      "Try using .loc[row_indexer,col_indexer] = value instead\n",
      "\n",
      "See the caveats in the documentation: https://pandas.pydata.org/pandas-docs/stable/user_guide/indexing.html#returning-a-view-versus-a-copy\n",
      "  theOrderBookFiltered[theOrderBookFiltered.columns[i]]  = theOrderBookFiltered[theOrderBookFiltered.columns[i]]/10000\n"
     ]
    },
    {
     "name": "stdout",
     "output_type": "stream",
     "text": [
      "/SAN/fca/Konark_PhD_Experiments/extracted/TSLA_2019-01-29_34200000_57600000_message_10.csv\n"
     ]
    },
    {
     "name": "stderr",
     "output_type": "stream",
     "text": [
      "/tmp/ipykernel_61354/2175603279.py:5: DtypeWarning: Columns (6) have mixed types.Specify dtype option on import or set low_memory=False.\n",
      "  data = l.load()\n",
      "/home/konajain/code/lobSimulations/hawkes/dataLoader.py:109: SettingWithCopyWarning: \n",
      "A value is trying to be set on a copy of a slice from a DataFrame.\n",
      "Try using .loc[row_indexer,col_indexer] = value instead\n",
      "\n",
      "See the caveats in the documentation: https://pandas.pydata.org/pandas-docs/stable/user_guide/indexing.html#returning-a-view-versus-a-copy\n",
      "  theOrderBookFiltered[theOrderBookFiltered.columns[i]]  = theOrderBookFiltered[theOrderBookFiltered.columns[i]]/10000\n"
     ]
    },
    {
     "name": "stdout",
     "output_type": "stream",
     "text": [
      "/SAN/fca/Konark_PhD_Experiments/extracted/TSLA_2019-01-30_34200000_57600000_message_10.csv\n"
     ]
    },
    {
     "name": "stderr",
     "output_type": "stream",
     "text": [
      "/tmp/ipykernel_61354/2175603279.py:5: DtypeWarning: Columns (6) have mixed types.Specify dtype option on import or set low_memory=False.\n",
      "  data = l.load()\n",
      "/home/konajain/code/lobSimulations/hawkes/dataLoader.py:109: SettingWithCopyWarning: \n",
      "A value is trying to be set on a copy of a slice from a DataFrame.\n",
      "Try using .loc[row_indexer,col_indexer] = value instead\n",
      "\n",
      "See the caveats in the documentation: https://pandas.pydata.org/pandas-docs/stable/user_guide/indexing.html#returning-a-view-versus-a-copy\n",
      "  theOrderBookFiltered[theOrderBookFiltered.columns[i]]  = theOrderBookFiltered[theOrderBookFiltered.columns[i]]/10000\n"
     ]
    },
    {
     "name": "stdout",
     "output_type": "stream",
     "text": [
      "/SAN/fca/Konark_PhD_Experiments/extracted/TSLA_2019-01-31_34200000_57600000_message_10.csv\n"
     ]
    },
    {
     "name": "stderr",
     "output_type": "stream",
     "text": [
      "/tmp/ipykernel_61354/2175603279.py:5: DtypeWarning: Columns (6) have mixed types.Specify dtype option on import or set low_memory=False.\n",
      "  data = l.load()\n",
      "/home/konajain/code/lobSimulations/hawkes/dataLoader.py:109: SettingWithCopyWarning: \n",
      "A value is trying to be set on a copy of a slice from a DataFrame.\n",
      "Try using .loc[row_indexer,col_indexer] = value instead\n",
      "\n",
      "See the caveats in the documentation: https://pandas.pydata.org/pandas-docs/stable/user_guide/indexing.html#returning-a-view-versus-a-copy\n",
      "  theOrderBookFiltered[theOrderBookFiltered.columns[i]]  = theOrderBookFiltered[theOrderBookFiltered.columns[i]]/10000\n"
     ]
    },
    {
     "name": "stdout",
     "output_type": "stream",
     "text": [
      "/SAN/fca/Konark_PhD_Experiments/extracted/TSLA_2019-02-01_34200000_57600000_message_10.csv\n",
      "/SAN/fca/Konark_PhD_Experiments/extracted/TSLA_2019-02-04_34200000_57600000_message_10.csv\n"
     ]
    }
   ],
   "source": [
    "# prices = np.arange(0,100)\n",
    "final_res = {}\n",
    "for j in pd.date_range(dt.date(2019,1,2), dt.date(2019,2,4)):\n",
    "    l = dataLoader.Loader(ric, j, j, nlevels = 10, dataPath = \"/SAN/fca/Konark_PhD_Experiments/extracted/\")\n",
    "    data = l.load()\n",
    "    master_dict = {}\n",
    "    if len(data):\n",
    "        data = data[0]\n",
    "    else:\n",
    "        continue\n",
    "    data['timeDiff'] = data['Time'].diff()\n",
    "    data['total v_a'] = data[[\"Ask Size \" + str(i) for i in range(1,11) ]].sum(axis=1)\n",
    "    data['total v_b'] = data[[\"Bid Size \" + str(i) for i in range(1,11) ]].sum(axis=1)\n",
    "    data['mid'] = (data['Ask Price 1'] + data['Bid Price 1'])*0.5\n",
    "    for i in range(10,0, -1):\n",
    "        data[\"Ask Size \" + str(i)] = data[\"Ask Size \" + str(i)]/data['total v_a']\n",
    "        data[\"Bid Size \" + str(i)] = data[\"Ask Size \" + str(i)]/data['total v_b']\n",
    "        data[\"Ask Price \" + str(i)] = np.round(200*(data[\"Ask Price \" + str(i)] - data['mid'])).astype(int)\n",
    "        data[\"Bid Price \" + str(i)] = np.round(200*(data[\"Bid Price \" + str(i)] - data['mid'])).astype(int)\n",
    "    \n",
    "        data['tmp'] = data['Ask Size ' + str(i)]*data['timeDiff']\n",
    "        data_dict = (data.groupby(\"Ask Price \" + str(i))['tmp'].sum()/23400).to_dict()\n",
    "        # print(sum(data_dict.values()))\n",
    "        for k, v in data_dict.items():\n",
    "            master_dict[k] = master_dict.get(k, [])+ [v]\n",
    "        data['tmp'] = data['Bid Size ' + str(i)]*data['timeDiff']\n",
    "        data_dict = (data.groupby(\"Bid Price \" + str(i))['tmp'].sum()/23400).to_dict()\n",
    "        for k, v in data_dict.items():\n",
    "            master_dict[np.abs(k)] = master_dict.get(np.abs(k), [])+ [v]\n",
    "    res_dict = {}\n",
    "    std_dict = {}\n",
    "    for k,v in master_dict.items():\n",
    "        res_dict[k] = np.average(v)\n",
    "        std_dict[k] = np.std(v)\n",
    "        final_res[np.abs(k)] = final_res.get(np.abs(k), [])+ [res_dict[k]]"
   ]
  },
  {
   "cell_type": "code",
   "execution_count": 267,
   "id": "54ce60c6-d742-415f-8bcd-7ae3e3b4b5b3",
   "metadata": {},
   "outputs": [
    {
     "name": "stderr",
     "output_type": "stream",
     "text": [
      "No artists with labels found to put in legend.  Note that artists whose label start with an underscore are ignored when legend() is called with no argument.\n"
     ]
    },
    {
     "data": {
      "text/plain": [
       "Text(0.5, 1.0, 'Shape of LOB - TSLA.OQ')"
      ]
     },
     "execution_count": 267,
     "metadata": {},
     "output_type": "execute_result"
    },
    {
     "data": {
      "image/png": "[encoded data removed]",
      "text/plain": [
       "<Figure size 640x480 with 1 Axes>"
      ]
     },
     "metadata": {},
     "output_type": "display_data"
    }
   ],
   "source": [
    "\n",
    "# plt.plot(np.arange(0,100,2)/2, [(res_dict[k] + res_dict[k+1])/2 for k in range(0,100,2)])\n",
    "for i in range(len(final_res[1])):\n",
    "    plt.plot(np.arange(1,100)/2, [final_res[k][i] for k in range(1,100)], alpha = 0.1, color = \"b\")\n",
    "plt.plot(np.arange(1,100)/2, [np.average(final_res[k]) for k in range(1,100)], color=\"r\")\n",
    "# plt.fill_between(np.arange(0,100)/2, [np.max([1e-3,res_dict[k] - std_dict[k]]) for k in range(100)], [res_dict[k] + std_dict[k] for k in range(100)], alpha = 0.1, color=\"b\")\n",
    "# plt.yscale(\"log\")\n",
    "plt.xlabel(\"Depth (in ticks)\")\n",
    "plt.ylabel(\"Volume ratio\")\n",
    "plt.legend()\n",
    "plt.title(\"Shape of LOB - \" + ric)"
   ]
  },
  {
   "cell_type": "code",
   "execution_count": 169,
   "id": "1baacd43-415c-4594-a6d7-1266571ac22a",
   "metadata": {},
   "outputs": [
    {
     "name": "stdout",
     "output_type": "stream",
     "text": [
      "/SAN/fca/Konark_PhD_Experiments/extracted/INTC_2019-02-01_34200000_57600000_message_10.csv\n"
     ]
    },
    {
     "name": "stderr",
     "output_type": "stream",
     "text": [
      "/home/konajain/code/lobSimulations/hawkes/dataLoader.py:109: SettingWithCopyWarning: \n",
      "A value is trying to be set on a copy of a slice from a DataFrame.\n",
      "Try using .loc[row_indexer,col_indexer] = value instead\n",
      "\n",
      "See the caveats in the documentation: https://pandas.pydata.org/pandas-docs/stable/user_guide/indexing.html#returning-a-view-versus-a-copy\n",
      "  theOrderBookFiltered[theOrderBookFiltered.columns[i]]  = theOrderBookFiltered[theOrderBookFiltered.columns[i]]/10000\n"
     ]
    },
    {
     "data": {
      "text/html": [
       "<div>\n",
       "<style scoped>\n",
       "    .dataframe tbody tr th:only-of-type {\n",
       "        vertical-align: middle;\n",
       "    }\n",
       "\n",
       "    .dataframe tbody tr th {\n",
       "        vertical-align: top;\n",
       "    }\n",
       "\n",
       "    .dataframe thead th {\n",
       "        text-align: right;\n",
       "    }\n",
       "</style>\n",
       "<table border=\"1\" class=\"dataframe\">\n",
       "  <thead>\n",
       "    <tr style=\"text-align: right;\">\n",
       "      <th></th>\n",
       "      <th>Time</th>\n",
       "      <th>Type</th>\n",
       "      <th>OrderID</th>\n",
       "      <th>Size</th>\n",
       "      <th>Price</th>\n",
       "      <th>TradeDirection</th>\n",
       "      <th>tmp</th>\n",
       "      <th>Ask Price 1</th>\n",
       "      <th>Ask Size 1</th>\n",
       "      <th>Bid Price 1</th>\n",
       "      <th>...</th>\n",
       "      <th>Bid Size 8</th>\n",
       "      <th>Ask Price 9</th>\n",
       "      <th>Ask Size 9</th>\n",
       "      <th>Bid Price 9</th>\n",
       "      <th>Bid Size 9</th>\n",
       "      <th>Ask Price 10</th>\n",
       "      <th>Ask Size 10</th>\n",
       "      <th>Bid Price 10</th>\n",
       "      <th>Bid Size 10</th>\n",
       "      <th>Date</th>\n",
       "    </tr>\n",
       "  </thead>\n",
       "  <tbody>\n",
       "    <tr>\n",
       "      <th>13</th>\n",
       "      <td>34200.860826</td>\n",
       "      <td>6</td>\n",
       "      <td>-1</td>\n",
       "      <td>217996</td>\n",
       "      <td>470600</td>\n",
       "      <td>-1</td>\n",
       "      <td>NaN</td>\n",
       "      <td>47.10</td>\n",
       "      <td>8</td>\n",
       "      <td>47.03</td>\n",
       "      <td>...</td>\n",
       "      <td>1</td>\n",
       "      <td>48.00</td>\n",
       "      <td>1</td>\n",
       "      <td>46.20</td>\n",
       "      <td>2</td>\n",
       "      <td>48.11</td>\n",
       "      <td>100</td>\n",
       "      <td>46.15</td>\n",
       "      <td>200</td>\n",
       "      <td>2019-02-01</td>\n",
       "    </tr>\n",
       "    <tr>\n",
       "      <th>14</th>\n",
       "      <td>34200.860826</td>\n",
       "      <td>1</td>\n",
       "      <td>3655174</td>\n",
       "      <td>100</td>\n",
       "      <td>470500</td>\n",
       "      <td>1</td>\n",
       "      <td>NaN</td>\n",
       "      <td>47.10</td>\n",
       "      <td>8</td>\n",
       "      <td>47.05</td>\n",
       "      <td>...</td>\n",
       "      <td>101</td>\n",
       "      <td>48.00</td>\n",
       "      <td>1</td>\n",
       "      <td>46.40</td>\n",
       "      <td>1</td>\n",
       "      <td>48.11</td>\n",
       "      <td>100</td>\n",
       "      <td>46.20</td>\n",
       "      <td>2</td>\n",
       "      <td>2019-02-01</td>\n",
       "    </tr>\n",
       "    <tr>\n",
       "      <th>15</th>\n",
       "      <td>34200.860826</td>\n",
       "      <td>1</td>\n",
       "      <td>3200566</td>\n",
       "      <td>10</td>\n",
       "      <td>470700</td>\n",
       "      <td>-1</td>\n",
       "      <td>NaN</td>\n",
       "      <td>47.07</td>\n",
       "      <td>10</td>\n",
       "      <td>47.05</td>\n",
       "      <td>...</td>\n",
       "      <td>101</td>\n",
       "      <td>47.64</td>\n",
       "      <td>5</td>\n",
       "      <td>46.40</td>\n",
       "      <td>1</td>\n",
       "      <td>48.00</td>\n",
       "      <td>1</td>\n",
       "      <td>46.20</td>\n",
       "      <td>2</td>\n",
       "      <td>2019-02-01</td>\n",
       "    </tr>\n",
       "    <tr>\n",
       "      <th>16</th>\n",
       "      <td>34200.860826</td>\n",
       "      <td>1</td>\n",
       "      <td>4251874</td>\n",
       "      <td>1</td>\n",
       "      <td>470500</td>\n",
       "      <td>1</td>\n",
       "      <td>NaN</td>\n",
       "      <td>47.07</td>\n",
       "      <td>10</td>\n",
       "      <td>47.05</td>\n",
       "      <td>...</td>\n",
       "      <td>101</td>\n",
       "      <td>47.64</td>\n",
       "      <td>5</td>\n",
       "      <td>46.40</td>\n",
       "      <td>1</td>\n",
       "      <td>48.00</td>\n",
       "      <td>1</td>\n",
       "      <td>46.20</td>\n",
       "      <td>2</td>\n",
       "      <td>2019-02-01</td>\n",
       "    </tr>\n",
       "    <tr>\n",
       "      <th>17</th>\n",
       "      <td>34200.860826</td>\n",
       "      <td>1</td>\n",
       "      <td>2564490</td>\n",
       "      <td>50</td>\n",
       "      <td>470800</td>\n",
       "      <td>-1</td>\n",
       "      <td>NaN</td>\n",
       "      <td>47.07</td>\n",
       "      <td>10</td>\n",
       "      <td>47.05</td>\n",
       "      <td>...</td>\n",
       "      <td>101</td>\n",
       "      <td>47.50</td>\n",
       "      <td>5</td>\n",
       "      <td>46.40</td>\n",
       "      <td>1</td>\n",
       "      <td>47.64</td>\n",
       "      <td>5</td>\n",
       "      <td>46.20</td>\n",
       "      <td>2</td>\n",
       "      <td>2019-02-01</td>\n",
       "    </tr>\n",
       "    <tr>\n",
       "      <th>...</th>\n",
       "      <td>...</td>\n",
       "      <td>...</td>\n",
       "      <td>...</td>\n",
       "      <td>...</td>\n",
       "      <td>...</td>\n",
       "      <td>...</td>\n",
       "      <td>...</td>\n",
       "      <td>...</td>\n",
       "      <td>...</td>\n",
       "      <td>...</td>\n",
       "      <td>...</td>\n",
       "      <td>...</td>\n",
       "      <td>...</td>\n",
       "      <td>...</td>\n",
       "      <td>...</td>\n",
       "      <td>...</td>\n",
       "      <td>...</td>\n",
       "      <td>...</td>\n",
       "      <td>...</td>\n",
       "      <td>...</td>\n",
       "      <td>...</td>\n",
       "    </tr>\n",
       "    <tr>\n",
       "      <th>1086407</th>\n",
       "      <td>57599.988321</td>\n",
       "      <td>1</td>\n",
       "      <td>319487258</td>\n",
       "      <td>40</td>\n",
       "      <td>487200</td>\n",
       "      <td>1</td>\n",
       "      <td>NaN</td>\n",
       "      <td>48.74</td>\n",
       "      <td>7800</td>\n",
       "      <td>48.73</td>\n",
       "      <td>...</td>\n",
       "      <td>48050</td>\n",
       "      <td>48.82</td>\n",
       "      <td>1822</td>\n",
       "      <td>48.65</td>\n",
       "      <td>38400</td>\n",
       "      <td>48.83</td>\n",
       "      <td>25800</td>\n",
       "      <td>48.64</td>\n",
       "      <td>8400</td>\n",
       "      <td>2019-02-01</td>\n",
       "    </tr>\n",
       "    <tr>\n",
       "      <th>1086408</th>\n",
       "      <td>57599.990037</td>\n",
       "      <td>1</td>\n",
       "      <td>319488254</td>\n",
       "      <td>20</td>\n",
       "      <td>487000</td>\n",
       "      <td>1</td>\n",
       "      <td>NaN</td>\n",
       "      <td>48.74</td>\n",
       "      <td>7800</td>\n",
       "      <td>48.73</td>\n",
       "      <td>...</td>\n",
       "      <td>48050</td>\n",
       "      <td>48.82</td>\n",
       "      <td>1822</td>\n",
       "      <td>48.65</td>\n",
       "      <td>38400</td>\n",
       "      <td>48.83</td>\n",
       "      <td>25800</td>\n",
       "      <td>48.64</td>\n",
       "      <td>8400</td>\n",
       "      <td>2019-02-01</td>\n",
       "    </tr>\n",
       "    <tr>\n",
       "      <th>1086409</th>\n",
       "      <td>57599.992988</td>\n",
       "      <td>1</td>\n",
       "      <td>319489474</td>\n",
       "      <td>400</td>\n",
       "      <td>486800</td>\n",
       "      <td>1</td>\n",
       "      <td>NaN</td>\n",
       "      <td>48.74</td>\n",
       "      <td>7800</td>\n",
       "      <td>48.73</td>\n",
       "      <td>...</td>\n",
       "      <td>48050</td>\n",
       "      <td>48.82</td>\n",
       "      <td>1822</td>\n",
       "      <td>48.65</td>\n",
       "      <td>38400</td>\n",
       "      <td>48.83</td>\n",
       "      <td>25800</td>\n",
       "      <td>48.64</td>\n",
       "      <td>8400</td>\n",
       "      <td>2019-02-01</td>\n",
       "    </tr>\n",
       "    <tr>\n",
       "      <th>1086410</th>\n",
       "      <td>57599.992996</td>\n",
       "      <td>1</td>\n",
       "      <td>319489482</td>\n",
       "      <td>1100</td>\n",
       "      <td>487400</td>\n",
       "      <td>-1</td>\n",
       "      <td>NaN</td>\n",
       "      <td>48.74</td>\n",
       "      <td>8900</td>\n",
       "      <td>48.73</td>\n",
       "      <td>...</td>\n",
       "      <td>48050</td>\n",
       "      <td>48.82</td>\n",
       "      <td>1822</td>\n",
       "      <td>48.65</td>\n",
       "      <td>38400</td>\n",
       "      <td>48.83</td>\n",
       "      <td>25800</td>\n",
       "      <td>48.64</td>\n",
       "      <td>8400</td>\n",
       "      <td>2019-02-01</td>\n",
       "    </tr>\n",
       "    <tr>\n",
       "      <th>1086411</th>\n",
       "      <td>57599.992998</td>\n",
       "      <td>1</td>\n",
       "      <td>319489486</td>\n",
       "      <td>1100</td>\n",
       "      <td>487700</td>\n",
       "      <td>-1</td>\n",
       "      <td>NaN</td>\n",
       "      <td>48.74</td>\n",
       "      <td>8900</td>\n",
       "      <td>48.73</td>\n",
       "      <td>...</td>\n",
       "      <td>48050</td>\n",
       "      <td>48.82</td>\n",
       "      <td>1822</td>\n",
       "      <td>48.65</td>\n",
       "      <td>38400</td>\n",
       "      <td>48.83</td>\n",
       "      <td>25800</td>\n",
       "      <td>48.64</td>\n",
       "      <td>8400</td>\n",
       "      <td>2019-02-01</td>\n",
       "    </tr>\n",
       "  </tbody>\n",
       "</table>\n",
       "<p>1086399 rows × 48 columns</p>\n",
       "</div>"
      ],
      "text/plain": [
       "                 Time  Type    OrderID    Size   Price  TradeDirection  tmp  \\\n",
       "13       34200.860826     6         -1  217996  470600              -1  NaN   \n",
       "14       34200.860826     1    3655174     100  470500               1  NaN   \n",
       "15       34200.860826     1    3200566      10  470700              -1  NaN   \n",
       "16       34200.860826     1    4251874       1  470500               1  NaN   \n",
       "17       34200.860826     1    2564490      50  470800              -1  NaN   \n",
       "...               ...   ...        ...     ...     ...             ...  ...   \n",
       "1086407  57599.988321     1  319487258      40  487200               1  NaN   \n",
       "1086408  57599.990037     1  319488254      20  487000               1  NaN   \n",
       "1086409  57599.992988     1  319489474     400  486800               1  NaN   \n",
       "1086410  57599.992996     1  319489482    1100  487400              -1  NaN   \n",
       "1086411  57599.992998     1  319489486    1100  487700              -1  NaN   \n",
       "\n",
       "         Ask Price 1  Ask Size 1  Bid Price 1  ...  Bid Size 8  Ask Price 9  \\\n",
       "13             47.10           8        47.03  ...           1        48.00   \n",
       "14             47.10           8        47.05  ...         101        48.00   \n",
       "15             47.07          10        47.05  ...         101        47.64   \n",
       "16             47.07          10        47.05  ...         101        47.64   \n",
       "17             47.07          10        47.05  ...         101        47.50   \n",
       "...              ...         ...          ...  ...         ...          ...   \n",
       "1086407        48.74        7800        48.73  ...       48050        48.82   \n",
       "1086408        48.74        7800        48.73  ...       48050        48.82   \n",
       "1086409        48.74        7800        48.73  ...       48050        48.82   \n",
       "1086410        48.74        8900        48.73  ...       48050        48.82   \n",
       "1086411        48.74        8900        48.73  ...       48050        48.82   \n",
       "\n",
       "         Ask Size 9  Bid Price 9  Bid Size 9  Ask Price 10  Ask Size 10  \\\n",
       "13                1        46.20           2         48.11          100   \n",
       "14                1        46.40           1         48.11          100   \n",
       "15                5        46.40           1         48.00            1   \n",
       "16                5        46.40           1         48.00            1   \n",
       "17                5        46.40           1         47.64            5   \n",
       "...             ...          ...         ...           ...          ...   \n",
       "1086407        1822        48.65       38400         48.83        25800   \n",
       "1086408        1822        48.65       38400         48.83        25800   \n",
       "1086409        1822        48.65       38400         48.83        25800   \n",
       "1086410        1822        48.65       38400         48.83        25800   \n",
       "1086411        1822        48.65       38400         48.83        25800   \n",
       "\n",
       "         Bid Price 10  Bid Size 10        Date  \n",
       "13              46.15          200  2019-02-01  \n",
       "14              46.20            2  2019-02-01  \n",
       "15              46.20            2  2019-02-01  \n",
       "16              46.20            2  2019-02-01  \n",
       "17              46.20            2  2019-02-01  \n",
       "...               ...          ...         ...  \n",
       "1086407         48.64         8400  2019-02-01  \n",
       "1086408         48.64         8400  2019-02-01  \n",
       "1086409         48.64         8400  2019-02-01  \n",
       "1086410         48.64         8400  2019-02-01  \n",
       "1086411         48.64         8400  2019-02-01  \n",
       "\n",
       "[1086399 rows x 48 columns]"
      ]
     },
     "execution_count": 169,
     "metadata": {},
     "output_type": "execute_result"
    }
   ],
   "source": [
    "l = dataLoader.Loader(ric, j, j, nlevels = 10, dataPath = \"/SAN/fca/Konark_PhD_Experiments/extracted/\")\n",
    "if True:\n",
    "    data = l.load()\n",
    "    master_dict = {}\n",
    "    if len(data):\n",
    "        data = data[0]\n",
    "data"
   ]
  },
  {
   "cell_type": "markdown",
   "id": "2662022d-2d9d-4b81-997a-a83b07ff34ba",
   "metadata": {},
   "source": [
    "# Percentiles of Book Volumes (and stats)"
   ]
  },
  {
   "cell_type": "code",
   "execution_count": 199,
   "id": "7366fa75-2c62-4602-a91a-88ad0545c294",
   "metadata": {},
   "outputs": [
    {
     "name": "stdout",
     "output_type": "stream",
     "text": [
      "INTC.OQ\n",
      "Percentile 10.0 at 0.5 ticks from mid\n",
      "Percentile 25.0 at 1.5 ticks from mid\n",
      "Percentile 50.0 at 2.5 ticks from mid\n",
      "Percentile 75.0 at 5.5 ticks from mid\n",
      "Percentile 90.0 at 7.5 ticks from mid\n",
      "Percentile 99.0 at 9.5 ticks from mid\n"
     ]
    }
   ],
   "source": [
    "print(ric)\n",
    "vols = np.array([np.average(final_res[k]) for k in range(1,100)])\n",
    "volsNorm = vols/np.sum(vols)\n",
    "cumVols = np.cumsum(volsNorm)\n",
    "percentiles = [0.1,0.25, 0.5, 0.75, 0.9, 0.99]\n",
    "ticks = np.arange(1,100)/2\n",
    "for p in percentiles:\n",
    "    idx = np.where(cumVols >= p)[0][0]\n",
    "    print(\"Percentile \" + str(100*p) + \" at \" + str(ticks[idx]) + \" ticks from mid\") "
   ]
  },
  {
   "cell_type": "code",
   "execution_count": 236,
   "id": "15558a08-2c31-47ec-9564-7de87ba7e1c1",
   "metadata": {},
   "outputs": [
    {
     "name": "stdout",
     "output_type": "stream",
     "text": [
      "TSLA.OQ\n",
      "Perc Mean Std\n",
      "10.0 8.6 4.23\n",
      "25.0 15.5 5.4\n",
      "50.0 26.0 7.72\n",
      "75.0 36.8 9.02\n",
      "90.0 46.8 8.45\n",
      "99.0 65.2 3.82\n"
     ]
    }
   ],
   "source": [
    "print(ric)\n",
    "pctiles = {}\n",
    "percentiles = [0.1,0.25, 0.5, 0.75, 0.9, 0.99]\n",
    "for i in range(10):\n",
    "    vols = np.array([final_res[k][i] for k in range(1,150)])\n",
    "    volsNorm = vols/np.sum(vols)\n",
    "    cumVols = np.cumsum(volsNorm)\n",
    "    \n",
    "    ticks = np.arange(1,150)/2\n",
    "    for p in percentiles:\n",
    "        idx = np.where(cumVols >= p)[0][0]\n",
    "        # print(\"Percentile \" + str(100*p) + \" at \" + str(ticks[idx]) + \" ticks from mid\") \n",
    "        pctiles[p] = pctiles.get(p, []) + [ticks[idx]]\n",
    "print(\"Perc Mean Std\")\n",
    "for p in percentiles:\n",
    "    print(100*p, np.round(np.mean(pctiles[p]),1), np.round(np.std(pctiles[p]),2))"
   ]
  },
  {
   "cell_type": "markdown",
   "id": "1dcc8584-7b25-4281-a178-5a5b49670286",
   "metadata": {},
   "source": [
    "# Sparsity of levels"
   ]
  },
  {
   "cell_type": "code",
   "execution_count": 261,
   "id": "d3a8fd3f-c2f1-4ac1-b9e5-1d4c5807c48b",
   "metadata": {},
   "outputs": [],
   "source": [
    "ric = \"TSLA.OQ\""
   ]
  },
  {
   "cell_type": "code",
   "execution_count": 262,
   "id": "581d41c6-a3d8-47ee-b8cc-5b3420fcf258",
   "metadata": {
    "scrolled": true
   },
   "outputs": [
    {
     "name": "stdout",
     "output_type": "stream",
     "text": [
      "/SAN/fca/Konark_PhD_Experiments/extracted/TSLA_2019-01-02_34200000_57600000_message_10.csv\n"
     ]
    },
    {
     "name": "stderr",
     "output_type": "stream",
     "text": [
      "/home/konajain/code/lobSimulations/hawkes/dataLoader.py:109: SettingWithCopyWarning: \n",
      "A value is trying to be set on a copy of a slice from a DataFrame.\n",
      "Try using .loc[row_indexer,col_indexer] = value instead\n",
      "\n",
      "See the caveats in the documentation: https://pandas.pydata.org/pandas-docs/stable/user_guide/indexing.html#returning-a-view-versus-a-copy\n",
      "  theOrderBookFiltered[theOrderBookFiltered.columns[i]]  = theOrderBookFiltered[theOrderBookFiltered.columns[i]]/10000\n"
     ]
    },
    {
     "name": "stdout",
     "output_type": "stream",
     "text": [
      "/SAN/fca/Konark_PhD_Experiments/extracted/TSLA_2019-01-03_34200000_57600000_message_10.csv\n"
     ]
    },
    {
     "name": "stderr",
     "output_type": "stream",
     "text": [
      "/tmp/ipykernel_61354/1799644278.py:5: DtypeWarning: Columns (6) have mixed types.Specify dtype option on import or set low_memory=False.\n",
      "  data = l.load()\n",
      "/home/konajain/code/lobSimulations/hawkes/dataLoader.py:109: SettingWithCopyWarning: \n",
      "A value is trying to be set on a copy of a slice from a DataFrame.\n",
      "Try using .loc[row_indexer,col_indexer] = value instead\n",
      "\n",
      "See the caveats in the documentation: https://pandas.pydata.org/pandas-docs/stable/user_guide/indexing.html#returning-a-view-versus-a-copy\n",
      "  theOrderBookFiltered[theOrderBookFiltered.columns[i]]  = theOrderBookFiltered[theOrderBookFiltered.columns[i]]/10000\n"
     ]
    },
    {
     "name": "stdout",
     "output_type": "stream",
     "text": [
      "/SAN/fca/Konark_PhD_Experiments/extracted/TSLA_2019-01-04_34200000_57600000_message_10.csv\n"
     ]
    },
    {
     "name": "stderr",
     "output_type": "stream",
     "text": [
      "/tmp/ipykernel_61354/1799644278.py:5: DtypeWarning: Columns (6) have mixed types.Specify dtype option on import or set low_memory=False.\n",
      "  data = l.load()\n"
     ]
    },
    {
     "name": "stdout",
     "output_type": "stream",
     "text": [
      "/SAN/fca/Konark_PhD_Experiments/extracted/TSLA_2019-01-07_34200000_57600000_message_10.csv\n"
     ]
    },
    {
     "name": "stderr",
     "output_type": "stream",
     "text": [
      "/tmp/ipykernel_61354/1799644278.py:5: DtypeWarning: Columns (6) have mixed types.Specify dtype option on import or set low_memory=False.\n",
      "  data = l.load()\n",
      "/home/konajain/code/lobSimulations/hawkes/dataLoader.py:109: SettingWithCopyWarning: \n",
      "A value is trying to be set on a copy of a slice from a DataFrame.\n",
      "Try using .loc[row_indexer,col_indexer] = value instead\n",
      "\n",
      "See the caveats in the documentation: https://pandas.pydata.org/pandas-docs/stable/user_guide/indexing.html#returning-a-view-versus-a-copy\n",
      "  theOrderBookFiltered[theOrderBookFiltered.columns[i]]  = theOrderBookFiltered[theOrderBookFiltered.columns[i]]/10000\n"
     ]
    },
    {
     "name": "stdout",
     "output_type": "stream",
     "text": [
      "/SAN/fca/Konark_PhD_Experiments/extracted/TSLA_2019-01-08_34200000_57600000_message_10.csv\n"
     ]
    },
    {
     "name": "stderr",
     "output_type": "stream",
     "text": [
      "/home/konajain/code/lobSimulations/hawkes/dataLoader.py:109: SettingWithCopyWarning: \n",
      "A value is trying to be set on a copy of a slice from a DataFrame.\n",
      "Try using .loc[row_indexer,col_indexer] = value instead\n",
      "\n",
      "See the caveats in the documentation: https://pandas.pydata.org/pandas-docs/stable/user_guide/indexing.html#returning-a-view-versus-a-copy\n",
      "  theOrderBookFiltered[theOrderBookFiltered.columns[i]]  = theOrderBookFiltered[theOrderBookFiltered.columns[i]]/10000\n"
     ]
    },
    {
     "name": "stdout",
     "output_type": "stream",
     "text": [
      "/SAN/fca/Konark_PhD_Experiments/extracted/TSLA_2019-01-10_34200000_57600000_message_10.csv\n"
     ]
    },
    {
     "name": "stderr",
     "output_type": "stream",
     "text": [
      "/tmp/ipykernel_61354/1799644278.py:5: DtypeWarning: Columns (6) have mixed types.Specify dtype option on import or set low_memory=False.\n",
      "  data = l.load()\n"
     ]
    },
    {
     "name": "stdout",
     "output_type": "stream",
     "text": [
      "/SAN/fca/Konark_PhD_Experiments/extracted/TSLA_2019-01-11_34200000_57600000_message_10.csv\n"
     ]
    },
    {
     "name": "stderr",
     "output_type": "stream",
     "text": [
      "/home/konajain/code/lobSimulations/hawkes/dataLoader.py:109: SettingWithCopyWarning: \n",
      "A value is trying to be set on a copy of a slice from a DataFrame.\n",
      "Try using .loc[row_indexer,col_indexer] = value instead\n",
      "\n",
      "See the caveats in the documentation: https://pandas.pydata.org/pandas-docs/stable/user_guide/indexing.html#returning-a-view-versus-a-copy\n",
      "  theOrderBookFiltered[theOrderBookFiltered.columns[i]]  = theOrderBookFiltered[theOrderBookFiltered.columns[i]]/10000\n"
     ]
    },
    {
     "name": "stdout",
     "output_type": "stream",
     "text": [
      "/SAN/fca/Konark_PhD_Experiments/extracted/TSLA_2019-01-14_34200000_57600000_message_10.csv\n"
     ]
    },
    {
     "name": "stderr",
     "output_type": "stream",
     "text": [
      "/tmp/ipykernel_61354/1799644278.py:5: DtypeWarning: Columns (6) have mixed types.Specify dtype option on import or set low_memory=False.\n",
      "  data = l.load()\n",
      "/home/konajain/code/lobSimulations/hawkes/dataLoader.py:109: SettingWithCopyWarning: \n",
      "A value is trying to be set on a copy of a slice from a DataFrame.\n",
      "Try using .loc[row_indexer,col_indexer] = value instead\n",
      "\n",
      "See the caveats in the documentation: https://pandas.pydata.org/pandas-docs/stable/user_guide/indexing.html#returning-a-view-versus-a-copy\n",
      "  theOrderBookFiltered[theOrderBookFiltered.columns[i]]  = theOrderBookFiltered[theOrderBookFiltered.columns[i]]/10000\n"
     ]
    },
    {
     "name": "stdout",
     "output_type": "stream",
     "text": [
      "/SAN/fca/Konark_PhD_Experiments/extracted/TSLA_2019-01-15_34200000_57600000_message_10.csv\n"
     ]
    },
    {
     "name": "stderr",
     "output_type": "stream",
     "text": [
      "/tmp/ipykernel_61354/1799644278.py:5: DtypeWarning: Columns (6) have mixed types.Specify dtype option on import or set low_memory=False.\n",
      "  data = l.load()\n",
      "/home/konajain/code/lobSimulations/hawkes/dataLoader.py:109: SettingWithCopyWarning: \n",
      "A value is trying to be set on a copy of a slice from a DataFrame.\n",
      "Try using .loc[row_indexer,col_indexer] = value instead\n",
      "\n",
      "See the caveats in the documentation: https://pandas.pydata.org/pandas-docs/stable/user_guide/indexing.html#returning-a-view-versus-a-copy\n",
      "  theOrderBookFiltered[theOrderBookFiltered.columns[i]]  = theOrderBookFiltered[theOrderBookFiltered.columns[i]]/10000\n"
     ]
    },
    {
     "name": "stdout",
     "output_type": "stream",
     "text": [
      "/SAN/fca/Konark_PhD_Experiments/extracted/TSLA_2019-01-16_34200000_57600000_message_10.csv\n"
     ]
    },
    {
     "name": "stderr",
     "output_type": "stream",
     "text": [
      "/home/konajain/code/lobSimulations/hawkes/dataLoader.py:109: SettingWithCopyWarning: \n",
      "A value is trying to be set on a copy of a slice from a DataFrame.\n",
      "Try using .loc[row_indexer,col_indexer] = value instead\n",
      "\n",
      "See the caveats in the documentation: https://pandas.pydata.org/pandas-docs/stable/user_guide/indexing.html#returning-a-view-versus-a-copy\n",
      "  theOrderBookFiltered[theOrderBookFiltered.columns[i]]  = theOrderBookFiltered[theOrderBookFiltered.columns[i]]/10000\n"
     ]
    },
    {
     "name": "stdout",
     "output_type": "stream",
     "text": [
      "/SAN/fca/Konark_PhD_Experiments/extracted/TSLA_2019-01-17_34200000_57600000_message_10.csv\n"
     ]
    },
    {
     "name": "stderr",
     "output_type": "stream",
     "text": [
      "/home/konajain/code/lobSimulations/hawkes/dataLoader.py:109: SettingWithCopyWarning: \n",
      "A value is trying to be set on a copy of a slice from a DataFrame.\n",
      "Try using .loc[row_indexer,col_indexer] = value instead\n",
      "\n",
      "See the caveats in the documentation: https://pandas.pydata.org/pandas-docs/stable/user_guide/indexing.html#returning-a-view-versus-a-copy\n",
      "  theOrderBookFiltered[theOrderBookFiltered.columns[i]]  = theOrderBookFiltered[theOrderBookFiltered.columns[i]]/10000\n"
     ]
    },
    {
     "name": "stdout",
     "output_type": "stream",
     "text": [
      "/SAN/fca/Konark_PhD_Experiments/extracted/TSLA_2019-01-18_34200000_57600000_message_10.csv\n"
     ]
    },
    {
     "name": "stderr",
     "output_type": "stream",
     "text": [
      "/home/konajain/code/lobSimulations/hawkes/dataLoader.py:109: SettingWithCopyWarning: \n",
      "A value is trying to be set on a copy of a slice from a DataFrame.\n",
      "Try using .loc[row_indexer,col_indexer] = value instead\n",
      "\n",
      "See the caveats in the documentation: https://pandas.pydata.org/pandas-docs/stable/user_guide/indexing.html#returning-a-view-versus-a-copy\n",
      "  theOrderBookFiltered[theOrderBookFiltered.columns[i]]  = theOrderBookFiltered[theOrderBookFiltered.columns[i]]/10000\n"
     ]
    },
    {
     "name": "stdout",
     "output_type": "stream",
     "text": [
      "/SAN/fca/Konark_PhD_Experiments/extracted/TSLA_2019-01-22_34200000_57600000_message_10.csv\n"
     ]
    },
    {
     "name": "stderr",
     "output_type": "stream",
     "text": [
      "/home/konajain/code/lobSimulations/hawkes/dataLoader.py:109: SettingWithCopyWarning: \n",
      "A value is trying to be set on a copy of a slice from a DataFrame.\n",
      "Try using .loc[row_indexer,col_indexer] = value instead\n",
      "\n",
      "See the caveats in the documentation: https://pandas.pydata.org/pandas-docs/stable/user_guide/indexing.html#returning-a-view-versus-a-copy\n",
      "  theOrderBookFiltered[theOrderBookFiltered.columns[i]]  = theOrderBookFiltered[theOrderBookFiltered.columns[i]]/10000\n"
     ]
    },
    {
     "name": "stdout",
     "output_type": "stream",
     "text": [
      "/SAN/fca/Konark_PhD_Experiments/extracted/TSLA_2019-01-23_34200000_57600000_message_10.csv\n"
     ]
    },
    {
     "name": "stderr",
     "output_type": "stream",
     "text": [
      "/tmp/ipykernel_61354/1799644278.py:5: DtypeWarning: Columns (6) have mixed types.Specify dtype option on import or set low_memory=False.\n",
      "  data = l.load()\n",
      "/home/konajain/code/lobSimulations/hawkes/dataLoader.py:109: SettingWithCopyWarning: \n",
      "A value is trying to be set on a copy of a slice from a DataFrame.\n",
      "Try using .loc[row_indexer,col_indexer] = value instead\n",
      "\n",
      "See the caveats in the documentation: https://pandas.pydata.org/pandas-docs/stable/user_guide/indexing.html#returning-a-view-versus-a-copy\n",
      "  theOrderBookFiltered[theOrderBookFiltered.columns[i]]  = theOrderBookFiltered[theOrderBookFiltered.columns[i]]/10000\n"
     ]
    },
    {
     "name": "stdout",
     "output_type": "stream",
     "text": [
      "/SAN/fca/Konark_PhD_Experiments/extracted/TSLA_2019-01-24_34200000_57600000_message_10.csv\n"
     ]
    },
    {
     "name": "stderr",
     "output_type": "stream",
     "text": [
      "/home/konajain/code/lobSimulations/hawkes/dataLoader.py:109: SettingWithCopyWarning: \n",
      "A value is trying to be set on a copy of a slice from a DataFrame.\n",
      "Try using .loc[row_indexer,col_indexer] = value instead\n",
      "\n",
      "See the caveats in the documentation: https://pandas.pydata.org/pandas-docs/stable/user_guide/indexing.html#returning-a-view-versus-a-copy\n",
      "  theOrderBookFiltered[theOrderBookFiltered.columns[i]]  = theOrderBookFiltered[theOrderBookFiltered.columns[i]]/10000\n"
     ]
    },
    {
     "name": "stdout",
     "output_type": "stream",
     "text": [
      "/SAN/fca/Konark_PhD_Experiments/extracted/TSLA_2019-01-25_34200000_57600000_message_10.csv\n"
     ]
    },
    {
     "name": "stderr",
     "output_type": "stream",
     "text": [
      "/tmp/ipykernel_61354/1799644278.py:5: DtypeWarning: Columns (6) have mixed types.Specify dtype option on import or set low_memory=False.\n",
      "  data = l.load()\n",
      "/home/konajain/code/lobSimulations/hawkes/dataLoader.py:109: SettingWithCopyWarning: \n",
      "A value is trying to be set on a copy of a slice from a DataFrame.\n",
      "Try using .loc[row_indexer,col_indexer] = value instead\n",
      "\n",
      "See the caveats in the documentation: https://pandas.pydata.org/pandas-docs/stable/user_guide/indexing.html#returning-a-view-versus-a-copy\n",
      "  theOrderBookFiltered[theOrderBookFiltered.columns[i]]  = theOrderBookFiltered[theOrderBookFiltered.columns[i]]/10000\n"
     ]
    },
    {
     "name": "stdout",
     "output_type": "stream",
     "text": [
      "/SAN/fca/Konark_PhD_Experiments/extracted/TSLA_2019-01-28_34200000_57600000_message_10.csv\n"
     ]
    },
    {
     "name": "stderr",
     "output_type": "stream",
     "text": [
      "/home/konajain/code/lobSimulations/hawkes/dataLoader.py:109: SettingWithCopyWarning: \n",
      "A value is trying to be set on a copy of a slice from a DataFrame.\n",
      "Try using .loc[row_indexer,col_indexer] = value instead\n",
      "\n",
      "See the caveats in the documentation: https://pandas.pydata.org/pandas-docs/stable/user_guide/indexing.html#returning-a-view-versus-a-copy\n",
      "  theOrderBookFiltered[theOrderBookFiltered.columns[i]]  = theOrderBookFiltered[theOrderBookFiltered.columns[i]]/10000\n"
     ]
    },
    {
     "name": "stdout",
     "output_type": "stream",
     "text": [
      "/SAN/fca/Konark_PhD_Experiments/extracted/TSLA_2019-01-29_34200000_57600000_message_10.csv\n"
     ]
    },
    {
     "name": "stderr",
     "output_type": "stream",
     "text": [
      "/tmp/ipykernel_61354/1799644278.py:5: DtypeWarning: Columns (6) have mixed types.Specify dtype option on import or set low_memory=False.\n",
      "  data = l.load()\n",
      "/home/konajain/code/lobSimulations/hawkes/dataLoader.py:109: SettingWithCopyWarning: \n",
      "A value is trying to be set on a copy of a slice from a DataFrame.\n",
      "Try using .loc[row_indexer,col_indexer] = value instead\n",
      "\n",
      "See the caveats in the documentation: https://pandas.pydata.org/pandas-docs/stable/user_guide/indexing.html#returning-a-view-versus-a-copy\n",
      "  theOrderBookFiltered[theOrderBookFiltered.columns[i]]  = theOrderBookFiltered[theOrderBookFiltered.columns[i]]/10000\n"
     ]
    },
    {
     "name": "stdout",
     "output_type": "stream",
     "text": [
      "/SAN/fca/Konark_PhD_Experiments/extracted/TSLA_2019-01-30_34200000_57600000_message_10.csv\n"
     ]
    },
    {
     "name": "stderr",
     "output_type": "stream",
     "text": [
      "/tmp/ipykernel_61354/1799644278.py:5: DtypeWarning: Columns (6) have mixed types.Specify dtype option on import or set low_memory=False.\n",
      "  data = l.load()\n",
      "/home/konajain/code/lobSimulations/hawkes/dataLoader.py:109: SettingWithCopyWarning: \n",
      "A value is trying to be set on a copy of a slice from a DataFrame.\n",
      "Try using .loc[row_indexer,col_indexer] = value instead\n",
      "\n",
      "See the caveats in the documentation: https://pandas.pydata.org/pandas-docs/stable/user_guide/indexing.html#returning-a-view-versus-a-copy\n",
      "  theOrderBookFiltered[theOrderBookFiltered.columns[i]]  = theOrderBookFiltered[theOrderBookFiltered.columns[i]]/10000\n"
     ]
    },
    {
     "name": "stdout",
     "output_type": "stream",
     "text": [
      "/SAN/fca/Konark_PhD_Experiments/extracted/TSLA_2019-01-31_34200000_57600000_message_10.csv\n"
     ]
    },
    {
     "name": "stderr",
     "output_type": "stream",
     "text": [
      "/tmp/ipykernel_61354/1799644278.py:5: DtypeWarning: Columns (6) have mixed types.Specify dtype option on import or set low_memory=False.\n",
      "  data = l.load()\n",
      "/home/konajain/code/lobSimulations/hawkes/dataLoader.py:109: SettingWithCopyWarning: \n",
      "A value is trying to be set on a copy of a slice from a DataFrame.\n",
      "Try using .loc[row_indexer,col_indexer] = value instead\n",
      "\n",
      "See the caveats in the documentation: https://pandas.pydata.org/pandas-docs/stable/user_guide/indexing.html#returning-a-view-versus-a-copy\n",
      "  theOrderBookFiltered[theOrderBookFiltered.columns[i]]  = theOrderBookFiltered[theOrderBookFiltered.columns[i]]/10000\n"
     ]
    },
    {
     "name": "stdout",
     "output_type": "stream",
     "text": [
      "/SAN/fca/Konark_PhD_Experiments/extracted/TSLA_2019-02-01_34200000_57600000_message_10.csv\n",
      "/SAN/fca/Konark_PhD_Experiments/extracted/TSLA_2019-02-04_34200000_57600000_message_10.csv\n"
     ]
    }
   ],
   "source": [
    "res = {}\n",
    "for j in pd.date_range(dt.date(2019,1,2), dt.date(2019,2,4)):\n",
    "    if j == dt.date(2019,1,9): continue\n",
    "    l = dataLoader.Loader(ric, j, j, nlevels = 10, dataPath = \"/SAN/fca/Konark_PhD_Experiments/extracted/\")\n",
    "    data = l.load()\n",
    "    master_dict = {}\n",
    "    if len(data):\n",
    "        data = data[0]\n",
    "    else:\n",
    "        continue\n",
    "    data['timeDiff'] = data['Time'].diff()\n",
    "    for i in range(2,11):\n",
    "        data['tmp'] = data[\"Ask Price \" + str(i)] - data[\"Ask Price \" + str(i-1)]\n",
    "        res[i-1] = res.get(i-1, []) + [np.sum(data['tmp']*data['timeDiff'])/23400]\n",
    "        data['tmp'] = data[\"Bid Price \" + str(i)] - data[\"Bid Price \" + str(i-1)]\n",
    "        res[i-1] = res.get(i-1, []) + [np.abs(np.sum(data['tmp']*data['timeDiff'])/23400)]"
   ]
  },
  {
   "cell_type": "code",
   "execution_count": 263,
   "id": "1e58e68c-b6f3-4fcf-b40b-2f0edd627f27",
   "metadata": {},
   "outputs": [
    {
     "name": "stdout",
     "output_type": "stream",
     "text": [
      "TSLA.OQ\n",
      "Avg number of empty levels between top + 0 to top + 1 4.44 +- 0.71\n",
      "Avg number of empty levels between top + 1 to top + 2 3.83 +- 0.52\n",
      "Avg number of empty levels between top + 2 to top + 3 3.36 +- 0.48\n",
      "Avg number of empty levels between top + 3 to top + 4 3.12 +- 0.45\n",
      "Avg number of empty levels between top + 4 to top + 5 3.02 +- 0.45\n",
      "Avg number of empty levels between top + 5 to top + 6 2.96 +- 0.47\n",
      "Avg number of empty levels between top + 6 to top + 7 2.93 +- 0.49\n",
      "Avg number of empty levels between top + 7 to top + 8 2.9 +- 0.51\n",
      "Avg number of empty levels between top + 8 to top + 9 2.89 +- 0.53\n"
     ]
    }
   ],
   "source": [
    "print(ric)\n",
    "for i in range(1,10):\n",
    "    print(\"Avg number of empty levels between top + \" + str(i-1) + \" to top + \" + str(i) +\" \" + str(np.round(100*np.mean(res[i]),2)) + \" +- \" + str(np.round(100*np.std(res[i]),2)))"
   ]
  },
  {
   "cell_type": "markdown",
   "id": "a2bb80a8-d728-4a32-af0c-6eb4b8981f3e",
   "metadata": {},
   "source": [
    "# Price improvement in ticks"
   ]
  },
  {
   "cell_type": "code",
   "execution_count": 64,
   "id": "9b5d4c55-ec4e-45a0-ac3d-cbb15a9e123b",
   "metadata": {
    "scrolled": true
   },
   "outputs": [
    {
     "name": "stdout",
     "output_type": "stream",
     "text": [
      "/SAN/fca/Konark_PhD_Experiments/extracted/GOOG/GOOG_2019-01-02_34200000_57600000_message_10.csv\n"
     ]
    },
    {
     "name": "stderr",
     "output_type": "stream",
     "text": [
      "/tmp/ipykernel_51715/3323887813.py:6: DtypeWarning: Columns (6) have mixed types.Specify dtype option on import or set low_memory=False.\n",
      "  data = l.load()\n",
      "/home/konajain/code/lobSimulations/src/data/dataLoader.py:109: SettingWithCopyWarning: \n",
      "A value is trying to be set on a copy of a slice from a DataFrame.\n",
      "Try using .loc[row_indexer,col_indexer] = value instead\n",
      "\n",
      "See the caveats in the documentation: https://pandas.pydata.org/pandas-docs/stable/user_guide/indexing.html#returning-a-view-versus-a-copy\n",
      "  theOrderBookFiltered[theOrderBookFiltered.columns[i]]  = theOrderBookFiltered[theOrderBookFiltered.columns[i]]/10000\n"
     ]
    },
    {
     "name": "stdout",
     "output_type": "stream",
     "text": [
      "/SAN/fca/Konark_PhD_Experiments/extracted/GOOG/GOOG_2019-01-03_34200000_57600000_message_10.csv\n"
     ]
    },
    {
     "name": "stderr",
     "output_type": "stream",
     "text": [
      "/home/konajain/code/lobSimulations/src/data/dataLoader.py:109: SettingWithCopyWarning: \n",
      "A value is trying to be set on a copy of a slice from a DataFrame.\n",
      "Try using .loc[row_indexer,col_indexer] = value instead\n",
      "\n",
      "See the caveats in the documentation: https://pandas.pydata.org/pandas-docs/stable/user_guide/indexing.html#returning-a-view-versus-a-copy\n",
      "  theOrderBookFiltered[theOrderBookFiltered.columns[i]]  = theOrderBookFiltered[theOrderBookFiltered.columns[i]]/10000\n"
     ]
    },
    {
     "name": "stdout",
     "output_type": "stream",
     "text": [
      "/SAN/fca/Konark_PhD_Experiments/extracted/GOOG/GOOG_2019-01-04_34200000_57600000_message_10.csv\n"
     ]
    },
    {
     "name": "stderr",
     "output_type": "stream",
     "text": [
      "/home/konajain/code/lobSimulations/src/data/dataLoader.py:109: SettingWithCopyWarning: \n",
      "A value is trying to be set on a copy of a slice from a DataFrame.\n",
      "Try using .loc[row_indexer,col_indexer] = value instead\n",
      "\n",
      "See the caveats in the documentation: https://pandas.pydata.org/pandas-docs/stable/user_guide/indexing.html#returning-a-view-versus-a-copy\n",
      "  theOrderBookFiltered[theOrderBookFiltered.columns[i]]  = theOrderBookFiltered[theOrderBookFiltered.columns[i]]/10000\n"
     ]
    },
    {
     "name": "stdout",
     "output_type": "stream",
     "text": [
      "/SAN/fca/Konark_PhD_Experiments/extracted/GOOG/GOOG_2019-01-07_34200000_57600000_message_10.csv\n"
     ]
    },
    {
     "name": "stderr",
     "output_type": "stream",
     "text": [
      "/home/konajain/code/lobSimulations/src/data/dataLoader.py:109: SettingWithCopyWarning: \n",
      "A value is trying to be set on a copy of a slice from a DataFrame.\n",
      "Try using .loc[row_indexer,col_indexer] = value instead\n",
      "\n",
      "See the caveats in the documentation: https://pandas.pydata.org/pandas-docs/stable/user_guide/indexing.html#returning-a-view-versus-a-copy\n",
      "  theOrderBookFiltered[theOrderBookFiltered.columns[i]]  = theOrderBookFiltered[theOrderBookFiltered.columns[i]]/10000\n"
     ]
    },
    {
     "name": "stdout",
     "output_type": "stream",
     "text": [
      "/SAN/fca/Konark_PhD_Experiments/extracted/GOOG/GOOG_2019-01-08_34200000_57600000_message_10.csv\n"
     ]
    },
    {
     "name": "stderr",
     "output_type": "stream",
     "text": [
      "/home/konajain/code/lobSimulations/src/data/dataLoader.py:109: SettingWithCopyWarning: \n",
      "A value is trying to be set on a copy of a slice from a DataFrame.\n",
      "Try using .loc[row_indexer,col_indexer] = value instead\n",
      "\n",
      "See the caveats in the documentation: https://pandas.pydata.org/pandas-docs/stable/user_guide/indexing.html#returning-a-view-versus-a-copy\n",
      "  theOrderBookFiltered[theOrderBookFiltered.columns[i]]  = theOrderBookFiltered[theOrderBookFiltered.columns[i]]/10000\n"
     ]
    },
    {
     "name": "stdout",
     "output_type": "stream",
     "text": [
      "/SAN/fca/Konark_PhD_Experiments/extracted/GOOG/GOOG_2019-01-10_34200000_57600000_message_10.csv\n"
     ]
    },
    {
     "name": "stderr",
     "output_type": "stream",
     "text": [
      "/tmp/ipykernel_51715/3323887813.py:6: DtypeWarning: Columns (6) have mixed types.Specify dtype option on import or set low_memory=False.\n",
      "  data = l.load()\n",
      "/home/konajain/code/lobSimulations/src/data/dataLoader.py:109: SettingWithCopyWarning: \n",
      "A value is trying to be set on a copy of a slice from a DataFrame.\n",
      "Try using .loc[row_indexer,col_indexer] = value instead\n",
      "\n",
      "See the caveats in the documentation: https://pandas.pydata.org/pandas-docs/stable/user_guide/indexing.html#returning-a-view-versus-a-copy\n",
      "  theOrderBookFiltered[theOrderBookFiltered.columns[i]]  = theOrderBookFiltered[theOrderBookFiltered.columns[i]]/10000\n"
     ]
    },
    {
     "name": "stdout",
     "output_type": "stream",
     "text": [
      "/SAN/fca/Konark_PhD_Experiments/extracted/GOOG/GOOG_2019-01-11_34200000_57600000_message_10.csv\n"
     ]
    },
    {
     "name": "stderr",
     "output_type": "stream",
     "text": [
      "/tmp/ipykernel_51715/3323887813.py:6: DtypeWarning: Columns (6) have mixed types.Specify dtype option on import or set low_memory=False.\n",
      "  data = l.load()\n",
      "/home/konajain/code/lobSimulations/src/data/dataLoader.py:109: SettingWithCopyWarning: \n",
      "A value is trying to be set on a copy of a slice from a DataFrame.\n",
      "Try using .loc[row_indexer,col_indexer] = value instead\n",
      "\n",
      "See the caveats in the documentation: https://pandas.pydata.org/pandas-docs/stable/user_guide/indexing.html#returning-a-view-versus-a-copy\n",
      "  theOrderBookFiltered[theOrderBookFiltered.columns[i]]  = theOrderBookFiltered[theOrderBookFiltered.columns[i]]/10000\n"
     ]
    },
    {
     "name": "stdout",
     "output_type": "stream",
     "text": [
      "/SAN/fca/Konark_PhD_Experiments/extracted/GOOG/GOOG_2019-01-14_34200000_57600000_message_10.csv\n"
     ]
    },
    {
     "name": "stderr",
     "output_type": "stream",
     "text": [
      "/home/konajain/code/lobSimulations/src/data/dataLoader.py:109: SettingWithCopyWarning: \n",
      "A value is trying to be set on a copy of a slice from a DataFrame.\n",
      "Try using .loc[row_indexer,col_indexer] = value instead\n",
      "\n",
      "See the caveats in the documentation: https://pandas.pydata.org/pandas-docs/stable/user_guide/indexing.html#returning-a-view-versus-a-copy\n",
      "  theOrderBookFiltered[theOrderBookFiltered.columns[i]]  = theOrderBookFiltered[theOrderBookFiltered.columns[i]]/10000\n"
     ]
    },
    {
     "name": "stdout",
     "output_type": "stream",
     "text": [
      "/SAN/fca/Konark_PhD_Experiments/extracted/GOOG/GOOG_2019-01-15_34200000_57600000_message_10.csv\n"
     ]
    },
    {
     "name": "stderr",
     "output_type": "stream",
     "text": [
      "/home/konajain/code/lobSimulations/src/data/dataLoader.py:109: SettingWithCopyWarning: \n",
      "A value is trying to be set on a copy of a slice from a DataFrame.\n",
      "Try using .loc[row_indexer,col_indexer] = value instead\n",
      "\n",
      "See the caveats in the documentation: https://pandas.pydata.org/pandas-docs/stable/user_guide/indexing.html#returning-a-view-versus-a-copy\n",
      "  theOrderBookFiltered[theOrderBookFiltered.columns[i]]  = theOrderBookFiltered[theOrderBookFiltered.columns[i]]/10000\n"
     ]
    },
    {
     "name": "stdout",
     "output_type": "stream",
     "text": [
      "/SAN/fca/Konark_PhD_Experiments/extracted/GOOG/GOOG_2019-01-16_34200000_57600000_message_10.csv\n"
     ]
    },
    {
     "name": "stderr",
     "output_type": "stream",
     "text": [
      "/home/konajain/code/lobSimulations/src/data/dataLoader.py:109: SettingWithCopyWarning: \n",
      "A value is trying to be set on a copy of a slice from a DataFrame.\n",
      "Try using .loc[row_indexer,col_indexer] = value instead\n",
      "\n",
      "See the caveats in the documentation: https://pandas.pydata.org/pandas-docs/stable/user_guide/indexing.html#returning-a-view-versus-a-copy\n",
      "  theOrderBookFiltered[theOrderBookFiltered.columns[i]]  = theOrderBookFiltered[theOrderBookFiltered.columns[i]]/10000\n"
     ]
    },
    {
     "name": "stdout",
     "output_type": "stream",
     "text": [
      "/SAN/fca/Konark_PhD_Experiments/extracted/GOOG/GOOG_2019-01-17_34200000_57600000_message_10.csv\n"
     ]
    },
    {
     "name": "stderr",
     "output_type": "stream",
     "text": [
      "/tmp/ipykernel_51715/3323887813.py:6: DtypeWarning: Columns (6) have mixed types.Specify dtype option on import or set low_memory=False.\n",
      "  data = l.load()\n",
      "/home/konajain/code/lobSimulations/src/data/dataLoader.py:109: SettingWithCopyWarning: \n",
      "A value is trying to be set on a copy of a slice from a DataFrame.\n",
      "Try using .loc[row_indexer,col_indexer] = value instead\n",
      "\n",
      "See the caveats in the documentation: https://pandas.pydata.org/pandas-docs/stable/user_guide/indexing.html#returning-a-view-versus-a-copy\n",
      "  theOrderBookFiltered[theOrderBookFiltered.columns[i]]  = theOrderBookFiltered[theOrderBookFiltered.columns[i]]/10000\n"
     ]
    },
    {
     "name": "stdout",
     "output_type": "stream",
     "text": [
      "/SAN/fca/Konark_PhD_Experiments/extracted/GOOG/GOOG_2019-01-18_34200000_57600000_message_10.csv\n"
     ]
    },
    {
     "name": "stderr",
     "output_type": "stream",
     "text": [
      "/tmp/ipykernel_51715/3323887813.py:6: DtypeWarning: Columns (6) have mixed types.Specify dtype option on import or set low_memory=False.\n",
      "  data = l.load()\n",
      "/home/konajain/code/lobSimulations/src/data/dataLoader.py:109: SettingWithCopyWarning: \n",
      "A value is trying to be set on a copy of a slice from a DataFrame.\n",
      "Try using .loc[row_indexer,col_indexer] = value instead\n",
      "\n",
      "See the caveats in the documentation: https://pandas.pydata.org/pandas-docs/stable/user_guide/indexing.html#returning-a-view-versus-a-copy\n",
      "  theOrderBookFiltered[theOrderBookFiltered.columns[i]]  = theOrderBookFiltered[theOrderBookFiltered.columns[i]]/10000\n"
     ]
    },
    {
     "name": "stdout",
     "output_type": "stream",
     "text": [
      "/SAN/fca/Konark_PhD_Experiments/extracted/GOOG/GOOG_2019-01-22_34200000_57600000_message_10.csv\n"
     ]
    },
    {
     "name": "stderr",
     "output_type": "stream",
     "text": [
      "/tmp/ipykernel_51715/3323887813.py:6: DtypeWarning: Columns (6) have mixed types.Specify dtype option on import or set low_memory=False.\n",
      "  data = l.load()\n",
      "/home/konajain/code/lobSimulations/src/data/dataLoader.py:109: SettingWithCopyWarning: \n",
      "A value is trying to be set on a copy of a slice from a DataFrame.\n",
      "Try using .loc[row_indexer,col_indexer] = value instead\n",
      "\n",
      "See the caveats in the documentation: https://pandas.pydata.org/pandas-docs/stable/user_guide/indexing.html#returning-a-view-versus-a-copy\n",
      "  theOrderBookFiltered[theOrderBookFiltered.columns[i]]  = theOrderBookFiltered[theOrderBookFiltered.columns[i]]/10000\n"
     ]
    },
    {
     "name": "stdout",
     "output_type": "stream",
     "text": [
      "/SAN/fca/Konark_PhD_Experiments/extracted/GOOG/GOOG_2019-01-23_34200000_57600000_message_10.csv\n"
     ]
    },
    {
     "name": "stderr",
     "output_type": "stream",
     "text": [
      "/tmp/ipykernel_51715/3323887813.py:6: DtypeWarning: Columns (6) have mixed types.Specify dtype option on import or set low_memory=False.\n",
      "  data = l.load()\n",
      "/home/konajain/code/lobSimulations/src/data/dataLoader.py:109: SettingWithCopyWarning: \n",
      "A value is trying to be set on a copy of a slice from a DataFrame.\n",
      "Try using .loc[row_indexer,col_indexer] = value instead\n",
      "\n",
      "See the caveats in the documentation: https://pandas.pydata.org/pandas-docs/stable/user_guide/indexing.html#returning-a-view-versus-a-copy\n",
      "  theOrderBookFiltered[theOrderBookFiltered.columns[i]]  = theOrderBookFiltered[theOrderBookFiltered.columns[i]]/10000\n"
     ]
    },
    {
     "name": "stdout",
     "output_type": "stream",
     "text": [
      "/SAN/fca/Konark_PhD_Experiments/extracted/GOOG/GOOG_2019-01-24_34200000_57600000_message_10.csv\n"
     ]
    },
    {
     "name": "stderr",
     "output_type": "stream",
     "text": [
      "/tmp/ipykernel_51715/3323887813.py:6: DtypeWarning: Columns (6) have mixed types.Specify dtype option on import or set low_memory=False.\n",
      "  data = l.load()\n",
      "/home/konajain/code/lobSimulations/src/data/dataLoader.py:109: SettingWithCopyWarning: \n",
      "A value is trying to be set on a copy of a slice from a DataFrame.\n",
      "Try using .loc[row_indexer,col_indexer] = value instead\n",
      "\n",
      "See the caveats in the documentation: https://pandas.pydata.org/pandas-docs/stable/user_guide/indexing.html#returning-a-view-versus-a-copy\n",
      "  theOrderBookFiltered[theOrderBookFiltered.columns[i]]  = theOrderBookFiltered[theOrderBookFiltered.columns[i]]/10000\n"
     ]
    },
    {
     "name": "stdout",
     "output_type": "stream",
     "text": [
      "/SAN/fca/Konark_PhD_Experiments/extracted/GOOG/GOOG_2019-01-25_34200000_57600000_message_10.csv\n"
     ]
    },
    {
     "name": "stderr",
     "output_type": "stream",
     "text": [
      "/tmp/ipykernel_51715/3323887813.py:6: DtypeWarning: Columns (6) have mixed types.Specify dtype option on import or set low_memory=False.\n",
      "  data = l.load()\n",
      "/home/konajain/code/lobSimulations/src/data/dataLoader.py:109: SettingWithCopyWarning: \n",
      "A value is trying to be set on a copy of a slice from a DataFrame.\n",
      "Try using .loc[row_indexer,col_indexer] = value instead\n",
      "\n",
      "See the caveats in the documentation: https://pandas.pydata.org/pandas-docs/stable/user_guide/indexing.html#returning-a-view-versus-a-copy\n",
      "  theOrderBookFiltered[theOrderBookFiltered.columns[i]]  = theOrderBookFiltered[theOrderBookFiltered.columns[i]]/10000\n"
     ]
    },
    {
     "name": "stdout",
     "output_type": "stream",
     "text": [
      "/SAN/fca/Konark_PhD_Experiments/extracted/GOOG/GOOG_2019-01-28_34200000_57600000_message_10.csv\n"
     ]
    },
    {
     "name": "stderr",
     "output_type": "stream",
     "text": [
      "/tmp/ipykernel_51715/3323887813.py:6: DtypeWarning: Columns (6) have mixed types.Specify dtype option on import or set low_memory=False.\n",
      "  data = l.load()\n",
      "/home/konajain/code/lobSimulations/src/data/dataLoader.py:109: SettingWithCopyWarning: \n",
      "A value is trying to be set on a copy of a slice from a DataFrame.\n",
      "Try using .loc[row_indexer,col_indexer] = value instead\n",
      "\n",
      "See the caveats in the documentation: https://pandas.pydata.org/pandas-docs/stable/user_guide/indexing.html#returning-a-view-versus-a-copy\n",
      "  theOrderBookFiltered[theOrderBookFiltered.columns[i]]  = theOrderBookFiltered[theOrderBookFiltered.columns[i]]/10000\n"
     ]
    },
    {
     "name": "stdout",
     "output_type": "stream",
     "text": [
      "/SAN/fca/Konark_PhD_Experiments/extracted/GOOG/GOOG_2019-01-29_34200000_57600000_message_10.csv\n"
     ]
    },
    {
     "name": "stderr",
     "output_type": "stream",
     "text": [
      "/tmp/ipykernel_51715/3323887813.py:6: DtypeWarning: Columns (6) have mixed types.Specify dtype option on import or set low_memory=False.\n",
      "  data = l.load()\n",
      "/home/konajain/code/lobSimulations/src/data/dataLoader.py:109: SettingWithCopyWarning: \n",
      "A value is trying to be set on a copy of a slice from a DataFrame.\n",
      "Try using .loc[row_indexer,col_indexer] = value instead\n",
      "\n",
      "See the caveats in the documentation: https://pandas.pydata.org/pandas-docs/stable/user_guide/indexing.html#returning-a-view-versus-a-copy\n",
      "  theOrderBookFiltered[theOrderBookFiltered.columns[i]]  = theOrderBookFiltered[theOrderBookFiltered.columns[i]]/10000\n"
     ]
    },
    {
     "name": "stdout",
     "output_type": "stream",
     "text": [
      "/SAN/fca/Konark_PhD_Experiments/extracted/GOOG/GOOG_2019-01-30_34200000_57600000_message_10.csv\n"
     ]
    },
    {
     "name": "stderr",
     "output_type": "stream",
     "text": [
      "/tmp/ipykernel_51715/3323887813.py:6: DtypeWarning: Columns (6) have mixed types.Specify dtype option on import or set low_memory=False.\n",
      "  data = l.load()\n",
      "/home/konajain/code/lobSimulations/src/data/dataLoader.py:109: SettingWithCopyWarning: \n",
      "A value is trying to be set on a copy of a slice from a DataFrame.\n",
      "Try using .loc[row_indexer,col_indexer] = value instead\n",
      "\n",
      "See the caveats in the documentation: https://pandas.pydata.org/pandas-docs/stable/user_guide/indexing.html#returning-a-view-versus-a-copy\n",
      "  theOrderBookFiltered[theOrderBookFiltered.columns[i]]  = theOrderBookFiltered[theOrderBookFiltered.columns[i]]/10000\n"
     ]
    },
    {
     "name": "stdout",
     "output_type": "stream",
     "text": [
      "/SAN/fca/Konark_PhD_Experiments/extracted/GOOG/GOOG_2019-01-31_34200000_57600000_message_10.csv\n"
     ]
    },
    {
     "name": "stderr",
     "output_type": "stream",
     "text": [
      "/home/konajain/code/lobSimulations/src/data/dataLoader.py:109: SettingWithCopyWarning: \n",
      "A value is trying to be set on a copy of a slice from a DataFrame.\n",
      "Try using .loc[row_indexer,col_indexer] = value instead\n",
      "\n",
      "See the caveats in the documentation: https://pandas.pydata.org/pandas-docs/stable/user_guide/indexing.html#returning-a-view-versus-a-copy\n",
      "  theOrderBookFiltered[theOrderBookFiltered.columns[i]]  = theOrderBookFiltered[theOrderBookFiltered.columns[i]]/10000\n"
     ]
    },
    {
     "name": "stdout",
     "output_type": "stream",
     "text": [
      "/SAN/fca/Konark_PhD_Experiments/extracted/GOOG/GOOG_2019-02-01_34200000_57600000_message_10.csv\n"
     ]
    },
    {
     "name": "stderr",
     "output_type": "stream",
     "text": [
      "/tmp/ipykernel_51715/3323887813.py:6: DtypeWarning: Columns (6) have mixed types.Specify dtype option on import or set low_memory=False.\n",
      "  data = l.load()\n",
      "/home/konajain/code/lobSimulations/src/data/dataLoader.py:109: SettingWithCopyWarning: \n",
      "A value is trying to be set on a copy of a slice from a DataFrame.\n",
      "Try using .loc[row_indexer,col_indexer] = value instead\n",
      "\n",
      "See the caveats in the documentation: https://pandas.pydata.org/pandas-docs/stable/user_guide/indexing.html#returning-a-view-versus-a-copy\n",
      "  theOrderBookFiltered[theOrderBookFiltered.columns[i]]  = theOrderBookFiltered[theOrderBookFiltered.columns[i]]/10000\n"
     ]
    },
    {
     "name": "stdout",
     "output_type": "stream",
     "text": [
      "/SAN/fca/Konark_PhD_Experiments/extracted/GOOG/GOOG_2019-02-04_34200000_57600000_message_10.csv\n"
     ]
    },
    {
     "name": "stderr",
     "output_type": "stream",
     "text": [
      "/tmp/ipykernel_51715/3323887813.py:6: DtypeWarning: Columns (6) have mixed types.Specify dtype option on import or set low_memory=False.\n",
      "  data = l.load()\n",
      "/home/konajain/code/lobSimulations/src/data/dataLoader.py:109: SettingWithCopyWarning: \n",
      "A value is trying to be set on a copy of a slice from a DataFrame.\n",
      "Try using .loc[row_indexer,col_indexer] = value instead\n",
      "\n",
      "See the caveats in the documentation: https://pandas.pydata.org/pandas-docs/stable/user_guide/indexing.html#returning-a-view-versus-a-copy\n",
      "  theOrderBookFiltered[theOrderBookFiltered.columns[i]]  = theOrderBookFiltered[theOrderBookFiltered.columns[i]]/10000\n"
     ]
    }
   ],
   "source": [
    "ric = \"GOOG.OQ\"\n",
    "res = {}\n",
    "for j in pd.date_range(dt.date(2019,1,2), dt.date(2019,2,4)):\n",
    "    if j == dt.date(2019,1,9): continue\n",
    "    l = dataLoader.dataLoader(ric, j, j, nlevels = 10, dataPath = \"/SAN/fca/Konark_PhD_Experiments/extracted/GOOG/\")\n",
    "    data = l.load()\n",
    "    master_dict = {}\n",
    "    if len(data):\n",
    "        data = data[0]\n",
    "    else:\n",
    "        continue\n",
    "    data['timeDiff'] = data['Time'].diff()\n",
    "    for i in range(1,11):\n",
    "        data['diff'] = data['Ask Price ' + str(i)].shift(-1) - data['Ask Price ' + str(i)]\n",
    "        res[i] = np.append(res.get(i, []), data['diff'].loc[data['diff'] > 0].values)\n",
    "        data['diff'] = data['Bid Price ' + str(i)] - data['Bid Price ' + str(i)].shift(-1)\n",
    "        res[i] = np.append(res.get(i, []), data['diff'].loc[data['diff'] > 0].values)"
   ]
  },
  {
   "cell_type": "code",
   "execution_count": 65,
   "id": "78474f4d-ca04-4983-ac97-dd058f3801ce",
   "metadata": {},
   "outputs": [
    {
     "name": "stdout",
     "output_type": "stream",
     "text": [
      "GOOG.OQ\n",
      "Avg number of ticks of price improvement for  top + 1 10.76 +- 14.37\n",
      "Avg number of ticks of price improvement for  top + 2 7.71 +- 9.46\n",
      "Avg number of ticks of price improvement for  top + 3 6.95 +- 8.32\n",
      "Avg number of ticks of price improvement for  top + 4 6.74 +- 7.94\n",
      "Avg number of ticks of price improvement for  top + 5 6.78 +- 8.07\n",
      "Avg number of ticks of price improvement for  top + 6 7.1 +- 8.52\n",
      "Avg number of ticks of price improvement for  top + 7 7.4 +- 8.85\n",
      "Avg number of ticks of price improvement for  top + 8 7.66 +- 8.9\n",
      "Avg number of ticks of price improvement for  top + 9 7.84 +- 8.92\n",
      "Avg number of ticks of price improvement for  top + 10 7.95 +- 8.96\n"
     ]
    }
   ],
   "source": [
    "print(ric)\n",
    "for i in range(1,11):\n",
    "    print(\"Avg number of ticks of price improvement for  top + \" + str(i) +\" \" + str(np.round(100*np.mean(res[i]),2)) + \" +- \" + str(np.round(100*np.std(res[i]),2)))"
   ]
  },
  {
   "cell_type": "code",
   "execution_count": 66,
   "id": "6eff4a75-cfa9-4f36-8255-a4fceb2eebb9",
   "metadata": {},
   "outputs": [],
   "source": [
    "goog = res"
   ]
  },
  {
   "cell_type": "code",
   "execution_count": 91,
   "id": "96aa2b8a-b4e0-4721-9a78-2387f5254c9a",
   "metadata": {},
   "outputs": [
    {
     "data": {
      "image/png": "[encoded data removed]",
      "text/plain": [
       "<Figure size 640x480 with 1 Axes>"
      ]
     },
     "metadata": {},
     "output_type": "display_data"
    }
   ],
   "source": [
    "plt.figure()\n",
    "a = plt.hist(100*intc[1], bins = 100, density = True, label=\"INTC.OQ\", alpha = 0.5 , histtype = 'step')\n",
    "plt.xlabel(\"Price Improvement in ticks\")\n",
    "plt.ylabel('Density')\n",
    "plt.yscale(\"log\")\n",
    "plt.xscale('log')\n",
    "plt.text(10, np.max(a[0]) -0.5, \"INTC.OQ $\\hat{\\eta}_{IS}$ = \" + str(np.round(1./np.average(np.average(100*intc[1], axis = 0)),2)), bbox=dict(alpha=0.5))\n",
    "a = plt.hist(100*aapl[1], bins = 100, density = True, label=\"AAPL.OQ\", alpha = 0.5, histtype = 'step')\n",
    "plt.text(10, np.max(a[0]) -0.6, \"AAPL.OQ $\\hat{\\eta}_{IS}$ = \" + str(np.round(1./np.average(np.average(100*aapl[1], axis = 0)),2)), bbox=dict(alpha=0.5))\n",
    "a = plt.hist(100*goog[1], bins = 1000, density = True, label=\"GOOG.OQ\", alpha = 0.5, histtype = 'step')\n",
    "plt.text(10, np.max(a[0]) -0.3, \"GOOG.OQ $\\hat{\\eta}_{IS}$  = \" + str(np.round(1./np.average(np.average(100*goog[1], axis = 0)),2)), bbox=dict(alpha=0.5))\n",
    "#plt.xlim([0,10])\n",
    "#plt.xticks(np.arange(1,11))\n",
    "plt.legend()\n",
    "plt.title(\"$\\eta_{IS}$ empirical density (log-log)\")\n",
    "plt.savefig(\"/SAN/fca/Konark_PhD_Experiments/smallTick/EDA_eta_IS.png\")"
   ]
  },
  {
   "cell_type": "code",
   "execution_count": 100,
   "id": "e86c334e-a029-4857-9710-0f3da9bb15ab",
   "metadata": {},
   "outputs": [
    {
     "data": {
      "image/png": "[encoded data removed]",
      "text/plain": [
       "<Figure size 640x480 with 1 Axes>"
      ]
     },
     "metadata": {},
     "output_type": "display_data"
    }
   ],
   "source": [
    "plt.figure()\n",
    "a = plt.hist(100*intc[2], bins = 100, density = True, label=\"INTC.OQ\", alpha = 0.5 , histtype = 'step')\n",
    "plt.xlabel(\"Price Improvement in ticks\")\n",
    "plt.ylabel('Density')\n",
    "plt.yscale(\"log\")\n",
    "plt.xscale('log')\n",
    "plt.text(10, np.max(a[0]) -0.5, \"INTC.OQ $\\hat{\\eta}_{T}$ = \" + str(np.round(1./np.average(np.average(100*intc[2], axis = 0)),2)), bbox=dict(alpha=0.5))\n",
    "a = plt.hist(100*aapl[2], bins = 100, density = True, label=\"AAPL.OQ\", alpha = 0.5, histtype = 'step')\n",
    "plt.text(10, np.max(a[0]) -1.95, \"AAPL.OQ $\\hat{\\eta}_{T}$ = \" + str(np.round(1./np.average(np.average(100*aapl[2], axis = 0)),2)), bbox=dict(alpha=0.5))\n",
    "a = plt.hist(100*goog[2], bins = 1000, density = True, label=\"GOOG.OQ\", alpha = 0.5, histtype = 'step')\n",
    "plt.text(10, np.max(a[0]) -0.65, \"GOOG.OQ $\\hat{\\eta}_{T}$  = \" + str(np.round(1./np.average(np.average(100*goog[2], axis = 0)),2)), bbox=dict(alpha=0.5))\n",
    "#plt.xlim([0,10])\n",
    "#plt.xticks(np.arange(1,11))\n",
    "plt.legend()\n",
    "plt.title(\"$\\eta_{T}$ empirical density (log-log)\")\n",
    "plt.savefig(\"/SAN/fca/Konark_PhD_Experiments/smallTick/EDA_eta_T.png\")"
   ]
  },
  {
   "cell_type": "code",
   "execution_count": 101,
   "id": "35674b27-9f3d-4b72-86aa-d78b700b151c",
   "metadata": {},
   "outputs": [
    {
     "data": {
      "text/html": [
       "<div>\n",
       "<style scoped>\n",
       "    .dataframe tbody tr th:only-of-type {\n",
       "        vertical-align: middle;\n",
       "    }\n",
       "\n",
       "    .dataframe tbody tr th {\n",
       "        vertical-align: top;\n",
       "    }\n",
       "\n",
       "    .dataframe thead th {\n",
       "        text-align: right;\n",
       "    }\n",
       "</style>\n",
       "<table border=\"1\" class=\"dataframe\">\n",
       "  <thead>\n",
       "    <tr style=\"text-align: right;\">\n",
       "      <th></th>\n",
       "      <th>Time</th>\n",
       "      <th>Type</th>\n",
       "      <th>OrderID</th>\n",
       "      <th>Size</th>\n",
       "      <th>Price</th>\n",
       "      <th>TradeDirection</th>\n",
       "      <th>tmp</th>\n",
       "      <th>Ask Price 1</th>\n",
       "      <th>Ask Size 1</th>\n",
       "      <th>Bid Price 1</th>\n",
       "      <th>...</th>\n",
       "      <th>Ask Size 9</th>\n",
       "      <th>Bid Price 9</th>\n",
       "      <th>Bid Size 9</th>\n",
       "      <th>Ask Price 10</th>\n",
       "      <th>Ask Size 10</th>\n",
       "      <th>Bid Price 10</th>\n",
       "      <th>Bid Size 10</th>\n",
       "      <th>Date</th>\n",
       "      <th>timeDiff</th>\n",
       "      <th>diff</th>\n",
       "    </tr>\n",
       "  </thead>\n",
       "  <tbody>\n",
       "    <tr>\n",
       "      <th>411</th>\n",
       "      <td>34200.845307</td>\n",
       "      <td>4</td>\n",
       "      <td>5820262</td>\n",
       "      <td>15</td>\n",
       "      <td>11120200</td>\n",
       "      <td>-1</td>\n",
       "      <td>NaN</td>\n",
       "      <td>1112.03</td>\n",
       "      <td>103</td>\n",
       "      <td>1110.09</td>\n",
       "      <td>...</td>\n",
       "      <td>1</td>\n",
       "      <td>1105.85</td>\n",
       "      <td>100</td>\n",
       "      <td>1115.48</td>\n",
       "      <td>10</td>\n",
       "      <td>1105.71</td>\n",
       "      <td>100</td>\n",
       "      <td>2019-02-04</td>\n",
       "      <td>NaN</td>\n",
       "      <td>0.00</td>\n",
       "    </tr>\n",
       "    <tr>\n",
       "      <th>412</th>\n",
       "      <td>34200.845307</td>\n",
       "      <td>4</td>\n",
       "      <td>5794466</td>\n",
       "      <td>100</td>\n",
       "      <td>11120300</td>\n",
       "      <td>-1</td>\n",
       "      <td>NaN</td>\n",
       "      <td>1112.03</td>\n",
       "      <td>3</td>\n",
       "      <td>1110.09</td>\n",
       "      <td>...</td>\n",
       "      <td>1</td>\n",
       "      <td>1105.85</td>\n",
       "      <td>100</td>\n",
       "      <td>1115.48</td>\n",
       "      <td>10</td>\n",
       "      <td>1105.71</td>\n",
       "      <td>100</td>\n",
       "      <td>2019-02-04</td>\n",
       "      <td>0.000000</td>\n",
       "      <td>0.00</td>\n",
       "    </tr>\n",
       "    <tr>\n",
       "      <th>413</th>\n",
       "      <td>34200.845307</td>\n",
       "      <td>4</td>\n",
       "      <td>5820354</td>\n",
       "      <td>3</td>\n",
       "      <td>11120300</td>\n",
       "      <td>-1</td>\n",
       "      <td>NaN</td>\n",
       "      <td>1112.04</td>\n",
       "      <td>20</td>\n",
       "      <td>1110.09</td>\n",
       "      <td>...</td>\n",
       "      <td>10</td>\n",
       "      <td>1105.85</td>\n",
       "      <td>100</td>\n",
       "      <td>1115.70</td>\n",
       "      <td>600</td>\n",
       "      <td>1105.71</td>\n",
       "      <td>100</td>\n",
       "      <td>2019-02-04</td>\n",
       "      <td>0.000000</td>\n",
       "      <td>0.00</td>\n",
       "    </tr>\n",
       "    <tr>\n",
       "      <th>414</th>\n",
       "      <td>34200.845307</td>\n",
       "      <td>4</td>\n",
       "      <td>5822770</td>\n",
       "      <td>20</td>\n",
       "      <td>11120400</td>\n",
       "      <td>-1</td>\n",
       "      <td>NaN</td>\n",
       "      <td>1112.05</td>\n",
       "      <td>100</td>\n",
       "      <td>1110.09</td>\n",
       "      <td>...</td>\n",
       "      <td>600</td>\n",
       "      <td>1105.85</td>\n",
       "      <td>100</td>\n",
       "      <td>1116.31</td>\n",
       "      <td>1</td>\n",
       "      <td>1105.71</td>\n",
       "      <td>100</td>\n",
       "      <td>2019-02-04</td>\n",
       "      <td>0.000000</td>\n",
       "      <td>0.00</td>\n",
       "    </tr>\n",
       "    <tr>\n",
       "      <th>415</th>\n",
       "      <td>34200.845307</td>\n",
       "      <td>4</td>\n",
       "      <td>5821942</td>\n",
       "      <td>100</td>\n",
       "      <td>11120500</td>\n",
       "      <td>-1</td>\n",
       "      <td>NaN</td>\n",
       "      <td>1112.37</td>\n",
       "      <td>35</td>\n",
       "      <td>1110.09</td>\n",
       "      <td>...</td>\n",
       "      <td>1</td>\n",
       "      <td>1105.85</td>\n",
       "      <td>100</td>\n",
       "      <td>1116.45</td>\n",
       "      <td>100</td>\n",
       "      <td>1105.71</td>\n",
       "      <td>100</td>\n",
       "      <td>2019-02-04</td>\n",
       "      <td>0.000000</td>\n",
       "      <td>0.00</td>\n",
       "    </tr>\n",
       "    <tr>\n",
       "      <th>...</th>\n",
       "      <td>...</td>\n",
       "      <td>...</td>\n",
       "      <td>...</td>\n",
       "      <td>...</td>\n",
       "      <td>...</td>\n",
       "      <td>...</td>\n",
       "      <td>...</td>\n",
       "      <td>...</td>\n",
       "      <td>...</td>\n",
       "      <td>...</td>\n",
       "      <td>...</td>\n",
       "      <td>...</td>\n",
       "      <td>...</td>\n",
       "      <td>...</td>\n",
       "      <td>...</td>\n",
       "      <td>...</td>\n",
       "      <td>...</td>\n",
       "      <td>...</td>\n",
       "      <td>...</td>\n",
       "      <td>...</td>\n",
       "      <td>...</td>\n",
       "    </tr>\n",
       "    <tr>\n",
       "      <th>732616</th>\n",
       "      <td>57599.908666</td>\n",
       "      <td>1</td>\n",
       "      <td>252277518</td>\n",
       "      <td>100</td>\n",
       "      <td>11321100</td>\n",
       "      <td>1</td>\n",
       "      <td>NaN</td>\n",
       "      <td>1132.50</td>\n",
       "      <td>236</td>\n",
       "      <td>1132.11</td>\n",
       "      <td>...</td>\n",
       "      <td>12</td>\n",
       "      <td>1131.53</td>\n",
       "      <td>740</td>\n",
       "      <td>1132.85</td>\n",
       "      <td>12</td>\n",
       "      <td>1131.50</td>\n",
       "      <td>1237</td>\n",
       "      <td>2019-02-04</td>\n",
       "      <td>0.033170</td>\n",
       "      <td>-0.03</td>\n",
       "    </tr>\n",
       "    <tr>\n",
       "      <th>732617</th>\n",
       "      <td>57599.909842</td>\n",
       "      <td>1</td>\n",
       "      <td>252277814</td>\n",
       "      <td>10</td>\n",
       "      <td>11319700</td>\n",
       "      <td>1</td>\n",
       "      <td>NaN</td>\n",
       "      <td>1132.50</td>\n",
       "      <td>236</td>\n",
       "      <td>1132.11</td>\n",
       "      <td>...</td>\n",
       "      <td>12</td>\n",
       "      <td>1131.58</td>\n",
       "      <td>396</td>\n",
       "      <td>1132.85</td>\n",
       "      <td>12</td>\n",
       "      <td>1131.53</td>\n",
       "      <td>740</td>\n",
       "      <td>2019-02-04</td>\n",
       "      <td>0.001176</td>\n",
       "      <td>0.03</td>\n",
       "    </tr>\n",
       "    <tr>\n",
       "      <th>732618</th>\n",
       "      <td>57599.910979</td>\n",
       "      <td>3</td>\n",
       "      <td>252277814</td>\n",
       "      <td>10</td>\n",
       "      <td>11319700</td>\n",
       "      <td>1</td>\n",
       "      <td>NaN</td>\n",
       "      <td>1132.50</td>\n",
       "      <td>236</td>\n",
       "      <td>1132.11</td>\n",
       "      <td>...</td>\n",
       "      <td>12</td>\n",
       "      <td>1131.53</td>\n",
       "      <td>740</td>\n",
       "      <td>1132.85</td>\n",
       "      <td>12</td>\n",
       "      <td>1131.50</td>\n",
       "      <td>1237</td>\n",
       "      <td>2019-02-04</td>\n",
       "      <td>0.001138</td>\n",
       "      <td>-0.03</td>\n",
       "    </tr>\n",
       "    <tr>\n",
       "      <th>732619</th>\n",
       "      <td>57599.912701</td>\n",
       "      <td>1</td>\n",
       "      <td>252278326</td>\n",
       "      <td>10</td>\n",
       "      <td>11320500</td>\n",
       "      <td>1</td>\n",
       "      <td>NaN</td>\n",
       "      <td>1132.50</td>\n",
       "      <td>236</td>\n",
       "      <td>1132.11</td>\n",
       "      <td>...</td>\n",
       "      <td>12</td>\n",
       "      <td>1131.58</td>\n",
       "      <td>396</td>\n",
       "      <td>1132.85</td>\n",
       "      <td>12</td>\n",
       "      <td>1131.53</td>\n",
       "      <td>740</td>\n",
       "      <td>2019-02-04</td>\n",
       "      <td>0.001722</td>\n",
       "      <td>-0.05</td>\n",
       "    </tr>\n",
       "    <tr>\n",
       "      <th>732620</th>\n",
       "      <td>57599.914823</td>\n",
       "      <td>1</td>\n",
       "      <td>252278610</td>\n",
       "      <td>10</td>\n",
       "      <td>11320200</td>\n",
       "      <td>1</td>\n",
       "      <td>NaN</td>\n",
       "      <td>1132.50</td>\n",
       "      <td>236</td>\n",
       "      <td>1132.11</td>\n",
       "      <td>...</td>\n",
       "      <td>12</td>\n",
       "      <td>1131.60</td>\n",
       "      <td>355</td>\n",
       "      <td>1132.85</td>\n",
       "      <td>12</td>\n",
       "      <td>1131.58</td>\n",
       "      <td>396</td>\n",
       "      <td>2019-02-04</td>\n",
       "      <td>0.002122</td>\n",
       "      <td>NaN</td>\n",
       "    </tr>\n",
       "  </tbody>\n",
       "</table>\n",
       "<p>732210 rows × 50 columns</p>\n",
       "</div>"
      ],
      "text/plain": [
       "                Time  Type    OrderID  Size     Price  TradeDirection  tmp  \\\n",
       "411     34200.845307     4    5820262    15  11120200              -1  NaN   \n",
       "412     34200.845307     4    5794466   100  11120300              -1  NaN   \n",
       "413     34200.845307     4    5820354     3  11120300              -1  NaN   \n",
       "414     34200.845307     4    5822770    20  11120400              -1  NaN   \n",
       "415     34200.845307     4    5821942   100  11120500              -1  NaN   \n",
       "...              ...   ...        ...   ...       ...             ...  ...   \n",
       "732616  57599.908666     1  252277518   100  11321100               1  NaN   \n",
       "732617  57599.909842     1  252277814    10  11319700               1  NaN   \n",
       "732618  57599.910979     3  252277814    10  11319700               1  NaN   \n",
       "732619  57599.912701     1  252278326    10  11320500               1  NaN   \n",
       "732620  57599.914823     1  252278610    10  11320200               1  NaN   \n",
       "\n",
       "        Ask Price 1  Ask Size 1  Bid Price 1  ...  Ask Size 9  Bid Price 9  \\\n",
       "411         1112.03         103      1110.09  ...           1      1105.85   \n",
       "412         1112.03           3      1110.09  ...           1      1105.85   \n",
       "413         1112.04          20      1110.09  ...          10      1105.85   \n",
       "414         1112.05         100      1110.09  ...         600      1105.85   \n",
       "415         1112.37          35      1110.09  ...           1      1105.85   \n",
       "...             ...         ...          ...  ...         ...          ...   \n",
       "732616      1132.50         236      1132.11  ...          12      1131.53   \n",
       "732617      1132.50         236      1132.11  ...          12      1131.58   \n",
       "732618      1132.50         236      1132.11  ...          12      1131.53   \n",
       "732619      1132.50         236      1132.11  ...          12      1131.58   \n",
       "732620      1132.50         236      1132.11  ...          12      1131.60   \n",
       "\n",
       "        Bid Size 9  Ask Price 10  Ask Size 10  Bid Price 10  Bid Size 10  \\\n",
       "411            100       1115.48           10       1105.71          100   \n",
       "412            100       1115.48           10       1105.71          100   \n",
       "413            100       1115.70          600       1105.71          100   \n",
       "414            100       1116.31            1       1105.71          100   \n",
       "415            100       1116.45          100       1105.71          100   \n",
       "...            ...           ...          ...           ...          ...   \n",
       "732616         740       1132.85           12       1131.50         1237   \n",
       "732617         396       1132.85           12       1131.53          740   \n",
       "732618         740       1132.85           12       1131.50         1237   \n",
       "732619         396       1132.85           12       1131.53          740   \n",
       "732620         355       1132.85           12       1131.58          396   \n",
       "\n",
       "              Date  timeDiff  diff  \n",
       "411     2019-02-04       NaN  0.00  \n",
       "412     2019-02-04  0.000000  0.00  \n",
       "413     2019-02-04  0.000000  0.00  \n",
       "414     2019-02-04  0.000000  0.00  \n",
       "415     2019-02-04  0.000000  0.00  \n",
       "...            ...       ...   ...  \n",
       "732616  2019-02-04  0.033170 -0.03  \n",
       "732617  2019-02-04  0.001176  0.03  \n",
       "732618  2019-02-04  0.001138 -0.03  \n",
       "732619  2019-02-04  0.001722 -0.05  \n",
       "732620  2019-02-04  0.002122   NaN  \n",
       "\n",
       "[732210 rows x 50 columns]"
      ]
     },
     "execution_count": 101,
     "metadata": {},
     "output_type": "execute_result"
    }
   ],
   "source": [
    "data"
   ]
  },
  {
   "cell_type": "code",
   "execution_count": 106,
   "id": "8a114bc8-e81d-4c88-bd71-09039643ffc8",
   "metadata": {
    "scrolled": true
   },
   "outputs": [
    {
     "name": "stdout",
     "output_type": "stream",
     "text": [
      "/SAN/fca/Konark_PhD_Experiments/extracted/GOOG/AAPL_2019-01-02_34200000_57600000_message_10.csv\n"
     ]
    },
    {
     "name": "stderr",
     "output_type": "stream",
     "text": [
      "/tmp/ipykernel_51715/3865014786.py:6: DtypeWarning: Columns (6) have mixed types.Specify dtype option on import or set low_memory=False.\n",
      "  data = l.load()\n",
      "/home/konajain/code/lobSimulations/src/data/dataLoader.py:109: SettingWithCopyWarning: \n",
      "A value is trying to be set on a copy of a slice from a DataFrame.\n",
      "Try using .loc[row_indexer,col_indexer] = value instead\n",
      "\n",
      "See the caveats in the documentation: https://pandas.pydata.org/pandas-docs/stable/user_guide/indexing.html#returning-a-view-versus-a-copy\n",
      "  theOrderBookFiltered[theOrderBookFiltered.columns[i]]  = theOrderBookFiltered[theOrderBookFiltered.columns[i]]/10000\n"
     ]
    },
    {
     "name": "stdout",
     "output_type": "stream",
     "text": [
      "/SAN/fca/Konark_PhD_Experiments/extracted/GOOG/AAPL_2019-01-03_34200000_57600000_message_10.csv\n"
     ]
    },
    {
     "name": "stderr",
     "output_type": "stream",
     "text": [
      "/home/konajain/code/lobSimulations/src/data/dataLoader.py:109: SettingWithCopyWarning: \n",
      "A value is trying to be set on a copy of a slice from a DataFrame.\n",
      "Try using .loc[row_indexer,col_indexer] = value instead\n",
      "\n",
      "See the caveats in the documentation: https://pandas.pydata.org/pandas-docs/stable/user_guide/indexing.html#returning-a-view-versus-a-copy\n",
      "  theOrderBookFiltered[theOrderBookFiltered.columns[i]]  = theOrderBookFiltered[theOrderBookFiltered.columns[i]]/10000\n"
     ]
    },
    {
     "name": "stdout",
     "output_type": "stream",
     "text": [
      "/SAN/fca/Konark_PhD_Experiments/extracted/GOOG/AAPL_2019-01-04_34200000_57600000_message_10.csv\n"
     ]
    },
    {
     "name": "stderr",
     "output_type": "stream",
     "text": [
      "/home/konajain/code/lobSimulations/src/data/dataLoader.py:109: SettingWithCopyWarning: \n",
      "A value is trying to be set on a copy of a slice from a DataFrame.\n",
      "Try using .loc[row_indexer,col_indexer] = value instead\n",
      "\n",
      "See the caveats in the documentation: https://pandas.pydata.org/pandas-docs/stable/user_guide/indexing.html#returning-a-view-versus-a-copy\n",
      "  theOrderBookFiltered[theOrderBookFiltered.columns[i]]  = theOrderBookFiltered[theOrderBookFiltered.columns[i]]/10000\n"
     ]
    },
    {
     "name": "stdout",
     "output_type": "stream",
     "text": [
      "/SAN/fca/Konark_PhD_Experiments/extracted/GOOG/AAPL_2019-01-07_34200000_57600000_message_10.csv\n"
     ]
    },
    {
     "name": "stderr",
     "output_type": "stream",
     "text": [
      "/tmp/ipykernel_51715/3865014786.py:6: DtypeWarning: Columns (6) have mixed types.Specify dtype option on import or set low_memory=False.\n",
      "  data = l.load()\n",
      "/home/konajain/code/lobSimulations/src/data/dataLoader.py:109: SettingWithCopyWarning: \n",
      "A value is trying to be set on a copy of a slice from a DataFrame.\n",
      "Try using .loc[row_indexer,col_indexer] = value instead\n",
      "\n",
      "See the caveats in the documentation: https://pandas.pydata.org/pandas-docs/stable/user_guide/indexing.html#returning-a-view-versus-a-copy\n",
      "  theOrderBookFiltered[theOrderBookFiltered.columns[i]]  = theOrderBookFiltered[theOrderBookFiltered.columns[i]]/10000\n"
     ]
    },
    {
     "name": "stdout",
     "output_type": "stream",
     "text": [
      "/SAN/fca/Konark_PhD_Experiments/extracted/GOOG/AAPL_2019-01-08_34200000_57600000_message_10.csv\n"
     ]
    },
    {
     "name": "stderr",
     "output_type": "stream",
     "text": [
      "/tmp/ipykernel_51715/3865014786.py:6: DtypeWarning: Columns (6) have mixed types.Specify dtype option on import or set low_memory=False.\n",
      "  data = l.load()\n",
      "/home/konajain/code/lobSimulations/src/data/dataLoader.py:109: SettingWithCopyWarning: \n",
      "A value is trying to be set on a copy of a slice from a DataFrame.\n",
      "Try using .loc[row_indexer,col_indexer] = value instead\n",
      "\n",
      "See the caveats in the documentation: https://pandas.pydata.org/pandas-docs/stable/user_guide/indexing.html#returning-a-view-versus-a-copy\n",
      "  theOrderBookFiltered[theOrderBookFiltered.columns[i]]  = theOrderBookFiltered[theOrderBookFiltered.columns[i]]/10000\n"
     ]
    },
    {
     "name": "stdout",
     "output_type": "stream",
     "text": [
      "/SAN/fca/Konark_PhD_Experiments/extracted/GOOG/AAPL_2019-01-10_34200000_57600000_message_10.csv\n"
     ]
    },
    {
     "name": "stderr",
     "output_type": "stream",
     "text": [
      "/tmp/ipykernel_51715/3865014786.py:6: DtypeWarning: Columns (6) have mixed types.Specify dtype option on import or set low_memory=False.\n",
      "  data = l.load()\n",
      "/home/konajain/code/lobSimulations/src/data/dataLoader.py:109: SettingWithCopyWarning: \n",
      "A value is trying to be set on a copy of a slice from a DataFrame.\n",
      "Try using .loc[row_indexer,col_indexer] = value instead\n",
      "\n",
      "See the caveats in the documentation: https://pandas.pydata.org/pandas-docs/stable/user_guide/indexing.html#returning-a-view-versus-a-copy\n",
      "  theOrderBookFiltered[theOrderBookFiltered.columns[i]]  = theOrderBookFiltered[theOrderBookFiltered.columns[i]]/10000\n"
     ]
    },
    {
     "name": "stdout",
     "output_type": "stream",
     "text": [
      "/SAN/fca/Konark_PhD_Experiments/extracted/GOOG/AAPL_2019-01-11_34200000_57600000_message_10.csv\n"
     ]
    },
    {
     "name": "stderr",
     "output_type": "stream",
     "text": [
      "/tmp/ipykernel_51715/3865014786.py:6: DtypeWarning: Columns (6) have mixed types.Specify dtype option on import or set low_memory=False.\n",
      "  data = l.load()\n",
      "/home/konajain/code/lobSimulations/src/data/dataLoader.py:109: SettingWithCopyWarning: \n",
      "A value is trying to be set on a copy of a slice from a DataFrame.\n",
      "Try using .loc[row_indexer,col_indexer] = value instead\n",
      "\n",
      "See the caveats in the documentation: https://pandas.pydata.org/pandas-docs/stable/user_guide/indexing.html#returning-a-view-versus-a-copy\n",
      "  theOrderBookFiltered[theOrderBookFiltered.columns[i]]  = theOrderBookFiltered[theOrderBookFiltered.columns[i]]/10000\n"
     ]
    },
    {
     "name": "stdout",
     "output_type": "stream",
     "text": [
      "/SAN/fca/Konark_PhD_Experiments/extracted/GOOG/AAPL_2019-01-14_34200000_57600000_message_10.csv\n"
     ]
    },
    {
     "name": "stderr",
     "output_type": "stream",
     "text": [
      "/tmp/ipykernel_51715/3865014786.py:6: DtypeWarning: Columns (6) have mixed types.Specify dtype option on import or set low_memory=False.\n",
      "  data = l.load()\n",
      "/home/konajain/code/lobSimulations/src/data/dataLoader.py:109: SettingWithCopyWarning: \n",
      "A value is trying to be set on a copy of a slice from a DataFrame.\n",
      "Try using .loc[row_indexer,col_indexer] = value instead\n",
      "\n",
      "See the caveats in the documentation: https://pandas.pydata.org/pandas-docs/stable/user_guide/indexing.html#returning-a-view-versus-a-copy\n",
      "  theOrderBookFiltered[theOrderBookFiltered.columns[i]]  = theOrderBookFiltered[theOrderBookFiltered.columns[i]]/10000\n"
     ]
    },
    {
     "name": "stdout",
     "output_type": "stream",
     "text": [
      "/SAN/fca/Konark_PhD_Experiments/extracted/GOOG/AAPL_2019-01-15_34200000_57600000_message_10.csv\n"
     ]
    },
    {
     "name": "stderr",
     "output_type": "stream",
     "text": [
      "/tmp/ipykernel_51715/3865014786.py:6: DtypeWarning: Columns (6) have mixed types.Specify dtype option on import or set low_memory=False.\n",
      "  data = l.load()\n",
      "/home/konajain/code/lobSimulations/src/data/dataLoader.py:109: SettingWithCopyWarning: \n",
      "A value is trying to be set on a copy of a slice from a DataFrame.\n",
      "Try using .loc[row_indexer,col_indexer] = value instead\n",
      "\n",
      "See the caveats in the documentation: https://pandas.pydata.org/pandas-docs/stable/user_guide/indexing.html#returning-a-view-versus-a-copy\n",
      "  theOrderBookFiltered[theOrderBookFiltered.columns[i]]  = theOrderBookFiltered[theOrderBookFiltered.columns[i]]/10000\n"
     ]
    },
    {
     "name": "stdout",
     "output_type": "stream",
     "text": [
      "/SAN/fca/Konark_PhD_Experiments/extracted/GOOG/AAPL_2019-01-16_34200000_57600000_message_10.csv\n"
     ]
    },
    {
     "name": "stderr",
     "output_type": "stream",
     "text": [
      "/home/konajain/code/lobSimulations/src/data/dataLoader.py:109: SettingWithCopyWarning: \n",
      "A value is trying to be set on a copy of a slice from a DataFrame.\n",
      "Try using .loc[row_indexer,col_indexer] = value instead\n",
      "\n",
      "See the caveats in the documentation: https://pandas.pydata.org/pandas-docs/stable/user_guide/indexing.html#returning-a-view-versus-a-copy\n",
      "  theOrderBookFiltered[theOrderBookFiltered.columns[i]]  = theOrderBookFiltered[theOrderBookFiltered.columns[i]]/10000\n"
     ]
    },
    {
     "name": "stdout",
     "output_type": "stream",
     "text": [
      "/SAN/fca/Konark_PhD_Experiments/extracted/GOOG/AAPL_2019-01-17_34200000_57600000_message_10.csv\n"
     ]
    },
    {
     "name": "stderr",
     "output_type": "stream",
     "text": [
      "/tmp/ipykernel_51715/3865014786.py:6: DtypeWarning: Columns (6) have mixed types.Specify dtype option on import or set low_memory=False.\n",
      "  data = l.load()\n",
      "/home/konajain/code/lobSimulations/src/data/dataLoader.py:109: SettingWithCopyWarning: \n",
      "A value is trying to be set on a copy of a slice from a DataFrame.\n",
      "Try using .loc[row_indexer,col_indexer] = value instead\n",
      "\n",
      "See the caveats in the documentation: https://pandas.pydata.org/pandas-docs/stable/user_guide/indexing.html#returning-a-view-versus-a-copy\n",
      "  theOrderBookFiltered[theOrderBookFiltered.columns[i]]  = theOrderBookFiltered[theOrderBookFiltered.columns[i]]/10000\n"
     ]
    },
    {
     "name": "stdout",
     "output_type": "stream",
     "text": [
      "/SAN/fca/Konark_PhD_Experiments/extracted/GOOG/AAPL_2019-01-18_34200000_57600000_message_10.csv\n"
     ]
    },
    {
     "name": "stderr",
     "output_type": "stream",
     "text": [
      "/tmp/ipykernel_51715/3865014786.py:6: DtypeWarning: Columns (6) have mixed types.Specify dtype option on import or set low_memory=False.\n",
      "  data = l.load()\n",
      "/home/konajain/code/lobSimulations/src/data/dataLoader.py:109: SettingWithCopyWarning: \n",
      "A value is trying to be set on a copy of a slice from a DataFrame.\n",
      "Try using .loc[row_indexer,col_indexer] = value instead\n",
      "\n",
      "See the caveats in the documentation: https://pandas.pydata.org/pandas-docs/stable/user_guide/indexing.html#returning-a-view-versus-a-copy\n",
      "  theOrderBookFiltered[theOrderBookFiltered.columns[i]]  = theOrderBookFiltered[theOrderBookFiltered.columns[i]]/10000\n"
     ]
    },
    {
     "name": "stdout",
     "output_type": "stream",
     "text": [
      "/SAN/fca/Konark_PhD_Experiments/extracted/GOOG/AAPL_2019-01-22_34200000_57600000_message_10.csv\n"
     ]
    },
    {
     "name": "stderr",
     "output_type": "stream",
     "text": [
      "/tmp/ipykernel_51715/3865014786.py:6: DtypeWarning: Columns (6) have mixed types.Specify dtype option on import or set low_memory=False.\n",
      "  data = l.load()\n",
      "/home/konajain/code/lobSimulations/src/data/dataLoader.py:109: SettingWithCopyWarning: \n",
      "A value is trying to be set on a copy of a slice from a DataFrame.\n",
      "Try using .loc[row_indexer,col_indexer] = value instead\n",
      "\n",
      "See the caveats in the documentation: https://pandas.pydata.org/pandas-docs/stable/user_guide/indexing.html#returning-a-view-versus-a-copy\n",
      "  theOrderBookFiltered[theOrderBookFiltered.columns[i]]  = theOrderBookFiltered[theOrderBookFiltered.columns[i]]/10000\n"
     ]
    },
    {
     "name": "stdout",
     "output_type": "stream",
     "text": [
      "/SAN/fca/Konark_PhD_Experiments/extracted/GOOG/AAPL_2019-01-23_34200000_57600000_message_10.csv\n"
     ]
    },
    {
     "name": "stderr",
     "output_type": "stream",
     "text": [
      "/tmp/ipykernel_51715/3865014786.py:6: DtypeWarning: Columns (6) have mixed types.Specify dtype option on import or set low_memory=False.\n",
      "  data = l.load()\n",
      "/home/konajain/code/lobSimulations/src/data/dataLoader.py:109: SettingWithCopyWarning: \n",
      "A value is trying to be set on a copy of a slice from a DataFrame.\n",
      "Try using .loc[row_indexer,col_indexer] = value instead\n",
      "\n",
      "See the caveats in the documentation: https://pandas.pydata.org/pandas-docs/stable/user_guide/indexing.html#returning-a-view-versus-a-copy\n",
      "  theOrderBookFiltered[theOrderBookFiltered.columns[i]]  = theOrderBookFiltered[theOrderBookFiltered.columns[i]]/10000\n"
     ]
    },
    {
     "name": "stdout",
     "output_type": "stream",
     "text": [
      "/SAN/fca/Konark_PhD_Experiments/extracted/GOOG/AAPL_2019-01-24_34200000_57600000_message_10.csv\n"
     ]
    },
    {
     "name": "stderr",
     "output_type": "stream",
     "text": [
      "/tmp/ipykernel_51715/3865014786.py:6: DtypeWarning: Columns (6) have mixed types.Specify dtype option on import or set low_memory=False.\n",
      "  data = l.load()\n",
      "/home/konajain/code/lobSimulations/src/data/dataLoader.py:109: SettingWithCopyWarning: \n",
      "A value is trying to be set on a copy of a slice from a DataFrame.\n",
      "Try using .loc[row_indexer,col_indexer] = value instead\n",
      "\n",
      "See the caveats in the documentation: https://pandas.pydata.org/pandas-docs/stable/user_guide/indexing.html#returning-a-view-versus-a-copy\n",
      "  theOrderBookFiltered[theOrderBookFiltered.columns[i]]  = theOrderBookFiltered[theOrderBookFiltered.columns[i]]/10000\n"
     ]
    },
    {
     "name": "stdout",
     "output_type": "stream",
     "text": [
      "/SAN/fca/Konark_PhD_Experiments/extracted/GOOG/AAPL_2019-01-25_34200000_57600000_message_10.csv\n"
     ]
    },
    {
     "name": "stderr",
     "output_type": "stream",
     "text": [
      "/tmp/ipykernel_51715/3865014786.py:6: DtypeWarning: Columns (6) have mixed types.Specify dtype option on import or set low_memory=False.\n",
      "  data = l.load()\n",
      "/home/konajain/code/lobSimulations/src/data/dataLoader.py:109: SettingWithCopyWarning: \n",
      "A value is trying to be set on a copy of a slice from a DataFrame.\n",
      "Try using .loc[row_indexer,col_indexer] = value instead\n",
      "\n",
      "See the caveats in the documentation: https://pandas.pydata.org/pandas-docs/stable/user_guide/indexing.html#returning-a-view-versus-a-copy\n",
      "  theOrderBookFiltered[theOrderBookFiltered.columns[i]]  = theOrderBookFiltered[theOrderBookFiltered.columns[i]]/10000\n"
     ]
    },
    {
     "name": "stdout",
     "output_type": "stream",
     "text": [
      "/SAN/fca/Konark_PhD_Experiments/extracted/GOOG/AAPL_2019-01-28_34200000_57600000_message_10.csv\n"
     ]
    },
    {
     "name": "stderr",
     "output_type": "stream",
     "text": [
      "/tmp/ipykernel_51715/3865014786.py:6: DtypeWarning: Columns (6) have mixed types.Specify dtype option on import or set low_memory=False.\n",
      "  data = l.load()\n",
      "/home/konajain/code/lobSimulations/src/data/dataLoader.py:109: SettingWithCopyWarning: \n",
      "A value is trying to be set on a copy of a slice from a DataFrame.\n",
      "Try using .loc[row_indexer,col_indexer] = value instead\n",
      "\n",
      "See the caveats in the documentation: https://pandas.pydata.org/pandas-docs/stable/user_guide/indexing.html#returning-a-view-versus-a-copy\n",
      "  theOrderBookFiltered[theOrderBookFiltered.columns[i]]  = theOrderBookFiltered[theOrderBookFiltered.columns[i]]/10000\n"
     ]
    },
    {
     "name": "stdout",
     "output_type": "stream",
     "text": [
      "/SAN/fca/Konark_PhD_Experiments/extracted/GOOG/AAPL_2019-01-29_34200000_57600000_message_10.csv\n"
     ]
    },
    {
     "name": "stderr",
     "output_type": "stream",
     "text": [
      "/tmp/ipykernel_51715/3865014786.py:6: DtypeWarning: Columns (6) have mixed types.Specify dtype option on import or set low_memory=False.\n",
      "  data = l.load()\n",
      "/home/konajain/code/lobSimulations/src/data/dataLoader.py:109: SettingWithCopyWarning: \n",
      "A value is trying to be set on a copy of a slice from a DataFrame.\n",
      "Try using .loc[row_indexer,col_indexer] = value instead\n",
      "\n",
      "See the caveats in the documentation: https://pandas.pydata.org/pandas-docs/stable/user_guide/indexing.html#returning-a-view-versus-a-copy\n",
      "  theOrderBookFiltered[theOrderBookFiltered.columns[i]]  = theOrderBookFiltered[theOrderBookFiltered.columns[i]]/10000\n"
     ]
    },
    {
     "name": "stdout",
     "output_type": "stream",
     "text": [
      "/SAN/fca/Konark_PhD_Experiments/extracted/GOOG/AAPL_2019-01-30_34200000_57600000_message_10.csv\n"
     ]
    },
    {
     "name": "stderr",
     "output_type": "stream",
     "text": [
      "/tmp/ipykernel_51715/3865014786.py:6: DtypeWarning: Columns (6) have mixed types.Specify dtype option on import or set low_memory=False.\n",
      "  data = l.load()\n",
      "/home/konajain/code/lobSimulations/src/data/dataLoader.py:109: SettingWithCopyWarning: \n",
      "A value is trying to be set on a copy of a slice from a DataFrame.\n",
      "Try using .loc[row_indexer,col_indexer] = value instead\n",
      "\n",
      "See the caveats in the documentation: https://pandas.pydata.org/pandas-docs/stable/user_guide/indexing.html#returning-a-view-versus-a-copy\n",
      "  theOrderBookFiltered[theOrderBookFiltered.columns[i]]  = theOrderBookFiltered[theOrderBookFiltered.columns[i]]/10000\n"
     ]
    },
    {
     "name": "stdout",
     "output_type": "stream",
     "text": [
      "/SAN/fca/Konark_PhD_Experiments/extracted/GOOG/AAPL_2019-01-31_34200000_57600000_message_10.csv\n"
     ]
    },
    {
     "name": "stderr",
     "output_type": "stream",
     "text": [
      "/tmp/ipykernel_51715/3865014786.py:6: DtypeWarning: Columns (6) have mixed types.Specify dtype option on import or set low_memory=False.\n",
      "  data = l.load()\n",
      "/home/konajain/code/lobSimulations/src/data/dataLoader.py:109: SettingWithCopyWarning: \n",
      "A value is trying to be set on a copy of a slice from a DataFrame.\n",
      "Try using .loc[row_indexer,col_indexer] = value instead\n",
      "\n",
      "See the caveats in the documentation: https://pandas.pydata.org/pandas-docs/stable/user_guide/indexing.html#returning-a-view-versus-a-copy\n",
      "  theOrderBookFiltered[theOrderBookFiltered.columns[i]]  = theOrderBookFiltered[theOrderBookFiltered.columns[i]]/10000\n"
     ]
    },
    {
     "name": "stdout",
     "output_type": "stream",
     "text": [
      "/SAN/fca/Konark_PhD_Experiments/extracted/GOOG/AAPL_2019-02-01_34200000_57600000_message_10.csv\n"
     ]
    },
    {
     "name": "stderr",
     "output_type": "stream",
     "text": [
      "/tmp/ipykernel_51715/3865014786.py:6: DtypeWarning: Columns (6) have mixed types.Specify dtype option on import or set low_memory=False.\n",
      "  data = l.load()\n",
      "/home/konajain/code/lobSimulations/src/data/dataLoader.py:109: SettingWithCopyWarning: \n",
      "A value is trying to be set on a copy of a slice from a DataFrame.\n",
      "Try using .loc[row_indexer,col_indexer] = value instead\n",
      "\n",
      "See the caveats in the documentation: https://pandas.pydata.org/pandas-docs/stable/user_guide/indexing.html#returning-a-view-versus-a-copy\n",
      "  theOrderBookFiltered[theOrderBookFiltered.columns[i]]  = theOrderBookFiltered[theOrderBookFiltered.columns[i]]/10000\n"
     ]
    },
    {
     "name": "stdout",
     "output_type": "stream",
     "text": [
      "/SAN/fca/Konark_PhD_Experiments/extracted/GOOG/AAPL_2019-02-04_34200000_57600000_message_10.csv\n"
     ]
    },
    {
     "name": "stderr",
     "output_type": "stream",
     "text": [
      "/tmp/ipykernel_51715/3865014786.py:6: DtypeWarning: Columns (6) have mixed types.Specify dtype option on import or set low_memory=False.\n",
      "  data = l.load()\n",
      "/home/konajain/code/lobSimulations/src/data/dataLoader.py:109: SettingWithCopyWarning: \n",
      "A value is trying to be set on a copy of a slice from a DataFrame.\n",
      "Try using .loc[row_indexer,col_indexer] = value instead\n",
      "\n",
      "See the caveats in the documentation: https://pandas.pydata.org/pandas-docs/stable/user_guide/indexing.html#returning-a-view-versus-a-copy\n",
      "  theOrderBookFiltered[theOrderBookFiltered.columns[i]]  = theOrderBookFiltered[theOrderBookFiltered.columns[i]]/10000\n"
     ]
    }
   ],
   "source": [
    "ric = \"AAPL.OQ\"\n",
    "res = {}\n",
    "for j in pd.date_range(dt.date(2019,1,2), dt.date(2019,2,4)):\n",
    "    if j == dt.date(2019,1,9): continue\n",
    "    l = dataLoader.dataLoader(ric, j, j, nlevels = 10, dataPath = \"/SAN/fca/Konark_PhD_Experiments/extracted/GOOG/\")\n",
    "    data = l.load()\n",
    "    master_dict = {}\n",
    "    if len(data):\n",
    "        data = data[0]\n",
    "    else:\n",
    "        continue\n",
    "    data['timeDiff'] = data['Time'].diff()\n",
    "    i = 1\n",
    "    data['diff'] = data['Ask Price ' + str(i)].shift(-1) - data['Ask Price ' + str(i)]\n",
    "    res[i] = np.append(res.get(i, []), (100*(data['Ask Price 2'] - data['Ask Price 1'])).loc[data['diff'] < 0].values)\n",
    "    data['diff'] = data['Bid Price ' + str(i)] - data['Bid Price ' + str(i)].shift(-1)\n",
    "    res[i] = np.append(res.get(i, []), (100*(data['Bid Price 1'] - data['Bid Price 2'])).loc[data['diff'] < 0].values)"
   ]
  },
  {
   "cell_type": "code",
   "execution_count": 107,
   "id": "63dfcfa1-f019-43d4-a9d6-700e98224052",
   "metadata": {},
   "outputs": [],
   "source": [
    "aapl = res"
   ]
  },
  {
   "cell_type": "code",
   "execution_count": 118,
   "id": "e01137d1-d021-4eda-8fc5-78c6a5eaba8d",
   "metadata": {},
   "outputs": [
    {
     "data": {
      "image/png": "[encoded data removed]",
      "text/plain": [
       "<Figure size 640x480 with 1 Axes>"
      ]
     },
     "metadata": {},
     "output_type": "display_data"
    }
   ],
   "source": [
    "plt.figure()\n",
    "a = plt.hist(intc[1], bins = 100, density = True, label=\"INTC.OQ\", alpha = 0.5 , histtype = 'step')\n",
    "plt.xlabel(\"Price Improvement in ticks\")\n",
    "plt.ylabel('Density')\n",
    "plt.yscale(\"log\")\n",
    "plt.xscale('log')\n",
    "plt.text(10, np.max(a[0]) -0.5, \"INTC.OQ $\\hat{\\eta}_{T+1}$ = \" + str(np.round(1./np.average(np.average(intc[1], axis = 0)),2)), bbox=dict(alpha=0.5))\n",
    "a = plt.hist(aapl[1], bins = 100, density = True, label=\"AAPL.OQ\", alpha = 0.5, histtype = 'step')\n",
    "plt.text(10, np.max(a[0]) -1, \"AAPL.OQ $\\hat{\\eta}_{T+1}$ = \" + str(np.round(1./np.average(np.average(aapl[1], axis = 0)),2)), bbox=dict(alpha=0.5))\n",
    "a = plt.hist(goog[1], bins = 1000, density = True, label=\"GOOG.OQ\", alpha = 0.5, histtype = 'step')\n",
    "plt.text(10, np.max(a[0]) -0.75, \"GOOG.OQ $\\hat{\\eta}_{T+1}$  = \" + str(np.round(1./np.average(np.average(goog[1], axis = 0)),2)), bbox=dict(alpha=0.5))\n",
    "#plt.xlim([0,10])\n",
    "#plt.xticks(np.arange(1,11))\n",
    "plt.legend()\n",
    "plt.title(\"$\\eta_{T+1}$ empirical density (log-log)\")\n",
    "plt.savefig(\"/SAN/fca/Konark_PhD_Experiments/smallTick/EDA_eta_T1.png\")"
   ]
  },
  {
   "cell_type": "markdown",
   "id": "d4fdfd14-8984-47c9-a254-c986c3cab294",
   "metadata": {},
   "source": [
    "# rough"
   ]
  },
  {
   "cell_type": "code",
   "execution_count": 5,
   "id": "51913a81-9ed9-4f0b-99cc-34c39691118a",
   "metadata": {},
   "outputs": [],
   "source": [
    "import sys\n",
    "class CliExtractCallback(py7zr.callbacks.ExtractCallback):\n",
    "\n",
    "    def __init__(self, total_bytes, ofd=sys.stdout):\n",
    "        self.ofd = ofd\n",
    "        self.archive_total = total_bytes\n",
    "        self.total_bytes = 0\n",
    "        self.columns, _ = shutil.get_terminal_size(fallback=(80, 24))\n",
    "        self.pwidth = 0\n",
    "\n",
    "    def report_start(self, processing_file_path, processing_bytes):\n",
    "        self.ofd.write('- {}'.format(processing_file_path))\n",
    "        self.pwidth += len(processing_file_path) + 2\n",
    "\n",
    "    def report_end(self, processing_file_path, wrote_bytes):\n",
    "        self.total_bytes += int(wrote_bytes)\n",
    "        plest = self.columns - self.pwidth\n",
    "        progress = self.total_bytes / self.archive_total\n",
    "        msg = '({:.0%})\\n'.format(progress)\n",
    "        if plest - len(msg) > 0:\n",
    "            self.ofd.write(msg.rjust(plest))\n",
    "        else:\n",
    "            self.ofd.write(msg)\n",
    "        self.pwidth = 0"
   ]
  },
  {
   "cell_type": "code",
   "execution_count": 9,
   "id": "2d417a71-1239-462e-859a-8ca6219e2c18",
   "metadata": {},
   "outputs": [],
   "source": [
    "import py7zr\n",
    "# with py7zr.SevenZipFile('/SAN/fca/DRL_HFT_Investigations/MSFT_2019-01-01_2020-09-27_10.7z', 'r') as f:\n",
    "#     names = f.getnames()\n",
    "arch = py7zr.SevenZipFile('/SAN/fca/DRL_HFT_Investigations/GOOG_2019-01-01_2020-09-27_10.7z', 'r')\n",
    "names = arch.getnames()\n",
    "for name in names[2:3]:\n",
    "    arch.extract(path = \"/SAN/fca/Konark_PhD_Experiments/extracted\", targets = [name])\n",
    "    arch.reset()\n",
    "arch.close()"
   ]
  },
  {
   "cell_type": "code",
   "execution_count": 8,
   "id": "db8db7b4-00e1-499c-b9a8-062962dde591",
   "metadata": {},
   "outputs": [
    {
     "data": {
      "text/plain": [
       "['GOOG_2019-01-02_34200000_57600000_message_10.csv']"
      ]
     },
     "execution_count": 8,
     "metadata": {},
     "output_type": "execute_result"
    }
   ],
   "source": [
    "names[2:3]"
   ]
  },
  {
   "cell_type": "code",
   "execution_count": 7,
   "id": "270e477b-6522-452d-b00c-8d55c52f9679",
   "metadata": {},
   "outputs": [],
   "source": [
    "import lzma"
   ]
  },
  {
   "cell_type": "code",
   "execution_count": null,
   "id": "d846883d-16e5-4d2c-8c3d-e891543f631b",
   "metadata": {},
   "outputs": [],
   "source": [
    "l = dataLoader.Loader('PM', dt.date(2019,1,30), dt.date(2019,1,10), nlevels = 10, dataPath = \"/SAN/fca/Konark_PhD_Experiments/extracted/GOOG/\")\n",
    "data = l.load()[0]"
   ]
  },
  {
   "cell_type": "code",
   "execution_count": null,
   "id": "00b092ed-f7a9-4431-81fc-92499ba48e20",
   "metadata": {},
   "outputs": [],
   "source": []
  }
 ],
 "metadata": {
  "kernelspec": {
   "display_name": "Python 3 (ipykernel)",
   "language": "python",
   "name": "python3"
  },
  "language_info": {
   "codemirror_mode": {
    "name": "ipython",
    "version": 3
   },
   "file_extension": ".py",
   "mimetype": "text/x-python",
   "name": "python",
   "nbconvert_exporter": "python",
   "pygments_lexer": "ipython3",
   "version": "3.8.5"
  }
 },
 "nbformat": 4,
 "nbformat_minor": 5
}
